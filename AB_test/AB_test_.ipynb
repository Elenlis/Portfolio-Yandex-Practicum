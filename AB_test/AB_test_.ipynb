{
 "cells": [
  {
   "cell_type": "markdown",
   "metadata": {},
   "source": [
    "# Проект\n",
    "\n",
    "# Проверка гипотез по увеличению выручки в интернет-магазине —oценить результаты A/B теста  \n",
    "\n",
    "  \n"
   ]
  },
  {
   "cell_type": "markdown",
   "metadata": {},
   "source": [
    "## Описание проекта  \n",
    "   \n",
    "Вы — аналитик крупного интернет-магазина. Вместе с отделом маркетинга вы подготовили список гипотез для увеличения выручки.\n",
    "Приоритизируйте гипотезы, запустите A/B-тест и проанализируйте результаты.   \n",
    "\n",
    "\n",
    "## Описание данных  и задач\n",
    "\n",
    "### Часть 1. Приоритизация гипотез.   \n",
    "В файле /datasets/hypothesis.csv 9 гипотез по увеличению выручки интернет-магазина с указанными параметрами Reach, Impact, Confidence, Effort.  \n",
    "\n",
    "####  Задача   \n",
    "Приоритезируйте гипотезы двумя методами и сравните результаты.\n",
    "\n",
    "### Данные для первой части    \n",
    "Файл /datasets/hypothesis.csv.   \n",
    "- Hypothesis — краткое описание гипотезы;  \n",
    "- Reach — охват пользователей по 10-балльной шкале;  \n",
    "- Impact — влияние на пользователей по 10-балльной шкале;  \n",
    "- Confidence — уверенность в гипотезе по 10-балльной шкале;  \n",
    "- Efforts — затраты ресурсов на проверку гипотезы по 10-балльной шкале. Чем больше значение Efforts, тем дороже проверка гипотезы.  \n",
    "\n",
    "### Часть 2. Анализ A/B-теста   \n",
    "Вы провели A/B-тест и получили результаты, которые описаны в файлах /datasets/orders.csv и /datasets/visitors.csv.\n",
    "\n",
    "#### Задачи\n",
    "\n",
    "**Проанализировать A/B-тест:**\n",
    "- Построить график кумулятивной выручки по группам.   \n",
    "- Построить график кумулятивного среднего чека по группам.  \n",
    "- Построить график относительного изменения кумулятивного среднего чека группы B к группе A.   \n",
    "- Построить график кумулятивного среднего количества заказов на посетителя по группам.  \n",
    "- Построить график относительного изменения кумулятивного среднего количества заказов на посетителя группы B к группе A.   \n",
    "- Построить точечный график количества заказов по пользователям.  \n",
    "- Посчитать 95-й и 99-й перцентили количества заказов на пользователя. Выбрать границу для определения аномальных пользователей.  \n",
    "- Построить точечный график стоимостей заказов.   \n",
    "- Посчитать 95-й и 99-й перцентили стоимости заказов. Выбать границу для определения аномальных заказов.\n",
    "- Посчитать статистическую значимость различий в среднем количестве заказов на посетителя между группами по «сырым» данным.   \n",
    "- Посчитать статистическую значимость различий в среднем чеке заказа между группами по «сырым» данным.   \n",
    "- Посчитать статистическую значимость различий в среднем количестве заказов на посетителя между группами по «очищенным» данным.   \n",
    "- Посчитать  статистическую значимость различий в среднем чеке заказа между группами по «очищенным» данным.   \n",
    "\n",
    "**Принять решение по результатам теста и объяснить его.**  \n",
    "\n",
    "Варианты решений:  \n",
    "1. Остановить тест, зафиксировать победу одной из групп.  \n",
    "2. Остановить тест, зафиксировать отсутствие различий между группами.  \n",
    "3. Продолжить тест.  \n",
    "\n",
    "### Данные для второй части  \n",
    "\n",
    "Файл /datasets/orders.csv.    \n",
    "- transactionId — идентификатор заказа;  \n",
    "- visitorId — идентификатор пользователя, совершившего заказ;  \n",
    "- date — дата, когда был совершён заказ;  \n",
    "- revenue — выручка заказа;  \n",
    "- group — группа A/B-теста, в которую попал заказ.  \n",
    "\n",
    "Файл /datasets/visitors.csv.   \n",
    "- date — дата;  \n",
    "- group — группа A/B-теста;  \n",
    "- visitors — количество пользователей в указанную дату в указанной группе A/B-теста  "
   ]
  },
  {
   "cell_type": "markdown",
   "metadata": {},
   "source": [
    "<a id='step_0'></a><h3>План работ</h3>\n",
    "\n",
    "[1. Загружаем библиотеки и данные о гипотезах часть 1](#step_1)  \n",
    "[1.1 Применение фреймворка ICE для приоритизации гипотез](#step_1.1)   \n",
    "[1.2 Применение фреймворка RICE для приоритизации гипотез](#step_1.2)   \n",
    "[2. Часть 2. Часть 2. Анализ A/B-теста ](#step_2)  \n",
    "[2.1 Загружаем данные, предобработка](#step_2.1)  \n",
    "[2.1.1 Загружаем данные о счетах, предобработка](#step_2.1.1)  \n",
    "[2.1.2 Загружаем данные о посещениях, предобработка](#step_2.1.2)   \n",
    "[3 Исследовательский анализ. Построение графиков и определение аномалий](#step_3)    \n",
    "[3.1 График кумулятивной выручки по группам](#step_3.1)  \n",
    "[3.2 График кумулятивного среднего чека по группам](#step_3.2)   \n",
    "[3.3 График относительного изменения кумулятивного среднего чека группы B к группе A](#step_3.3)   \n",
    "[3.4 График кумулятивного среднего количества заказов на посетителя по группам](#step_3.4)   \n",
    "[3.5 График относительного изменения кумулятивного среднего количества заказов на посетителя группы B к группе A](#step_3.5)   \n",
    "[3.6 Точечный график количества заказов по пользователям](#step_3.6)   \n",
    "[3.7 Определение границы аномального количества заказов на пользователя](#step_3.7)   \n",
    "[3.8 Точечный график стоимостей заказов](#step_3.8)   \n",
    "[3.9 Определение границы аномальной стоимости заказов](#step_3.9)   \n",
    "[4. Статистический анализ](#step_4)      \n",
    "[4.1. Статистическая значимость различий в среднем количестве заказов на посетителя между группами по «сырым» данным](#step_4.1)     \n",
    "[4.2. Статистическая значимость различий в среднем чеке заказа между группами по «сырым» данным](#step_4.2)  \n",
    "[4.3. Статистическая значимость различий в среднем количестве заказов на посетителя между группами по «очищенным» данным](#step_4.3)    \n",
    "[4.4. Статистическая значимость различий в среднем чеке заказа между группами по «очищенным» данным](#step_4.4)   \n",
    "[5. Общий вывод, принятие решения](#step_5)      "
   ]
  },
  {
   "cell_type": "markdown",
   "metadata": {},
   "source": [
    "<a id='step_1'></a><h3>1. Загружаем библиотеки и данные о гипотезах часть 1</h3>\n",
    "\n",
    "[К плану работ](#step_0)"
   ]
  },
  {
   "cell_type": "code",
   "execution_count": 1,
   "metadata": {},
   "outputs": [],
   "source": [
    "# импортируем все необходимые библиотеки\n",
    "import pandas as pd\n",
    "import datetime as dt\n",
    "import numpy as np\n",
    "import matplotlib.pyplot as plt\n",
    "from pandas.plotting import register_matplotlib_converters\n",
    "import warnings\n",
    "import scipy.stats as stats"
   ]
  },
  {
   "cell_type": "code",
   "execution_count": 2,
   "metadata": {
    "scrolled": true
   },
   "outputs": [],
   "source": [
    "#загружаем даннык из файла hypothesis.csv о 9 гипотезах\n",
    "data1 = pd.read_csv('/datasets/hypothesis.csv')"
   ]
  },
  {
   "cell_type": "code",
   "execution_count": 3,
   "metadata": {},
   "outputs": [],
   "source": [
    "#переименовываем колонки для удобства\n",
    "data1.columns = ['hypothesis', 'reach', 'impact', 'confidence', 'efforts']"
   ]
  },
  {
   "cell_type": "code",
   "execution_count": 4,
   "metadata": {},
   "outputs": [
    {
     "data": {
      "text/html": [
       "<div>\n",
       "<style scoped>\n",
       "    .dataframe tbody tr th:only-of-type {\n",
       "        vertical-align: middle;\n",
       "    }\n",
       "\n",
       "    .dataframe tbody tr th {\n",
       "        vertical-align: top;\n",
       "    }\n",
       "\n",
       "    .dataframe thead th {\n",
       "        text-align: right;\n",
       "    }\n",
       "</style>\n",
       "<table border=\"1\" class=\"dataframe\">\n",
       "  <thead>\n",
       "    <tr style=\"text-align: right;\">\n",
       "      <th></th>\n",
       "      <th>hypothesis</th>\n",
       "      <th>reach</th>\n",
       "      <th>impact</th>\n",
       "      <th>confidence</th>\n",
       "      <th>efforts</th>\n",
       "    </tr>\n",
       "  </thead>\n",
       "  <tbody>\n",
       "    <tr>\n",
       "      <th>0</th>\n",
       "      <td>Добавить два новых канала привлечения трафика,...</td>\n",
       "      <td>3</td>\n",
       "      <td>10</td>\n",
       "      <td>8</td>\n",
       "      <td>6</td>\n",
       "    </tr>\n",
       "    <tr>\n",
       "      <th>1</th>\n",
       "      <td>Запустить собственную службу доставки, что сок...</td>\n",
       "      <td>2</td>\n",
       "      <td>5</td>\n",
       "      <td>4</td>\n",
       "      <td>10</td>\n",
       "    </tr>\n",
       "    <tr>\n",
       "      <th>2</th>\n",
       "      <td>Добавить блоки рекомендаций товаров на сайт ин...</td>\n",
       "      <td>8</td>\n",
       "      <td>3</td>\n",
       "      <td>7</td>\n",
       "      <td>3</td>\n",
       "    </tr>\n",
       "    <tr>\n",
       "      <th>3</th>\n",
       "      <td>Изменить структура категорий, что увеличит кон...</td>\n",
       "      <td>8</td>\n",
       "      <td>3</td>\n",
       "      <td>3</td>\n",
       "      <td>8</td>\n",
       "    </tr>\n",
       "    <tr>\n",
       "      <th>4</th>\n",
       "      <td>Изменить цвет фона главной страницы, чтобы уве...</td>\n",
       "      <td>3</td>\n",
       "      <td>1</td>\n",
       "      <td>1</td>\n",
       "      <td>1</td>\n",
       "    </tr>\n",
       "    <tr>\n",
       "      <th>5</th>\n",
       "      <td>Добавить страницу отзывов клиентов о магазине,...</td>\n",
       "      <td>3</td>\n",
       "      <td>2</td>\n",
       "      <td>2</td>\n",
       "      <td>3</td>\n",
       "    </tr>\n",
       "    <tr>\n",
       "      <th>6</th>\n",
       "      <td>Показать на главной странице баннеры с актуаль...</td>\n",
       "      <td>5</td>\n",
       "      <td>3</td>\n",
       "      <td>8</td>\n",
       "      <td>3</td>\n",
       "    </tr>\n",
       "    <tr>\n",
       "      <th>7</th>\n",
       "      <td>Добавить форму подписки на все основные страни...</td>\n",
       "      <td>10</td>\n",
       "      <td>7</td>\n",
       "      <td>8</td>\n",
       "      <td>5</td>\n",
       "    </tr>\n",
       "    <tr>\n",
       "      <th>8</th>\n",
       "      <td>Запустить акцию, дающую скидку на товар в день...</td>\n",
       "      <td>1</td>\n",
       "      <td>9</td>\n",
       "      <td>9</td>\n",
       "      <td>5</td>\n",
       "    </tr>\n",
       "  </tbody>\n",
       "</table>\n",
       "</div>"
      ],
      "text/plain": [
       "                                          hypothesis  reach  impact  \\\n",
       "0  Добавить два новых канала привлечения трафика,...      3      10   \n",
       "1  Запустить собственную службу доставки, что сок...      2       5   \n",
       "2  Добавить блоки рекомендаций товаров на сайт ин...      8       3   \n",
       "3  Изменить структура категорий, что увеличит кон...      8       3   \n",
       "4  Изменить цвет фона главной страницы, чтобы уве...      3       1   \n",
       "5  Добавить страницу отзывов клиентов о магазине,...      3       2   \n",
       "6  Показать на главной странице баннеры с актуаль...      5       3   \n",
       "7  Добавить форму подписки на все основные страни...     10       7   \n",
       "8  Запустить акцию, дающую скидку на товар в день...      1       9   \n",
       "\n",
       "   confidence  efforts  \n",
       "0           8        6  \n",
       "1           4       10  \n",
       "2           7        3  \n",
       "3           3        8  \n",
       "4           1        1  \n",
       "5           2        3  \n",
       "6           8        3  \n",
       "7           8        5  \n",
       "8           9        5  "
      ]
     },
     "execution_count": 4,
     "metadata": {},
     "output_type": "execute_result"
    }
   ],
   "source": [
    "#выводим таблицу\n",
    "data1.head(10) "
   ]
  },
  {
   "cell_type": "markdown",
   "metadata": {},
   "source": [
    "<a id='step_1.1'></a><h3>1.1 Применение фреймворка ICE для приоритизации гипотез</h3>\n",
    "\n",
    "[К плану работ](#step_0)  "
   ]
  },
  {
   "cell_type": "markdown",
   "metadata": {},
   "source": [
    "Применим фреймворк ICE для приоритизации гипотез. Отсортируем их по убыванию приоритета.  "
   ]
  },
  {
   "cell_type": "code",
   "execution_count": 5,
   "metadata": {},
   "outputs": [],
   "source": [
    "# оптимизируем вывод таблицы на экран\n",
    "pd.set_option('display.max_colwidth', 0)"
   ]
  },
  {
   "cell_type": "code",
   "execution_count": 6,
   "metadata": {},
   "outputs": [],
   "source": [
    "# фреймворк ICE для приоритизации гипотез\n",
    "data1['ICE'] = data1['impact'] * data1['confidence'] / data1['efforts']"
   ]
  },
  {
   "cell_type": "code",
   "execution_count": 7,
   "metadata": {},
   "outputs": [
    {
     "data": {
      "text/html": [
       "<div>\n",
       "<style scoped>\n",
       "    .dataframe tbody tr th:only-of-type {\n",
       "        vertical-align: middle;\n",
       "    }\n",
       "\n",
       "    .dataframe tbody tr th {\n",
       "        vertical-align: top;\n",
       "    }\n",
       "\n",
       "    .dataframe thead th {\n",
       "        text-align: right;\n",
       "    }\n",
       "</style>\n",
       "<table border=\"1\" class=\"dataframe\">\n",
       "  <thead>\n",
       "    <tr style=\"text-align: right;\">\n",
       "      <th></th>\n",
       "      <th>hypothesis</th>\n",
       "      <th>ICE</th>\n",
       "    </tr>\n",
       "  </thead>\n",
       "  <tbody>\n",
       "    <tr>\n",
       "      <th>8</th>\n",
       "      <td>Запустить акцию, дающую скидку на товар в день рождения</td>\n",
       "      <td>16.200000</td>\n",
       "    </tr>\n",
       "    <tr>\n",
       "      <th>0</th>\n",
       "      <td>Добавить два новых канала привлечения трафика, что позволит привлекать на 30% больше пользователей</td>\n",
       "      <td>13.333333</td>\n",
       "    </tr>\n",
       "    <tr>\n",
       "      <th>7</th>\n",
       "      <td>Добавить форму подписки на все основные страницы, чтобы собрать базу клиентов для email-рассылок</td>\n",
       "      <td>11.200000</td>\n",
       "    </tr>\n",
       "    <tr>\n",
       "      <th>6</th>\n",
       "      <td>Показать на главной странице баннеры с актуальными акциями и распродажами, чтобы увеличить конверсию</td>\n",
       "      <td>8.000000</td>\n",
       "    </tr>\n",
       "    <tr>\n",
       "      <th>2</th>\n",
       "      <td>Добавить блоки рекомендаций товаров на сайт интернет магазина, чтобы повысить конверсию и средний чек заказа</td>\n",
       "      <td>7.000000</td>\n",
       "    </tr>\n",
       "    <tr>\n",
       "      <th>1</th>\n",
       "      <td>Запустить собственную службу доставки, что сократит срок доставки заказов</td>\n",
       "      <td>2.000000</td>\n",
       "    </tr>\n",
       "    <tr>\n",
       "      <th>5</th>\n",
       "      <td>Добавить страницу отзывов клиентов о магазине, что позволит увеличить количество заказов</td>\n",
       "      <td>1.333333</td>\n",
       "    </tr>\n",
       "    <tr>\n",
       "      <th>3</th>\n",
       "      <td>Изменить структура категорий, что увеличит конверсию, т.к. пользователи быстрее найдут нужный товар</td>\n",
       "      <td>1.125000</td>\n",
       "    </tr>\n",
       "    <tr>\n",
       "      <th>4</th>\n",
       "      <td>Изменить цвет фона главной страницы, чтобы увеличить вовлеченность пользователей</td>\n",
       "      <td>1.000000</td>\n",
       "    </tr>\n",
       "  </tbody>\n",
       "</table>\n",
       "</div>"
      ],
      "text/plain": [
       "                                                                                                     hypothesis  \\\n",
       "8  Запустить акцию, дающую скидку на товар в день рождения                                                        \n",
       "0  Добавить два новых канала привлечения трафика, что позволит привлекать на 30% больше пользователей             \n",
       "7  Добавить форму подписки на все основные страницы, чтобы собрать базу клиентов для email-рассылок               \n",
       "6  Показать на главной странице баннеры с актуальными акциями и распродажами, чтобы увеличить конверсию           \n",
       "2  Добавить блоки рекомендаций товаров на сайт интернет магазина, чтобы повысить конверсию и средний чек заказа   \n",
       "1  Запустить собственную службу доставки, что сократит срок доставки заказов                                      \n",
       "5  Добавить страницу отзывов клиентов о магазине, что позволит увеличить количество заказов                       \n",
       "3  Изменить структура категорий, что увеличит конверсию, т.к. пользователи быстрее найдут нужный товар            \n",
       "4  Изменить цвет фона главной страницы, чтобы увеличить вовлеченность пользователей                               \n",
       "\n",
       "         ICE  \n",
       "8  16.200000  \n",
       "0  13.333333  \n",
       "7  11.200000  \n",
       "6  8.000000   \n",
       "2  7.000000   \n",
       "1  2.000000   \n",
       "5  1.333333   \n",
       "3  1.125000   \n",
       "4  1.000000   "
      ]
     },
     "metadata": {},
     "output_type": "display_data"
    }
   ],
   "source": [
    "# Отсортируем гипотезы по убыванию приоритета и выведем на экран\n",
    "display(data1[['hypothesis','ICE']].sort_values(by='ICE', ascending=False))"
   ]
  },
  {
   "cell_type": "markdown",
   "metadata": {},
   "source": [
    "<a id='step_1.2'></a><h3>1.2 Применение фреймворка RICE для приоритизации гипотез</h3>\n",
    "\n",
    "[К плану работ](#step_0)"
   ]
  },
  {
   "cell_type": "code",
   "execution_count": 8,
   "metadata": {},
   "outputs": [
    {
     "data": {
      "text/html": [
       "<div>\n",
       "<style scoped>\n",
       "    .dataframe tbody tr th:only-of-type {\n",
       "        vertical-align: middle;\n",
       "    }\n",
       "\n",
       "    .dataframe tbody tr th {\n",
       "        vertical-align: top;\n",
       "    }\n",
       "\n",
       "    .dataframe thead th {\n",
       "        text-align: right;\n",
       "    }\n",
       "</style>\n",
       "<table border=\"1\" class=\"dataframe\">\n",
       "  <thead>\n",
       "    <tr style=\"text-align: right;\">\n",
       "      <th></th>\n",
       "      <th>hypothesis</th>\n",
       "      <th>RICE</th>\n",
       "    </tr>\n",
       "  </thead>\n",
       "  <tbody>\n",
       "    <tr>\n",
       "      <th>7</th>\n",
       "      <td>Добавить форму подписки на все основные страницы, чтобы собрать базу клиентов для email-рассылок</td>\n",
       "      <td>112.0</td>\n",
       "    </tr>\n",
       "    <tr>\n",
       "      <th>2</th>\n",
       "      <td>Добавить блоки рекомендаций товаров на сайт интернет магазина, чтобы повысить конверсию и средний чек заказа</td>\n",
       "      <td>56.0</td>\n",
       "    </tr>\n",
       "    <tr>\n",
       "      <th>0</th>\n",
       "      <td>Добавить два новых канала привлечения трафика, что позволит привлекать на 30% больше пользователей</td>\n",
       "      <td>40.0</td>\n",
       "    </tr>\n",
       "    <tr>\n",
       "      <th>6</th>\n",
       "      <td>Показать на главной странице баннеры с актуальными акциями и распродажами, чтобы увеличить конверсию</td>\n",
       "      <td>40.0</td>\n",
       "    </tr>\n",
       "    <tr>\n",
       "      <th>8</th>\n",
       "      <td>Запустить акцию, дающую скидку на товар в день рождения</td>\n",
       "      <td>16.2</td>\n",
       "    </tr>\n",
       "    <tr>\n",
       "      <th>3</th>\n",
       "      <td>Изменить структура категорий, что увеличит конверсию, т.к. пользователи быстрее найдут нужный товар</td>\n",
       "      <td>9.0</td>\n",
       "    </tr>\n",
       "    <tr>\n",
       "      <th>1</th>\n",
       "      <td>Запустить собственную службу доставки, что сократит срок доставки заказов</td>\n",
       "      <td>4.0</td>\n",
       "    </tr>\n",
       "    <tr>\n",
       "      <th>5</th>\n",
       "      <td>Добавить страницу отзывов клиентов о магазине, что позволит увеличить количество заказов</td>\n",
       "      <td>4.0</td>\n",
       "    </tr>\n",
       "    <tr>\n",
       "      <th>4</th>\n",
       "      <td>Изменить цвет фона главной страницы, чтобы увеличить вовлеченность пользователей</td>\n",
       "      <td>3.0</td>\n",
       "    </tr>\n",
       "  </tbody>\n",
       "</table>\n",
       "</div>"
      ],
      "text/plain": [
       "                                                                                                     hypothesis  \\\n",
       "7  Добавить форму подписки на все основные страницы, чтобы собрать базу клиентов для email-рассылок               \n",
       "2  Добавить блоки рекомендаций товаров на сайт интернет магазина, чтобы повысить конверсию и средний чек заказа   \n",
       "0  Добавить два новых канала привлечения трафика, что позволит привлекать на 30% больше пользователей             \n",
       "6  Показать на главной странице баннеры с актуальными акциями и распродажами, чтобы увеличить конверсию           \n",
       "8  Запустить акцию, дающую скидку на товар в день рождения                                                        \n",
       "3  Изменить структура категорий, что увеличит конверсию, т.к. пользователи быстрее найдут нужный товар            \n",
       "1  Запустить собственную службу доставки, что сократит срок доставки заказов                                      \n",
       "5  Добавить страницу отзывов клиентов о магазине, что позволит увеличить количество заказов                       \n",
       "4  Изменить цвет фона главной страницы, чтобы увеличить вовлеченность пользователей                               \n",
       "\n",
       "    RICE  \n",
       "7  112.0  \n",
       "2  56.0   \n",
       "0  40.0   \n",
       "6  40.0   \n",
       "8  16.2   \n",
       "3  9.0    \n",
       "1  4.0    \n",
       "5  4.0    \n",
       "4  3.0    "
      ]
     },
     "metadata": {},
     "output_type": "display_data"
    }
   ],
   "source": [
    "# фреймворк RICE для приоритизации гипотез\n",
    "data1['RICE'] = data1['reach'] * data1['impact'] * data1['confidence'] / data1['efforts']\n",
    "# Отсортируем гипотезы по убыванию приоритета и выведем на экран\n",
    "display(data1[['hypothesis','RICE']].sort_values(by='RICE', ascending=False))"
   ]
  },
  {
   "cell_type": "markdown",
   "metadata": {},
   "source": [
    "#### Выводы  \n",
    "Гипотезы 8, 0, 7, 6, 2 - лидируют при методе ICE для приоритизации гипотез.  \n",
    "При RICE для приоритизации гипотез пятерка лидеров не поменялась, изменился лишь их порядок - 7, 2, 0, 6, 8. \n",
    "**Во втором случает добавлен параметр rich - охват аудитории**. Скорее всего **изменение приоритета связано именно с ним**. Форма подписки на основные страницы и рекомендации на сайт - больше выиграют именно из-за широкого охвата аудитории."
   ]
  },
  {
   "cell_type": "markdown",
   "metadata": {},
   "source": [
    "<a id='step_2'></a><h3>2. Часть 2. Анализ A/B-теста</h3>\n",
    "\n",
    "[К плану работ](#step_0)"
   ]
  },
  {
   "cell_type": "markdown",
   "metadata": {},
   "source": [
    "<a id='step_2.1'></a><h3>2.1 Загружаем данные, предобработка </h3>\n",
    "\n",
    "[К плану работ](#step_0)"
   ]
  },
  {
   "cell_type": "markdown",
   "metadata": {},
   "source": [
    "<a id='step_2.1.1'></a><h3>2.1.1 Загружаем данные о счетах, предобработка </h3>\n",
    "\n",
    "[К плану работ](#step_0)"
   ]
  },
  {
   "cell_type": "code",
   "execution_count": 9,
   "metadata": {
    "scrolled": false
   },
   "outputs": [
    {
     "name": "stdout",
     "output_type": "stream",
     "text": [
      "<class 'pandas.core.frame.DataFrame'>\n",
      "RangeIndex: 1197 entries, 0 to 1196\n",
      "Data columns (total 5 columns):\n",
      " #   Column         Non-Null Count  Dtype \n",
      "---  ------         --------------  ----- \n",
      " 0   transactionId  1197 non-null   int64 \n",
      " 1   visitorId      1197 non-null   int64 \n",
      " 2   date           1197 non-null   object\n",
      " 3   revenue        1197 non-null   int64 \n",
      " 4   group          1197 non-null   object\n",
      "dtypes: int64(3), object(2)\n",
      "memory usage: 46.9+ KB\n"
     ]
    },
    {
     "data": {
      "text/html": [
       "<div>\n",
       "<style scoped>\n",
       "    .dataframe tbody tr th:only-of-type {\n",
       "        vertical-align: middle;\n",
       "    }\n",
       "\n",
       "    .dataframe tbody tr th {\n",
       "        vertical-align: top;\n",
       "    }\n",
       "\n",
       "    .dataframe thead th {\n",
       "        text-align: right;\n",
       "    }\n",
       "</style>\n",
       "<table border=\"1\" class=\"dataframe\">\n",
       "  <thead>\n",
       "    <tr style=\"text-align: right;\">\n",
       "      <th></th>\n",
       "      <th>userId</th>\n",
       "      <th>group</th>\n",
       "      <th>orderId</th>\n",
       "      <th>revenue</th>\n",
       "      <th>date</th>\n",
       "    </tr>\n",
       "  </thead>\n",
       "  <tbody>\n",
       "    <tr>\n",
       "      <th>0</th>\n",
       "      <td>3312258926</td>\n",
       "      <td>B</td>\n",
       "      <td>3667963787</td>\n",
       "      <td>1650</td>\n",
       "      <td>2019-08-15</td>\n",
       "    </tr>\n",
       "    <tr>\n",
       "      <th>1</th>\n",
       "      <td>3642806036</td>\n",
       "      <td>B</td>\n",
       "      <td>2804400009</td>\n",
       "      <td>730</td>\n",
       "      <td>2019-08-15</td>\n",
       "    </tr>\n",
       "    <tr>\n",
       "      <th>2</th>\n",
       "      <td>4069496402</td>\n",
       "      <td>A</td>\n",
       "      <td>2961555356</td>\n",
       "      <td>400</td>\n",
       "      <td>2019-08-15</td>\n",
       "    </tr>\n",
       "    <tr>\n",
       "      <th>3</th>\n",
       "      <td>1196621759</td>\n",
       "      <td>B</td>\n",
       "      <td>3797467345</td>\n",
       "      <td>9759</td>\n",
       "      <td>2019-08-15</td>\n",
       "    </tr>\n",
       "    <tr>\n",
       "      <th>4</th>\n",
       "      <td>2322279887</td>\n",
       "      <td>B</td>\n",
       "      <td>2282983706</td>\n",
       "      <td>2308</td>\n",
       "      <td>2019-08-15</td>\n",
       "    </tr>\n",
       "  </tbody>\n",
       "</table>\n",
       "</div>"
      ],
      "text/plain": [
       "       userId group     orderId  revenue       date\n",
       "0  3312258926  B     3667963787  1650    2019-08-15\n",
       "1  3642806036  B     2804400009  730     2019-08-15\n",
       "2  4069496402  A     2961555356  400     2019-08-15\n",
       "3  1196621759  B     3797467345  9759    2019-08-15\n",
       "4  2322279887  B     2282983706  2308    2019-08-15"
      ]
     },
     "metadata": {},
     "output_type": "display_data"
    },
    {
     "data": {
      "text/plain": [
       "userId     0\n",
       "group      0\n",
       "orderId    0\n",
       "revenue    0\n",
       "date       0\n",
       "dtype: int64"
      ]
     },
     "metadata": {},
     "output_type": "display_data"
    }
   ],
   "source": [
    "#загружаем данные о счетах\n",
    "orders = pd.read_csv('/datasets/orders.csv')\n",
    "orders.info()\n",
    "# приводим даты к нужному формату\n",
    "orders['date'] = orders['date'].map(\n",
    "    lambda x: dt.datetime.strptime(x, '%Y-%m-%d')\n",
    ")\n",
    "orders = orders[['visitorId', 'group', 'transactionId', 'revenue', 'date']]# упорядочиваем столбцы таблицы в нужном нам порядке\n",
    "orders.columns = ['userId', 'group', 'orderId', 'revenue', 'date']# переименовываем столбцы таблицы для удобства\n",
    "#смотрим верх таблиц\n",
    "display(orders.head(5))\n",
    "#смотрим пропуски\n",
    "display(orders.isna().sum())\n"
   ]
  },
  {
   "cell_type": "code",
   "execution_count": 10,
   "metadata": {},
   "outputs": [
    {
     "name": "stdout",
     "output_type": "stream",
     "text": [
      "<class 'pandas.core.frame.DataFrame'>\n",
      "Int64Index: 557 entries, 2 to 1195\n",
      "Data columns (total 5 columns):\n",
      " #   Column   Non-Null Count  Dtype         \n",
      "---  ------   --------------  -----         \n",
      " 0   userId   557 non-null    int64         \n",
      " 1   group    557 non-null    object        \n",
      " 2   orderId  557 non-null    int64         \n",
      " 3   revenue  557 non-null    int64         \n",
      " 4   date     557 non-null    datetime64[ns]\n",
      "dtypes: datetime64[ns](1), int64(3), object(1)\n",
      "memory usage: 26.1+ KB\n"
     ]
    },
    {
     "data": {
      "text/plain": [
       "None"
      ]
     },
     "metadata": {},
     "output_type": "display_data"
    },
    {
     "name": "stdout",
     "output_type": "stream",
     "text": [
      "<class 'pandas.core.frame.DataFrame'>\n",
      "Int64Index: 640 entries, 0 to 1196\n",
      "Data columns (total 5 columns):\n",
      " #   Column   Non-Null Count  Dtype         \n",
      "---  ------   --------------  -----         \n",
      " 0   userId   640 non-null    int64         \n",
      " 1   group    640 non-null    object        \n",
      " 2   orderId  640 non-null    int64         \n",
      " 3   revenue  640 non-null    int64         \n",
      " 4   date     640 non-null    datetime64[ns]\n",
      "dtypes: datetime64[ns](1), int64(3), object(1)\n",
      "memory usage: 30.0+ KB\n"
     ]
    },
    {
     "data": {
      "text/plain": [
       "None"
      ]
     },
     "metadata": {},
     "output_type": "display_data"
    },
    {
     "name": "stdout",
     "output_type": "stream",
     "text": [
      "количество уникальных пользователей во всех заказах  1031\n",
      "количество уникальных пользователей попавших в обе группы  58\n"
     ]
    }
   ],
   "source": [
    "# отберем данные заказов по группам\n",
    "orders_a = orders.query('group == \"A\"')\n",
    "# выведем на экран информацию о таблице заказов группы а\n",
    "display(orders_a.info())\n",
    "# группа В\n",
    "orders_b = orders.query('group == \"B\"')\n",
    "# выведем на экран информацию о таблице заказов группы в\n",
    "display(orders_b.info())\n",
    "# соберем id пользователей, попавших в обе группы\n",
    "orders_cross = list(np.intersect1d(orders_a['userId'], orders_b['userId']))\n",
    "# выведем на экран количество уникальных пользователей во всех заказах\n",
    "print('количество уникальных пользователей во всех заказах ', len(orders['userId'].unique()))\n",
    "# посчитаем количество пользователей попавших в обе группы\n",
    "print('количество уникальных пользователей попавших в обе группы ', len(orders_cross))"
   ]
  },
  {
   "cell_type": "markdown",
   "metadata": {},
   "source": [
    "#### Вывод:\n",
    "58 пользователей попали и в группу А и в группу В одновременно, данные об их покупках могут исказить статистику. Мы исследуем поведение пользователей из 2-х групп. Один и тот же пользователь в разных группах будет транслировать результаты группы А в результаты группы В и наоборот, это испортит чистоту эксперимента. Поэтому избавимся от них. Это удаление неизбежно скажется на дальнейшем исследовании, потому что суммарное количество визитов в день включало и удаленных пользователей в том числе. Неизвестно что более исказит картину исследования удаление дублирующихся пользователей в обоих группах, а это удаление более 180 ордеров или их оставление. Изменить данные в таблице visits мы не в состоянии, придется пользоваться теми что есть.\n",
    "58 уникальных пользователей из 1031 - это более 5%. 181 ордеров из 1197 - это более 15%. Потерю количества посещений по дням - определить невозможно. "
   ]
  },
  {
   "cell_type": "code",
   "execution_count": 11,
   "metadata": {},
   "outputs": [
    {
     "name": "stdout",
     "output_type": "stream",
     "text": [
      "<class 'pandas.core.frame.DataFrame'>\n",
      "Int64Index: 557 entries, 2 to 1195\n",
      "Data columns (total 5 columns):\n",
      " #   Column   Non-Null Count  Dtype         \n",
      "---  ------   --------------  -----         \n",
      " 0   userId   557 non-null    int64         \n",
      " 1   group    557 non-null    object        \n",
      " 2   orderId  557 non-null    int64         \n",
      " 3   revenue  557 non-null    int64         \n",
      " 4   date     557 non-null    datetime64[ns]\n",
      "dtypes: datetime64[ns](1), int64(3), object(1)\n",
      "memory usage: 26.1+ KB\n"
     ]
    },
    {
     "data": {
      "text/plain": [
       "None"
      ]
     },
     "metadata": {},
     "output_type": "display_data"
    },
    {
     "name": "stdout",
     "output_type": "stream",
     "text": [
      "<class 'pandas.core.frame.DataFrame'>\n",
      "Int64Index: 640 entries, 0 to 1196\n",
      "Data columns (total 5 columns):\n",
      " #   Column   Non-Null Count  Dtype         \n",
      "---  ------   --------------  -----         \n",
      " 0   userId   640 non-null    int64         \n",
      " 1   group    640 non-null    object        \n",
      " 2   orderId  640 non-null    int64         \n",
      " 3   revenue  640 non-null    int64         \n",
      " 4   date     640 non-null    datetime64[ns]\n",
      "dtypes: datetime64[ns](1), int64(3), object(1)\n",
      "memory usage: 30.0+ KB\n"
     ]
    },
    {
     "data": {
      "text/plain": [
       "None"
      ]
     },
     "metadata": {},
     "output_type": "display_data"
    },
    {
     "name": "stdout",
     "output_type": "stream",
     "text": [
      "<class 'pandas.core.frame.DataFrame'>\n",
      "Int64Index: 1016 entries, 0 to 1196\n",
      "Data columns (total 5 columns):\n",
      " #   Column   Non-Null Count  Dtype         \n",
      "---  ------   --------------  -----         \n",
      " 0   userId   1016 non-null   int64         \n",
      " 1   group    1016 non-null   object        \n",
      " 2   orderId  1016 non-null   int64         \n",
      " 3   revenue  1016 non-null   int64         \n",
      " 4   date     1016 non-null   datetime64[ns]\n",
      "dtypes: datetime64[ns](1), int64(3), object(1)\n",
      "memory usage: 47.6+ KB\n"
     ]
    },
    {
     "data": {
      "text/plain": [
       "None"
      ]
     },
     "metadata": {},
     "output_type": "display_data"
    },
    {
     "name": "stdout",
     "output_type": "stream",
     "text": [
      "удаление прошло успешно, осталось уникальных пользователей:  973\n"
     ]
    }
   ],
   "source": [
    "# удаляем данные 58 пользователей, попавших в orders_cross\n",
    "orders = orders.query('userId not in @orders_cross')\n",
    "# выведем на экран информацию о таблице заказов группы а\n",
    "display(orders_a.info())\n",
    "# выведем на экран информацию о таблице заказов группы в\n",
    "display(orders_b.info())\n",
    "# выведем на экран информацию о таблице заказов\n",
    "display(orders.info())\n",
    "# выведем на экран количество уникальных пользователей во всех заказах\n",
    "print('удаление прошло успешно, осталось уникальных пользователей: ', len(orders['userId'].unique()))"
   ]
  },
  {
   "cell_type": "markdown",
   "metadata": {},
   "source": [
    "<a id='step_2.1.2'></a><h3>2.1.2 Загружаем данные о посещениях, предобработка </h3>\n",
    "\n",
    "[К плану работ](#step_0)"
   ]
  },
  {
   "cell_type": "code",
   "execution_count": 12,
   "metadata": {
    "scrolled": false
   },
   "outputs": [
    {
     "name": "stdout",
     "output_type": "stream",
     "text": [
      "<class 'pandas.core.frame.DataFrame'>\n",
      "RangeIndex: 62 entries, 0 to 61\n",
      "Data columns (total 3 columns):\n",
      " #   Column    Non-Null Count  Dtype \n",
      "---  ------    --------------  ----- \n",
      " 0   date      62 non-null     object\n",
      " 1   group     62 non-null     object\n",
      " 2   visitors  62 non-null     int64 \n",
      "dtypes: int64(1), object(2)\n",
      "memory usage: 1.6+ KB\n"
     ]
    }
   ],
   "source": [
    "# загружаем данные о посещениях\n",
    "visitors = pd.read_csv('/datasets/visitors.csv')\n",
    "# смотрим информацию о таблице посещений\n",
    "visitors.info()"
   ]
  },
  {
   "cell_type": "code",
   "execution_count": 13,
   "metadata": {},
   "outputs": [
    {
     "data": {
      "text/html": [
       "<div>\n",
       "<style scoped>\n",
       "    .dataframe tbody tr th:only-of-type {\n",
       "        vertical-align: middle;\n",
       "    }\n",
       "\n",
       "    .dataframe tbody tr th {\n",
       "        vertical-align: top;\n",
       "    }\n",
       "\n",
       "    .dataframe thead th {\n",
       "        text-align: right;\n",
       "    }\n",
       "</style>\n",
       "<table border=\"1\" class=\"dataframe\">\n",
       "  <thead>\n",
       "    <tr style=\"text-align: right;\">\n",
       "      <th></th>\n",
       "      <th>date</th>\n",
       "      <th>group</th>\n",
       "      <th>visitors</th>\n",
       "    </tr>\n",
       "  </thead>\n",
       "  <tbody>\n",
       "    <tr>\n",
       "      <th>0</th>\n",
       "      <td>2019-08-01</td>\n",
       "      <td>A</td>\n",
       "      <td>719</td>\n",
       "    </tr>\n",
       "    <tr>\n",
       "      <th>1</th>\n",
       "      <td>2019-08-02</td>\n",
       "      <td>A</td>\n",
       "      <td>619</td>\n",
       "    </tr>\n",
       "    <tr>\n",
       "      <th>2</th>\n",
       "      <td>2019-08-03</td>\n",
       "      <td>A</td>\n",
       "      <td>507</td>\n",
       "    </tr>\n",
       "    <tr>\n",
       "      <th>3</th>\n",
       "      <td>2019-08-04</td>\n",
       "      <td>A</td>\n",
       "      <td>717</td>\n",
       "    </tr>\n",
       "    <tr>\n",
       "      <th>4</th>\n",
       "      <td>2019-08-05</td>\n",
       "      <td>A</td>\n",
       "      <td>756</td>\n",
       "    </tr>\n",
       "  </tbody>\n",
       "</table>\n",
       "</div>"
      ],
      "text/plain": [
       "        date group  visitors\n",
       "0 2019-08-01  A     719     \n",
       "1 2019-08-02  A     619     \n",
       "2 2019-08-03  A     507     \n",
       "3 2019-08-04  A     717     \n",
       "4 2019-08-05  A     756     "
      ]
     },
     "metadata": {},
     "output_type": "display_data"
    }
   ],
   "source": [
    "# приводим даты к нужному формату\n",
    "visitors['date'] = visitors['date'].map(\n",
    "    lambda x: dt.datetime.strptime(x, '%Y-%m-%d')\n",
    ")\n",
    "#смотрим верх таблиц\n",
    "display(visitors.head(5))"
   ]
  },
  {
   "cell_type": "code",
   "execution_count": 14,
   "metadata": {},
   "outputs": [
    {
     "data": {
      "text/plain": [
       "date        0\n",
       "group       0\n",
       "visitors    0\n",
       "dtype: int64"
      ]
     },
     "metadata": {},
     "output_type": "display_data"
    }
   ],
   "source": [
    "# проверим таблицу на явные дубликаты\n",
    "display(visitors.isna().sum())"
   ]
  },
  {
   "cell_type": "code",
   "execution_count": 15,
   "metadata": {},
   "outputs": [
    {
     "name": "stdout",
     "output_type": "stream",
     "text": [
      "количество дней наблюдений по группам:\n"
     ]
    },
    {
     "data": {
      "text/plain": [
       "A    31\n",
       "B    31\n",
       "Name: group, dtype: int64"
      ]
     },
     "metadata": {},
     "output_type": "display_data"
    },
    {
     "name": "stdout",
     "output_type": "stream",
     "text": [
      "минимальная и максимальная дата наблюдений: \n"
     ]
    },
    {
     "data": {
      "text/plain": [
       "Timestamp('2019-08-01 00:00:00')"
      ]
     },
     "metadata": {},
     "output_type": "display_data"
    },
    {
     "data": {
      "text/plain": [
       "Timestamp('2019-08-31 00:00:00')"
      ]
     },
     "metadata": {},
     "output_type": "display_data"
    }
   ],
   "source": [
    "# посчитаем количество строк (дат визитов) по группам\n",
    "print('количество дней наблюдений по группам:')\n",
    "display(visitors['group'].value_counts())\n",
    "print('минимальная и максимальная дата наблюдений: ')\n",
    "display(visitors['date'].min())\n",
    "display(visitors['date'].max())"
   ]
  },
  {
   "cell_type": "markdown",
   "metadata": {},
   "source": [
    "#### Вывод:\n",
    "В таблице посещений представлены данные 62-х строк, в каждой группе по 31 строке (дней) - это месяц наблюдений проведения теста. Тест проводился в течении августа 2019 года."
   ]
  },
  {
   "cell_type": "markdown",
   "metadata": {},
   "source": [
    "<a id='step_3'></a><h3>3 Исследовательский анализ. Построение графиков и определение аномалий </h3>\n",
    "\n",
    "[К плану работ](#step_0)"
   ]
  },
  {
   "cell_type": "markdown",
   "metadata": {},
   "source": [
    "<a id='step_3.1'></a><h3>3.1 График кумулятивной выручки по группам </h3>\n",
    "\n",
    "[К плану работ](#step_0)"
   ]
  },
  {
   "cell_type": "markdown",
   "metadata": {},
   "source": [
    "Чтобы построить графики, нужно собрать кумулятивные данные. Создадим датафрейм cumulativeData со столбцами:\n",
    "\n",
    "date — дата;  \n",
    "group — группа A/B-теста (A или B);  \n",
    "orders — кумулятивное количество заказов на указанную дату в указанной группе;  \n",
    "buyers — кумулятивное количество пользователей, совершивших хотя бы один заказ, на указанную дату в указанной группе;\n",
    "revenue — кумулятивная выручка на указанную дату в указанной группе (средний чек);  \n",
    "visitors — кумулятивное количество посетителей интернет-магазина на указанную дату в определённой группе.  "
   ]
  },
  {
   "cell_type": "code",
   "execution_count": 16,
   "metadata": {},
   "outputs": [
    {
     "name": "stdout",
     "output_type": "stream",
     "text": [
      "        date group  orders  buyers  revenue  visitors\n",
      "0 2019-08-01  A     23      19      142779   719     \n",
      "1 2019-08-01  B     17      17      59758    713     \n",
      "2 2019-08-02  A     42      36      234381   1338    \n",
      "3 2019-08-02  B     40      39      221801   1294    \n",
      "4 2019-08-03  A     66      60      346854   1845    \n"
     ]
    },
    {
     "data": {
      "image/png": "[encoded data removed]",
      "text/plain": [
       "<Figure size 864x576 with 1 Axes>"
      ]
     },
     "metadata": {
      "needs_background": "light"
     },
     "output_type": "display_data"
    }
   ],
   "source": [
    "# удаляем явные дубликаты\n",
    "datesGroups = orders[['date', 'group']].drop_duplicates() \n",
    " #агрегированная таблица заказов до даты и по группам\n",
    "ordersAggregated = datesGroups.apply(\n",
    "    lambda x: orders[\n",
    "        np.logical_and(\n",
    "            orders['date'] <= x['date'], orders['group'] == x['group']\n",
    "        )\n",
    "    ].agg(\n",
    "        {\n",
    "            'date': 'max',\n",
    "            'group': 'max',\n",
    "            'orderId': 'nunique',\n",
    "            'userId': 'nunique',\n",
    "            'revenue': 'sum',\n",
    "        }\n",
    "    ),\n",
    "    axis=1,\n",
    ").sort_values(by=['date', 'group'])\n",
    "#агрегированная таблица визитов до даты и по группам\n",
    "visitorsAggregated = datesGroups.apply(\n",
    "    lambda x: visitors[\n",
    "        np.logical_and(\n",
    "            visitors['date'] <= x['date'], visitors['group'] == x['group']\n",
    "        )\n",
    "    ].agg(\n",
    "        {\n",
    "            'date': 'max', \n",
    "            'group': 'max', \n",
    "            'visitors': 'sum'\n",
    "        }\n",
    "    ),\n",
    "    axis=1,\n",
    ").sort_values(by=['date', 'group'])\n",
    "# объединяем 2 предыдущие таблицы\n",
    "cumulativeData = ordersAggregated.merge(\n",
    "    visitorsAggregated, left_on=['date', 'group'], right_on=['date', 'group']\n",
    ")\n",
    "# переименовываем колонки\n",
    "cumulativeData.columns = [\n",
    "    'date',\n",
    "    'group',\n",
    "    'orders',\n",
    "    'buyers',\n",
    "    'revenue',\n",
    "    'visitors',\n",
    "]\n",
    "print(cumulativeData.head(5))\n",
    "# датафрейм с кумулятивным количеством заказов и кумулятивной выручкой по дням в группе А\n",
    "cumulativeRevenueA = cumulativeData[cumulativeData['group']=='A'][['date','revenue', 'orders']]\n",
    "# датафрейм с кумулятивным количеством заказов и кумулятивной выручкой по дням в группе B\n",
    "cumulativeRevenueB = cumulativeData[cumulativeData['group']=='B'][['date','revenue', 'orders']]\n",
    "plt.figure(figsize=(12, 8))\n",
    "# Строим график выручки группы А\n",
    "plt.plot(cumulativeRevenueA['date'], cumulativeRevenueA['revenue'], label='A')\n",
    "# Строим график выручки группы B\n",
    "plt.plot(cumulativeRevenueB['date'], cumulativeRevenueB['revenue'], label='B')\n",
    "# Add title and axis names\n",
    "plt.title('график выручки групп А и В')\n",
    "plt.xlabel('дата')\n",
    "plt.ylabel('выручка')\n",
    "plt.xticks(color='black', rotation=45, fontweight='bold', fontsize='9', horizontalalignment='right')\n",
    "\n",
    "plt.legend() \n",
    "plt.show()"
   ]
  },
  {
   "cell_type": "markdown",
   "metadata": {},
   "source": [
    "#### Выводы  \n",
    "Выручка группы B в середине эксперимента имеет скачок, скорее всего это связано с крупным заказом, из-за него накопленная выручка стала больше в дальнейшем именно на величину этого заказа. Лидирует группа В с люфтом вверх на дельту аномального заказа.\n"
   ]
  },
  {
   "cell_type": "markdown",
   "metadata": {},
   "source": [
    "<a id='step_3.2'></a><h3>3.2 График кумулятивного среднего чека по группам </h3>\n",
    "\n",
    "[К плану работ](#step_0)"
   ]
  },
  {
   "cell_type": "code",
   "execution_count": 17,
   "metadata": {},
   "outputs": [
    {
     "data": {
      "image/png": "[encoded data removed]",
      "text/plain": [
       "<Figure size 864x576 with 1 Axes>"
      ]
     },
     "metadata": {
      "needs_background": "light"
     },
     "output_type": "display_data"
    }
   ],
   "source": [
    "#\n",
    "plt.figure(figsize=(12, 8))\n",
    "#Построим графики среднего чека по группам — разделим кумулятивную выручку на кумулятивное число заказов:\n",
    "plt.plot(cumulativeRevenueA['date'], (cumulativeRevenueA['revenue']/cumulativeRevenueA['orders']), label='A')\n",
    "plt.plot(cumulativeRevenueB['date'], (cumulativeRevenueB['revenue']/cumulativeRevenueB['orders']), label='B')\n",
    "plt.title('график среднего чека по группам А и В')\n",
    "plt.xlabel('дата')\n",
    "plt.ylabel('средний чек')\n",
    "plt.xticks(color='black', rotation=45, fontweight='bold', fontsize='9', horizontalalignment='right')\n",
    "\n",
    "plt.legend() \n",
    "plt.show()"
   ]
  },
  {
   "cell_type": "markdown",
   "metadata": {},
   "source": [
    "#### Выводы  \n",
    "Средний чек растет в обоих группах. В группе В есть в середине эксперимента резкий скачок среднего чека - скорее всего большой заказ.  \n",
    "После него у группы В есть тенденция к снижению среднего чека (нивелирование выброса средним чеком намного ниже выброса).   \n",
    "У группы А есть проседание среднего чека в начале и далее тенденци вверх, могу предположить что интегральная площадь под кривой В покажет больший результат, значит и выручка будет больше. Однако колебания не дают однозначной картины для уверенного завершения эксперимента"
   ]
  },
  {
   "cell_type": "markdown",
   "metadata": {},
   "source": [
    "<a id='step_3.3'></a><h3>3.3 График относительного изменения кумулятивного среднего чека группы B к группе A </h3>\n",
    "\n",
    "[К плану работ](#step_0)"
   ]
  },
  {
   "cell_type": "markdown",
   "metadata": {},
   "source": [
    "Построим график относительного изменения кумулятивного среднего чека группы B к группе A. "
   ]
  },
  {
   "cell_type": "code",
   "execution_count": 18,
   "metadata": {
    "scrolled": false
   },
   "outputs": [
    {
     "name": "stdout",
     "output_type": "stream",
     "text": [
      "        date  revenueA  ordersA  revenueB  ordersB\n",
      "0 2019-08-01  142779    23       59758     17     \n",
      "1 2019-08-02  234381    42       221801    40     \n",
      "2 2019-08-03  346854    66       288850    54     \n",
      "3 2019-08-04  388030    77       385740    68     \n",
      "4 2019-08-05  474413    99       475648    89     \n"
     ]
    },
    {
     "data": {
      "image/png": "[encoded data removed]",
      "text/plain": [
       "<Figure size 864x576 with 1 Axes>"
      ]
     },
     "metadata": {
      "needs_background": "light"
     },
     "output_type": "display_data"
    }
   ],
   "source": [
    "# собираем данные в одном датафрейме\n",
    "mergedCumulativeRevenue = cumulativeRevenueA.merge(cumulativeRevenueB, \n",
    "                                                   left_on='date', right_on='date', how='left', suffixes=['A', 'B'])\n",
    "print(mergedCumulativeRevenue.head())\n",
    "# cтроим график: отношение средних чеков\n",
    "plt.figure(figsize=(12, 8))\n",
    "plt.plot(mergedCumulativeRevenue['date'], \n",
    "         (mergedCumulativeRevenue['revenueB']\n",
    "          /mergedCumulativeRevenue['ordersB'])/(mergedCumulativeRevenue['revenueA']/mergedCumulativeRevenue['ordersA'])-1)\n",
    "\n",
    "\n",
    "plt.title('график отношение средних чеков группы В к группе А')\n",
    "plt.xlabel('дата')\n",
    "plt.ylabel('отношение средних чеков')\n",
    "plt.xticks(color='black', rotation=45, fontweight='bold', fontsize='9', horizontalalignment='right')\n",
    "# добавляем уровень средней линии\n",
    "plt.axhline(y=0.18, color='black', linestyle='--') \n",
    "plt.show()"
   ]
  },
  {
   "cell_type": "markdown",
   "metadata": {},
   "source": [
    "#### Выводы  \n",
    "Отношение среднего чека группы В к группе А имеет колебательный процесс около линии 0.18 - отношение выручки в группе В то больше чем в А, то меньше. Есть тенденция вверх (средний чек группы В к среднему чеку группы А становится больше), затуханий не наблюдается."
   ]
  },
  {
   "cell_type": "markdown",
   "metadata": {},
   "source": [
    "<a id='step_3.4'></a><h3>3.4 График кумулятивного среднего количества заказов на посетителя по группам </h3>\n",
    "\n",
    "[К плану работ](#step_0)"
   ]
  },
  {
   "cell_type": "markdown",
   "metadata": {},
   "source": [
    "Построим график кумулятивного среднего количества заказов на посетителя по группам."
   ]
  },
  {
   "cell_type": "code",
   "execution_count": 19,
   "metadata": {
    "scrolled": false
   },
   "outputs": [
    {
     "data": {
      "image/png": "[encoded data removed]",
      "text/plain": [
       "<Figure size 864x576 with 1 Axes>"
      ]
     },
     "metadata": {
      "needs_background": "light"
     },
     "output_type": "display_data"
    }
   ],
   "source": [
    "cumulativeData['conversion'] = cumulativeData['orders']/cumulativeData['visitors']\n",
    "\n",
    "# отделяем данные по группе A\n",
    "cumulativeDataA = cumulativeData[cumulativeData['group']=='A']\n",
    "\n",
    "# отделяем данные по группе B\n",
    "cumulativeDataB = cumulativeData[cumulativeData['group']=='B']\n",
    "plt.figure(figsize=(12, 8))\n",
    "# строим графики\n",
    "plt.plot(cumulativeDataA['date'], cumulativeDataA['conversion'], label='A')\n",
    "plt.plot(cumulativeDataB['date'], cumulativeDataB['conversion'], label='B')\n",
    "\n",
    "plt.legend()\n",
    "\n",
    "# задаем масштаб осей\n",
    "plt.axis([dt.datetime(2019, 8, 1), dt.datetime(2019, 8, 31), 0.02, 0.04])\n",
    "plt.title('график кумулятивного среднего количества заказов на посетителя по группам')\n",
    "plt.xlabel('дата')\n",
    "plt.ylabel('конверсия посещений в заказы')\n",
    "plt.xticks(color='black', rotation=45, fontweight='bold', fontsize='9', horizontalalignment='right')\n",
    "# добавляем ось X\n",
    "plt.axhline(y=0.0275, color='black', linestyle='--') \n",
    "plt.show()"
   ]
  },
  {
   "cell_type": "markdown",
   "metadata": {},
   "source": [
    "#### Выводы  \n",
    "кумулятивное среднее количество заказов имеет стабилизированный вид в конце эксперимента, причем уровень количества заказов у группы В однозначно выше  на 0.005. Скорее всего группа В получает лучшие результаты продаж по количеству заказов и результат уже не поменяется"
   ]
  },
  {
   "cell_type": "markdown",
   "metadata": {},
   "source": [
    "<a id='step_3.5'></a><h3>3.5 График относительного изменения кумулятивного среднего количества заказов на посетителя группы B к группе A </h3>\n",
    "\n",
    "[К плану работ](#step_0)"
   ]
  },
  {
   "cell_type": "code",
   "execution_count": 20,
   "metadata": {
    "scrolled": false
   },
   "outputs": [
    {
     "data": {
      "image/png": "[encoded data removed]",
      "text/plain": [
       "<Figure size 864x576 with 1 Axes>"
      ]
     },
     "metadata": {
      "needs_background": "light"
     },
     "output_type": "display_data"
    }
   ],
   "source": [
    "# собираем данные в одном датафрейме\n",
    "mergedCumulativeConversions = cumulativeDataA[['date',\n",
    "                                               'conversion']].merge(cumulativeDataB[['date','conversion']], \n",
    "                                                                    left_on='date', right_on='date', \n",
    "                                                                    how='left', suffixes=['A', 'B'])\n",
    "# cтроим график: изменения кумулятивного среднего количества заказов на посетителя группы B к группе A\n",
    "plt.figure(figsize=(12, 8))\n",
    "plt.plot(mergedCumulativeConversions['date'], mergedCumulativeConversions['conversionB']\n",
    "         /mergedCumulativeConversions['conversionA']-1, label=\"Относительный прирост конверсии группы B относительно группы A\")\n",
    "plt.title('график относительного изменения кумулятивного среднего количества заказов на посетителя группы B к группе A')\n",
    "plt.xlabel('дата')\n",
    "plt.ylabel('отношение конверсии В к конверсии А')\n",
    "plt.xticks(color='black', rotation=45, fontweight='bold', fontsize='9', horizontalalignment='right')\n",
    "\n",
    "plt.axhline(y=0, color='black', linestyle='--')\n",
    "plt.axhline(y=0.15, color='grey', linestyle='--')\n",
    "\n",
    "plt.legend()\n",
    "plt.show()"
   ]
  },
  {
   "cell_type": "markdown",
   "metadata": {},
   "source": [
    "#### Выводы  \n",
    "относительное изменение кумулятивного среднего количества заказов на посетителя группы B к группе A лишь в начале имело отрицательное значение, это говорит о том что группа В покупала хуже чем А, в дальнейшем ситуация изменилась и группа В стала покупать лучше чем А. Далее идет колебательный тренд в районе 0.15 с затуханием колебаний. Это может свидетельствовать о стабилизации ситуации и группа В покупает лучше чем А"
   ]
  },
  {
   "cell_type": "markdown",
   "metadata": {},
   "source": [
    "<a id='step_3.6'></a><h3>3.6 Точечный график количества заказов по пользователям </h3>\n",
    "\n",
    "[К плану работ](#step_0)"
   ]
  },
  {
   "cell_type": "markdown",
   "metadata": {},
   "source": [
    "Построим точечный график количества заказов по пользователям."
   ]
  },
  {
   "cell_type": "code",
   "execution_count": 21,
   "metadata": {
    "scrolled": true
   },
   "outputs": [
    {
     "name": "stdout",
     "output_type": "stream",
     "text": [
      "         userId  orders\n",
      "908  3967698036  3     \n",
      "55   249864742   3     \n",
      "478  2108163459  3     \n",
      "687  2988190573  3     \n",
      "890  3908431265  3     \n",
      "138  611059232   3     \n",
      "632  2742574263  3     \n",
      "157  678354126   2     \n",
      "323  1404560065  2     \n",
      "452  1985475298  2     \n"
     ]
    }
   ],
   "source": [
    "# сгруппируем заказы по пользователям\n",
    "ordersByUsers = (\n",
    "    orders.groupby('userId', as_index=False)\n",
    "    .agg({'orderId': 'nunique'})# подсчитаеь число уникальных заказов по сгруппированным данным\n",
    ")\n",
    "# переименовываем колонки\n",
    "ordersByUsers.columns = ['userId', 'orders']\n",
    "# отсортируем датафрейм по значению в столбце\n",
    "print(ordersByUsers.sort_values(by='orders', ascending=False).head(10))"
   ]
  },
  {
   "cell_type": "code",
   "execution_count": 22,
   "metadata": {},
   "outputs": [
    {
     "data": {
      "image/png": "[encoded data removed]",
      "text/plain": [
       "<Figure size 864x576 with 1 Axes>"
      ]
     },
     "metadata": {
      "needs_background": "light"
     },
     "output_type": "display_data"
    }
   ],
   "source": [
    "# серия из чисел от 0 до количества наблюдений в ordersByUsers\n",
    "x_values = pd.Series(range(0, len(ordersByUsers)))\n",
    "plt.figure(figsize=(12, 8))\n",
    "plt.scatter(x_values, ordersByUsers['orders'])\n",
    "plt.title('точечный график количества заказов по пользователям')\n",
    "plt.xlabel('пользователи')\n",
    "plt.ylabel('количество заказов')\n",
    "plt.xticks(color='black', fontweight='bold', fontsize='9')\n",
    "\n",
    "plt.axis([0, 1000, 0.7, 3.2])\n",
    "plt.show()"
   ]
  },
  {
   "cell_type": "markdown",
   "metadata": {},
   "source": [
    "#### Выводы  \n",
    "График количества по пользователям дает картину максимального числа 1-2-х заказов. Иногда 3-х остальные точки выглядят как выбросы"
   ]
  },
  {
   "cell_type": "markdown",
   "metadata": {},
   "source": [
    "<a id='step_3.7'></a><h3>3.7 Определение границы аномального количества заказов на пользователя </h3>\n",
    "\n",
    "[К плану работ](#step_0)"
   ]
  },
  {
   "cell_type": "markdown",
   "metadata": {},
   "source": [
    "Посчитаем 95-й и 99-й перцентили количества заказов на пользователя. Выберем границу для определения аномальных пользователей."
   ]
  },
  {
   "cell_type": "code",
   "execution_count": 23,
   "metadata": {
    "scrolled": true
   },
   "outputs": [
    {
     "name": "stdout",
     "output_type": "stream",
     "text": [
      "         userId  orders\n",
      "908  3967698036  3     \n",
      "55   249864742   3     \n",
      "478  2108163459  3     \n",
      "687  2988190573  3     \n",
      "890  3908431265  3     \n",
      "138  611059232   3     \n",
      "632  2742574263  3     \n",
      "157  678354126   2     \n",
      "323  1404560065  2     \n",
      "452  1985475298  2     \n",
      "90% заказов, 95% заказов и 99% заказов соответственно:  [1. 1. 2.]\n"
     ]
    }
   ],
   "source": [
    "print(ordersByUsers.sort_values(by='orders', ascending=False).head(10))\n",
    "# находим перцентили\n",
    "print('90% заказов, 95% заказов и 99% заказов соответственно: ', np.percentile(ordersByUsers['orders'], [90, 95, 99]))"
   ]
  },
  {
   "cell_type": "markdown",
   "metadata": {},
   "source": [
    "#### Выводы  \n",
    "5% пользователей делают более 2-х заказов, 1% - более 4-х.\n",
    "Границу установим более 2-х заказов"
   ]
  },
  {
   "cell_type": "markdown",
   "metadata": {},
   "source": [
    "<a id='step_3.8'></a><h3>3.8 Точечный график стоимостей заказов </h3>\n",
    "\n",
    "[К плану работ](#step_0)"
   ]
  },
  {
   "cell_type": "code",
   "execution_count": 24,
   "metadata": {},
   "outputs": [
    {
     "data": {
      "image/png": "[encoded data removed]",
      "text/plain": [
       "<Figure size 864x576 with 1 Axes>"
      ]
     },
     "metadata": {
      "needs_background": "light"
     },
     "output_type": "display_data"
    }
   ],
   "source": [
    "# точечный график стоимостей заказов\n",
    "plt.figure(figsize=(12, 8))\n",
    "x_values = pd.Series(range(0, len(orders['revenue'])))\n",
    "\n",
    "plt.scatter(x_values, orders['revenue'])\n",
    "plt.title('точечный график стоимостей заказов')\n",
    "plt.xlabel('пользователи')\n",
    "plt.ylabel('выручка')\n",
    "plt.show()"
   ]
  },
  {
   "cell_type": "markdown",
   "metadata": {},
   "source": [
    "<a id='step_3.9'></a><h3>3.9 Определение границы аномальной стоимости заказов </h3>\n",
    "\n",
    "[К плану работ](#step_0)"
   ]
  },
  {
   "cell_type": "markdown",
   "metadata": {},
   "source": [
    "Посчитаем 95-й и 99-й перцентили стоимости заказов. Выберем границу для определения аномальных заказов.\n"
   ]
  },
  {
   "cell_type": "code",
   "execution_count": 25,
   "metadata": {},
   "outputs": [
    {
     "name": "stdout",
     "output_type": "stream",
     "text": [
      "90% стоимости заказов, 95% стоимости заказов и 99% стоимости заказов соответственно:  [17990. 26785. 53904.]\n"
     ]
    }
   ],
   "source": [
    "# находим перцентили\n",
    "print('90% стоимости заказов, 95% стоимости заказов и 99% стоимости заказов соответственно: ', np.percentile(orders['revenue'], [90, 95, 99]))"
   ]
  },
  {
   "cell_type": "markdown",
   "metadata": {},
   "source": [
    "###### Выводы  \n",
    "5% пользователей делают заказы на сумму 26785, 10% на сумму выше 17990. Аномальными сочтем заказы выше 26785"
   ]
  },
  {
   "cell_type": "code",
   "execution_count": 26,
   "metadata": {},
   "outputs": [
    {
     "data": {
      "image/png": "[encoded data removed]",
      "text/plain": [
       "<Figure size 864x576 with 1 Axes>"
      ]
     },
     "metadata": {
      "needs_background": "light"
     },
     "output_type": "display_data"
    }
   ],
   "source": [
    "# увеличенный точечный график стоимостей заказов\n",
    "plt.figure(figsize=(12, 8))\n",
    "plt.scatter(x_values, orders['revenue'])\n",
    "plt.title('точечный график стоимостей заказов (увеличенный масштаб)')\n",
    "plt.xlabel('пользователи')\n",
    "plt.ylabel('выручка')\n",
    "plt.xticks(color='black', fontweight='bold', fontsize='9')\n",
    "plt.axhline(y=53904, color='black', linestyle='--')\n",
    "plt.axhline(y=17990, color='black', linestyle='--')\n",
    "plt.axhline(y=26785, color='black', linestyle='--')\n",
    "plt.axis([0, 1050, 0, 80000])\n",
    "plt.show()\n"
   ]
  },
  {
   "cell_type": "markdown",
   "metadata": {},
   "source": [
    "#### Выводы  \n",
    "Стоимость заказов не превышает 70000. Выбросов мало - всего 2. Пунктиром добавила горизонтальные линии 90, 95 и 99 перцентилей. График в увеличенном масштабе наглядно демонстрирует правильность выбора границы отсечения стоимости заказов на уровне выше 26785."
   ]
  },
  {
   "cell_type": "markdown",
   "metadata": {},
   "source": [
    "<a id='step_4'></a><h3>4. Статистический анализ </h3>\n",
    "\n",
    "[К плану работ](#step_0)"
   ]
  },
  {
   "cell_type": "markdown",
   "metadata": {},
   "source": [
    "<a id='step_4.1'></a><h3>4.1. Статистическая значимость различий в среднем количестве заказов на посетителя между группами по «сырым» данным </h3>\n",
    "\n",
    "[К плану работ](#step_0)"
   ]
  },
  {
   "cell_type": "markdown",
   "metadata": {},
   "source": [
    "Посчитаем статистическую значимость различий в среднем количестве заказов на посетителя между группами по «сырым» данным. "
   ]
  },
  {
   "cell_type": "markdown",
   "metadata": {},
   "source": [
    "Сформулируем гипотезы. \n",
    "- Нулевая: различий в среднем количестве заказов между группами нет. \n",
    "- Альтернативная: различия в среднем между группами есть.  \n",
    "α=5% критический уровень статистической значимости."
   ]
  },
  {
   "cell_type": "code",
   "execution_count": 27,
   "metadata": {},
   "outputs": [
    {
     "name": "stdout",
     "output_type": "stream",
     "text": [
      "0.011  p-value\n",
      "0.160 относительный прирост среднего числа заказов группы B\n"
     ]
    }
   ],
   "source": [
    "# таблица визитов в день для группы А\n",
    "visitorsADaily = visitors[visitors['group'] == 'A'][['date', 'visitors']]\n",
    "# переименовываем столбцы\n",
    "visitorsADaily.columns = ['date', 'visitorsPerDateA']\n",
    "# таблица суммарных куммулятивных визитов на конкретный день для группы А\n",
    "visitorsACummulative = visitorsADaily.apply(\n",
    "    lambda x: visitorsADaily[visitorsADaily['date'] <= x['date']].agg(\n",
    "        {'date': 'max', 'visitorsPerDateA': 'sum'}\n",
    "    ),\n",
    "    axis=1,\n",
    ")\n",
    "# переименовываем столбцы\n",
    "visitorsACummulative.columns = ['date', 'visitorsCummulativeA']\n",
    "\n",
    "# таблица визитов в день для группы В\n",
    "visitorsBDaily = visitors[visitors['group'] == 'B'][['date', 'visitors']]\n",
    "# переименовываем столбцы\n",
    "visitorsBDaily.columns = ['date', 'visitorsPerDateB']\n",
    "# таблица суммарных куммулятивных визитов на конкретный день для группы В\n",
    "visitorsBCummulative = visitorsBDaily.apply(\n",
    "    lambda x: visitorsBDaily[visitorsBDaily['date'] <= x['date']].agg(\n",
    "        {'date': 'max', 'visitorsPerDateB': 'sum'}\n",
    "    ),\n",
    "    axis=1,\n",
    ")\n",
    "# переименовываем столбцы\n",
    "visitorsBCummulative.columns = ['date', 'visitorsCummulativeB']\n",
    "# таблица заказов в день для группы А\n",
    "ordersADaily = (\n",
    "    orders[orders['group'] == 'A'][['date', 'orderId', 'userId', 'revenue']]\n",
    "    .groupby('date', as_index=False)\n",
    "    .agg({'orderId': pd.Series.nunique, 'revenue': 'sum'})\n",
    ")\n",
    "# переименовываем столбцы\n",
    "ordersADaily.columns = ['date', 'ordersPerDateA', 'revenuePerDateA']\n",
    "# таблица суммарных куммулятивных заказов на конкретный день для группы А\n",
    "ordersACummulative = ordersADaily.apply(\n",
    "    lambda x: ordersADaily[ordersADaily['date'] <= x['date']].agg(\n",
    "        {'date': 'max', 'ordersPerDateA': 'sum', 'revenuePerDateA': 'sum'}\n",
    "    ),\n",
    "    axis=1,\n",
    ").sort_values(by=['date'])\n",
    "ordersACummulative.columns = [\n",
    "    'date',\n",
    "    'ordersCummulativeA',\n",
    "    'revenueCummulativeA',\n",
    "]\n",
    "# таблица заказов в день для группы В\n",
    "ordersBDaily = (\n",
    "    orders[orders['group'] == 'B'][['date', 'orderId', 'userId', 'revenue']]\n",
    "    .groupby('date', as_index=False)\n",
    "    .agg({'orderId': pd.Series.nunique, 'revenue': 'sum'})\n",
    ")\n",
    "# переименовываем столбцы\n",
    "ordersBDaily.columns = ['date', 'ordersPerDateB', 'revenuePerDateB']\n",
    "# таблица суммарных куммулятивных заказов на конкретный день для группы В\n",
    "ordersBCummulative = ordersBDaily.apply(\n",
    "    lambda x: ordersBDaily[ordersBDaily['date'] <= x['date']].agg(\n",
    "        {'date': 'max', 'ordersPerDateB': 'sum', 'revenuePerDateB': 'sum'}\n",
    "    ),\n",
    "    axis=1,\n",
    ").sort_values(by=['date'])\n",
    "# переименовываем столбцы\n",
    "ordersBCummulative.columns = [\n",
    "    'date',\n",
    "    'ordersCummulativeB',\n",
    "    'revenueCummulativeB',\n",
    "]\n",
    "# соединяем все таблицы в одну\n",
    "data = (\n",
    "    ordersADaily.merge(\n",
    "        ordersBDaily, left_on='date', right_on='date', how='left'\n",
    "    )\n",
    "    .merge(ordersACummulative, left_on='date', right_on='date', how='left')\n",
    "    .merge(ordersBCummulative, left_on='date', right_on='date', how='left')\n",
    "    .merge(visitorsADaily, left_on='date', right_on='date', how='left')\n",
    "    .merge(visitorsBDaily, left_on='date', right_on='date', how='left')\n",
    "    .merge(visitorsACummulative, left_on='date', right_on='date', how='left')\n",
    "    .merge(visitorsBCummulative, left_on='date', right_on='date', how='left')\n",
    ")\n",
    "#  Создадим переменные ordersByUsersA и ordersByUsersB со столбцами ['userId', 'orders']. \n",
    "# В них для пользователей, которые заказывали хотя бы 1 раз, укажем число совершённых заказов. \n",
    "ordersByUsersA = (\n",
    "    orders[orders['group'] == 'A']\n",
    "    .groupby('userId', as_index=False)\n",
    "    .agg({'orderId': pd.Series.nunique})\n",
    ")\n",
    "# переименовываем столбцы\n",
    "ordersByUsersA.columns = ['userId', 'orders']\n",
    "\n",
    "ordersByUsersB = (\n",
    "    orders[orders['group'] == 'B']\n",
    "    .groupby('userId', as_index=False)\n",
    "    .agg({'orderId': pd.Series.nunique})\n",
    ")\n",
    "# переименовываем столбцы\n",
    "ordersByUsersB.columns = ['userId', 'orders']\n",
    "\n",
    "#в sampleA сохранили выборку, где каждый элемент — число заказов определённого пользователя, в том числе ноль. \n",
    "#Значит, число элементов sampleA — это количество пользователей, сумма всех элементов — количество заказов. \n",
    "#Чтобы получить среднее число заказов на пользователя, поделим сумму заказов на число пользователей — найдём среднее \n",
    "#в выборке sampleA методом mean()\n",
    "sampleA = pd.concat(\n",
    "    [\n",
    "        ordersByUsersA['orders'],\n",
    "        pd.Series(\n",
    "            0,\n",
    "            index=np.arange(\n",
    "                data['visitorsPerDateA'].sum() - len(ordersByUsersA['orders'])\n",
    "            ),\n",
    "            name='orders',\n",
    "        ),\n",
    "    ],\n",
    "    axis=0,\n",
    ")\n",
    "sampleB = pd.concat(\n",
    "    [\n",
    "        ordersByUsersB['orders'],\n",
    "        pd.Series(\n",
    "            0,\n",
    "            index=np.arange(\n",
    "                data['visitorsPerDateB'].sum() - len(ordersByUsersB['orders'])\n",
    "            ),\n",
    "            name='orders',\n",
    "        ),\n",
    "    ],\n",
    "    axis=0,\n",
    ")\n",
    "print(\"{0:.3f}\".format(stats.mannwhitneyu(sampleA, sampleB)[1]), ' p-value')\n",
    "#Чтобы получить среднее число заказов на пользователя, поделим сумму заказов на число пользователей — найдём среднее \n",
    "#в выборке sampleA методом mean()\n",
    "print(\"{0:.3f}\".format(sampleB.mean() / sampleA.mean() - 1), 'относительный прирост среднего числа заказов группы B')\n",
    "# относительный прирост среднего числа заказов группы B: среднее число заказов группы B / среднее число заказов группы A - 1.  \n",
    "# Округлим до трёх знаков после запятой."
   ]
  },
  {
   "cell_type": "markdown",
   "metadata": {},
   "source": [
    "#### Выводы \n",
    "\n",
    "**По «сырым» данным различия в среднем числе заказов групп A и B есть.** \n",
    "Первое число — p-value = 0.011 меньше 0.05. \n",
    "- Значит, **нулевую гипотезу** о том, что статистически значимых различий в среднем числе заказов между группами нет, **отвергаем**. Различия есть.      \n",
    "- Относительный выигрыш группы B равен 16%, это больше статистической погрешности.\n"
   ]
  },
  {
   "cell_type": "markdown",
   "metadata": {},
   "source": [
    "<a id='step_4.2'></a><h3>4.2. Статистическая значимость различий в среднем чеке заказа между группами по «сырым» данным </h3>\n",
    "\n",
    "[К плану работ](#step_0)"
   ]
  },
  {
   "cell_type": "markdown",
   "metadata": {},
   "source": [
    "Теперь проверим статистическую значимость различий в среднем чеке между сегментами по «сырым» данным. \n",
    "- Нулевая гипотеза: различий в среднем чеке между группами нет. \n",
    "- Альтернативная гипотеза: различия в среднем чеке между группами есть.   \n",
    "Чтобы рассчитать статистическую значимость различий в среднем чеке, передадим критерию mannwhitneyu() данные о выручке с заказов.   \n",
    "А ещё найдём относительные различия в среднем чеке между группами:"
   ]
  },
  {
   "cell_type": "code",
   "execution_count": 28,
   "metadata": {},
   "outputs": [
    {
     "name": "stdout",
     "output_type": "stream",
     "text": [
      "0.829  p-value\n",
      "0.287 относительный прирост среднего чека группы B\n"
     ]
    }
   ],
   "source": [
    "print('{0:.3f}'.format(stats.mannwhitneyu(orders[orders['group']=='A']['revenue'], orders[orders['group']=='B']['revenue'])[1]), ' p-value')\n",
    "print('{0:.3f}'.format(orders[orders['group']=='B']['revenue'].mean()/orders[orders['group']=='A']['revenue'].mean()-1), 'относительный прирост среднего чека группы B') "
   ]
  },
  {
   "cell_type": "markdown",
   "metadata": {},
   "source": [
    "#### Выводы  \n",
    "\n",
    "P-value значительно больше 0.05. Значит, **причин отвергать нулевую гипотезу и считать, что в среднем чеке по \"сырым\" данным есть различия, нет.** Впрочем, средний чек группы B значительно выше среднего чека группы A на 28,7%.\n",
    "\n",
    "Напомним, что найденные в прошлых уроках 95-й и 99-й перцентили средних чеков равны 26785 и 53904 рублям. А 95-й и 99-й перцентили количества заказов на одного пользователя равны 1 и 2 заказа на пользователя.\n"
   ]
  },
  {
   "cell_type": "markdown",
   "metadata": {},
   "source": [
    "<a id='step_4.3'></a><h3>4.3. Статистическая значимость различий в среднем количестве заказов на посетителя между группами по «очищенным» данным </h3>\n",
    "\n",
    "[К плану работ](#step_0)"
   ]
  },
  {
   "cell_type": "markdown",
   "metadata": {},
   "source": [
    "\n",
    "Посчитаем статистическую значимость различий в среднем количестве заказов на посетителя между группами по «очищенным» данным. "
   ]
  },
  {
   "cell_type": "markdown",
   "metadata": {},
   "source": [
    "Сформулируем гипотезы теперь для \"очищенных\" данных. \n",
    "- Нулевая: различий в среднем количестве заказов между группами нет. \n",
    "- Альтернативная: различия в среднем между группами есть.  \n",
    "α=5% критический уровень статистической значимости."
   ]
  },
  {
   "cell_type": "markdown",
   "metadata": {},
   "source": [
    "Примем за аномальных пользователей тех, кто совершил более 2х заказов или совершил заказ дороже 53904 рублей. Так мы уберём 1% пользователей с наибольшим числом заказов. Сделаем срезы пользователей с числом заказов больше 2 — usersWithManyOrders и пользователей, совершивших заказы дороже 53904 — usersWithExpensiveOrders. Объединим их в таблице abnormalUsers. \n",
    "Узнаем, сколько всего аномальных пользователей атрибутом shape"
   ]
  },
  {
   "cell_type": "markdown",
   "metadata": {},
   "source": [
    "Узнаем, как их действия повлияли на результаты теста. Посчитаем статистическую значимость различий в среднем количестве заказов между группами теста по \"очищенным\" данным. "
   ]
  },
  {
   "cell_type": "code",
   "execution_count": 29,
   "metadata": {},
   "outputs": [
    {
     "name": "stdout",
     "output_type": "stream",
     "text": [
      "1099    148427295\n",
      "33      249864742\n",
      "58      611059232\n",
      "949     887908475\n",
      "744     888512513\n",
      "Name: userId, dtype: int64\n",
      "16 - всего аномальных пользователей\n"
     ]
    }
   ],
   "source": [
    "usersWithManyOrders = pd.concat(\n",
    "    [\n",
    "        ordersByUsersA[ordersByUsersA['orders'] > 2]['userId'],\n",
    "        ordersByUsersB[ordersByUsersB['orders'] > 2]['userId'],\n",
    "    ],\n",
    "    axis=0,\n",
    ")\n",
    "usersWithExpensiveOrders = orders[orders['revenue'] > 53904]['userId']\n",
    "abnormalUsers = (\n",
    "    pd.concat([usersWithManyOrders, usersWithExpensiveOrders], axis=0)\n",
    "    .drop_duplicates()\n",
    "    .sort_values()\n",
    ")\n",
    "print(abnormalUsers.head(5))\n",
    "print(abnormalUsers.shape[0], '- всего аномальных пользователей') #сколько всего аномальных пользователей"
   ]
  },
  {
   "cell_type": "code",
   "execution_count": 30,
   "metadata": {},
   "outputs": [
    {
     "name": "stdout",
     "output_type": "stream",
     "text": [
      "0.00702  p-value\n",
      "0.189 относительный прирост среднего количества заказов группы B\n"
     ]
    }
   ],
   "source": [
    "# Сначала подготовим выборки количества заказов по пользователям по группам теста:\n",
    "sampleAFiltered = pd.concat(\n",
    "    [\n",
    "        ordersByUsersA[\n",
    "            np.logical_not(ordersByUsersA['userId'].isin(abnormalUsers))\n",
    "        ]['orders'],\n",
    "        pd.Series(\n",
    "            0,\n",
    "            index=np.arange(\n",
    "                data['visitorsPerDateA'].sum() - len(ordersByUsersA['orders'])\n",
    "            ),\n",
    "            name='orders',\n",
    "        ),\n",
    "    ],\n",
    "    axis=0,\n",
    ")\n",
    "\n",
    "sampleBFiltered = pd.concat(\n",
    "    [\n",
    "        ordersByUsersB[\n",
    "            np.logical_not(ordersByUsersB['userId'].isin(abnormalUsers))\n",
    "        ]['orders'],\n",
    "        pd.Series(\n",
    "            0,\n",
    "            index=np.arange(\n",
    "                data['visitorsPerDateB'].sum() - len(ordersByUsersB['orders'])\n",
    "            ),\n",
    "            name='orders',\n",
    "        ),\n",
    "    ],\n",
    "    axis=0,\n",
    ") \n",
    "print('{0:.5f}'.format(stats.mannwhitneyu(sampleAFiltered, sampleBFiltered)[1]), ' p-value')\n",
    "print('{0:.3f}'.format(sampleBFiltered.mean()/sampleAFiltered.mean()-1), 'относительный прирост среднего количества заказов группы B') "
   ]
  },
  {
   "cell_type": "markdown",
   "metadata": {},
   "source": [
    "#### Выводы  \n",
    "статистическую значимость различий в среднем количестве заказов на посетителя между группами по «очищенным» данным 0,7% меньше 5%. **По «очищенным» данным различия в среднем числе заказов групп A и B есть.**  \n",
    "\n",
    "- Значит, **нулевую гипотезу** о том, что статистически значимых различий в среднем числе заказов между группами нет, **отвергаем**. Различия есть.      \n",
    "- Относительный выигрыш группы B равен 19%, это больше статистической погрешности и больше чем по \"сырым\" данным.\n"
   ]
  },
  {
   "cell_type": "markdown",
   "metadata": {},
   "source": [
    "<a id='step_4.4'></a><h3>4.4. Статистическая значимость различий в среднем чеке заказа между группами по «очищенным» данным </h3>\n",
    "\n",
    "[К плану работ](#step_0)"
   ]
  },
  {
   "cell_type": "markdown",
   "metadata": {},
   "source": [
    "Теперь проверим статистическую значимость различий в среднем чеке между сегментами по «очищенным» данным. \n",
    "- Нулевая гипотеза: различий в среднем чеке между группами нет. \n",
    "- Альтернативная гипотеза: различия в среднем чеке между группами есть.  "
   ]
  },
  {
   "cell_type": "code",
   "execution_count": 31,
   "metadata": {},
   "outputs": [
    {
     "name": "stdout",
     "output_type": "stream",
     "text": [
      "0.788  p-value\n",
      "-0.032 относительный прирост среднего чека группы B\n"
     ]
    }
   ],
   "source": [
    "print(\n",
    "    '{0:.3f}'.format(\n",
    "        stats.mannwhitneyu(\n",
    "            orders[\n",
    "                np.logical_and(\n",
    "                    orders['group'] == 'A',\n",
    "                    np.logical_not(orders['userId'].isin(abnormalUsers)),\n",
    "                )\n",
    "            ]['revenue'],\n",
    "            orders[\n",
    "                np.logical_and(\n",
    "                    orders['group'] == 'B',\n",
    "                    np.logical_not(orders['userId'].isin(abnormalUsers)),\n",
    "                )\n",
    "            ]['revenue'],\n",
    "        )[1]\n",
    "    )\n",
    ", ' p-value')\n",
    "\n",
    "print(\n",
    "    \"{0:.3f}\".format(\n",
    "        orders[\n",
    "            np.logical_and(\n",
    "                orders['group'] == 'B',\n",
    "                np.logical_not(orders['userId'].isin(abnormalUsers)),\n",
    "            )\n",
    "        ]['revenue'].mean()\n",
    "        / orders[\n",
    "            np.logical_and(\n",
    "                orders['group'] == 'A',\n",
    "                np.logical_not(orders['userId'].isin(abnormalUsers)),\n",
    "            )\n",
    "        ]['revenue'].mean()\n",
    "        - 1\n",
    "    )\n",
    ", 'относительный прирост среднего чека группы B') \n"
   ]
  },
  {
   "cell_type": "markdown",
   "metadata": {},
   "source": [
    "#### Выводы  \n",
    "статистическую значимость различий в среднем чеке заказа между группами по «очищенным» данным 79%\n",
    "Первое число — p-value = 0.788 больше 0.05. \n",
    "- Значит, **нулевую гипотезу о том, что статистически значимых различий в среднем числе заказов между группами нет, не отвергаем.** \n",
    "- Однако относительный проигрыш группы B равен 3,2% — второе число в выводе. **средний чек группы B ниже среднего чека группы A**"
   ]
  },
  {
   "cell_type": "markdown",
   "metadata": {},
   "source": [
    "<a id='step_5'></a><h3>5. Общий вывод, принятие решения </h3>\n",
    "\n",
    "[К плану работ](#step_0)\n"
   ]
  },
  {
   "cell_type": "markdown",
   "metadata": {},
   "source": [
    " Примем решение по результатам теста и объясним его.   \n",
    " Варианты решений:\n",
    "1. Остановить тест, зафиксировать победу одной из групп.\n",
    "2. Остановить тест, зафиксировать отсутствие различий между группами.\n",
    "3. Продолжить тест."
   ]
  },
  {
   "cell_type": "markdown",
   "metadata": {},
   "source": [
    "#### Вывод\n",
    "\n",
    "**По «сырым» и «очищенным»** данным различия в среднем числе заказов групп A и B **есть.** \n",
    "p-value меньше 0.05 в обоих случаях. \n",
    "- Значит, **нулевую гипотезу** о том, что статистически значимых различий в среднем числе заказов между группами нет, **отвергаем**. Различия есть.      \n",
    "- Относительный выигрыш группы B равен 16% **по «сырым»** данным и 19% **по «очищенным»** данным, это больше статистической погрешности и больше чем по \"сырым\" данным.\n",
    "**Различий в среднем чеке между группами нет**\n",
    "P-value значительно больше 0.05. Значит, \n",
    "- **причин отвергать нулевую гипотезу** (Нулевая гипотеза: различий в среднем чеке между группами нет) и считать, что в среднем чеке по \"сырым\" по «очищенным» данным есть различия, **нет.** \n",
    "- Впрочем, средний чек группы B значительно выше среднего чека группы A на 28,7% **По «сырым»** данным и проигрыш группы B равен 3,2%. **По «очищенным»** данным **средний чек группы B ниже среднего чека группы A**. Идет колебательный процесс с тенденцией к превалированию результатов группы В над результатами группы А.\n",
    "\n",
    "Итого увеличение заказов по очищенным данным на почти 20% больше в группе В. При колебании среднего чека с превалированием группы В над А дает нам повод **остановить тест и признать группу В победителем**. Тем более что по сырым данным эта группа лучше продает чем группа А."
   ]
  }
 ],
 "metadata": {
  "ExecuteTimeLog": [
   {
    "duration": 60,
    "start_time": "2023-04-26T12:58:21.564Z"
   },
   {
    "duration": 449,
    "start_time": "2023-04-26T12:58:43.053Z"
   },
   {
    "duration": 53,
    "start_time": "2023-04-26T12:58:56.898Z"
   },
   {
    "duration": 57,
    "start_time": "2023-04-26T12:59:07.216Z"
   },
   {
    "duration": 56,
    "start_time": "2023-04-26T13:06:23.327Z"
   },
   {
    "duration": 34,
    "start_time": "2023-04-26T13:06:40.335Z"
   },
   {
    "duration": 40,
    "start_time": "2023-04-26T13:09:05.704Z"
   },
   {
    "duration": 19,
    "start_time": "2023-04-26T13:09:15.167Z"
   },
   {
    "duration": 41,
    "start_time": "2023-04-26T13:10:11.016Z"
   },
   {
    "duration": 13,
    "start_time": "2023-04-26T13:10:13.551Z"
   },
   {
    "duration": 13,
    "start_time": "2023-04-26T13:11:53.600Z"
   },
   {
    "duration": 35,
    "start_time": "2023-04-26T13:18:44.738Z"
   },
   {
    "duration": 37,
    "start_time": "2023-04-26T13:18:59.914Z"
   },
   {
    "duration": 62,
    "start_time": "2023-04-26T13:36:10.802Z"
   },
   {
    "duration": 58,
    "start_time": "2023-04-26T13:36:28.879Z"
   },
   {
    "duration": 355,
    "start_time": "2023-04-26T13:36:39.702Z"
   },
   {
    "duration": 4,
    "start_time": "2023-04-26T13:37:16.933Z"
   },
   {
    "duration": 33,
    "start_time": "2023-04-26T13:37:17.621Z"
   },
   {
    "duration": 16,
    "start_time": "2023-04-26T13:37:18.230Z"
   },
   {
    "duration": 9,
    "start_time": "2023-04-26T13:37:18.885Z"
   },
   {
    "duration": 291,
    "start_time": "2023-04-26T13:37:25.210Z"
   },
   {
    "duration": 340,
    "start_time": "2023-04-26T13:38:11.615Z"
   },
   {
    "duration": 51,
    "start_time": "2023-04-26T13:39:06.239Z"
   },
   {
    "duration": 59,
    "start_time": "2023-04-26T13:39:16.320Z"
   },
   {
    "duration": 305,
    "start_time": "2023-04-26T13:40:03.663Z"
   },
   {
    "duration": 310,
    "start_time": "2023-04-26T13:41:01.335Z"
   },
   {
    "duration": 57,
    "start_time": "2023-04-26T13:41:25.617Z"
   },
   {
    "duration": 279,
    "start_time": "2023-04-26T13:41:53.263Z"
   },
   {
    "duration": 357,
    "start_time": "2023-04-26T13:42:18.470Z"
   },
   {
    "duration": 128,
    "start_time": "2023-04-26T13:42:50.390Z"
   },
   {
    "duration": 48,
    "start_time": "2023-04-26T13:53:13.911Z"
   },
   {
    "duration": 288,
    "start_time": "2023-04-26T13:53:31.042Z"
   },
   {
    "duration": 622,
    "start_time": "2023-04-26T13:53:52.138Z"
   },
   {
    "duration": 693,
    "start_time": "2023-04-26T13:56:03.386Z"
   },
   {
    "duration": 375,
    "start_time": "2023-04-26T13:57:53.194Z"
   },
   {
    "duration": 36,
    "start_time": "2023-04-26T13:57:56.550Z"
   },
   {
    "duration": 10,
    "start_time": "2023-04-26T13:57:57.226Z"
   },
   {
    "duration": 9,
    "start_time": "2023-04-26T13:57:57.762Z"
   },
   {
    "duration": 697,
    "start_time": "2023-04-26T13:57:59.762Z"
   },
   {
    "duration": 980,
    "start_time": "2023-04-26T13:58:20.018Z"
   },
   {
    "duration": 255,
    "start_time": "2023-04-26T14:01:27.916Z"
   },
   {
    "duration": 794,
    "start_time": "2023-04-26T14:02:01.836Z"
   },
   {
    "duration": 206,
    "start_time": "2023-04-26T14:04:52.332Z"
   },
   {
    "duration": 416,
    "start_time": "2023-04-26T14:07:04.164Z"
   },
   {
    "duration": 290,
    "start_time": "2023-04-26T14:07:38.629Z"
   },
   {
    "duration": 173,
    "start_time": "2023-04-26T14:10:09.846Z"
   },
   {
    "duration": 188,
    "start_time": "2023-04-26T14:13:38.782Z"
   },
   {
    "duration": 286,
    "start_time": "2023-04-26T14:16:37.735Z"
   },
   {
    "duration": 26,
    "start_time": "2023-04-26T14:18:01.833Z"
   },
   {
    "duration": 292,
    "start_time": "2023-04-26T14:20:23.792Z"
   },
   {
    "duration": 710,
    "start_time": "2023-04-26T14:20:51.569Z"
   },
   {
    "duration": 39,
    "start_time": "2023-04-26T14:20:53.185Z"
   },
   {
    "duration": 16,
    "start_time": "2023-04-26T14:20:53.977Z"
   },
   {
    "duration": 12,
    "start_time": "2023-04-26T14:20:54.697Z"
   },
   {
    "duration": 393,
    "start_time": "2023-04-26T14:20:56.362Z"
   },
   {
    "duration": 759,
    "start_time": "2023-04-26T14:20:56.938Z"
   },
   {
    "duration": 188,
    "start_time": "2023-04-26T14:20:58.706Z"
   },
   {
    "duration": 3,
    "start_time": "2023-04-26T14:21:00.449Z"
   },
   {
    "duration": 263,
    "start_time": "2023-04-26T14:21:01.018Z"
   },
   {
    "duration": 221,
    "start_time": "2023-04-26T14:21:02.855Z"
   },
   {
    "duration": 281,
    "start_time": "2023-04-26T14:21:04.800Z"
   },
   {
    "duration": 23,
    "start_time": "2023-04-26T14:21:07.000Z"
   },
   {
    "duration": 3,
    "start_time": "2023-04-26T14:22:50.985Z"
   },
   {
    "duration": 34,
    "start_time": "2023-04-26T14:22:51.657Z"
   },
   {
    "duration": 9,
    "start_time": "2023-04-26T14:22:52.412Z"
   },
   {
    "duration": 9,
    "start_time": "2023-04-26T14:22:53.258Z"
   },
   {
    "duration": 288,
    "start_time": "2023-04-26T14:22:56.684Z"
   },
   {
    "duration": 725,
    "start_time": "2023-04-26T14:22:57.545Z"
   },
   {
    "duration": 205,
    "start_time": "2023-04-26T14:23:00.130Z"
   },
   {
    "duration": 3,
    "start_time": "2023-04-26T14:23:02.376Z"
   },
   {
    "duration": 248,
    "start_time": "2023-04-26T14:23:03.121Z"
   },
   {
    "duration": 161,
    "start_time": "2023-04-26T14:23:05.048Z"
   },
   {
    "duration": 322,
    "start_time": "2023-04-26T14:23:06.793Z"
   },
   {
    "duration": 16,
    "start_time": "2023-04-26T14:23:10.250Z"
   },
   {
    "duration": 25,
    "start_time": "2023-04-26T14:24:04.698Z"
   },
   {
    "duration": 677,
    "start_time": "2023-04-26T14:24:17.788Z"
   },
   {
    "duration": 38,
    "start_time": "2023-04-26T14:24:18.467Z"
   },
   {
    "duration": 10,
    "start_time": "2023-04-26T14:24:18.507Z"
   },
   {
    "duration": 16,
    "start_time": "2023-04-26T14:24:18.519Z"
   },
   {
    "duration": 374,
    "start_time": "2023-04-26T14:24:18.536Z"
   },
   {
    "duration": 0,
    "start_time": "2023-04-26T14:24:18.912Z"
   },
   {
    "duration": 0,
    "start_time": "2023-04-26T14:24:18.913Z"
   },
   {
    "duration": 0,
    "start_time": "2023-04-26T14:24:18.915Z"
   },
   {
    "duration": 0,
    "start_time": "2023-04-26T14:24:18.916Z"
   },
   {
    "duration": 0,
    "start_time": "2023-04-26T14:24:18.917Z"
   },
   {
    "duration": 0,
    "start_time": "2023-04-26T14:24:18.918Z"
   },
   {
    "duration": 0,
    "start_time": "2023-04-26T14:24:18.919Z"
   },
   {
    "duration": 679,
    "start_time": "2023-04-26T14:26:29.572Z"
   },
   {
    "duration": 821,
    "start_time": "2023-04-26T14:26:35.561Z"
   },
   {
    "duration": 184,
    "start_time": "2023-04-26T14:26:39.748Z"
   },
   {
    "duration": 340,
    "start_time": "2023-04-26T14:26:47.489Z"
   },
   {
    "duration": 190,
    "start_time": "2023-04-26T14:26:50.689Z"
   },
   {
    "duration": 336,
    "start_time": "2023-04-26T14:26:53.002Z"
   },
   {
    "duration": 11,
    "start_time": "2023-04-26T14:27:00.168Z"
   },
   {
    "duration": 10,
    "start_time": "2023-04-26T14:27:17.710Z"
   },
   {
    "duration": 14,
    "start_time": "2023-04-26T14:28:48.777Z"
   },
   {
    "duration": 17,
    "start_time": "2023-04-26T14:29:15.253Z"
   },
   {
    "duration": 130,
    "start_time": "2023-04-26T14:31:35.320Z"
   },
   {
    "duration": 178,
    "start_time": "2023-04-26T14:34:13.347Z"
   },
   {
    "duration": 143,
    "start_time": "2023-04-26T14:34:39.862Z"
   },
   {
    "duration": 132,
    "start_time": "2023-04-26T14:34:43.514Z"
   },
   {
    "duration": 8,
    "start_time": "2023-04-26T14:37:20.899Z"
   },
   {
    "duration": 9,
    "start_time": "2023-04-26T14:39:56.490Z"
   },
   {
    "duration": 8,
    "start_time": "2023-04-26T14:40:14.245Z"
   },
   {
    "duration": 147,
    "start_time": "2023-04-26T14:40:28.327Z"
   },
   {
    "duration": 156,
    "start_time": "2023-04-26T14:41:14.623Z"
   },
   {
    "duration": 6,
    "start_time": "2023-04-26T14:42:38.780Z"
   },
   {
    "duration": 7,
    "start_time": "2023-04-26T14:43:08.261Z"
   },
   {
    "duration": 3,
    "start_time": "2023-04-26T14:44:18.421Z"
   },
   {
    "duration": 643,
    "start_time": "2023-04-26T14:52:34.512Z"
   },
   {
    "duration": 40,
    "start_time": "2023-04-26T14:52:35.157Z"
   },
   {
    "duration": 11,
    "start_time": "2023-04-26T14:52:35.199Z"
   },
   {
    "duration": 10,
    "start_time": "2023-04-26T14:52:35.213Z"
   },
   {
    "duration": 677,
    "start_time": "2023-04-26T14:52:35.224Z"
   },
   {
    "duration": 795,
    "start_time": "2023-04-26T14:52:35.903Z"
   },
   {
    "duration": 194,
    "start_time": "2023-04-26T14:52:36.700Z"
   },
   {
    "duration": 355,
    "start_time": "2023-04-26T14:52:36.896Z"
   },
   {
    "duration": 182,
    "start_time": "2023-04-26T14:52:37.253Z"
   },
   {
    "duration": 276,
    "start_time": "2023-04-26T14:52:37.438Z"
   },
   {
    "duration": 15,
    "start_time": "2023-04-26T14:52:37.716Z"
   },
   {
    "duration": 150,
    "start_time": "2023-04-26T14:52:37.733Z"
   },
   {
    "duration": 151,
    "start_time": "2023-04-26T14:52:37.894Z"
   },
   {
    "duration": 8,
    "start_time": "2023-04-26T14:52:38.047Z"
   },
   {
    "duration": 173,
    "start_time": "2023-04-26T14:52:38.057Z"
   },
   {
    "duration": 182,
    "start_time": "2023-04-26T14:52:38.232Z"
   },
   {
    "duration": 4,
    "start_time": "2023-04-26T14:52:38.416Z"
   },
   {
    "duration": 174,
    "start_time": "2023-04-26T16:23:46.123Z"
   },
   {
    "duration": 258,
    "start_time": "2023-04-26T16:24:54.518Z"
   },
   {
    "duration": 735,
    "start_time": "2023-04-26T16:30:08.578Z"
   },
   {
    "duration": 59,
    "start_time": "2023-04-26T16:30:13.322Z"
   },
   {
    "duration": 521,
    "start_time": "2023-04-26T16:30:29.228Z"
   },
   {
    "duration": 673,
    "start_time": "2023-04-26T16:31:08.610Z"
   },
   {
    "duration": 189,
    "start_time": "2023-04-26T16:32:38.458Z"
   },
   {
    "duration": 268,
    "start_time": "2023-04-26T16:33:58.338Z"
   },
   {
    "duration": 335,
    "start_time": "2023-04-26T16:34:18.866Z"
   },
   {
    "duration": 269,
    "start_time": "2023-04-26T16:35:47.308Z"
   },
   {
    "duration": 669,
    "start_time": "2023-04-26T16:36:03.998Z"
   },
   {
    "duration": 296,
    "start_time": "2023-04-26T16:36:09.675Z"
   },
   {
    "duration": 393,
    "start_time": "2023-04-26T16:36:14.234Z"
   },
   {
    "duration": 215,
    "start_time": "2023-04-26T16:36:18.178Z"
   },
   {
    "duration": 239,
    "start_time": "2023-04-26T16:36:45.859Z"
   },
   {
    "duration": 275,
    "start_time": "2023-04-26T16:37:32.999Z"
   },
   {
    "duration": 266,
    "start_time": "2023-04-26T16:40:02.886Z"
   },
   {
    "duration": 214,
    "start_time": "2023-04-26T16:40:18.868Z"
   },
   {
    "duration": 172,
    "start_time": "2023-04-26T16:40:36.035Z"
   },
   {
    "duration": 170,
    "start_time": "2023-04-26T16:40:44.332Z"
   },
   {
    "duration": 177,
    "start_time": "2023-04-26T16:40:51.508Z"
   },
   {
    "duration": 207,
    "start_time": "2023-04-26T16:41:07.636Z"
   },
   {
    "duration": 200,
    "start_time": "2023-04-26T16:41:16.124Z"
   },
   {
    "duration": 267,
    "start_time": "2023-04-26T16:41:34.483Z"
   },
   {
    "duration": 263,
    "start_time": "2023-04-26T16:42:28.417Z"
   },
   {
    "duration": 289,
    "start_time": "2023-04-26T16:43:17.710Z"
   },
   {
    "duration": 319,
    "start_time": "2023-04-26T16:43:44.755Z"
   },
   {
    "duration": 300,
    "start_time": "2023-04-26T16:44:04.421Z"
   },
   {
    "duration": 391,
    "start_time": "2023-04-26T16:44:14.820Z"
   },
   {
    "duration": 318,
    "start_time": "2023-04-26T16:44:25.004Z"
   },
   {
    "duration": 22,
    "start_time": "2023-04-26T16:44:37.109Z"
   },
   {
    "duration": 11,
    "start_time": "2023-04-26T16:44:48.740Z"
   },
   {
    "duration": 11,
    "start_time": "2023-04-26T16:45:08.598Z"
   },
   {
    "duration": 131,
    "start_time": "2023-04-26T16:45:09.909Z"
   },
   {
    "duration": 116,
    "start_time": "2023-04-26T16:45:12.030Z"
   },
   {
    "duration": 10,
    "start_time": "2023-04-26T16:45:23.517Z"
   },
   {
    "duration": 150,
    "start_time": "2023-04-26T16:45:41.372Z"
   },
   {
    "duration": 134,
    "start_time": "2023-04-26T16:45:48.603Z"
   },
   {
    "duration": 8,
    "start_time": "2023-04-26T16:46:04.868Z"
   },
   {
    "duration": 4,
    "start_time": "2023-04-26T16:46:43.766Z"
   },
   {
    "duration": 369,
    "start_time": "2023-04-26T16:47:26.425Z"
   },
   {
    "duration": 510,
    "start_time": "2023-04-26T16:48:26.104Z"
   },
   {
    "duration": 442,
    "start_time": "2023-04-26T16:48:37.564Z"
   },
   {
    "duration": 13,
    "start_time": "2023-04-26T16:50:56.574Z"
   },
   {
    "duration": 10,
    "start_time": "2023-04-26T16:54:00.950Z"
   },
   {
    "duration": 27,
    "start_time": "2023-04-26T16:55:50.720Z"
   },
   {
    "duration": 17,
    "start_time": "2023-04-26T16:57:36.510Z"
   },
   {
    "duration": 1203,
    "start_time": "2023-04-27T11:56:47.746Z"
   },
   {
    "duration": 101,
    "start_time": "2023-04-27T11:56:48.952Z"
   },
   {
    "duration": 10,
    "start_time": "2023-04-27T11:56:49.054Z"
   },
   {
    "duration": 44,
    "start_time": "2023-04-27T11:56:49.066Z"
   },
   {
    "duration": 787,
    "start_time": "2023-04-27T11:56:49.112Z"
   },
   {
    "duration": 546,
    "start_time": "2023-04-27T11:56:49.902Z"
   },
   {
    "duration": 172,
    "start_time": "2023-04-27T11:56:50.450Z"
   },
   {
    "duration": 343,
    "start_time": "2023-04-27T11:56:50.624Z"
   },
   {
    "duration": 190,
    "start_time": "2023-04-27T11:56:50.969Z"
   },
   {
    "duration": 299,
    "start_time": "2023-04-27T11:56:51.162Z"
   },
   {
    "duration": 31,
    "start_time": "2023-04-27T11:56:51.462Z"
   },
   {
    "duration": 109,
    "start_time": "2023-04-27T11:56:51.495Z"
   },
   {
    "duration": 111,
    "start_time": "2023-04-27T11:56:51.605Z"
   },
   {
    "duration": 6,
    "start_time": "2023-04-27T11:56:51.718Z"
   },
   {
    "duration": 127,
    "start_time": "2023-04-27T11:56:51.725Z"
   },
   {
    "duration": 176,
    "start_time": "2023-04-27T11:56:51.854Z"
   },
   {
    "duration": 3,
    "start_time": "2023-04-27T11:56:52.032Z"
   },
   {
    "duration": 358,
    "start_time": "2023-04-27T11:56:52.036Z"
   },
   {
    "duration": 12,
    "start_time": "2023-04-27T11:56:52.396Z"
   },
   {
    "duration": 18,
    "start_time": "2023-04-27T11:56:52.410Z"
   },
   {
    "duration": 35,
    "start_time": "2023-04-27T11:56:52.429Z"
   },
   {
    "duration": 28,
    "start_time": "2023-04-27T11:56:52.466Z"
   },
   {
    "duration": 7,
    "start_time": "2023-04-27T11:57:24.268Z"
   },
   {
    "duration": 42,
    "start_time": "2023-04-27T11:57:25.571Z"
   },
   {
    "duration": 10,
    "start_time": "2023-04-27T11:57:28.891Z"
   },
   {
    "duration": 8,
    "start_time": "2023-04-27T11:57:29.563Z"
   },
   {
    "duration": 95,
    "start_time": "2023-04-27T11:58:28.852Z"
   },
   {
    "duration": 475,
    "start_time": "2023-04-27T11:58:31.424Z"
   },
   {
    "duration": 93,
    "start_time": "2023-04-27T12:35:33.176Z"
   },
   {
    "duration": 127,
    "start_time": "2023-04-27T12:35:33.380Z"
   },
   {
    "duration": 142,
    "start_time": "2023-04-27T12:35:33.918Z"
   },
   {
    "duration": 264,
    "start_time": "2023-04-27T12:35:34.643Z"
   },
   {
    "duration": 169,
    "start_time": "2023-04-27T12:35:35.235Z"
   },
   {
    "duration": 301,
    "start_time": "2023-04-27T12:35:35.775Z"
   },
   {
    "duration": 12,
    "start_time": "2023-04-27T12:35:40.094Z"
   },
   {
    "duration": 95,
    "start_time": "2023-04-27T12:35:43.391Z"
   },
   {
    "duration": 95,
    "start_time": "2023-04-27T12:35:44.332Z"
   },
   {
    "duration": 6,
    "start_time": "2023-04-27T12:35:55.228Z"
   },
   {
    "duration": 137,
    "start_time": "2023-04-27T12:36:00.479Z"
   },
   {
    "duration": 154,
    "start_time": "2023-04-27T12:36:02.180Z"
   },
   {
    "duration": 335,
    "start_time": "2023-04-27T12:36:18.052Z"
   },
   {
    "duration": 345,
    "start_time": "2023-04-27T12:36:24.244Z"
   },
   {
    "duration": 40,
    "start_time": "2023-04-27T12:43:43.382Z"
   },
   {
    "duration": 2070,
    "start_time": "2023-04-28T12:47:13.187Z"
   },
   {
    "duration": 147,
    "start_time": "2023-04-28T12:47:15.260Z"
   },
   {
    "duration": 27,
    "start_time": "2023-04-28T12:47:15.410Z"
   },
   {
    "duration": 109,
    "start_time": "2023-04-28T12:47:15.449Z"
   },
   {
    "duration": 627,
    "start_time": "2023-04-28T12:47:15.567Z"
   },
   {
    "duration": 180,
    "start_time": "2023-04-28T12:47:16.202Z"
   },
   {
    "duration": 0,
    "start_time": "2023-04-28T12:47:16.384Z"
   },
   {
    "duration": 0,
    "start_time": "2023-04-28T12:47:16.386Z"
   },
   {
    "duration": 0,
    "start_time": "2023-04-28T12:47:16.391Z"
   },
   {
    "duration": 0,
    "start_time": "2023-04-28T12:47:16.392Z"
   },
   {
    "duration": 0,
    "start_time": "2023-04-28T12:47:16.393Z"
   },
   {
    "duration": 0,
    "start_time": "2023-04-28T12:47:16.400Z"
   },
   {
    "duration": 0,
    "start_time": "2023-04-28T12:47:16.401Z"
   },
   {
    "duration": 0,
    "start_time": "2023-04-28T12:47:16.403Z"
   },
   {
    "duration": 0,
    "start_time": "2023-04-28T12:47:16.404Z"
   },
   {
    "duration": 0,
    "start_time": "2023-04-28T12:47:16.406Z"
   },
   {
    "duration": 0,
    "start_time": "2023-04-28T12:47:16.407Z"
   },
   {
    "duration": 0,
    "start_time": "2023-04-28T12:47:16.409Z"
   },
   {
    "duration": 0,
    "start_time": "2023-04-28T12:47:16.411Z"
   },
   {
    "duration": 0,
    "start_time": "2023-04-28T12:47:16.412Z"
   },
   {
    "duration": 0,
    "start_time": "2023-04-28T12:47:16.414Z"
   },
   {
    "duration": 0,
    "start_time": "2023-04-28T12:47:16.415Z"
   },
   {
    "duration": 187,
    "start_time": "2023-04-28T12:47:29.063Z"
   },
   {
    "duration": 18,
    "start_time": "2023-04-28T12:47:30.903Z"
   },
   {
    "duration": 18,
    "start_time": "2023-04-28T12:47:31.393Z"
   },
   {
    "duration": 22,
    "start_time": "2023-04-28T12:47:31.891Z"
   },
   {
    "duration": 19,
    "start_time": "2023-04-28T12:47:36.847Z"
   },
   {
    "duration": 270,
    "start_time": "2023-04-28T12:47:37.000Z"
   },
   {
    "duration": 174,
    "start_time": "2023-04-28T12:47:37.282Z"
   },
   {
    "duration": 18,
    "start_time": "2023-04-28T12:47:37.610Z"
   },
   {
    "duration": 234,
    "start_time": "2023-04-28T12:47:38.097Z"
   },
   {
    "duration": 392,
    "start_time": "2023-04-28T12:47:38.337Z"
   },
   {
    "duration": 13,
    "start_time": "2023-04-28T12:47:38.736Z"
   },
   {
    "duration": 750,
    "start_time": "2023-04-28T12:47:39.188Z"
   },
   {
    "duration": 20,
    "start_time": "2023-04-28T12:47:39.945Z"
   },
   {
    "duration": 16,
    "start_time": "2023-04-28T12:47:40.193Z"
   },
   {
    "duration": 79,
    "start_time": "2023-04-28T12:47:40.362Z"
   },
   {
    "duration": 47,
    "start_time": "2023-04-28T12:47:40.843Z"
   },
   {
    "duration": 1145,
    "start_time": "2023-04-28T12:48:02.253Z"
   },
   {
    "duration": 429,
    "start_time": "2023-04-28T12:48:05.279Z"
   },
   {
    "duration": 595,
    "start_time": "2023-04-28T12:48:05.791Z"
   },
   {
    "duration": 325,
    "start_time": "2023-04-28T12:48:06.391Z"
   },
   {
    "duration": 395,
    "start_time": "2023-04-28T12:48:07.991Z"
   },
   {
    "duration": 132,
    "start_time": "2023-04-28T12:48:37.663Z"
   },
   {
    "duration": 834,
    "start_time": "2023-04-28T12:48:55.770Z"
   },
   {
    "duration": 52,
    "start_time": "2023-05-03T11:16:22.703Z"
   },
   {
    "duration": 1297,
    "start_time": "2023-05-03T11:16:40.909Z"
   },
   {
    "duration": 97,
    "start_time": "2023-05-03T11:16:42.208Z"
   },
   {
    "duration": 13,
    "start_time": "2023-05-03T11:16:55.213Z"
   },
   {
    "duration": 16,
    "start_time": "2023-05-03T11:18:03.488Z"
   },
   {
    "duration": 14,
    "start_time": "2023-05-03T11:19:03.089Z"
   },
   {
    "duration": 30,
    "start_time": "2023-05-03T11:19:27.151Z"
   },
   {
    "duration": 216,
    "start_time": "2023-05-03T11:20:47.310Z"
   },
   {
    "duration": 63,
    "start_time": "2023-05-03T11:25:37.384Z"
   },
   {
    "duration": 77,
    "start_time": "2023-05-03T11:28:40.095Z"
   },
   {
    "duration": 29,
    "start_time": "2023-05-03T11:29:00.619Z"
   },
   {
    "duration": 35,
    "start_time": "2023-05-03T11:30:24.783Z"
   },
   {
    "duration": 47,
    "start_time": "2023-05-03T11:30:58.022Z"
   },
   {
    "duration": 38,
    "start_time": "2023-05-03T11:31:36.711Z"
   },
   {
    "duration": 67,
    "start_time": "2023-05-04T11:20:25.931Z"
   },
   {
    "duration": 1527,
    "start_time": "2023-05-04T11:20:35.530Z"
   },
   {
    "duration": 98,
    "start_time": "2023-05-04T11:20:37.060Z"
   },
   {
    "duration": 16,
    "start_time": "2023-05-04T11:20:39.434Z"
   },
   {
    "duration": 148,
    "start_time": "2023-05-04T11:24:22.540Z"
   },
   {
    "duration": 81,
    "start_time": "2023-05-04T11:25:00.015Z"
   },
   {
    "duration": 105,
    "start_time": "2023-05-04T11:25:39.026Z"
   },
   {
    "duration": 63,
    "start_time": "2023-05-04T12:16:46.500Z"
   },
   {
    "duration": 16,
    "start_time": "2023-05-04T12:17:29.283Z"
   },
   {
    "duration": 10,
    "start_time": "2023-05-04T12:18:01.225Z"
   },
   {
    "duration": 26,
    "start_time": "2023-05-04T13:33:36.159Z"
   },
   {
    "duration": 5,
    "start_time": "2023-05-04T13:34:50.960Z"
   },
   {
    "duration": 55,
    "start_time": "2023-05-04T13:34:51.823Z"
   },
   {
    "duration": 14,
    "start_time": "2023-05-04T13:34:53.493Z"
   },
   {
    "duration": 17,
    "start_time": "2023-05-04T13:34:55.882Z"
   },
   {
    "duration": 99,
    "start_time": "2023-05-04T13:34:58.813Z"
   },
   {
    "duration": 25,
    "start_time": "2023-05-04T13:34:59.644Z"
   },
   {
    "duration": 50,
    "start_time": "2023-05-04T13:35:01.184Z"
   },
   {
    "duration": 27,
    "start_time": "2023-05-04T13:35:17.914Z"
   },
   {
    "duration": 15,
    "start_time": "2023-05-04T13:35:25.181Z"
   },
   {
    "duration": 21,
    "start_time": "2023-05-04T13:35:38.080Z"
   },
   {
    "duration": 1830,
    "start_time": "2023-05-04T13:36:26.249Z"
   },
   {
    "duration": 1852,
    "start_time": "2023-05-04T13:36:47.618Z"
   },
   {
    "duration": 27,
    "start_time": "2023-05-04T13:37:13.546Z"
   },
   {
    "duration": 115,
    "start_time": "2023-05-04T13:44:34.396Z"
   },
   {
    "duration": 16,
    "start_time": "2023-05-04T13:45:12.988Z"
   },
   {
    "duration": 22,
    "start_time": "2023-05-04T13:47:14.724Z"
   },
   {
    "duration": 40,
    "start_time": "2023-05-04T13:48:04.860Z"
   },
   {
    "duration": 1325,
    "start_time": "2023-05-04T13:48:27.915Z"
   },
   {
    "duration": 46,
    "start_time": "2023-05-04T13:48:29.243Z"
   },
   {
    "duration": 15,
    "start_time": "2023-05-04T13:48:29.292Z"
   },
   {
    "duration": 13,
    "start_time": "2023-05-04T13:48:29.309Z"
   },
   {
    "duration": 81,
    "start_time": "2023-05-04T13:48:29.324Z"
   },
   {
    "duration": 34,
    "start_time": "2023-05-04T13:48:29.407Z"
   },
   {
    "duration": 19,
    "start_time": "2023-05-04T13:48:29.444Z"
   },
   {
    "duration": 53,
    "start_time": "2023-05-04T13:48:29.465Z"
   },
   {
    "duration": 620,
    "start_time": "2023-05-04T13:48:29.520Z"
   },
   {
    "duration": 218,
    "start_time": "2023-05-04T13:48:30.144Z"
   },
   {
    "duration": 311,
    "start_time": "2023-05-04T13:48:30.365Z"
   },
   {
    "duration": 275,
    "start_time": "2023-05-04T13:48:30.680Z"
   },
   {
    "duration": 362,
    "start_time": "2023-05-04T13:48:30.957Z"
   },
   {
    "duration": 24,
    "start_time": "2023-05-04T13:48:31.322Z"
   },
   {
    "duration": 177,
    "start_time": "2023-05-04T13:48:31.348Z"
   },
   {
    "duration": 172,
    "start_time": "2023-05-04T13:48:31.527Z"
   },
   {
    "duration": 9,
    "start_time": "2023-05-04T13:48:31.701Z"
   },
   {
    "duration": 200,
    "start_time": "2023-05-04T13:48:31.712Z"
   },
   {
    "duration": 246,
    "start_time": "2023-05-04T13:48:31.914Z"
   },
   {
    "duration": 5,
    "start_time": "2023-05-04T13:48:32.162Z"
   },
   {
    "duration": 419,
    "start_time": "2023-05-04T13:48:32.169Z"
   },
   {
    "duration": 15,
    "start_time": "2023-05-04T13:48:32.590Z"
   },
   {
    "duration": 91,
    "start_time": "2023-05-04T13:48:32.607Z"
   },
   {
    "duration": 64,
    "start_time": "2023-05-04T13:48:32.700Z"
   },
   {
    "duration": 17,
    "start_time": "2023-05-04T13:48:32.766Z"
   },
   {
    "duration": 27,
    "start_time": "2023-05-04T13:49:41.822Z"
   },
   {
    "duration": 28,
    "start_time": "2023-05-04T13:50:08.005Z"
   },
   {
    "duration": 129,
    "start_time": "2023-05-04T13:50:31.308Z"
   },
   {
    "duration": 42,
    "start_time": "2023-05-04T13:50:46.780Z"
   },
   {
    "duration": 1195,
    "start_time": "2023-05-04T13:51:03.648Z"
   },
   {
    "duration": 41,
    "start_time": "2023-05-04T13:51:04.845Z"
   },
   {
    "duration": 14,
    "start_time": "2023-05-04T13:51:04.890Z"
   },
   {
    "duration": 13,
    "start_time": "2023-05-04T13:51:04.906Z"
   },
   {
    "duration": 69,
    "start_time": "2023-05-04T13:51:04.920Z"
   },
   {
    "duration": 32,
    "start_time": "2023-05-04T13:51:04.991Z"
   },
   {
    "duration": 37,
    "start_time": "2023-05-04T13:51:05.024Z"
   },
   {
    "duration": 32,
    "start_time": "2023-05-04T13:51:05.063Z"
   },
   {
    "duration": 613,
    "start_time": "2023-05-04T13:51:05.099Z"
   },
   {
    "duration": 245,
    "start_time": "2023-05-04T13:51:05.714Z"
   },
   {
    "duration": 305,
    "start_time": "2023-05-04T13:51:05.962Z"
   },
   {
    "duration": 212,
    "start_time": "2023-05-04T13:51:06.269Z"
   },
   {
    "duration": 342,
    "start_time": "2023-05-04T13:51:06.483Z"
   },
   {
    "duration": 18,
    "start_time": "2023-05-04T13:51:06.826Z"
   },
   {
    "duration": 156,
    "start_time": "2023-05-04T13:51:06.846Z"
   },
   {
    "duration": 150,
    "start_time": "2023-05-04T13:51:07.004Z"
   },
   {
    "duration": 8,
    "start_time": "2023-05-04T13:51:07.155Z"
   },
   {
    "duration": 163,
    "start_time": "2023-05-04T13:51:07.164Z"
   },
   {
    "duration": 245,
    "start_time": "2023-05-04T13:51:07.329Z"
   },
   {
    "duration": 5,
    "start_time": "2023-05-04T13:51:07.576Z"
   },
   {
    "duration": 434,
    "start_time": "2023-05-04T13:51:07.583Z"
   },
   {
    "duration": 22,
    "start_time": "2023-05-04T13:51:08.019Z"
   },
   {
    "duration": 34,
    "start_time": "2023-05-04T13:51:08.043Z"
   },
   {
    "duration": 85,
    "start_time": "2023-05-04T13:51:08.081Z"
   },
   {
    "duration": 37,
    "start_time": "2023-05-04T13:51:08.168Z"
   },
   {
    "duration": 150,
    "start_time": "2023-05-04T13:56:54.733Z"
   },
   {
    "duration": 42,
    "start_time": "2023-05-04T13:57:17.549Z"
   },
   {
    "duration": 30,
    "start_time": "2023-05-04T13:58:42.951Z"
   },
   {
    "duration": 214,
    "start_time": "2023-05-04T13:59:09.393Z"
   },
   {
    "duration": 29,
    "start_time": "2023-05-04T13:59:56.254Z"
   },
   {
    "duration": 1410,
    "start_time": "2023-05-04T14:00:15.753Z"
   },
   {
    "duration": 41,
    "start_time": "2023-05-04T14:00:17.165Z"
   },
   {
    "duration": 15,
    "start_time": "2023-05-04T14:00:17.209Z"
   },
   {
    "duration": 23,
    "start_time": "2023-05-04T14:00:17.226Z"
   },
   {
    "duration": 70,
    "start_time": "2023-05-04T14:00:17.255Z"
   },
   {
    "duration": 379,
    "start_time": "2023-05-04T14:00:17.327Z"
   },
   {
    "duration": 0,
    "start_time": "2023-05-04T14:00:17.708Z"
   },
   {
    "duration": 0,
    "start_time": "2023-05-04T14:00:17.710Z"
   },
   {
    "duration": 0,
    "start_time": "2023-05-04T14:00:17.712Z"
   },
   {
    "duration": 0,
    "start_time": "2023-05-04T14:00:17.713Z"
   },
   {
    "duration": 0,
    "start_time": "2023-05-04T14:00:17.714Z"
   },
   {
    "duration": 0,
    "start_time": "2023-05-04T14:00:17.715Z"
   },
   {
    "duration": 0,
    "start_time": "2023-05-04T14:00:17.716Z"
   },
   {
    "duration": 0,
    "start_time": "2023-05-04T14:00:17.717Z"
   },
   {
    "duration": 0,
    "start_time": "2023-05-04T14:00:17.718Z"
   },
   {
    "duration": 0,
    "start_time": "2023-05-04T14:00:17.719Z"
   },
   {
    "duration": 0,
    "start_time": "2023-05-04T14:00:17.720Z"
   },
   {
    "duration": 0,
    "start_time": "2023-05-04T14:00:17.721Z"
   },
   {
    "duration": 0,
    "start_time": "2023-05-04T14:00:17.722Z"
   },
   {
    "duration": 0,
    "start_time": "2023-05-04T14:00:17.723Z"
   },
   {
    "duration": 0,
    "start_time": "2023-05-04T14:00:17.725Z"
   },
   {
    "duration": 0,
    "start_time": "2023-05-04T14:00:17.726Z"
   },
   {
    "duration": 0,
    "start_time": "2023-05-04T14:00:17.727Z"
   },
   {
    "duration": 0,
    "start_time": "2023-05-04T14:00:17.728Z"
   },
   {
    "duration": 0,
    "start_time": "2023-05-04T14:00:17.729Z"
   },
   {
    "duration": 36,
    "start_time": "2023-05-04T14:01:16.902Z"
   },
   {
    "duration": 1186,
    "start_time": "2023-05-04T14:01:44.271Z"
   },
   {
    "duration": 42,
    "start_time": "2023-05-04T14:01:45.459Z"
   },
   {
    "duration": 15,
    "start_time": "2023-05-04T14:01:45.503Z"
   },
   {
    "duration": 32,
    "start_time": "2023-05-04T14:01:45.520Z"
   },
   {
    "duration": 80,
    "start_time": "2023-05-04T14:01:45.553Z"
   },
   {
    "duration": 32,
    "start_time": "2023-05-04T14:01:45.634Z"
   },
   {
    "duration": 38,
    "start_time": "2023-05-04T14:01:45.667Z"
   },
   {
    "duration": 54,
    "start_time": "2023-05-04T14:01:45.707Z"
   },
   {
    "duration": 674,
    "start_time": "2023-05-04T14:01:45.763Z"
   },
   {
    "duration": 214,
    "start_time": "2023-05-04T14:01:46.442Z"
   },
   {
    "duration": 285,
    "start_time": "2023-05-04T14:01:46.658Z"
   },
   {
    "duration": 240,
    "start_time": "2023-05-04T14:01:46.945Z"
   },
   {
    "duration": 346,
    "start_time": "2023-05-04T14:01:47.187Z"
   },
   {
    "duration": 11,
    "start_time": "2023-05-04T14:01:47.541Z"
   },
   {
    "duration": 162,
    "start_time": "2023-05-04T14:01:47.553Z"
   },
   {
    "duration": 156,
    "start_time": "2023-05-04T14:01:47.717Z"
   },
   {
    "duration": 9,
    "start_time": "2023-05-04T14:01:47.875Z"
   },
   {
    "duration": 155,
    "start_time": "2023-05-04T14:01:47.886Z"
   },
   {
    "duration": 250,
    "start_time": "2023-05-04T14:01:48.043Z"
   },
   {
    "duration": 5,
    "start_time": "2023-05-04T14:01:48.295Z"
   },
   {
    "duration": 400,
    "start_time": "2023-05-04T14:01:48.302Z"
   },
   {
    "duration": 11,
    "start_time": "2023-05-04T14:01:48.704Z"
   },
   {
    "duration": 24,
    "start_time": "2023-05-04T14:01:48.717Z"
   },
   {
    "duration": 29,
    "start_time": "2023-05-04T14:01:48.743Z"
   },
   {
    "duration": 15,
    "start_time": "2023-05-04T14:01:48.774Z"
   },
   {
    "duration": 37,
    "start_time": "2023-05-04T14:03:53.630Z"
   },
   {
    "duration": 1184,
    "start_time": "2023-05-04T14:04:42.358Z"
   },
   {
    "duration": 42,
    "start_time": "2023-05-04T14:04:43.544Z"
   },
   {
    "duration": 122,
    "start_time": "2023-05-04T14:04:43.588Z"
   },
   {
    "duration": 35,
    "start_time": "2023-05-04T14:04:43.712Z"
   },
   {
    "duration": 74,
    "start_time": "2023-05-04T14:04:43.749Z"
   },
   {
    "duration": 32,
    "start_time": "2023-05-04T14:04:43.825Z"
   },
   {
    "duration": 76,
    "start_time": "2023-05-04T14:04:43.859Z"
   },
   {
    "duration": 35,
    "start_time": "2023-05-04T14:04:43.936Z"
   },
   {
    "duration": 613,
    "start_time": "2023-05-04T14:04:43.973Z"
   },
   {
    "duration": 219,
    "start_time": "2023-05-04T14:04:44.590Z"
   },
   {
    "duration": 305,
    "start_time": "2023-05-04T14:04:44.811Z"
   },
   {
    "duration": 233,
    "start_time": "2023-05-04T14:04:45.118Z"
   },
   {
    "duration": 348,
    "start_time": "2023-05-04T14:04:45.353Z"
   },
   {
    "duration": 11,
    "start_time": "2023-05-04T14:04:45.703Z"
   },
   {
    "duration": 167,
    "start_time": "2023-05-04T14:04:45.716Z"
   },
   {
    "duration": 201,
    "start_time": "2023-05-04T14:04:45.885Z"
   },
   {
    "duration": 9,
    "start_time": "2023-05-04T14:04:46.089Z"
   },
   {
    "duration": 186,
    "start_time": "2023-05-04T14:04:46.099Z"
   },
   {
    "duration": 237,
    "start_time": "2023-05-04T14:04:46.287Z"
   },
   {
    "duration": 4,
    "start_time": "2023-05-04T14:04:46.526Z"
   },
   {
    "duration": 423,
    "start_time": "2023-05-04T14:04:46.532Z"
   },
   {
    "duration": 11,
    "start_time": "2023-05-04T14:04:46.957Z"
   },
   {
    "duration": 17,
    "start_time": "2023-05-04T14:04:46.970Z"
   },
   {
    "duration": 42,
    "start_time": "2023-05-04T14:04:46.988Z"
   },
   {
    "duration": 22,
    "start_time": "2023-05-04T14:04:47.032Z"
   },
   {
    "duration": 14,
    "start_time": "2023-05-04T14:05:34.703Z"
   },
   {
    "duration": 36,
    "start_time": "2023-05-04T14:05:39.298Z"
   },
   {
    "duration": 45,
    "start_time": "2023-05-04T14:05:44.841Z"
   },
   {
    "duration": 1271,
    "start_time": "2023-05-04T16:29:11.463Z"
   },
   {
    "duration": 54,
    "start_time": "2023-05-04T16:29:12.737Z"
   },
   {
    "duration": 18,
    "start_time": "2023-05-04T16:29:12.794Z"
   },
   {
    "duration": 16,
    "start_time": "2023-05-04T16:29:12.815Z"
   },
   {
    "duration": 90,
    "start_time": "2023-05-04T16:29:12.834Z"
   },
   {
    "duration": 13,
    "start_time": "2023-05-04T16:29:12.926Z"
   },
   {
    "duration": 58,
    "start_time": "2023-05-04T16:29:12.941Z"
   },
   {
    "duration": 59,
    "start_time": "2023-05-04T16:29:13.001Z"
   },
   {
    "duration": 641,
    "start_time": "2023-05-04T16:29:13.062Z"
   },
   {
    "duration": 228,
    "start_time": "2023-05-04T16:29:13.706Z"
   },
   {
    "duration": 313,
    "start_time": "2023-05-04T16:29:13.936Z"
   },
   {
    "duration": 235,
    "start_time": "2023-05-04T16:29:14.255Z"
   },
   {
    "duration": 356,
    "start_time": "2023-05-04T16:29:14.492Z"
   },
   {
    "duration": 12,
    "start_time": "2023-05-04T16:29:14.853Z"
   },
   {
    "duration": 187,
    "start_time": "2023-05-04T16:29:14.867Z"
   },
   {
    "duration": 159,
    "start_time": "2023-05-04T16:29:15.063Z"
   },
   {
    "duration": 20,
    "start_time": "2023-05-04T16:29:15.224Z"
   },
   {
    "duration": 182,
    "start_time": "2023-05-04T16:29:15.247Z"
   },
   {
    "duration": 263,
    "start_time": "2023-05-04T16:29:15.431Z"
   },
   {
    "duration": 6,
    "start_time": "2023-05-04T16:29:15.696Z"
   },
   {
    "duration": 495,
    "start_time": "2023-05-04T16:29:15.704Z"
   },
   {
    "duration": 16,
    "start_time": "2023-05-04T16:29:16.201Z"
   },
   {
    "duration": 45,
    "start_time": "2023-05-04T16:29:16.219Z"
   },
   {
    "duration": 47,
    "start_time": "2023-05-04T16:29:16.268Z"
   },
   {
    "duration": 30,
    "start_time": "2023-05-04T16:29:16.317Z"
   },
   {
    "duration": 565,
    "start_time": "2023-05-04T17:56:09.135Z"
   },
   {
    "duration": 596,
    "start_time": "2023-05-04T18:03:04.662Z"
   },
   {
    "duration": 683,
    "start_time": "2023-05-04T18:03:22.633Z"
   },
   {
    "duration": 589,
    "start_time": "2023-05-04T18:03:45.111Z"
   },
   {
    "duration": 665,
    "start_time": "2023-05-04T18:04:10.622Z"
   },
   {
    "duration": 556,
    "start_time": "2023-05-04T18:04:47.204Z"
   },
   {
    "duration": 537,
    "start_time": "2023-05-04T18:05:15.022Z"
   },
   {
    "duration": 558,
    "start_time": "2023-05-04T18:08:38.424Z"
   },
   {
    "duration": 521,
    "start_time": "2023-05-04T18:09:12.377Z"
   },
   {
    "duration": 134,
    "start_time": "2023-05-04T18:09:55.190Z"
   },
   {
    "duration": 102,
    "start_time": "2023-05-04T18:13:08.556Z"
   },
   {
    "duration": 554,
    "start_time": "2023-05-04T18:13:17.441Z"
   },
   {
    "duration": 492,
    "start_time": "2023-05-04T18:13:45.393Z"
   },
   {
    "duration": 535,
    "start_time": "2023-05-04T18:14:02.809Z"
   },
   {
    "duration": 474,
    "start_time": "2023-05-04T18:14:16.491Z"
   },
   {
    "duration": 491,
    "start_time": "2023-05-04T18:14:37.194Z"
   },
   {
    "duration": 529,
    "start_time": "2023-05-04T18:14:54.803Z"
   },
   {
    "duration": 656,
    "start_time": "2023-05-04T18:17:30.766Z"
   },
   {
    "duration": 607,
    "start_time": "2023-05-04T18:17:55.255Z"
   },
   {
    "duration": 553,
    "start_time": "2023-05-04T18:18:22.185Z"
   },
   {
    "duration": 567,
    "start_time": "2023-05-04T18:18:42.394Z"
   },
   {
    "duration": 602,
    "start_time": "2023-05-04T18:19:05.401Z"
   },
   {
    "duration": 593,
    "start_time": "2023-05-04T18:19:18.881Z"
   },
   {
    "duration": 248,
    "start_time": "2023-05-04T18:28:30.956Z"
   },
   {
    "duration": 427,
    "start_time": "2023-05-04T18:30:31.178Z"
   },
   {
    "duration": 16,
    "start_time": "2023-05-04T18:31:19.915Z"
   },
   {
    "duration": 16,
    "start_time": "2023-05-04T18:32:05.114Z"
   },
   {
    "duration": 284,
    "start_time": "2023-05-04T18:32:13.435Z"
   },
   {
    "duration": 386,
    "start_time": "2023-05-04T18:36:01.697Z"
   },
   {
    "duration": 351,
    "start_time": "2023-05-04T18:37:28.317Z"
   },
   {
    "duration": 377,
    "start_time": "2023-05-04T18:38:08.508Z"
   },
   {
    "duration": 344,
    "start_time": "2023-05-04T18:39:45.004Z"
   },
   {
    "duration": 374,
    "start_time": "2023-05-04T18:40:44.508Z"
   },
   {
    "duration": 402,
    "start_time": "2023-05-04T18:41:37.724Z"
   },
   {
    "duration": 291,
    "start_time": "2023-05-04T18:48:33.870Z"
   },
   {
    "duration": 466,
    "start_time": "2023-05-04T18:49:02.813Z"
   },
   {
    "duration": 382,
    "start_time": "2023-05-04T18:49:20.710Z"
   },
   {
    "duration": 453,
    "start_time": "2023-05-04T18:50:13.192Z"
   },
   {
    "duration": 491,
    "start_time": "2023-05-04T18:53:35.612Z"
   },
   {
    "duration": 400,
    "start_time": "2023-05-04T18:54:00.983Z"
   },
   {
    "duration": 419,
    "start_time": "2023-05-04T18:56:50.483Z"
   },
   {
    "duration": 280,
    "start_time": "2023-05-04T19:40:31.094Z"
   },
   {
    "duration": 201,
    "start_time": "2023-05-04T19:45:10.909Z"
   },
   {
    "duration": 347,
    "start_time": "2023-05-04T19:45:32.071Z"
   },
   {
    "duration": 216,
    "start_time": "2023-05-04T19:46:02.509Z"
   },
   {
    "duration": 197,
    "start_time": "2023-05-04T19:46:27.781Z"
   },
   {
    "duration": 199,
    "start_time": "2023-05-04T19:46:37.036Z"
   },
   {
    "duration": 195,
    "start_time": "2023-05-04T19:49:08.372Z"
   },
   {
    "duration": 203,
    "start_time": "2023-05-04T19:49:29.093Z"
   },
   {
    "duration": 177,
    "start_time": "2023-05-04T19:49:40.484Z"
   },
   {
    "duration": 235,
    "start_time": "2023-05-04T19:49:46.473Z"
   },
   {
    "duration": 264,
    "start_time": "2023-05-04T19:50:31.583Z"
   },
   {
    "duration": 327,
    "start_time": "2023-05-04T19:51:24.733Z"
   },
   {
    "duration": 315,
    "start_time": "2023-05-04T19:51:41.943Z"
   },
   {
    "duration": 308,
    "start_time": "2023-05-04T19:52:27.818Z"
   },
   {
    "duration": 272,
    "start_time": "2023-05-04T19:52:52.089Z"
   },
   {
    "duration": 296,
    "start_time": "2023-05-04T19:53:04.069Z"
   },
   {
    "duration": 311,
    "start_time": "2023-05-04T19:53:14.535Z"
   },
   {
    "duration": 305,
    "start_time": "2023-05-04T19:53:33.766Z"
   },
   {
    "duration": 352,
    "start_time": "2023-05-04T19:53:42.221Z"
   },
   {
    "duration": 330,
    "start_time": "2023-05-04T19:53:56.231Z"
   },
   {
    "duration": 20,
    "start_time": "2023-05-04T19:56:43.568Z"
   },
   {
    "duration": 14,
    "start_time": "2023-05-04T19:57:02.824Z"
   },
   {
    "duration": 328,
    "start_time": "2023-05-04T19:58:52.478Z"
   },
   {
    "duration": 345,
    "start_time": "2023-05-04T19:59:08.176Z"
   },
   {
    "duration": 346,
    "start_time": "2023-05-04T19:59:14.763Z"
   },
   {
    "duration": 310,
    "start_time": "2023-05-04T19:59:32.575Z"
   },
   {
    "duration": 336,
    "start_time": "2023-05-04T19:59:44.360Z"
   },
   {
    "duration": 488,
    "start_time": "2023-05-04T19:59:53.162Z"
   },
   {
    "duration": 420,
    "start_time": "2023-05-04T20:00:06.330Z"
   },
   {
    "duration": 330,
    "start_time": "2023-05-04T20:00:22.964Z"
   },
   {
    "duration": 312,
    "start_time": "2023-05-04T20:00:34.763Z"
   },
   {
    "duration": 287,
    "start_time": "2023-05-04T20:00:50.188Z"
   },
   {
    "duration": 365,
    "start_time": "2023-05-04T20:01:05.312Z"
   },
   {
    "duration": 395,
    "start_time": "2023-05-04T20:01:16.594Z"
   },
   {
    "duration": 381,
    "start_time": "2023-05-04T20:01:28.402Z"
   },
   {
    "duration": 404,
    "start_time": "2023-05-04T20:01:36.027Z"
   },
   {
    "duration": 336,
    "start_time": "2023-05-04T20:02:14.585Z"
   },
   {
    "duration": 406,
    "start_time": "2023-05-04T20:02:26.520Z"
   },
   {
    "duration": 109,
    "start_time": "2023-05-04T20:08:58.607Z"
   },
   {
    "duration": 80,
    "start_time": "2023-05-04T20:09:48.253Z"
   },
   {
    "duration": 93,
    "start_time": "2023-05-04T20:10:10.512Z"
   },
   {
    "duration": 296,
    "start_time": "2023-05-04T20:11:33.376Z"
   },
   {
    "duration": 337,
    "start_time": "2023-05-04T20:11:57.043Z"
   },
   {
    "duration": 368,
    "start_time": "2023-05-04T20:12:12.111Z"
   },
   {
    "duration": 347,
    "start_time": "2023-05-04T20:13:06.946Z"
   },
   {
    "duration": 356,
    "start_time": "2023-05-04T20:13:17.122Z"
   },
   {
    "duration": 384,
    "start_time": "2023-05-04T20:13:52.679Z"
   },
   {
    "duration": 423,
    "start_time": "2023-05-04T20:14:14.822Z"
   },
   {
    "duration": 436,
    "start_time": "2023-05-04T20:14:30.062Z"
   },
   {
    "duration": 493,
    "start_time": "2023-05-04T20:17:32.443Z"
   },
   {
    "duration": 556,
    "start_time": "2023-05-04T20:18:35.361Z"
   },
   {
    "duration": 57,
    "start_time": "2023-05-05T10:02:55.734Z"
   },
   {
    "duration": 1203,
    "start_time": "2023-05-05T10:03:02.145Z"
   },
   {
    "duration": 67,
    "start_time": "2023-05-05T10:03:03.350Z"
   },
   {
    "duration": 12,
    "start_time": "2023-05-05T10:03:03.419Z"
   },
   {
    "duration": 15,
    "start_time": "2023-05-05T10:03:03.433Z"
   },
   {
    "duration": 90,
    "start_time": "2023-05-05T10:03:03.450Z"
   },
   {
    "duration": 10,
    "start_time": "2023-05-05T10:03:03.542Z"
   },
   {
    "duration": 29,
    "start_time": "2023-05-05T10:03:03.553Z"
   },
   {
    "duration": 69,
    "start_time": "2023-05-05T10:03:03.583Z"
   },
   {
    "duration": 614,
    "start_time": "2023-05-05T10:03:03.653Z"
   },
   {
    "duration": 234,
    "start_time": "2023-05-05T10:03:04.269Z"
   },
   {
    "duration": 381,
    "start_time": "2023-05-05T10:03:04.504Z"
   },
   {
    "duration": 351,
    "start_time": "2023-05-05T10:03:04.887Z"
   },
   {
    "duration": 465,
    "start_time": "2023-05-05T10:03:05.240Z"
   },
   {
    "duration": 0,
    "start_time": "2023-05-05T10:03:05.707Z"
   },
   {
    "duration": 0,
    "start_time": "2023-05-05T10:03:05.708Z"
   },
   {
    "duration": 0,
    "start_time": "2023-05-05T10:03:05.709Z"
   },
   {
    "duration": 0,
    "start_time": "2023-05-05T10:03:05.710Z"
   },
   {
    "duration": 0,
    "start_time": "2023-05-05T10:03:05.711Z"
   },
   {
    "duration": 0,
    "start_time": "2023-05-05T10:03:05.712Z"
   },
   {
    "duration": 0,
    "start_time": "2023-05-05T10:03:05.713Z"
   },
   {
    "duration": 0,
    "start_time": "2023-05-05T10:03:05.714Z"
   },
   {
    "duration": 0,
    "start_time": "2023-05-05T10:03:05.716Z"
   },
   {
    "duration": 0,
    "start_time": "2023-05-05T10:03:05.717Z"
   },
   {
    "duration": 366,
    "start_time": "2023-05-05T10:04:39.571Z"
   },
   {
    "duration": 357,
    "start_time": "2023-05-05T10:05:07.644Z"
   },
   {
    "duration": 332,
    "start_time": "2023-05-05T10:05:30.306Z"
   },
   {
    "duration": 9,
    "start_time": "2023-05-05T10:05:37.509Z"
   },
   {
    "duration": 212,
    "start_time": "2023-05-05T10:06:06.011Z"
   },
   {
    "duration": 7,
    "start_time": "2023-05-05T10:06:27.242Z"
   },
   {
    "duration": 474,
    "start_time": "2023-05-05T10:06:55.083Z"
   },
   {
    "duration": 4,
    "start_time": "2023-05-05T10:07:23.434Z"
   },
   {
    "duration": 450,
    "start_time": "2023-05-05T10:08:43.860Z"
   },
   {
    "duration": 388,
    "start_time": "2023-05-05T10:09:17.972Z"
   },
   {
    "duration": 22,
    "start_time": "2023-05-05T10:27:42.501Z"
   },
   {
    "duration": 13,
    "start_time": "2023-05-05T10:35:01.721Z"
   },
   {
    "duration": 27,
    "start_time": "2023-05-05T10:35:23.449Z"
   },
   {
    "duration": 9,
    "start_time": "2023-05-05T10:38:49.201Z"
   },
   {
    "duration": 10,
    "start_time": "2023-05-05T10:41:27.244Z"
   },
   {
    "duration": 10,
    "start_time": "2023-05-05T10:41:40.043Z"
   },
   {
    "duration": 47,
    "start_time": "2023-05-05T10:46:41.867Z"
   },
   {
    "duration": 29,
    "start_time": "2023-05-05T10:49:50.830Z"
   },
   {
    "duration": 26,
    "start_time": "2023-05-05T10:50:50.828Z"
   },
   {
    "duration": 15,
    "start_time": "2023-05-05T10:57:41.015Z"
   },
   {
    "duration": 14,
    "start_time": "2023-05-05T10:58:50.520Z"
   },
   {
    "duration": 1274,
    "start_time": "2023-05-05T11:49:40.702Z"
   },
   {
    "duration": 48,
    "start_time": "2023-05-05T11:49:41.979Z"
   },
   {
    "duration": 12,
    "start_time": "2023-05-05T11:49:42.029Z"
   },
   {
    "duration": 11,
    "start_time": "2023-05-05T11:49:42.043Z"
   },
   {
    "duration": 69,
    "start_time": "2023-05-05T11:49:42.056Z"
   },
   {
    "duration": 11,
    "start_time": "2023-05-05T11:49:42.126Z"
   },
   {
    "duration": 51,
    "start_time": "2023-05-05T11:49:42.138Z"
   },
   {
    "duration": 39,
    "start_time": "2023-05-05T11:49:42.190Z"
   },
   {
    "duration": 640,
    "start_time": "2023-05-05T11:49:42.231Z"
   },
   {
    "duration": 261,
    "start_time": "2023-05-05T11:49:42.874Z"
   },
   {
    "duration": 382,
    "start_time": "2023-05-05T11:49:43.136Z"
   },
   {
    "duration": 356,
    "start_time": "2023-05-05T11:49:43.520Z"
   },
   {
    "duration": 433,
    "start_time": "2023-05-05T11:49:43.878Z"
   },
   {
    "duration": 11,
    "start_time": "2023-05-05T11:49:44.312Z"
   },
   {
    "duration": 198,
    "start_time": "2023-05-05T11:49:44.326Z"
   },
   {
    "duration": 8,
    "start_time": "2023-05-05T11:49:44.526Z"
   },
   {
    "duration": 492,
    "start_time": "2023-05-05T11:49:44.537Z"
   },
   {
    "duration": 4,
    "start_time": "2023-05-05T11:49:45.031Z"
   },
   {
    "duration": 409,
    "start_time": "2023-05-05T11:49:45.037Z"
   },
   {
    "duration": 11,
    "start_time": "2023-05-05T11:49:45.448Z"
   },
   {
    "duration": 15,
    "start_time": "2023-05-05T11:49:45.460Z"
   },
   {
    "duration": 44,
    "start_time": "2023-05-05T11:49:45.477Z"
   },
   {
    "duration": 15,
    "start_time": "2023-05-05T11:49:45.522Z"
   },
   {
    "duration": 1166,
    "start_time": "2023-05-05T12:14:33.480Z"
   },
   {
    "duration": 33,
    "start_time": "2023-05-05T12:14:34.647Z"
   },
   {
    "duration": 12,
    "start_time": "2023-05-05T12:14:34.681Z"
   },
   {
    "duration": 11,
    "start_time": "2023-05-05T12:14:34.695Z"
   },
   {
    "duration": 73,
    "start_time": "2023-05-05T12:14:34.707Z"
   },
   {
    "duration": 11,
    "start_time": "2023-05-05T12:14:34.782Z"
   },
   {
    "duration": 36,
    "start_time": "2023-05-05T12:14:34.795Z"
   },
   {
    "duration": 28,
    "start_time": "2023-05-05T12:14:34.833Z"
   },
   {
    "duration": 607,
    "start_time": "2023-05-05T12:14:34.863Z"
   },
   {
    "duration": 243,
    "start_time": "2023-05-05T12:14:35.472Z"
   },
   {
    "duration": 306,
    "start_time": "2023-05-05T12:14:35.717Z"
   },
   {
    "duration": 340,
    "start_time": "2023-05-05T12:14:36.025Z"
   },
   {
    "duration": 379,
    "start_time": "2023-05-05T12:14:36.366Z"
   },
   {
    "duration": 9,
    "start_time": "2023-05-05T12:14:36.747Z"
   },
   {
    "duration": 171,
    "start_time": "2023-05-05T12:14:36.758Z"
   },
   {
    "duration": 8,
    "start_time": "2023-05-05T12:14:36.931Z"
   },
   {
    "duration": 445,
    "start_time": "2023-05-05T12:14:36.940Z"
   },
   {
    "duration": 5,
    "start_time": "2023-05-05T12:14:37.387Z"
   },
   {
    "duration": 384,
    "start_time": "2023-05-05T12:14:37.394Z"
   },
   {
    "duration": 12,
    "start_time": "2023-05-05T12:14:37.780Z"
   },
   {
    "duration": 27,
    "start_time": "2023-05-05T12:14:37.794Z"
   },
   {
    "duration": 33,
    "start_time": "2023-05-05T12:14:37.823Z"
   },
   {
    "duration": 27,
    "start_time": "2023-05-05T12:14:37.858Z"
   },
   {
    "duration": 1273,
    "start_time": "2023-10-06T12:05:59.463Z"
   },
   {
    "duration": 76,
    "start_time": "2023-10-06T12:06:00.738Z"
   },
   {
    "duration": 50,
    "start_time": "2023-10-06T12:06:00.815Z"
   },
   {
    "duration": 50,
    "start_time": "2023-10-06T12:06:00.867Z"
   },
   {
    "duration": 172,
    "start_time": "2023-10-06T12:06:00.919Z"
   },
   {
    "duration": 11,
    "start_time": "2023-10-06T12:06:01.092Z"
   },
   {
    "duration": 146,
    "start_time": "2023-10-06T12:06:01.105Z"
   },
   {
    "duration": 130,
    "start_time": "2023-10-06T12:06:01.252Z"
   },
   {
    "duration": 600,
    "start_time": "2023-10-06T12:06:01.383Z"
   },
   {
    "duration": 233,
    "start_time": "2023-10-06T12:06:01.986Z"
   },
   {
    "duration": 380,
    "start_time": "2023-10-06T12:06:02.220Z"
   },
   {
    "duration": 376,
    "start_time": "2023-10-06T12:06:02.602Z"
   },
   {
    "duration": 380,
    "start_time": "2023-10-06T12:06:02.979Z"
   },
   {
    "duration": 9,
    "start_time": "2023-10-06T12:06:03.361Z"
   },
   {
    "duration": 169,
    "start_time": "2023-10-06T12:06:03.371Z"
   },
   {
    "duration": 7,
    "start_time": "2023-10-06T12:06:03.542Z"
   },
   {
    "duration": 450,
    "start_time": "2023-10-06T12:06:03.550Z"
   },
   {
    "duration": 5,
    "start_time": "2023-10-06T12:06:04.002Z"
   },
   {
    "duration": 351,
    "start_time": "2023-10-06T12:06:04.009Z"
   },
   {
    "duration": 11,
    "start_time": "2023-10-06T12:06:04.362Z"
   },
   {
    "duration": 16,
    "start_time": "2023-10-06T12:06:04.375Z"
   },
   {
    "duration": 42,
    "start_time": "2023-10-06T12:06:04.393Z"
   },
   {
    "duration": 14,
    "start_time": "2023-10-06T12:06:04.437Z"
   },
   {
    "duration": 1468,
    "start_time": "2023-10-06T17:01:33.642Z"
   },
   {
    "duration": 75,
    "start_time": "2023-10-06T17:01:35.112Z"
   },
   {
    "duration": 3,
    "start_time": "2023-10-06T17:01:35.190Z"
   },
   {
    "duration": 16,
    "start_time": "2023-10-06T17:01:35.955Z"
   },
   {
    "duration": 3,
    "start_time": "2023-10-06T17:01:39.418Z"
   },
   {
    "duration": 6,
    "start_time": "2023-10-06T17:01:40.554Z"
   },
   {
    "duration": 10,
    "start_time": "2023-10-06T17:01:41.899Z"
   },
   {
    "duration": 62,
    "start_time": "2023-10-09T08:04:54.028Z"
   },
   {
    "duration": 1435,
    "start_time": "2023-10-09T08:04:58.275Z"
   },
   {
    "duration": 63,
    "start_time": "2023-10-09T08:04:59.714Z"
   },
   {
    "duration": 4,
    "start_time": "2023-10-09T08:04:59.779Z"
   },
   {
    "duration": 47,
    "start_time": "2023-10-09T08:04:59.786Z"
   },
   {
    "duration": 37,
    "start_time": "2023-10-09T08:04:59.835Z"
   },
   {
    "duration": 54,
    "start_time": "2023-10-09T08:04:59.874Z"
   },
   {
    "duration": 56,
    "start_time": "2023-10-09T08:04:59.930Z"
   },
   {
    "duration": 78,
    "start_time": "2023-10-09T08:04:59.988Z"
   },
   {
    "duration": 215,
    "start_time": "2023-10-09T08:05:00.068Z"
   },
   {
    "duration": 286,
    "start_time": "2023-10-09T08:05:00.286Z"
   },
   {
    "duration": 344,
    "start_time": "2023-10-09T08:05:00.573Z"
   },
   {
    "duration": 281,
    "start_time": "2023-10-09T08:05:00.919Z"
   },
   {
    "duration": 687,
    "start_time": "2023-10-09T08:05:01.201Z"
   },
   {
    "duration": 277,
    "start_time": "2023-10-09T08:05:01.890Z"
   },
   {
    "duration": 425,
    "start_time": "2023-10-09T08:05:02.169Z"
   },
   {
    "duration": 618,
    "start_time": "2023-10-09T08:05:02.597Z"
   },
   {
    "duration": 367,
    "start_time": "2023-10-09T08:05:03.217Z"
   },
   {
    "duration": 31,
    "start_time": "2023-10-09T08:05:03.586Z"
   },
   {
    "duration": 340,
    "start_time": "2023-10-09T08:05:03.619Z"
   },
   {
    "duration": 55,
    "start_time": "2023-10-09T08:05:03.961Z"
   },
   {
    "duration": 531,
    "start_time": "2023-10-09T08:05:04.018Z"
   },
   {
    "duration": 5,
    "start_time": "2023-10-09T08:05:04.551Z"
   },
   {
    "duration": 470,
    "start_time": "2023-10-09T08:05:04.558Z"
   },
   {
    "duration": 11,
    "start_time": "2023-10-09T08:05:05.030Z"
   },
   {
    "duration": 105,
    "start_time": "2023-10-09T08:05:05.043Z"
   },
   {
    "duration": 70,
    "start_time": "2023-10-09T08:05:05.150Z"
   },
   {
    "duration": 20,
    "start_time": "2023-10-09T08:05:05.222Z"
   },
   {
    "duration": 31,
    "start_time": "2023-10-09T08:21:19.463Z"
   },
   {
    "duration": 37,
    "start_time": "2023-10-09T08:21:37.726Z"
   },
   {
    "duration": 4,
    "start_time": "2023-10-09T08:21:48.668Z"
   },
   {
    "duration": 26,
    "start_time": "2023-10-09T08:21:49.358Z"
   },
   {
    "duration": 4,
    "start_time": "2023-10-09T08:21:50.035Z"
   },
   {
    "duration": 10,
    "start_time": "2023-10-09T08:21:50.959Z"
   },
   {
    "duration": 3,
    "start_time": "2023-10-09T08:21:53.868Z"
   },
   {
    "duration": 7,
    "start_time": "2023-10-09T08:21:54.501Z"
   },
   {
    "duration": 12,
    "start_time": "2023-10-09T08:21:55.557Z"
   },
   {
    "duration": 12,
    "start_time": "2023-10-09T08:21:56.942Z"
   },
   {
    "duration": 83,
    "start_time": "2023-10-09T08:22:00.292Z"
   },
   {
    "duration": 29,
    "start_time": "2023-10-09T08:22:03.846Z"
   },
   {
    "duration": 50,
    "start_time": "2023-10-09T08:27:34.272Z"
   },
   {
    "duration": 41,
    "start_time": "2023-10-09T08:32:14.556Z"
   },
   {
    "duration": 33,
    "start_time": "2023-10-09T08:34:03.631Z"
   },
   {
    "duration": 50,
    "start_time": "2023-10-09T08:39:02.453Z"
   },
   {
    "duration": 161,
    "start_time": "2023-10-09T08:43:35.829Z"
   },
   {
    "duration": 46,
    "start_time": "2023-10-09T08:43:43.933Z"
   },
   {
    "duration": 55,
    "start_time": "2023-10-09T08:44:56.256Z"
   },
   {
    "duration": 47,
    "start_time": "2023-10-09T08:47:59.015Z"
   },
   {
    "duration": 54,
    "start_time": "2023-10-09T08:49:10.924Z"
   },
   {
    "duration": 12,
    "start_time": "2023-10-09T08:51:10.996Z"
   },
   {
    "duration": 13,
    "start_time": "2023-10-09T08:52:15.359Z"
   },
   {
    "duration": 660,
    "start_time": "2023-10-09T09:13:56.822Z"
   },
   {
    "duration": 296,
    "start_time": "2023-10-09T09:16:49.496Z"
   },
   {
    "duration": 280,
    "start_time": "2023-10-09T09:17:06.424Z"
   },
   {
    "duration": 369,
    "start_time": "2023-10-09T09:20:11.759Z"
   },
   {
    "duration": 371,
    "start_time": "2023-10-09T09:20:34.989Z"
   },
   {
    "duration": 409,
    "start_time": "2023-10-09T09:21:55.197Z"
   },
   {
    "duration": 422,
    "start_time": "2023-10-09T09:22:45.671Z"
   },
   {
    "duration": 416,
    "start_time": "2023-10-09T09:24:24.016Z"
   },
   {
    "duration": 389,
    "start_time": "2023-10-09T09:30:49.209Z"
   },
   {
    "duration": 465,
    "start_time": "2023-10-09T09:33:04.221Z"
   },
   {
    "duration": 1244,
    "start_time": "2023-10-09T09:41:10.871Z"
   },
   {
    "duration": 31,
    "start_time": "2023-10-09T09:41:12.121Z"
   },
   {
    "duration": 9,
    "start_time": "2023-10-09T09:41:12.154Z"
   },
   {
    "duration": 40,
    "start_time": "2023-10-09T09:41:12.165Z"
   },
   {
    "duration": 31,
    "start_time": "2023-10-09T09:41:12.207Z"
   },
   {
    "duration": 41,
    "start_time": "2023-10-09T09:41:12.241Z"
   },
   {
    "duration": 52,
    "start_time": "2023-10-09T09:41:12.284Z"
   },
   {
    "duration": 48,
    "start_time": "2023-10-09T09:41:12.338Z"
   },
   {
    "duration": 93,
    "start_time": "2023-10-09T09:41:12.389Z"
   },
   {
    "duration": 39,
    "start_time": "2023-10-09T09:41:12.485Z"
   },
   {
    "duration": 47,
    "start_time": "2023-10-09T09:41:12.532Z"
   },
   {
    "duration": 65,
    "start_time": "2023-10-09T09:41:12.581Z"
   },
   {
    "duration": 11,
    "start_time": "2023-10-09T09:41:12.648Z"
   },
   {
    "duration": 53,
    "start_time": "2023-10-09T09:41:12.661Z"
   },
   {
    "duration": 35,
    "start_time": "2023-10-09T09:41:12.716Z"
   },
   {
    "duration": 721,
    "start_time": "2023-10-09T09:41:12.753Z"
   },
   {
    "duration": 286,
    "start_time": "2023-10-09T09:41:13.477Z"
   },
   {
    "duration": 404,
    "start_time": "2023-10-09T09:41:13.766Z"
   },
   {
    "duration": 477,
    "start_time": "2023-10-09T09:41:14.171Z"
   },
   {
    "duration": 437,
    "start_time": "2023-10-09T09:41:14.651Z"
   },
   {
    "duration": 25,
    "start_time": "2023-10-09T09:41:15.091Z"
   },
   {
    "duration": 199,
    "start_time": "2023-10-09T09:41:15.118Z"
   },
   {
    "duration": 17,
    "start_time": "2023-10-09T09:41:15.319Z"
   },
   {
    "duration": 471,
    "start_time": "2023-10-09T09:41:15.339Z"
   },
   {
    "duration": 8,
    "start_time": "2023-10-09T09:41:15.818Z"
   },
   {
    "duration": 419,
    "start_time": "2023-10-09T09:41:15.828Z"
   },
   {
    "duration": 12,
    "start_time": "2023-10-09T09:41:16.249Z"
   },
   {
    "duration": 12,
    "start_time": "2023-10-09T09:41:16.264Z"
   },
   {
    "duration": 70,
    "start_time": "2023-10-09T09:41:16.277Z"
   },
   {
    "duration": 30,
    "start_time": "2023-10-09T09:41:16.350Z"
   },
   {
    "duration": 576,
    "start_time": "2023-10-09T09:43:24.402Z"
   },
   {
    "duration": 489,
    "start_time": "2023-10-09T09:43:31.263Z"
   },
   {
    "duration": 424,
    "start_time": "2023-10-09T09:46:56.970Z"
   },
   {
    "duration": 227,
    "start_time": "2023-10-09T09:49:48.439Z"
   },
   {
    "duration": 9,
    "start_time": "2023-10-09T09:52:32.863Z"
   },
   {
    "duration": 522,
    "start_time": "2023-10-09T09:53:24.775Z"
   },
   {
    "duration": 136,
    "start_time": "2023-10-09T09:56:12.230Z"
   },
   {
    "duration": 2159,
    "start_time": "2023-10-09T09:56:25.064Z"
   },
   {
    "duration": 7,
    "start_time": "2023-10-09T09:57:03.234Z"
   },
   {
    "duration": 6,
    "start_time": "2023-10-09T09:58:32.273Z"
   },
   {
    "duration": 530,
    "start_time": "2023-10-09T10:00:49.498Z"
   },
   {
    "duration": 491,
    "start_time": "2023-10-09T10:01:31.039Z"
   },
   {
    "duration": 565,
    "start_time": "2023-10-09T10:02:10.091Z"
   },
   {
    "duration": 357,
    "start_time": "2023-10-09T10:02:26.262Z"
   },
   {
    "duration": 201,
    "start_time": "2023-10-09T10:02:31.469Z"
   },
   {
    "duration": 422,
    "start_time": "2023-10-09T10:02:36.343Z"
   },
   {
    "duration": 1500,
    "start_time": "2023-10-09T10:26:02.661Z"
   },
   {
    "duration": 30,
    "start_time": "2023-10-09T10:26:04.164Z"
   },
   {
    "duration": 32,
    "start_time": "2023-10-09T10:26:04.196Z"
   },
   {
    "duration": 40,
    "start_time": "2023-10-09T10:26:04.233Z"
   },
   {
    "duration": 24,
    "start_time": "2023-10-09T10:26:04.276Z"
   },
   {
    "duration": 29,
    "start_time": "2023-10-09T10:26:04.305Z"
   },
   {
    "duration": 55,
    "start_time": "2023-10-09T10:26:04.336Z"
   },
   {
    "duration": 75,
    "start_time": "2023-10-09T10:26:04.394Z"
   },
   {
    "duration": 160,
    "start_time": "2023-10-09T10:26:04.471Z"
   },
   {
    "duration": 52,
    "start_time": "2023-10-09T10:26:04.640Z"
   },
   {
    "duration": 51,
    "start_time": "2023-10-09T10:26:04.700Z"
   },
   {
    "duration": 32,
    "start_time": "2023-10-09T10:26:04.753Z"
   },
   {
    "duration": 17,
    "start_time": "2023-10-09T10:26:04.806Z"
   },
   {
    "duration": 17,
    "start_time": "2023-10-09T10:26:04.829Z"
   },
   {
    "duration": 31,
    "start_time": "2023-10-09T10:26:04.849Z"
   },
   {
    "duration": 1049,
    "start_time": "2023-10-09T10:26:04.882Z"
   },
   {
    "duration": 402,
    "start_time": "2023-10-09T10:26:05.934Z"
   },
   {
    "duration": 486,
    "start_time": "2023-10-09T10:26:06.339Z"
   },
   {
    "duration": 478,
    "start_time": "2023-10-09T10:26:06.828Z"
   },
   {
    "duration": 476,
    "start_time": "2023-10-09T10:26:07.308Z"
   },
   {
    "duration": 24,
    "start_time": "2023-10-09T10:26:07.786Z"
   },
   {
    "duration": 237,
    "start_time": "2023-10-09T10:26:07.814Z"
   },
   {
    "duration": 11,
    "start_time": "2023-10-09T10:26:08.054Z"
   },
   {
    "duration": 277,
    "start_time": "2023-10-09T10:26:08.067Z"
   },
   {
    "duration": 16,
    "start_time": "2023-10-09T10:26:08.348Z"
   },
   {
    "duration": 420,
    "start_time": "2023-10-09T10:26:08.366Z"
   },
   {
    "duration": 760,
    "start_time": "2023-10-09T10:26:08.788Z"
   },
   {
    "duration": 16,
    "start_time": "2023-10-09T10:26:09.552Z"
   },
   {
    "duration": 196,
    "start_time": "2023-10-09T10:26:09.571Z"
   },
   {
    "duration": 105,
    "start_time": "2023-10-09T10:26:09.769Z"
   },
   {
    "duration": 34,
    "start_time": "2023-10-09T10:26:09.877Z"
   }
  ],
  "kernelspec": {
   "display_name": "Python 3 (ipykernel)",
   "language": "python",
   "name": "python3"
  },
  "language_info": {
   "codemirror_mode": {
    "name": "ipython",
    "version": 3
   },
   "file_extension": ".py",
   "mimetype": "text/x-python",
   "name": "python",
   "nbconvert_exporter": "python",
   "pygments_lexer": "ipython3",
   "version": "3.9.5"
  },
  "toc": {
   "base_numbering": 1,
   "nav_menu": {},
   "number_sections": false,
   "sideBar": true,
   "skip_h1_title": true,
   "title_cell": "Table of Contents",
   "title_sidebar": "Contents",
   "toc_cell": false,
   "toc_position": {},
   "toc_section_display": true,
   "toc_window_display": false
  }
 },
 "nbformat": 4,
 "nbformat_minor": 2
}
