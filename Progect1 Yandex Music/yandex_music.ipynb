{
 "cells": [
  {
   "cell_type": "markdown",
   "metadata": {
    "deletable": false,
    "editable": false,
    "id": "E0vqbgi9ay0H"
   },
   "source": [
    "# Яндекс Музыка"
   ]
  },
  {
   "cell_type": "markdown",
   "metadata": {
    "deletable": false,
    "editable": false,
    "id": "VUC88oWjTJw2"
   },
   "source": [
    "Сравнение Москвы и Петербурга окружено мифами. Например:\n",
    " * Москва — мегаполис, подчинённый жёсткому ритму рабочей недели;\n",
    " * Петербург — культурная столица, со своими вкусами.\n",
    "\n",
    "На данных Яндекс Музыки вы сравните поведение пользователей двух столиц.\n",
    "\n",
    "**Цель исследования** — проверьте три гипотезы:\n",
    "1. Активность пользователей зависит от дня недели. Причём в Москве и Петербурге это проявляется по-разному.\n",
    "2. В понедельник утром в Москве преобладают одни жанры, а в Петербурге — другие. Так же и вечером пятницы преобладают разные жанры — в зависимости от города. \n",
    "3. Москва и Петербург предпочитают разные жанры музыки. В Москве чаще слушают поп-музыку, в Петербурге — русский рэп.\n",
    "\n",
    "**Ход исследования**\n",
    "\n",
    "Данные о поведении пользователей вы получите из файла `yandex_music_project.csv`. О качестве данных ничего не известно. Поэтому перед проверкой гипотез понадобится обзор данных. \n",
    "\n",
    "Вы проверите данные на ошибки и оцените их влияние на исследование. Затем, на этапе предобработки вы поищете возможность исправить самые критичные ошибки данных.\n",
    " \n",
    "Таким образом, исследование пройдёт в три этапа:\n",
    " 1. Обзор данных.\n",
    " 2. Предобработка данных.\n",
    " 3. Проверка гипотез.\n",
    "\n"
   ]
  },
  {
   "cell_type": "markdown",
   "metadata": {
    "deletable": false,
    "editable": false,
    "id": "Ml1hmfXC_Zcs"
   },
   "source": [
    "## Обзор данных\n",
    "\n",
    "Составьте первое представление о данных Яндекс Музыки.\n",
    "\n",
    "\n"
   ]
  },
  {
   "cell_type": "markdown",
   "metadata": {
    "deletable": false,
    "editable": false,
    "id": "57eAOGIz_Zcs",
    "tags": [
     "start_task"
    ]
   },
   "source": [
    "**Задание 1**\n",
    "\n",
    "Основной инструмент аналитика — `pandas`. Импортируйте эту библиотеку."
   ]
  },
  {
   "cell_type": "code",
   "execution_count": 1,
   "metadata": {
    "deletable": false,
    "id": "AXN7PHPN_Zcs"
   },
   "outputs": [],
   "source": [
    "import pandas as pd# импорт библиотеки pandas"
   ]
  },
  {
   "cell_type": "markdown",
   "metadata": {
    "deletable": false,
    "editable": false,
    "id": "SG23P8tt_Zcs",
    "tags": [
     "start_task"
    ]
   },
   "source": [
    "**Задание 2**\n",
    "\n",
    "Прочитайте файл `yandex_music_project.csv` из папки `/datasets` и сохраните его в переменной `df`:"
   ]
  },
  {
   "cell_type": "code",
   "execution_count": 2,
   "metadata": {
    "deletable": false,
    "id": "fFVu7vqh_Zct"
   },
   "outputs": [],
   "source": [
    "df = pd.read_csv('/datasets/yandex_music_project.csv')# чтение файла с данными и сохранение в df"
   ]
  },
  {
   "cell_type": "markdown",
   "metadata": {
    "deletable": false,
    "editable": false,
    "id": "rDoOMd3uTqnZ",
    "tags": [
     "start_task"
    ]
   },
   "source": [
    "**Задание 3**\n",
    "\n",
    "\n",
    "Выведите на экран первые десять строк таблицы:"
   ]
  },
  {
   "cell_type": "code",
   "execution_count": 3,
   "metadata": {
    "deletable": false,
    "id": "oWTVX3gW_Zct"
   },
   "outputs": [
    {
     "name": "stdout",
     "output_type": "stream",
     "text": [
      "     userID                        Track            artist   genre  \\\n",
      "0  FFB692EC            Kamigata To Boots  The Mass Missile    rock   \n",
      "1  55204538  Delayed Because of Accident  Andreas Rönnberg    rock   \n",
      "2    20EC38            Funiculì funiculà       Mario Lanza     pop   \n",
      "3  A3DD03C9        Dragons in the Sunset        Fire + Ice    folk   \n",
      "4  E2DC1FAE                  Soul People        Space Echo   dance   \n",
      "5  842029A1                    Преданная         IMPERVTOR  rusrap   \n",
      "6  4CB90AA5                         True      Roman Messer   dance   \n",
      "7  F03E1C1F             Feeling This Way   Polina Griffith   dance   \n",
      "8  8FA1D3BE     И вновь продолжается бой               NaN  ruspop   \n",
      "9  E772D5C0                    Pessimist               NaN   dance   \n",
      "\n",
      "             City        time        Day  \n",
      "0  Saint-Petersburg  20:28:33  Wednesday  \n",
      "1            Moscow  14:07:09     Friday  \n",
      "2  Saint-Petersburg  20:58:07  Wednesday  \n",
      "3  Saint-Petersburg  08:37:09     Monday  \n",
      "4            Moscow  08:34:34     Monday  \n",
      "5  Saint-Petersburg  13:09:41     Friday  \n",
      "6            Moscow  13:00:07  Wednesday  \n",
      "7            Moscow  20:47:49  Wednesday  \n",
      "8            Moscow  09:17:40     Friday  \n",
      "9  Saint-Petersburg  21:20:49  Wednesday  \n"
     ]
    }
   ],
   "source": [
    "print(df.head(10))# получение первых 10 строк таблицы df"
   ]
  },
  {
   "cell_type": "markdown",
   "metadata": {
    "deletable": false,
    "editable": false,
    "id": "EO73Kwic_Zct",
    "tags": [
     "start_task"
    ]
   },
   "source": [
    "**Задание 4**\n",
    "\n",
    "\n",
    "Одной командой получить общую информацию о таблице c помощью метода `info()`:"
   ]
  },
  {
   "cell_type": "code",
   "execution_count": 4,
   "metadata": {
    "deletable": false,
    "id": "DSf2kIb-_Zct"
   },
   "outputs": [
    {
     "name": "stdout",
     "output_type": "stream",
     "text": [
      "<class 'pandas.core.frame.DataFrame'>\n",
      "RangeIndex: 65079 entries, 0 to 65078\n",
      "Data columns (total 7 columns):\n",
      " #   Column    Non-Null Count  Dtype \n",
      "---  ------    --------------  ----- \n",
      " 0     userID  65079 non-null  object\n",
      " 1   Track     63848 non-null  object\n",
      " 2   artist    57876 non-null  object\n",
      " 3   genre     63881 non-null  object\n",
      " 4     City    65079 non-null  object\n",
      " 5   time      65079 non-null  object\n",
      " 6   Day       65079 non-null  object\n",
      "dtypes: object(7)\n",
      "memory usage: 3.5+ MB\n"
     ]
    }
   ],
   "source": [
    "df.info()# получение общей информации о данных в таблице df"
   ]
  },
  {
   "cell_type": "markdown",
   "metadata": {
    "deletable": false,
    "editable": false,
    "id": "TaQ2Iwbr_Zct"
   },
   "source": [
    "Итак, в таблице семь столбцов. Тип данных во всех столбцах — `object`.\n",
    "\n",
    "Согласно документации к данным:\n",
    "* `userID` — идентификатор пользователя;\n",
    "* `Track` — название трека;  \n",
    "* `artist` — имя исполнителя;\n",
    "* `genre` — название жанра;\n",
    "* `City` — город пользователя;\n",
    "* `time` — время начала прослушивания;\n",
    "* `Day` — день недели.\n",
    "\n",
    "Количество значений в столбцах различается. Значит, в данных есть пропущенные значения."
   ]
  },
  {
   "cell_type": "markdown",
   "metadata": {
    "deletable": false,
    "editable": false,
    "id": "rAfziTBDmf2h",
    "tags": [
     "start_task"
    ]
   },
   "source": [
    "**Задание 5**\n",
    "\n",
    "**Вопрос со свободной формой ответа**\n",
    "\n",
    "В названиях колонок видны нарушения стиля:\n",
    "* Строчные буквы сочетаются с прописными.\n",
    "* Встречаются пробелы.\n",
    "\n",
    "Какое третье нарушение?"
   ]
  },
  {
   "cell_type": "code",
   "execution_count": 5,
   "metadata": {
    "id": "jD8EXEIvmf2h"
   },
   "outputs": [],
   "source": [
    "# нет подчеркиваний, поэтому нет \"змеиного регистра\" "
   ]
  },
  {
   "cell_type": "markdown",
   "metadata": {
    "deletable": false,
    "editable": false,
    "id": "MCB6-dXG_Zct"
   },
   "source": [
    "**Выводы**\n",
    "\n",
    "В каждой строке таблицы — данные о прослушанном треке. Часть колонок описывает саму композицию: название, исполнителя и жанр. Остальные данные рассказывают о пользователе: из какого он города, когда он слушал музыку. \n",
    "\n",
    "Предварительно можно утверждать, что данных достаточно для проверки гипотез. Но встречаются пропуски в данных, а в названиях колонок — расхождения с хорошим стилем.\n",
    "\n",
    "Чтобы двигаться дальше, нужно устранить проблемы в данных."
   ]
  },
  {
   "cell_type": "markdown",
   "metadata": {
    "deletable": false,
    "editable": false,
    "id": "SjYF6Ub9_Zct"
   },
   "source": [
    "## Предобработка данных\n",
    "Исправьте стиль в заголовках столбцов, исключите пропуски. Затем проверьте данные на дубликаты."
   ]
  },
  {
   "cell_type": "markdown",
   "metadata": {
    "deletable": false,
    "editable": false,
    "id": "dIaKXr29_Zct",
    "tags": [
     "start_task"
    ]
   },
   "source": [
    "### Стиль заголовков\n",
    "\n",
    "**Задание 6**\n",
    "\n",
    "Выведите на экран названия столбцов:"
   ]
  },
  {
   "cell_type": "code",
   "execution_count": 6,
   "metadata": {
    "deletable": false,
    "id": "oKOTdF_Q_Zct"
   },
   "outputs": [
    {
     "name": "stdout",
     "output_type": "stream",
     "text": [
      "Index(['  userID', 'Track', 'artist', 'genre', '  City  ', 'time', 'Day'], dtype='object')\n"
     ]
    }
   ],
   "source": [
    "print(df.columns)# перечень названий столбцов таблицы df"
   ]
  },
  {
   "cell_type": "markdown",
   "metadata": {
    "deletable": false,
    "editable": false,
    "id": "zj5534cv_Zct",
    "tags": [
     "start_task"
    ]
   },
   "source": [
    "**Задание 7**\n",
    "\n",
    "\n",
    "Приведите названия в соответствие с хорошим стилем:\n",
    "* несколько слов в названии запишите в «змеином_регистре»,\n",
    "* все символы сделайте строчными,\n",
    "* устраните пробелы.\n",
    "\n",
    "Для этого переименуйте колонки так:\n",
    "* `'  userID'` → `'user_id'`;\n",
    "* `'Track'` → `'track'`;\n",
    "* `'  City  '` → `'city'`;\n",
    "* `'Day'` → `'day'`."
   ]
  },
  {
   "cell_type": "code",
   "execution_count": 7,
   "metadata": {
    "deletable": false,
    "id": "ISlFqs5y_Zct"
   },
   "outputs": [],
   "source": [
    "df = df.rename(columns={'  userID': 'user_id', 'Track': 'track', '  City  ': 'city', 'Day': 'day'})#переименование столбцов"
   ]
  },
  {
   "cell_type": "markdown",
   "metadata": {
    "deletable": false,
    "editable": false,
    "id": "1dqbh00J_Zct",
    "tags": [
     "start_task"
    ]
   },
   "source": [
    "**Задание 8**\n",
    "\n",
    "\n",
    "Проверьте результат. Для этого ещё раз выведите на экран названия столбцов:"
   ]
  },
  {
   "cell_type": "code",
   "execution_count": 8,
   "metadata": {
    "deletable": false,
    "id": "d4NOAmTW_Zct"
   },
   "outputs": [
    {
     "name": "stdout",
     "output_type": "stream",
     "text": [
      "Index(['user_id', 'track', 'artist', 'genre', 'city', 'time', 'day'], dtype='object')\n"
     ]
    }
   ],
   "source": [
    "print(df.columns)# проверка результатов - перечень названий столбцов"
   ]
  },
  {
   "cell_type": "markdown",
   "metadata": {
    "deletable": false,
    "editable": false,
    "id": "5ISfbcfY_Zct",
    "tags": [
     "start_task"
    ]
   },
   "source": [
    "### Пропуски значений\n",
    "\n",
    "**Задание 9**\n",
    "\n",
    "Сначала посчитайте, сколько в таблице пропущенных значений. Для этого достаточно двух методов `pandas`:"
   ]
  },
  {
   "cell_type": "code",
   "execution_count": 9,
   "metadata": {
    "deletable": false,
    "id": "RskX29qr_Zct"
   },
   "outputs": [
    {
     "data": {
      "text/plain": [
       "user_id       0\n",
       "track      1231\n",
       "artist     7203\n",
       "genre      1198\n",
       "city          0\n",
       "time          0\n",
       "day           0\n",
       "dtype: int64"
      ]
     },
     "execution_count": 9,
     "metadata": {},
     "output_type": "execute_result"
    }
   ],
   "source": [
    "df.isna().sum()# подсчёт пропусков"
   ]
  },
  {
   "cell_type": "markdown",
   "metadata": {
    "deletable": false,
    "editable": false,
    "id": "qubhgnlO_Zct"
   },
   "source": [
    "Не все пропущенные значения влияют на исследование. Так в `track` и `artist` пропуски не важны для вашей работы. Достаточно заменить их явными обозначениями.\n",
    "\n",
    "Но пропуски в `genre` могут помешать сравнению музыкальных вкусов в Москве и Санкт-Петербурге. На практике было бы правильно установить причину пропусков и восстановить данные. Такой возможности нет в учебном проекте. Придётся:\n",
    "* заполнить и эти пропуски явными обозначениями;\n",
    "* оценить, насколько они повредят расчётам. "
   ]
  },
  {
   "cell_type": "markdown",
   "metadata": {
    "deletable": false,
    "editable": false,
    "id": "fSv2laPA_Zct",
    "tags": [
     "start_task"
    ]
   },
   "source": [
    "**Задание 10**\n",
    "\n",
    "Замените пропущенные значения в столбцах `track`, `artist` и `genre` на строку `'unknown'`. Для этого создайте список `columns_to_replace`, переберите его элементы циклом `for` и для каждого столбца выполните замену пропущенных значений:"
   ]
  },
  {
   "cell_type": "code",
   "execution_count": 10,
   "metadata": {
    "deletable": false,
    "id": "KplB5qWs_Zct"
   },
   "outputs": [],
   "source": [
    "columns_to_replace = ['track', 'artist', 'genre']\n",
    "for column in columns_to_replace:\n",
    "    df[column] = df[column].fillna('unknown') # перебор названий столбцов в цикле и замена пропущенных значений на 'unknown'"
   ]
  },
  {
   "cell_type": "markdown",
   "metadata": {
    "deletable": false,
    "editable": false,
    "id": "Ilsm-MZo_Zct",
    "tags": [
     "start_task"
    ]
   },
   "source": [
    "**Задание 11**\n",
    "\n",
    "Убедитесь, что в таблице не осталось пропусков. Для этого ещё раз посчитайте пропущенные значения."
   ]
  },
  {
   "cell_type": "code",
   "execution_count": 11,
   "metadata": {
    "deletable": false,
    "id": "Tq4nYRX4_Zct"
   },
   "outputs": [
    {
     "data": {
      "text/plain": [
       "user_id    0\n",
       "track      0\n",
       "artist     0\n",
       "genre      0\n",
       "city       0\n",
       "time       0\n",
       "day        0\n",
       "dtype: int64"
      ]
     },
     "execution_count": 11,
     "metadata": {},
     "output_type": "execute_result"
    }
   ],
   "source": [
    "df.isna().sum()# подсчёт пропусков"
   ]
  },
  {
   "cell_type": "markdown",
   "metadata": {
    "deletable": false,
    "editable": false,
    "id": "BWKRtBJ3_Zct",
    "tags": [
     "start_task"
    ]
   },
   "source": [
    "### Дубликаты\n",
    "\n",
    "**Задание 12**\n",
    "\n",
    "Посчитайте явные дубликаты в таблице одной командой:"
   ]
  },
  {
   "cell_type": "code",
   "execution_count": 12,
   "metadata": {
    "deletable": false,
    "id": "36eES_S0_Zct"
   },
   "outputs": [
    {
     "data": {
      "text/plain": [
       "3826"
      ]
     },
     "execution_count": 12,
     "metadata": {},
     "output_type": "execute_result"
    }
   ],
   "source": [
    "df.duplicated().sum()# подсчёт явных дубликатов"
   ]
  },
  {
   "cell_type": "markdown",
   "metadata": {
    "deletable": false,
    "editable": false,
    "id": "Ot25h6XR_Zct",
    "tags": [
     "start_task"
    ]
   },
   "source": [
    "**Задание 13**\n",
    "\n",
    "Вызовите специальный метод `pandas`, чтобы удалить явные дубликаты:"
   ]
  },
  {
   "cell_type": "code",
   "execution_count": 13,
   "metadata": {
    "deletable": false,
    "id": "exFHq6tt_Zct"
   },
   "outputs": [],
   "source": [
    "df = df.drop_duplicates()# удаление явных дубликатов"
   ]
  },
  {
   "cell_type": "markdown",
   "metadata": {
    "deletable": false,
    "editable": false,
    "id": "Im2YwBEG_Zct",
    "tags": [
     "start_task"
    ]
   },
   "source": [
    "**Задание 14**\n",
    "\n",
    "Ещё раз посчитайте явные дубликаты в таблице — убедитесь, что полностью от них избавились:"
   ]
  },
  {
   "cell_type": "code",
   "execution_count": 14,
   "metadata": {
    "deletable": false,
    "id": "-8PuNWQ0_Zct"
   },
   "outputs": [
    {
     "data": {
      "text/plain": [
       "0"
      ]
     },
     "execution_count": 14,
     "metadata": {},
     "output_type": "execute_result"
    }
   ],
   "source": [
    "df.duplicated().sum()# проверка на отсутствие дубликатов"
   ]
  },
  {
   "cell_type": "markdown",
   "metadata": {
    "deletable": false,
    "editable": false,
    "id": "QlFBsxAr_Zct"
   },
   "source": [
    "Теперь избавьтесь от неявных дубликатов в колонке `genre`. Например, название одного и того же жанра может быть записано немного по-разному. Такие ошибки тоже повлияют на результат исследования."
   ]
  },
  {
   "cell_type": "markdown",
   "metadata": {
    "deletable": false,
    "editable": false,
    "id": "eSjWwsOh_Zct",
    "tags": [
     "start_task"
    ]
   },
   "source": [
    "**Задание 15**\n",
    "\n",
    "Выведите на экран список уникальных названий жанров, отсортированный в алфавитном порядке. Для этого:\n",
    "1. извлеките нужный столбец датафрейма; \n",
    "2. примените к нему метод сортировки;\n",
    "3. для отсортированного столбца вызовите метод, который вернёт уникальные значения из столбца."
   ]
  },
  {
   "cell_type": "code",
   "execution_count": 15,
   "metadata": {
    "deletable": false,
    "id": "JIUcqzZN_Zct"
   },
   "outputs": [
    {
     "name": "stdout",
     "output_type": "stream",
     "text": [
      "['acid' 'acoustic' 'action' 'adult' 'africa' 'afrikaans' 'alternative'\n",
      " 'alternativepunk' 'ambient' 'americana' 'animated' 'anime' 'arabesk'\n",
      " 'arabic' 'arena' 'argentinetango' 'art' 'audiobook' 'author' 'avantgarde'\n",
      " 'axé' 'baile' 'balkan' 'beats' 'bigroom' 'black' 'bluegrass' 'blues'\n",
      " 'bollywood' 'bossa' 'brazilian' 'breakbeat' 'breaks' 'broadway'\n",
      " 'cantautori' 'cantopop' 'canzone' 'caribbean' 'caucasian' 'celtic'\n",
      " 'chamber' 'chanson' 'children' 'chill' 'chinese' 'choral' 'christian'\n",
      " 'christmas' 'classical' 'classicmetal' 'club' 'colombian' 'comedy'\n",
      " 'conjazz' 'contemporary' 'country' 'cuban' 'dance' 'dancehall' 'dancepop'\n",
      " 'dark' 'death' 'deep' 'deutschrock' 'deutschspr' 'dirty' 'disco' 'dnb'\n",
      " 'documentary' 'downbeat' 'downtempo' 'drum' 'dub' 'dubstep' 'eastern'\n",
      " 'easy' 'electronic' 'electropop' 'emo' 'entehno' 'epicmetal' 'estrada'\n",
      " 'ethnic' 'eurofolk' 'european' 'experimental' 'extrememetal' 'fado'\n",
      " 'fairytail' 'film' 'fitness' 'flamenco' 'folk' 'folklore' 'folkmetal'\n",
      " 'folkrock' 'folktronica' 'forró' 'frankreich' 'französisch' 'french'\n",
      " 'funk' 'future' 'gangsta' 'garage' 'german' 'ghazal' 'gitarre' 'glitch'\n",
      " 'gospel' 'gothic' 'grime' 'grunge' 'gypsy' 'handsup' \"hard'n'heavy\"\n",
      " 'hardcore' 'hardstyle' 'hardtechno' 'hip' 'hip-hop' 'hiphop' 'historisch'\n",
      " 'holiday' 'hop' 'horror' 'house' 'hymn' 'idm' 'independent' 'indian'\n",
      " 'indie' 'indipop' 'industrial' 'inspirational' 'instrumental'\n",
      " 'international' 'irish' 'jam' 'japanese' 'jazz' 'jewish' 'jpop' 'jungle'\n",
      " 'k-pop' 'karadeniz' 'karaoke' 'kayokyoku' 'korean' 'laiko' 'latin'\n",
      " 'latino' 'leftfield' 'local' 'lounge' 'loungeelectronic' 'lovers'\n",
      " 'malaysian' 'mandopop' 'marschmusik' 'meditative' 'mediterranean'\n",
      " 'melodic' 'metal' 'metalcore' 'mexican' 'middle' 'minimal'\n",
      " 'miscellaneous' 'modern' 'mood' 'mpb' 'muslim' 'native' 'neoklassik'\n",
      " 'neue' 'new' 'newage' 'newwave' 'nu' 'nujazz' 'numetal' 'oceania' 'old'\n",
      " 'opera' 'orchestral' 'other' 'piano' 'podcasts' 'pop' 'popdance'\n",
      " 'popelectronic' 'popeurodance' 'poprussian' 'post' 'posthardcore'\n",
      " 'postrock' 'power' 'progmetal' 'progressive' 'psychedelic' 'punjabi'\n",
      " 'punk' 'quebecois' 'ragga' 'ram' 'rancheras' 'rap' 'rave' 'reggae'\n",
      " 'reggaeton' 'regional' 'relax' 'religious' 'retro' 'rhythm' 'rnb' 'rnr'\n",
      " 'rock' 'rockabilly' 'rockalternative' 'rockindie' 'rockother' 'romance'\n",
      " 'roots' 'ruspop' 'rusrap' 'rusrock' 'russian' 'salsa' 'samba' 'scenic'\n",
      " 'schlager' 'self' 'sertanejo' 'shanson' 'shoegazing' 'showtunes' 'singer'\n",
      " 'ska' 'skarock' 'slow' 'smooth' 'soft' 'soul' 'soulful' 'sound'\n",
      " 'soundtrack' 'southern' 'specialty' 'speech' 'spiritual' 'sport'\n",
      " 'stonerrock' 'surf' 'swing' 'synthpop' 'synthrock' 'sängerportrait'\n",
      " 'tango' 'tanzorchester' 'taraftar' 'tatar' 'tech' 'techno' 'teen'\n",
      " 'thrash' 'top' 'traditional' 'tradjazz' 'trance' 'tribal' 'trip'\n",
      " 'triphop' 'tropical' 'türk' 'türkçe' 'ukrrock' 'unknown' 'urban' 'uzbek'\n",
      " 'variété' 'vi' 'videogame' 'vocal' 'western' 'world' 'worldbeat' 'ïîï'\n",
      " 'электроника']\n"
     ]
    }
   ],
   "source": [
    "print(df['genre'].sort_values().unique())\n",
    "\n",
    "# Просмотр уникальных названий жанров"
   ]
  },
  {
   "cell_type": "markdown",
   "metadata": {
    "deletable": false,
    "editable": false,
    "id": "qej-Qmuo_Zct",
    "tags": [
     "start_task"
    ]
   },
   "source": [
    "**Задание 16**\n",
    "\n",
    "Просмотрите список и найдите неявные дубликаты названия `hiphop`. Это могут быть названия с ошибками или альтернативные названия того же жанра.\n",
    "\n",
    "Вы увидите следующие неявные дубликаты:\n",
    "* *hip*,\n",
    "* *hop*,\n",
    "* *hip-hop*.\n",
    "\n",
    "Чтобы очистить от них таблицу используйте метод `replace()` с двумя аргументами: списком строк-дубликатов (включащий *hip*, *hop* и *hip-hop*) и строкой с правильным значением. Вам нужно исправить колонку `genre` в таблице `df`: заменить каждое значение из списка дубликатов на верное. Вместо `hip`, `hop` и `hip-hop` в таблице должно быть значение `hiphop`:"
   ]
  },
  {
   "cell_type": "code",
   "execution_count": 16,
   "metadata": {
    "deletable": false,
    "id": "ErNDkmns_Zct"
   },
   "outputs": [],
   "source": [
    "duplicates = ['hip','hop','hip-hop']\n",
    "name = 'hiphop'\n",
    "df['genre'] = df['genre'].replace(duplicates, name)# Устранение неявных дубликатов"
   ]
  },
  {
   "cell_type": "markdown",
   "metadata": {
    "deletable": false,
    "editable": false,
    "id": "zQKF16_RG15m",
    "tags": [
     "start_task"
    ]
   },
   "source": [
    "**Задание 17**\n",
    "\n",
    "Проверьте, что заменили неправильные названия:\n",
    "\n",
    "*   hip,\n",
    "*   hop,\n",
    "*   hip-hop.\n",
    "\n",
    "Выведите отсортированный список уникальных значений столбца `genre`:"
   ]
  },
  {
   "cell_type": "code",
   "execution_count": 17,
   "metadata": {
    "deletable": false,
    "id": "wvixALnFG15m"
   },
   "outputs": [
    {
     "name": "stdout",
     "output_type": "stream",
     "text": [
      "['acid' 'acoustic' 'action' 'adult' 'africa' 'afrikaans' 'alternative'\n",
      " 'alternativepunk' 'ambient' 'americana' 'animated' 'anime' 'arabesk'\n",
      " 'arabic' 'arena' 'argentinetango' 'art' 'audiobook' 'author' 'avantgarde'\n",
      " 'axé' 'baile' 'balkan' 'beats' 'bigroom' 'black' 'bluegrass' 'blues'\n",
      " 'bollywood' 'bossa' 'brazilian' 'breakbeat' 'breaks' 'broadway'\n",
      " 'cantautori' 'cantopop' 'canzone' 'caribbean' 'caucasian' 'celtic'\n",
      " 'chamber' 'chanson' 'children' 'chill' 'chinese' 'choral' 'christian'\n",
      " 'christmas' 'classical' 'classicmetal' 'club' 'colombian' 'comedy'\n",
      " 'conjazz' 'contemporary' 'country' 'cuban' 'dance' 'dancehall' 'dancepop'\n",
      " 'dark' 'death' 'deep' 'deutschrock' 'deutschspr' 'dirty' 'disco' 'dnb'\n",
      " 'documentary' 'downbeat' 'downtempo' 'drum' 'dub' 'dubstep' 'eastern'\n",
      " 'easy' 'electronic' 'electropop' 'emo' 'entehno' 'epicmetal' 'estrada'\n",
      " 'ethnic' 'eurofolk' 'european' 'experimental' 'extrememetal' 'fado'\n",
      " 'fairytail' 'film' 'fitness' 'flamenco' 'folk' 'folklore' 'folkmetal'\n",
      " 'folkrock' 'folktronica' 'forró' 'frankreich' 'französisch' 'french'\n",
      " 'funk' 'future' 'gangsta' 'garage' 'german' 'ghazal' 'gitarre' 'glitch'\n",
      " 'gospel' 'gothic' 'grime' 'grunge' 'gypsy' 'handsup' \"hard'n'heavy\"\n",
      " 'hardcore' 'hardstyle' 'hardtechno' 'hiphop' 'historisch' 'holiday'\n",
      " 'horror' 'house' 'hymn' 'idm' 'independent' 'indian' 'indie' 'indipop'\n",
      " 'industrial' 'inspirational' 'instrumental' 'international' 'irish' 'jam'\n",
      " 'japanese' 'jazz' 'jewish' 'jpop' 'jungle' 'k-pop' 'karadeniz' 'karaoke'\n",
      " 'kayokyoku' 'korean' 'laiko' 'latin' 'latino' 'leftfield' 'local'\n",
      " 'lounge' 'loungeelectronic' 'lovers' 'malaysian' 'mandopop' 'marschmusik'\n",
      " 'meditative' 'mediterranean' 'melodic' 'metal' 'metalcore' 'mexican'\n",
      " 'middle' 'minimal' 'miscellaneous' 'modern' 'mood' 'mpb' 'muslim'\n",
      " 'native' 'neoklassik' 'neue' 'new' 'newage' 'newwave' 'nu' 'nujazz'\n",
      " 'numetal' 'oceania' 'old' 'opera' 'orchestral' 'other' 'piano' 'podcasts'\n",
      " 'pop' 'popdance' 'popelectronic' 'popeurodance' 'poprussian' 'post'\n",
      " 'posthardcore' 'postrock' 'power' 'progmetal' 'progressive' 'psychedelic'\n",
      " 'punjabi' 'punk' 'quebecois' 'ragga' 'ram' 'rancheras' 'rap' 'rave'\n",
      " 'reggae' 'reggaeton' 'regional' 'relax' 'religious' 'retro' 'rhythm'\n",
      " 'rnb' 'rnr' 'rock' 'rockabilly' 'rockalternative' 'rockindie' 'rockother'\n",
      " 'romance' 'roots' 'ruspop' 'rusrap' 'rusrock' 'russian' 'salsa' 'samba'\n",
      " 'scenic' 'schlager' 'self' 'sertanejo' 'shanson' 'shoegazing' 'showtunes'\n",
      " 'singer' 'ska' 'skarock' 'slow' 'smooth' 'soft' 'soul' 'soulful' 'sound'\n",
      " 'soundtrack' 'southern' 'specialty' 'speech' 'spiritual' 'sport'\n",
      " 'stonerrock' 'surf' 'swing' 'synthpop' 'synthrock' 'sängerportrait'\n",
      " 'tango' 'tanzorchester' 'taraftar' 'tatar' 'tech' 'techno' 'teen'\n",
      " 'thrash' 'top' 'traditional' 'tradjazz' 'trance' 'tribal' 'trip'\n",
      " 'triphop' 'tropical' 'türk' 'türkçe' 'ukrrock' 'unknown' 'urban' 'uzbek'\n",
      " 'variété' 'vi' 'videogame' 'vocal' 'western' 'world' 'worldbeat' 'ïîï'\n",
      " 'электроника']\n"
     ]
    }
   ],
   "source": [
    "print(df['genre'].sort_values().unique())# Проверка на неявные дубликаты"
   ]
  },
  {
   "cell_type": "markdown",
   "metadata": {
    "deletable": false,
    "editable": false,
    "id": "jz6a9-7HQUDd"
   },
   "source": [
    "**Выводы**\n",
    "\n",
    "Предобработка обнаружила три проблемы в данных:\n",
    "\n",
    "- нарушения в стиле заголовков,\n",
    "- пропущенные значения,\n",
    "- дубликаты — явные и неявные.\n",
    "\n",
    "Вы исправили заголовки, чтобы упростить работу с таблицей. Без дубликатов исследование станет более точным.\n",
    "\n",
    "Пропущенные значения вы заменили на `'unknown'`. Ещё предстоит увидеть, не повредят ли исследованию пропуски в колонке `genre`.\n",
    "\n",
    "Теперь можно перейти к проверке гипотез. "
   ]
  },
  {
   "cell_type": "markdown",
   "metadata": {
    "deletable": false,
    "editable": false,
    "id": "WttZHXH0SqKk"
   },
   "source": [
    "## Проверка гипотез"
   ]
  },
  {
   "cell_type": "markdown",
   "metadata": {
    "deletable": false,
    "editable": false,
    "id": "Im936VVi_Zcu"
   },
   "source": [
    "### Сравнение поведения пользователей двух столиц"
   ]
  },
  {
   "cell_type": "markdown",
   "metadata": {
    "deletable": false,
    "editable": false,
    "id": "nwt_MuaL_Zcu"
   },
   "source": [
    "Первая гипотеза утверждает, что пользователи по-разному слушают музыку в Москве и Санкт-Петербурге. Проверьте это предположение по данным о трёх днях недели — понедельнике, среде и пятнице. Для этого:\n",
    "\n",
    "* Разделите пользователей Москвы и Санкт-Петербурга.\n",
    "* Сравните, сколько треков послушала каждая группа пользователей в понедельник, среду и пятницу.\n"
   ]
  },
  {
   "cell_type": "markdown",
   "metadata": {
    "deletable": false,
    "editable": false,
    "id": "8Dw_YMmT_Zcu",
    "tags": [
     "start_task"
    ]
   },
   "source": [
    "**Задание 18**\n",
    "\n",
    "Для тренировки сначала выполните каждый из расчётов по отдельности. \n",
    "\n",
    "Оцените активность пользователей в каждом городе. Сгруппируйте данные по городу и посчитайте прослушивания в каждой группе.\n",
    "\n"
   ]
  },
  {
   "cell_type": "code",
   "execution_count": 18,
   "metadata": {
    "deletable": false,
    "id": "0_Qs96oh_Zcu"
   },
   "outputs": [
    {
     "name": "stdout",
     "output_type": "stream",
     "text": [
      "city\n",
      "Moscow              42741\n",
      "Saint-Petersburg    18512\n",
      "Name: day, dtype: int64\n"
     ]
    }
   ],
   "source": [
    "city_grouping = df.groupby('city')['day'].count()\n",
    "print(city_grouping)\n",
    "# Подсчёт прослушиваний в каждом городе"
   ]
  },
  {
   "cell_type": "markdown",
   "metadata": {
    "deletable": false,
    "editable": false,
    "id": "dzli3w8o_Zcu",
    "tags": [
     "start_task"
    ]
   },
   "source": [
    "В Москве прослушиваний больше, чем в Петербурге. Из этого не следует, что московские пользователи чаще слушают музыку. Просто самих пользователей в Москве больше.\n",
    "\n",
    "**Задание 19**\n",
    "\n",
    "Теперь сгруппируйте данные по дню недели и посчитайте прослушивания в понедельник, среду и пятницу. Учтите, что в данных есть информация о прослушиваниях только за эти дни.\n"
   ]
  },
  {
   "cell_type": "code",
   "execution_count": 19,
   "metadata": {
    "deletable": false,
    "id": "uZMKjiJz_Zcu"
   },
   "outputs": [
    {
     "name": "stdout",
     "output_type": "stream",
     "text": [
      "day\n",
      "Friday       21840\n",
      "Monday       21354\n",
      "Wednesday    18059\n",
      "Name: city, dtype: int64\n"
     ]
    }
   ],
   "source": [
    "day_grouping = df.groupby('day')['city'].count()\n",
    "print(day_grouping)# Подсчёт прослушиваний в каждый из трёх дней"
   ]
  },
  {
   "cell_type": "markdown",
   "metadata": {
    "deletable": false,
    "editable": false,
    "id": "cC2tNrlL_Zcu"
   },
   "source": [
    "В среднем пользователи из двух городов менее активны по средам. Но картина может измениться, если рассмотреть каждый город в отдельности."
   ]
  },
  {
   "cell_type": "markdown",
   "metadata": {
    "deletable": false,
    "editable": false,
    "id": "POzs8bGa_Zcu",
    "tags": [
     "start_task"
    ]
   },
   "source": [
    "**Задание 20**\n",
    "\n",
    "\n",
    "Вы видели, как работает группировка по городу и по дням недели. Теперь напишите функцию, которая объединит два эти расчёта.\n",
    "\n",
    "Создайте функцию `number_tracks()`, которая посчитает прослушивания для заданного дня и города. Ей понадобятся два параметра:\n",
    "* день недели,\n",
    "* название города.\n",
    "\n",
    "В функции сохраните в переменную строки исходной таблицы, у которых значение:\n",
    "  * в колонке `day` равно параметру `day`,\n",
    "  * в колонке `city` равно параметру `city`.\n",
    "\n",
    "Для этого примените последовательную фильтрацию с логической индексацией (или сложные логические выражения в одну строку, если вы уже знакомы с ними).\n",
    "\n",
    "Затем посчитайте значения в столбце `user_id` получившейся таблицы. Результат сохраните в новую переменную. Верните эту переменную из функции."
   ]
  },
  {
   "cell_type": "code",
   "execution_count": 20,
   "metadata": {
    "deletable": false,
    "id": "Nz3GdQB1_Zcu"
   },
   "outputs": [
    {
     "data": {
      "text/plain": [
       "15740"
      ]
     },
     "execution_count": 20,
     "metadata": {},
     "output_type": "execute_result"
    }
   ],
   "source": [
    "def number_tracks(day, city):# <создание функции number_tracks()>\n",
    "    track_list_day = df[df['day'] == day]\n",
    "    track_list = track_list_day[track_list_day['city'] == city]\n",
    "    track_list_count = track_list['user_id'].count()\n",
    "    return track_list_count\n",
    "number_tracks('Monday', 'Moscow')\n",
    "#print(result)\n"
   ]
  },
  {
   "cell_type": "markdown",
   "metadata": {
    "deletable": false,
    "editable": false,
    "id": "ytf7xFrFJQ2r",
    "tags": [
     "start_task"
    ]
   },
   "source": [
    "**Задание 21**\n",
    "\n",
    "Вызовите `number_tracks()` шесть раз, меняя значение параметров — так, чтобы получить данные для каждого города в каждый из трёх дней."
   ]
  },
  {
   "cell_type": "code",
   "execution_count": 21,
   "metadata": {
    "deletable": false,
    "id": "rJcRATNQ_Zcu"
   },
   "outputs": [
    {
     "data": {
      "text/plain": [
       "15740"
      ]
     },
     "execution_count": 21,
     "metadata": {},
     "output_type": "execute_result"
    }
   ],
   "source": [
    "number_tracks('Monday', 'Moscow')# количество прослушиваний в Москве по понедельникам"
   ]
  },
  {
   "cell_type": "code",
   "execution_count": 22,
   "metadata": {
    "deletable": false,
    "id": "hq_ncZ5T_Zcu"
   },
   "outputs": [
    {
     "data": {
      "text/plain": [
       "5614"
      ]
     },
     "execution_count": 22,
     "metadata": {},
     "output_type": "execute_result"
    }
   ],
   "source": [
    "number_tracks('Monday', 'Saint-Petersburg')# количество прослушиваний в Санкт-Петербурге по понедельникам"
   ]
  },
  {
   "cell_type": "code",
   "execution_count": 23,
   "metadata": {
    "deletable": false,
    "id": "_NTy2VPU_Zcu"
   },
   "outputs": [
    {
     "data": {
      "text/plain": [
       "11056"
      ]
     },
     "execution_count": 23,
     "metadata": {},
     "output_type": "execute_result"
    }
   ],
   "source": [
    "number_tracks('Wednesday', 'Moscow')# количество прослушиваний в Москве по средам"
   ]
  },
  {
   "cell_type": "code",
   "execution_count": 24,
   "metadata": {
    "deletable": false,
    "id": "j2y3TAwo_Zcu"
   },
   "outputs": [
    {
     "data": {
      "text/plain": [
       "7003"
      ]
     },
     "execution_count": 24,
     "metadata": {},
     "output_type": "execute_result"
    }
   ],
   "source": [
    "number_tracks('Wednesday', 'Saint-Petersburg')# количество прослушиваний в Санкт-Петербурге по средам"
   ]
  },
  {
   "cell_type": "code",
   "execution_count": 25,
   "metadata": {
    "deletable": false,
    "id": "vYDw5u_K_Zcu"
   },
   "outputs": [
    {
     "data": {
      "text/plain": [
       "15945"
      ]
     },
     "execution_count": 25,
     "metadata": {},
     "output_type": "execute_result"
    }
   ],
   "source": [
    "number_tracks('Friday', 'Moscow')# количество прослушиваний в Москве по пятницам"
   ]
  },
  {
   "cell_type": "code",
   "execution_count": 26,
   "metadata": {
    "deletable": false,
    "id": "8_yzFtW3_Zcu"
   },
   "outputs": [
    {
     "data": {
      "text/plain": [
       "5895"
      ]
     },
     "execution_count": 26,
     "metadata": {},
     "output_type": "execute_result"
    }
   ],
   "source": [
    "number_tracks('Friday', 'Saint-Petersburg')# количество прослушиваний в Санкт-Петербурге по пятницам"
   ]
  },
  {
   "cell_type": "markdown",
   "metadata": {
    "deletable": false,
    "editable": false,
    "id": "7QXffbO-_Zcu",
    "tags": [
     "start_task"
    ]
   },
   "source": [
    "**Задание 22**\n",
    "\n",
    "Создайте c помощью конструктора `pd.DataFrame` таблицу, где\n",
    "* названия колонок — `['city', 'monday', 'wednesday', 'friday']`;\n",
    "* данные — результаты, которые вы получили с помощью `number_tracks`."
   ]
  },
  {
   "cell_type": "code",
   "execution_count": 27,
   "metadata": {
    "deletable": false,
    "id": "APAcLpOr_Zcu"
   },
   "outputs": [
    {
     "data": {
      "text/html": [
       "<div>\n",
       "<style scoped>\n",
       "    .dataframe tbody tr th:only-of-type {\n",
       "        vertical-align: middle;\n",
       "    }\n",
       "\n",
       "    .dataframe tbody tr th {\n",
       "        vertical-align: top;\n",
       "    }\n",
       "\n",
       "    .dataframe thead th {\n",
       "        text-align: right;\n",
       "    }\n",
       "</style>\n",
       "<table border=\"1\" class=\"dataframe\">\n",
       "  <thead>\n",
       "    <tr style=\"text-align: right;\">\n",
       "      <th></th>\n",
       "      <th>city</th>\n",
       "      <th>monday</th>\n",
       "      <th>wednesday</th>\n",
       "      <th>friday</th>\n",
       "    </tr>\n",
       "  </thead>\n",
       "  <tbody>\n",
       "    <tr>\n",
       "      <th>0</th>\n",
       "      <td>Москва</td>\n",
       "      <td>16715</td>\n",
       "      <td>11755</td>\n",
       "      <td>16890</td>\n",
       "    </tr>\n",
       "    <tr>\n",
       "      <th>1</th>\n",
       "      <td>Санкт-Петербург</td>\n",
       "      <td>5982</td>\n",
       "      <td>7478</td>\n",
       "      <td>6259</td>\n",
       "    </tr>\n",
       "  </tbody>\n",
       "</table>\n",
       "</div>"
      ],
      "text/plain": [
       "              city  monday  wednesday  friday\n",
       "0           Москва   16715      11755   16890\n",
       "1  Санкт-Петербург    5982       7478    6259"
      ]
     },
     "execution_count": 27,
     "metadata": {},
     "output_type": "execute_result"
    }
   ],
   "source": [
    "info = pd.DataFrame(data=[['Москва', 16715, 11755, 16890], ['Санкт-Петербург', 5982, 7478, 6259]], columns=['city', 'monday', 'wednesday', 'friday'])\n",
    "info\n",
    "# Таблица с результатами"
   ]
  },
  {
   "cell_type": "markdown",
   "metadata": {
    "deletable": false,
    "editable": false,
    "id": "-EgPIHYu_Zcu"
   },
   "source": [
    "**Выводы**\n",
    "\n",
    "Данные показывают разницу поведения пользователей:\n",
    "\n",
    "- В Москве пик прослушиваний приходится на понедельник и пятницу, а в среду заметен спад.\n",
    "- В Петербурге, наоборот, больше слушают музыку по средам. Активность в понедельник и пятницу здесь почти в равной мере уступает среде.\n",
    "\n",
    "Значит, данные говорят в пользу первой гипотезы."
   ]
  },
  {
   "cell_type": "markdown",
   "metadata": {
    "deletable": false,
    "editable": false,
    "id": "atZAxtq4_Zcu"
   },
   "source": [
    "### Музыка в начале и в конце недели"
   ]
  },
  {
   "cell_type": "markdown",
   "metadata": {
    "deletable": false,
    "editable": false,
    "id": "eXrQqXFH_Zcu"
   },
   "source": [
    "Согласно второй гипотезе, утром в понедельник в Москве преобладают одни жанры, а в Петербурге — другие. Так же и вечером пятницы преобладают разные жанры — в зависимости от города."
   ]
  },
  {
   "cell_type": "markdown",
   "metadata": {
    "deletable": false,
    "editable": false,
    "id": "S8UcW6Hw_Zcu",
    "tags": [
     "start_task"
    ]
   },
   "source": [
    "**Задание 23**\n",
    "\n",
    "Сохраните таблицы с данными в две переменные:\n",
    "* по Москве — в `moscow_general`;\n",
    "* по Санкт-Петербургу — в `spb_general`."
   ]
  },
  {
   "cell_type": "code",
   "execution_count": 46,
   "metadata": {
    "deletable": false,
    "id": "qeaFfM_P_Zcu"
   },
   "outputs": [
    {
     "name": "stdout",
     "output_type": "stream",
     "text": [
      "        user_id                          track                   artist  \\\n",
      "1      55204538    Delayed Because of Accident         Andreas Rönnberg   \n",
      "4      E2DC1FAE                    Soul People               Space Echo   \n",
      "6      4CB90AA5                           True             Roman Messer   \n",
      "7      F03E1C1F               Feeling This Way          Polina Griffith   \n",
      "8      8FA1D3BE       И вновь продолжается бой                  unknown   \n",
      "...         ...                            ...                      ...   \n",
      "65073  83A474E7  I Worship Only What You Bleed  The Black Dahlia Murder   \n",
      "65074  729CBB09                        My Name                   McLean   \n",
      "65076  C5E3A0D5                      Jalopiina                  unknown   \n",
      "65077  321D0506                  Freight Train            Chas McDevitt   \n",
      "65078  3A64EF84      Tell Me Sweet Little Lies             Monica Lopez   \n",
      "\n",
      "              genre    city      time        day  \n",
      "1              rock  Moscow  14:07:09     Friday  \n",
      "4             dance  Moscow  08:34:34     Monday  \n",
      "6             dance  Moscow  13:00:07  Wednesday  \n",
      "7             dance  Moscow  20:47:49  Wednesday  \n",
      "8            ruspop  Moscow  09:17:40     Friday  \n",
      "...             ...     ...       ...        ...  \n",
      "65073  extrememetal  Moscow  21:07:12     Monday  \n",
      "65074           rnb  Moscow  13:32:28  Wednesday  \n",
      "65076    industrial  Moscow  20:09:26     Friday  \n",
      "65077          rock  Moscow  21:43:59     Friday  \n",
      "65078       country  Moscow  21:59:46     Friday  \n",
      "\n",
      "[42741 rows x 7 columns]\n"
     ]
    }
   ],
   "source": [
    "moscow_general = df[df['city'] == 'Moscow']\n",
    "print(moscow_general)# получение таблицы moscow_general из тех строк таблицы df, \n",
    "# для которых значение в столбце 'city' равно 'Moscow'\n"
   ]
  },
  {
   "cell_type": "code",
   "execution_count": 47,
   "metadata": {
    "deletable": false,
    "id": "ORaVRKto_Zcu"
   },
   "outputs": [
    {
     "name": "stdout",
     "output_type": "stream",
     "text": [
      "        user_id                              track              artist  \\\n",
      "0      FFB692EC                  Kamigata To Boots    The Mass Missile   \n",
      "2        20EC38                  Funiculì funiculà         Mario Lanza   \n",
      "3      A3DD03C9              Dragons in the Sunset          Fire + Ice   \n",
      "5      842029A1                          Преданная           IMPERVTOR   \n",
      "9      E772D5C0                          Pessimist             unknown   \n",
      "...         ...                                ...                 ...   \n",
      "65063  D94F810B        Theme from the Walking Dead  Proyecto Halloween   \n",
      "65064  BC8EC5CF       Red Lips: Gta (Rover Rework)               Rover   \n",
      "65065  29E04611                       Bre Petrunko       Perunika Trio   \n",
      "65066  1B91C621             (Hello) Cloud Mountain     sleepmakeswaves   \n",
      "65075  D08D4A55  Maybe One Day (feat. Black Spade)         Blu & Exile   \n",
      "\n",
      "            genre              city      time        day  \n",
      "0            rock  Saint-Petersburg  20:28:33  Wednesday  \n",
      "2             pop  Saint-Petersburg  20:58:07  Wednesday  \n",
      "3            folk  Saint-Petersburg  08:37:09     Monday  \n",
      "5          rusrap  Saint-Petersburg  13:09:41     Friday  \n",
      "9           dance  Saint-Petersburg  21:20:49  Wednesday  \n",
      "...           ...               ...       ...        ...  \n",
      "65063        film  Saint-Petersburg  21:14:40     Monday  \n",
      "65064  electronic  Saint-Petersburg  21:06:50     Monday  \n",
      "65065       world  Saint-Petersburg  13:56:00     Monday  \n",
      "65066    postrock  Saint-Petersburg  09:22:13     Monday  \n",
      "65075      hiphop  Saint-Petersburg  10:00:00     Monday  \n",
      "\n",
      "[18512 rows x 7 columns]\n"
     ]
    }
   ],
   "source": [
    "spb_general = df[df['city'] == 'Saint-Petersburg']# получение таблицы spb_general из тех строк таблицы df,\n",
    "print(spb_general)# для которых значение в столбце 'city' равно 'Saint-Petersburg'\n"
   ]
  },
  {
   "cell_type": "markdown",
   "metadata": {
    "deletable": false,
    "editable": false,
    "id": "MEJV-CX2_Zcu",
    "tags": [
     "start_task"
    ]
   },
   "source": [
    "**Задание 24**\n",
    "\n",
    "Создайте функцию `genre_weekday()` с четырьмя параметрами:\n",
    "* таблица (датафрейм) с данными,\n",
    "* день недели,\n",
    "* начальная временная метка в формате 'hh:mm', \n",
    "* последняя временная метка в формате 'hh:mm'.\n",
    "\n",
    "Функция должна вернуть информацию о топ-10 жанров тех треков, которые прослушивали в указанный день, в промежутке между двумя отметками времени."
   ]
  },
  {
   "cell_type": "code",
   "execution_count": 48,
   "metadata": {
    "deletable": false,
    "id": "laJT9BYl_Zcu"
   },
   "outputs": [],
   "source": [
    "def genre_weekday(df, day, time1, time2):\n",
    "    genre_df = df[df['day'] == day]\n",
    "    genre_df =  genre_df[ genre_df['time'] > time1]\n",
    "    genre_df =  genre_df[ genre_df['time'] < time2]\n",
    "    genre_df_grouped = genre_df.groupby('genre')['genre'].count()# Объявление функции genre_weekday() с параметрами table, day, time1, time2,\n",
    "    genre_df_sorted = genre_df_grouped.sort_values(ascending=False)# которая возвращает информацию о самых популярных time1жанрах в указанный день в\n",
    "    return genre_df_sorted[:10]\n"
   ]
  },
  {
   "cell_type": "markdown",
   "metadata": {
    "deletable": false,
    "editable": false,
    "id": "la2s2_PF_Zcu",
    "tags": [
     "start_task"
    ]
   },
   "source": [
    "**Задание 25**\n",
    "\n",
    "\n",
    "Cравните результаты функции `genre_weekday()` для Москвы и Санкт-Петербурга в понедельник утром (с 7:00 до 11:00) и в пятницу вечером (с 17:00 до 23:00):"
   ]
  },
  {
   "cell_type": "code",
   "execution_count": 49,
   "metadata": {
    "deletable": false,
    "id": "yz7itPUQ_Zcu"
   },
   "outputs": [
    {
     "data": {
      "text/plain": [
       "genre\n",
       "pop            781\n",
       "dance          549\n",
       "electronic     480\n",
       "rock           474\n",
       "hiphop         286\n",
       "ruspop         186\n",
       "world          181\n",
       "rusrap         175\n",
       "alternative    164\n",
       "unknown        161\n",
       "Name: genre, dtype: int64"
      ]
     },
     "execution_count": 49,
     "metadata": {},
     "output_type": "execute_result"
    }
   ],
   "source": [
    "genre_weekday(moscow_general, 'Monday', '07:00', '11:00')# вызов функции для утра понедельника в Москве (вместо df — таблица moscow_general)\n",
    "# объекты, хранящие время, являются строками и сравниваются как строки\n",
    "# пример вызова: genre_weekday(moscow_general, 'Monday', '07:00', '11:00')"
   ]
  },
  {
   "cell_type": "code",
   "execution_count": 50,
   "metadata": {
    "deletable": false,
    "id": "kwUcHPdy_Zcu"
   },
   "outputs": [
    {
     "data": {
      "text/plain": [
       "genre\n",
       "pop            218\n",
       "dance          182\n",
       "rock           162\n",
       "electronic     147\n",
       "hiphop          80\n",
       "ruspop          64\n",
       "alternative     58\n",
       "rusrap          55\n",
       "jazz            44\n",
       "classical       40\n",
       "Name: genre, dtype: int64"
      ]
     },
     "execution_count": 50,
     "metadata": {},
     "output_type": "execute_result"
    }
   ],
   "source": [
    "genre_weekday(spb_general, 'Monday', '07:00', '11:00')# вызов функции для утра понедельника в Петербурге (вместо df — таблица spb_general)"
   ]
  },
  {
   "cell_type": "code",
   "execution_count": 51,
   "metadata": {
    "deletable": false,
    "id": "EzXVRE1o_Zcu"
   },
   "outputs": [
    {
     "data": {
      "text/plain": [
       "genre\n",
       "pop            713\n",
       "rock           517\n",
       "dance          495\n",
       "electronic     482\n",
       "hiphop         273\n",
       "world          208\n",
       "ruspop         170\n",
       "alternative    163\n",
       "classical      163\n",
       "rusrap         142\n",
       "Name: genre, dtype: int64"
      ]
     },
     "execution_count": 51,
     "metadata": {},
     "output_type": "execute_result"
    }
   ],
   "source": [
    "genre_weekday(moscow_general, 'Friday', '17:00', '23:00')# вызов функции для вечера пятницы в Москве"
   ]
  },
  {
   "cell_type": "code",
   "execution_count": 52,
   "metadata": {
    "deletable": false,
    "id": "JZaEKu5v_Zcu"
   },
   "outputs": [
    {
     "data": {
      "text/plain": [
       "genre\n",
       "pop            256\n",
       "electronic     216\n",
       "rock           216\n",
       "dance          210\n",
       "hiphop          97\n",
       "alternative     63\n",
       "jazz            61\n",
       "classical       60\n",
       "rusrap          59\n",
       "world           54\n",
       "Name: genre, dtype: int64"
      ]
     },
     "execution_count": 52,
     "metadata": {},
     "output_type": "execute_result"
    }
   ],
   "source": [
    "genre_weekday(spb_general, 'Friday', '17:00', '23:00')# вызов функции для вечера пятницы в Петербурге"
   ]
  },
  {
   "cell_type": "markdown",
   "metadata": {
    "deletable": false,
    "editable": false,
    "id": "wrCe4MNX_Zcu"
   },
   "source": [
    "**Выводы**\n",
    "\n",
    "Если сравнить топ-10 жанров в понедельник утром, можно сделать такие выводы:\n",
    "\n",
    "1. В Москве и Петербурге слушают похожую музыку. Единственное отличие — в московский рейтинг вошёл жанр “world”, а в петербургский — джаз и классика.\n",
    "\n",
    "2. В Москве пропущенных значений оказалось так много, что значение `'unknown'` заняло десятое место среди самых популярных жанров. Значит, пропущенные значения занимают существенную долю в данных и угрожают достоверности исследования.\n",
    "\n",
    "Вечер пятницы не меняет эту картину. Некоторые жанры поднимаются немного выше, другие спускаются, но в целом топ-10 остаётся тем же самым.\n",
    "\n",
    "Таким образом, вторая гипотеза подтвердилась лишь частично:\n",
    "* Пользователи слушают похожую музыку в начале недели и в конце.\n",
    "* Разница между Москвой и Петербургом не слишком выражена. В Москве чаще слушают русскую популярную музыку, в Петербурге — джаз.\n",
    "\n",
    "Однако пропуски в данных ставят под сомнение этот результат. В Москве их так много, что рейтинг топ-10 мог бы выглядеть иначе, если бы не утерянные  данные о жанрах."
   ]
  },
  {
   "cell_type": "markdown",
   "metadata": {
    "deletable": false,
    "editable": false,
    "id": "JolODAqr_Zcu"
   },
   "source": [
    "### Жанровые предпочтения в Москве и Петербурге\n",
    "\n",
    "Гипотеза: Петербург — столица рэпа, музыку этого жанра там слушают чаще, чем в Москве.  А Москва — город контрастов, в котором, тем не менее, преобладает поп-музыка."
   ]
  },
  {
   "cell_type": "markdown",
   "metadata": {
    "deletable": false,
    "editable": false,
    "id": "DlegSvaT_Zcu",
    "tags": [
     "start_task"
    ]
   },
   "source": [
    "**Задание 26**\n",
    "\n",
    "Сгруппируйте таблицу `moscow_general` по жанру и посчитайте прослушивания треков каждого жанра методом `count()`. Затем отсортируйте результат в порядке убывания и сохраните его в таблице `moscow_genres`."
   ]
  },
  {
   "cell_type": "code",
   "execution_count": 67,
   "metadata": {
    "deletable": false,
    "id": "r19lIPke_Zcu"
   },
   "outputs": [],
   "source": [
    "moscow_genres = moscow_general.groupby('genre')['genre'].count().sort_values(ascending=False)# сортировка получившегося Series в порядке убывания и сохранение в moscow_genres"
   ]
  },
  {
   "cell_type": "markdown",
   "metadata": {
    "deletable": false,
    "editable": false,
    "id": "6kMuomxTiIr8",
    "tags": [
     "start_task"
    ]
   },
   "source": [
    "**Задание 27**\n",
    "\n",
    "Выведите на экран первые десять строк `moscow_genres`:"
   ]
  },
  {
   "cell_type": "code",
   "execution_count": 68,
   "metadata": {
    "deletable": false,
    "id": "WhCSooF8_Zcv"
   },
   "outputs": [
    {
     "name": "stdout",
     "output_type": "stream",
     "text": [
      "genre\n",
      "pop            5892\n",
      "dance          4435\n",
      "rock           3965\n",
      "electronic     3786\n",
      "hiphop         2096\n",
      "classical      1616\n",
      "world          1432\n",
      "alternative    1379\n",
      "ruspop         1372\n",
      "rusrap         1161\n",
      "Name: genre, dtype: int64\n"
     ]
    }
   ],
   "source": [
    "print(moscow_genres.head(10))# просмотр первых 10 строк moscow_genres"
   ]
  },
  {
   "cell_type": "markdown",
   "metadata": {
    "deletable": false,
    "editable": false,
    "id": "cnPG2vnN_Zcv",
    "tags": [
     "start_task"
    ]
   },
   "source": [
    "**Задание 28**\n",
    "\n",
    "\n",
    "Теперь повторите то же и для Петербурга.\n",
    "\n",
    "Сгруппируйте таблицу `spb_general` по жанру. Посчитайте прослушивания треков каждого жанра. Результат отсортируйте в порядке убывания и сохраните в таблице `spb_genres`:\n"
   ]
  },
  {
   "cell_type": "code",
   "execution_count": 69,
   "metadata": {
    "deletable": false,
    "id": "gluLIpE7_Zcv"
   },
   "outputs": [],
   "source": [
    "spb_genres = spb_general.groupby('genre')['genre'].count().sort_values(ascending=False)# одной строкой: группировка таблицы spb_general по столбцу 'genre', \n",
    "# подсчёт числа значений 'genre' в этой группировке методом count(), \n",
    "# сортировка получившегося Series в порядке убывания и сохранение в spb_genres"
   ]
  },
  {
   "cell_type": "markdown",
   "metadata": {
    "deletable": false,
    "editable": false,
    "id": "5Doha_ODgyQ8",
    "tags": [
     "start_task"
    ]
   },
   "source": [
    "**Задание 29**\n",
    "\n",
    "Выведите на экран первые десять строк `spb_genres`:"
   ]
  },
  {
   "cell_type": "code",
   "execution_count": 70,
   "metadata": {
    "deletable": false,
    "id": "uaGJHjVU_Zcv"
   },
   "outputs": [
    {
     "name": "stdout",
     "output_type": "stream",
     "text": [
      "genre\n",
      "pop            2431\n",
      "dance          1932\n",
      "rock           1879\n",
      "electronic     1736\n",
      "hiphop          960\n",
      "alternative     649\n",
      "classical       646\n",
      "rusrap          564\n",
      "ruspop          538\n",
      "world           515\n",
      "Name: genre, dtype: int64\n"
     ]
    }
   ],
   "source": [
    "print(spb_genres.head(10))# просмотр первых 10 строк spb_genres"
   ]
  },
  {
   "cell_type": "markdown",
   "metadata": {
    "deletable": false,
    "editable": false,
    "id": "RY51YJYu_Zcv"
   },
   "source": [
    "**Выводы**"
   ]
  },
  {
   "cell_type": "markdown",
   "metadata": {
    "deletable": false,
    "editable": false,
    "id": "nVhnJEm__Zcv"
   },
   "source": [
    "Гипотеза частично подтвердилась:\n",
    "* Поп-музыка — самый популярный жанр в Москве, как и предполагала гипотеза. Более того, в топ-10 жанров встречается близкий жанр — русская популярная музыка.\n",
    "* Вопреки ожиданиям, рэп одинаково популярен в Москве и Петербурге. \n"
   ]
  },
  {
   "cell_type": "markdown",
   "metadata": {
    "deletable": false,
    "editable": false,
    "id": "ykKQ0N65_Zcv"
   },
   "source": [
    "## Итоги исследования"
   ]
  },
  {
   "cell_type": "markdown",
   "metadata": {
    "deletable": false,
    "editable": false,
    "id": "tjUwbHb3_Zcv"
   },
   "source": [
    "Вы проверили три гипотезы и установили:\n",
    "\n",
    "1. День недели по-разному влияет на активность пользователей в Москве и Петербурге. \n",
    "\n",
    "Первая гипотеза полностью подтвердилась.\n",
    "\n",
    "2. Музыкальные предпочтения не сильно меняются в течение недели — будь то Москва или Петербург. Небольшие различия заметны в начале недели, по понедельникам:\n",
    "* в Москве слушают музыку жанра “world”,\n",
    "* в Петербурге — джаз и классику.\n",
    "\n",
    "Таким образом, вторая гипотеза подтвердилась лишь отчасти. Этот результат мог оказаться иным, если бы не пропуски в данных.\n",
    "\n",
    "3. Во вкусах пользователей Москвы и Петербурга больше общего чем различий. Вопреки ожиданиям, предпочтения жанров в Петербурге напоминают московские.\n",
    "\n",
    "Третья гипотеза не подтвердилась. Если различия в предпочтениях и существуют, на основной массе пользователей они незаметны.\n",
    "\n",
    "**На практике исследования содержат проверки статистических гипотез.**\n",
    "Из данных одного сервиса не всегда можно сделать вывод о всех жителях города.\n",
    "Проверки статистических гипотез покажут, насколько они достоверны, исходя из имеющихся данных. \n",
    "С методами проверок гипотез вы ещё познакомитесь в следующих темах."
   ]
  }
 ],
 "metadata": {
  "ExecuteTimeLog": [
   {
    "duration": 367,
    "start_time": "2023-01-10T20:17:14.181Z"
   },
   {
    "duration": 3,
    "start_time": "2023-01-10T20:17:20.623Z"
   },
   {
    "duration": 3,
    "start_time": "2023-01-10T20:17:31.295Z"
   },
   {
    "duration": 71,
    "start_time": "2023-01-10T20:27:33.818Z"
   },
   {
    "duration": 7,
    "start_time": "2023-01-10T20:29:10.054Z"
   },
   {
    "duration": 50,
    "start_time": "2023-01-11T18:33:08.375Z"
   },
   {
    "duration": 6,
    "start_time": "2023-01-11T18:41:48.819Z"
   },
   {
    "duration": 9,
    "start_time": "2023-01-11T19:09:16.420Z"
   },
   {
    "duration": 53,
    "start_time": "2023-01-11T19:10:04.590Z"
   },
   {
    "duration": 6,
    "start_time": "2023-01-11T19:10:10.430Z"
   },
   {
    "duration": 409,
    "start_time": "2023-01-11T19:10:43.977Z"
   },
   {
    "duration": 234,
    "start_time": "2023-01-11T19:10:46.604Z"
   },
   {
    "duration": 8,
    "start_time": "2023-01-11T19:10:49.117Z"
   },
   {
    "duration": 28,
    "start_time": "2023-01-11T19:10:52.191Z"
   },
   {
    "duration": 3,
    "start_time": "2023-01-11T19:11:04.614Z"
   },
   {
    "duration": 4,
    "start_time": "2023-01-11T19:11:07.820Z"
   },
   {
    "duration": 13,
    "start_time": "2023-01-11T19:11:11.149Z"
   },
   {
    "duration": 3,
    "start_time": "2023-01-11T19:11:13.701Z"
   },
   {
    "duration": 27,
    "start_time": "2023-01-11T19:11:15.845Z"
   },
   {
    "duration": 17,
    "start_time": "2023-01-11T19:11:19.909Z"
   },
   {
    "duration": 25,
    "start_time": "2023-01-11T19:11:22.470Z"
   },
   {
    "duration": 60,
    "start_time": "2023-01-11T19:11:24.983Z"
   },
   {
    "duration": 70,
    "start_time": "2023-01-11T19:11:27.900Z"
   },
   {
    "duration": 57,
    "start_time": "2023-01-11T19:11:31.157Z"
   },
   {
    "duration": 2,
    "start_time": "2023-01-11T19:11:34.638Z"
   },
   {
    "duration": 3,
    "start_time": "2023-01-11T19:11:37.492Z"
   },
   {
    "duration": 63,
    "start_time": "2023-01-11T19:17:47.512Z"
   },
   {
    "duration": 57,
    "start_time": "2023-01-12T12:12:12.730Z"
   },
   {
    "duration": 429,
    "start_time": "2023-01-12T12:12:35.090Z"
   },
   {
    "duration": 3,
    "start_time": "2023-01-12T12:12:43.405Z"
   },
   {
    "duration": 857,
    "start_time": "2023-01-12T12:12:47.751Z"
   },
   {
    "duration": 3,
    "start_time": "2023-01-12T12:13:05.400Z"
   },
   {
    "duration": 3,
    "start_time": "2023-01-12T12:13:11.720Z"
   },
   {
    "duration": 451,
    "start_time": "2023-01-12T12:13:33.864Z"
   },
   {
    "duration": 180,
    "start_time": "2023-01-12T12:13:38.899Z"
   },
   {
    "duration": 41,
    "start_time": "2023-01-12T12:14:02.040Z"
   },
   {
    "duration": 80,
    "start_time": "2023-01-12T12:33:59.795Z"
   },
   {
    "duration": 78,
    "start_time": "2023-01-12T12:34:47.157Z"
   },
   {
    "duration": 11,
    "start_time": "2023-01-12T12:35:16.969Z"
   },
   {
    "duration": 11,
    "start_time": "2023-01-12T12:35:20.656Z"
   },
   {
    "duration": 58,
    "start_time": "2023-01-12T12:36:00.392Z"
   },
   {
    "duration": 71,
    "start_time": "2023-01-12T12:50:04.700Z"
   },
   {
    "duration": 15,
    "start_time": "2023-01-12T12:52:15.298Z"
   },
   {
    "duration": 12,
    "start_time": "2023-01-12T12:53:18.252Z"
   },
   {
    "duration": 11,
    "start_time": "2023-01-12T12:54:16.021Z"
   },
   {
    "duration": 11,
    "start_time": "2023-01-12T12:58:16.222Z"
   },
   {
    "duration": 1173,
    "start_time": "2023-01-12T13:02:33.372Z"
   },
   {
    "duration": 40,
    "start_time": "2023-01-12T13:02:58.237Z"
   },
   {
    "duration": 75,
    "start_time": "2023-01-12T13:03:27.441Z"
   },
   {
    "duration": 74,
    "start_time": "2023-01-12T13:04:09.941Z"
   },
   {
    "duration": 1219,
    "start_time": "2023-01-12T13:04:25.525Z"
   },
   {
    "duration": 11,
    "start_time": "2023-01-12T13:14:50.317Z"
   },
   {
    "duration": 16,
    "start_time": "2023-01-12T13:15:39.762Z"
   },
   {
    "duration": 14,
    "start_time": "2023-01-12T13:15:58.395Z"
   },
   {
    "duration": 1203,
    "start_time": "2023-01-12T13:20:22.121Z"
   },
   {
    "duration": 1135,
    "start_time": "2023-01-12T13:20:54.979Z"
   },
   {
    "duration": 17,
    "start_time": "2023-01-12T13:21:37.817Z"
   },
   {
    "duration": 1221,
    "start_time": "2023-01-12T13:22:28.584Z"
   },
   {
    "duration": 18,
    "start_time": "2023-01-12T13:22:53.161Z"
   },
   {
    "duration": 28,
    "start_time": "2023-01-12T13:23:45.481Z"
   },
   {
    "duration": 23,
    "start_time": "2023-01-12T13:24:35.102Z"
   },
   {
    "duration": 12,
    "start_time": "2023-01-12T13:25:38.196Z"
   },
   {
    "duration": 4,
    "start_time": "2023-01-12T13:25:45.817Z"
   },
   {
    "duration": 46,
    "start_time": "2023-01-12T13:26:04.960Z"
   },
   {
    "duration": 25,
    "start_time": "2023-01-12T13:26:17.808Z"
   },
   {
    "duration": 19,
    "start_time": "2023-01-12T13:26:22.231Z"
   },
   {
    "duration": 12,
    "start_time": "2023-01-12T13:27:46.289Z"
   },
   {
    "duration": 1203,
    "start_time": "2023-01-12T13:28:05.231Z"
   },
   {
    "duration": 37,
    "start_time": "2023-01-12T13:28:19.622Z"
   },
   {
    "duration": 53,
    "start_time": "2023-01-12T13:29:04.730Z"
   },
   {
    "duration": 31,
    "start_time": "2023-01-12T13:29:52.498Z"
   },
   {
    "duration": 8,
    "start_time": "2023-01-12T13:31:28.602Z"
   },
   {
    "duration": 3,
    "start_time": "2023-01-12T13:31:45.477Z"
   },
   {
    "duration": 3,
    "start_time": "2023-01-12T13:31:50.473Z"
   },
   {
    "duration": 9,
    "start_time": "2023-01-12T13:32:06.506Z"
   },
   {
    "duration": 5,
    "start_time": "2023-01-12T13:32:47.498Z"
   },
   {
    "duration": 5,
    "start_time": "2023-01-12T13:33:22.117Z"
   },
   {
    "duration": 4,
    "start_time": "2023-01-12T13:33:33.752Z"
   },
   {
    "duration": 35,
    "start_time": "2023-01-12T13:34:14.849Z"
   },
   {
    "duration": 13,
    "start_time": "2023-01-12T13:34:53.354Z"
   },
   {
    "duration": 11,
    "start_time": "2023-01-12T13:35:16.953Z"
   },
   {
    "duration": 30,
    "start_time": "2023-01-12T13:37:00.962Z"
   },
   {
    "duration": 73,
    "start_time": "2023-01-12T13:38:39.857Z"
   },
   {
    "duration": 76,
    "start_time": "2023-01-12T13:38:50.116Z"
   },
   {
    "duration": 73,
    "start_time": "2023-01-12T13:39:37.546Z"
   },
   {
    "duration": 77,
    "start_time": "2023-01-12T13:40:37.330Z"
   },
   {
    "duration": 75,
    "start_time": "2023-01-12T13:40:59.769Z"
   },
   {
    "duration": 1132,
    "start_time": "2023-01-12T13:41:10.065Z"
   },
   {
    "duration": 70,
    "start_time": "2023-01-12T13:42:16.411Z"
   },
   {
    "duration": 1151,
    "start_time": "2023-01-12T13:42:38.858Z"
   },
   {
    "duration": 11,
    "start_time": "2023-01-12T13:43:27.724Z"
   },
   {
    "duration": 11,
    "start_time": "2023-01-12T13:44:00.267Z"
   },
   {
    "duration": 72,
    "start_time": "2023-01-12T13:45:08.316Z"
   },
   {
    "duration": 13,
    "start_time": "2023-01-12T13:45:18.891Z"
   },
   {
    "duration": 10,
    "start_time": "2023-01-12T13:45:36.422Z"
   },
   {
    "duration": 11,
    "start_time": "2023-01-12T13:46:11.739Z"
   },
   {
    "duration": 16,
    "start_time": "2023-01-12T13:48:19.594Z"
   },
   {
    "duration": 4,
    "start_time": "2023-01-12T15:13:24.835Z"
   },
   {
    "duration": 4,
    "start_time": "2023-01-12T15:13:38.258Z"
   },
   {
    "duration": 9,
    "start_time": "2023-01-12T15:14:08.138Z"
   },
   {
    "duration": 22,
    "start_time": "2023-01-12T15:15:37.482Z"
   },
   {
    "duration": 20,
    "start_time": "2023-01-12T15:19:58.676Z"
   },
   {
    "duration": 26,
    "start_time": "2023-01-12T15:20:54.213Z"
   },
   {
    "duration": 16,
    "start_time": "2023-01-12T15:21:38.146Z"
   },
   {
    "duration": 23,
    "start_time": "2023-01-12T15:22:37.988Z"
   },
   {
    "duration": 17,
    "start_time": "2023-01-12T15:23:04.699Z"
   },
   {
    "duration": 17,
    "start_time": "2023-01-12T15:24:51.476Z"
   },
   {
    "duration": 15,
    "start_time": "2023-01-12T15:24:54.564Z"
   },
   {
    "duration": 10,
    "start_time": "2023-01-12T15:35:38.199Z"
   },
   {
    "duration": 9,
    "start_time": "2023-01-12T16:34:56.433Z"
   },
   {
    "duration": 24,
    "start_time": "2023-01-12T16:36:12.440Z"
   },
   {
    "duration": 13,
    "start_time": "2023-01-12T16:36:55.592Z"
   },
   {
    "duration": 21,
    "start_time": "2023-01-12T16:37:34.066Z"
   },
   {
    "duration": 74,
    "start_time": "2023-01-12T16:55:01.595Z"
   },
   {
    "duration": 82,
    "start_time": "2023-01-12T16:55:15.843Z"
   },
   {
    "duration": 80,
    "start_time": "2023-01-12T16:55:33.259Z"
   },
   {
    "duration": 6,
    "start_time": "2023-01-12T16:56:05.875Z"
   },
   {
    "duration": 11,
    "start_time": "2023-01-12T16:56:32.450Z"
   },
   {
    "duration": 5,
    "start_time": "2023-01-12T16:57:38.203Z"
   },
   {
    "duration": 5,
    "start_time": "2023-01-12T16:57:45.972Z"
   },
   {
    "duration": 19,
    "start_time": "2023-01-12T17:00:19.973Z"
   },
   {
    "duration": 12,
    "start_time": "2023-01-12T17:01:08.459Z"
   },
   {
    "duration": 12,
    "start_time": "2023-01-12T17:02:15.142Z"
   },
   {
    "duration": 18,
    "start_time": "2023-01-12T17:02:38.133Z"
   },
   {
    "duration": 19,
    "start_time": "2023-01-12T17:03:13.109Z"
   },
   {
    "duration": 52,
    "start_time": "2023-01-13T11:08:48.200Z"
   },
   {
    "duration": 52,
    "start_time": "2023-01-13T11:09:21.747Z"
   },
   {
    "duration": 424,
    "start_time": "2023-01-13T11:09:30.635Z"
   },
   {
    "duration": 904,
    "start_time": "2023-01-13T11:09:34.519Z"
   },
   {
    "duration": 8,
    "start_time": "2023-01-13T11:09:40.527Z"
   },
   {
    "duration": 8,
    "start_time": "2023-01-13T11:09:59.830Z"
   },
   {
    "duration": 56,
    "start_time": "2023-01-13T11:10:03.642Z"
   },
   {
    "duration": 7,
    "start_time": "2023-01-13T11:10:09.040Z"
   },
   {
    "duration": 3,
    "start_time": "2023-01-13T11:10:13.939Z"
   },
   {
    "duration": 15,
    "start_time": "2023-01-13T11:10:17.595Z"
   },
   {
    "duration": 12,
    "start_time": "2023-01-13T11:10:21.267Z"
   },
   {
    "duration": 4,
    "start_time": "2023-01-13T11:10:26.900Z"
   },
   {
    "duration": 48,
    "start_time": "2023-01-13T11:10:30.737Z"
   },
   {
    "duration": 19,
    "start_time": "2023-01-13T11:10:35.077Z"
   },
   {
    "duration": 43,
    "start_time": "2023-01-13T11:10:39.588Z"
   },
   {
    "duration": 72,
    "start_time": "2023-01-13T11:10:43.940Z"
   },
   {
    "duration": 92,
    "start_time": "2023-01-13T11:10:47.930Z"
   },
   {
    "duration": 100,
    "start_time": "2023-01-13T11:10:51.340Z"
   },
   {
    "duration": 44,
    "start_time": "2023-01-13T11:10:55.348Z"
   },
   {
    "duration": 16,
    "start_time": "2023-01-13T11:10:59.571Z"
   },
   {
    "duration": 53,
    "start_time": "2023-01-13T11:11:03.226Z"
   },
   {
    "duration": 14,
    "start_time": "2023-01-13T11:11:09.337Z"
   },
   {
    "duration": 16,
    "start_time": "2023-01-13T11:11:12.780Z"
   },
   {
    "duration": 29,
    "start_time": "2023-01-13T11:11:16.566Z"
   },
   {
    "duration": 16,
    "start_time": "2023-01-13T11:11:21.918Z"
   },
   {
    "duration": 19,
    "start_time": "2023-01-13T11:11:24.982Z"
   },
   {
    "duration": 20,
    "start_time": "2023-01-13T11:11:28.073Z"
   },
   {
    "duration": 22,
    "start_time": "2023-01-13T11:11:30.834Z"
   },
   {
    "duration": 19,
    "start_time": "2023-01-13T11:11:34.285Z"
   },
   {
    "duration": 22,
    "start_time": "2023-01-13T11:11:37.572Z"
   },
   {
    "duration": 16,
    "start_time": "2023-01-13T11:11:41.955Z"
   },
   {
    "duration": 10,
    "start_time": "2023-01-13T11:11:47.120Z"
   },
   {
    "duration": 5,
    "start_time": "2023-01-13T11:11:51.341Z"
   },
   {
    "duration": 28,
    "start_time": "2023-01-13T11:11:54.644Z"
   },
   {
    "duration": 32,
    "start_time": "2023-01-13T11:12:04.557Z"
   },
   {
    "duration": 24,
    "start_time": "2023-01-13T11:12:07.937Z"
   },
   {
    "duration": 10,
    "start_time": "2023-01-13T11:12:11.971Z"
   },
   {
    "duration": 7,
    "start_time": "2023-01-13T11:12:33.593Z"
   },
   {
    "duration": 11,
    "start_time": "2023-01-13T11:12:41.626Z"
   },
   {
    "duration": 16,
    "start_time": "2023-01-13T11:12:55.595Z"
   },
   {
    "duration": 17,
    "start_time": "2023-01-13T11:13:01.037Z"
   },
   {
    "duration": 18,
    "start_time": "2023-01-13T11:46:03.711Z"
   },
   {
    "duration": 8,
    "start_time": "2023-01-13T11:46:41.539Z"
   },
   {
    "duration": 18,
    "start_time": "2023-01-13T11:49:10.618Z"
   },
   {
    "duration": 9,
    "start_time": "2023-01-13T11:52:30.605Z"
   },
   {
    "duration": 9,
    "start_time": "2023-01-13T11:53:24.733Z"
   },
   {
    "duration": 23,
    "start_time": "2023-01-13T11:53:48.779Z"
   },
   {
    "duration": 11,
    "start_time": "2023-01-13T11:54:35.747Z"
   },
   {
    "duration": 10,
    "start_time": "2023-01-13T11:55:09.018Z"
   },
   {
    "duration": 8,
    "start_time": "2023-01-13T11:55:35.404Z"
   },
   {
    "duration": 9,
    "start_time": "2023-01-13T11:57:59.856Z"
   },
   {
    "duration": 10,
    "start_time": "2023-01-13T11:58:49.053Z"
   },
   {
    "duration": 9,
    "start_time": "2023-01-13T12:04:37.942Z"
   },
   {
    "duration": 3,
    "start_time": "2023-01-13T12:05:14.790Z"
   },
   {
    "duration": 185,
    "start_time": "2023-01-13T12:05:20.509Z"
   },
   {
    "duration": 6,
    "start_time": "2023-01-13T12:05:25.510Z"
   },
   {
    "duration": 29,
    "start_time": "2023-01-13T12:05:29.638Z"
   },
   {
    "duration": 3,
    "start_time": "2023-01-13T12:05:37.389Z"
   },
   {
    "duration": 4,
    "start_time": "2023-01-13T12:05:41.717Z"
   },
   {
    "duration": 11,
    "start_time": "2023-01-13T12:05:45.927Z"
   },
   {
    "duration": 4,
    "start_time": "2023-01-13T12:05:49.927Z"
   },
   {
    "duration": 40,
    "start_time": "2023-01-13T12:05:54.599Z"
   },
   {
    "duration": 31,
    "start_time": "2023-01-13T12:05:59.111Z"
   },
   {
    "duration": 25,
    "start_time": "2023-01-13T12:06:03.454Z"
   },
   {
    "duration": 65,
    "start_time": "2023-01-13T12:06:07.773Z"
   },
   {
    "duration": 67,
    "start_time": "2023-01-13T12:06:11.510Z"
   },
   {
    "duration": 64,
    "start_time": "2023-01-13T12:06:15.448Z"
   },
   {
    "duration": 53,
    "start_time": "2023-01-13T12:06:20.311Z"
   },
   {
    "duration": 12,
    "start_time": "2023-01-13T12:06:25.070Z"
   },
   {
    "duration": 54,
    "start_time": "2023-01-13T12:06:29.018Z"
   },
   {
    "duration": 13,
    "start_time": "2023-01-13T12:06:35.238Z"
   },
   {
    "duration": 13,
    "start_time": "2023-01-13T12:06:38.879Z"
   },
   {
    "duration": 26,
    "start_time": "2023-01-13T12:06:44.848Z"
   },
   {
    "duration": 19,
    "start_time": "2023-01-13T12:06:52.829Z"
   },
   {
    "duration": 24,
    "start_time": "2023-01-13T12:06:56.006Z"
   },
   {
    "duration": 23,
    "start_time": "2023-01-13T12:06:59.112Z"
   },
   {
    "duration": 17,
    "start_time": "2023-01-13T12:07:02.037Z"
   },
   {
    "duration": 20,
    "start_time": "2023-01-13T12:07:04.542Z"
   },
   {
    "duration": 17,
    "start_time": "2023-01-13T12:07:07.302Z"
   },
   {
    "duration": 10,
    "start_time": "2023-01-13T12:07:11.164Z"
   },
   {
    "duration": 24,
    "start_time": "2023-01-13T12:07:15.623Z"
   },
   {
    "duration": 15,
    "start_time": "2023-01-13T12:07:20.389Z"
   },
   {
    "duration": 7,
    "start_time": "2023-01-13T12:07:24.270Z"
   },
   {
    "duration": 20,
    "start_time": "2023-01-13T12:07:28.071Z"
   },
   {
    "duration": 13,
    "start_time": "2023-01-13T12:07:32.583Z"
   },
   {
    "duration": 19,
    "start_time": "2023-01-13T12:07:35.605Z"
   },
   {
    "duration": 15,
    "start_time": "2023-01-13T12:07:39.038Z"
   },
   {
    "duration": 12,
    "start_time": "2023-01-13T12:07:44.693Z"
   },
   {
    "duration": 11,
    "start_time": "2023-01-13T12:08:04.222Z"
   },
   {
    "duration": 8,
    "start_time": "2023-01-13T12:08:29.175Z"
   },
   {
    "duration": 8,
    "start_time": "2023-01-13T12:12:55.457Z"
   },
   {
    "duration": 9,
    "start_time": "2023-01-13T12:13:43.015Z"
   },
   {
    "duration": 12,
    "start_time": "2023-01-13T12:17:47.442Z"
   },
   {
    "duration": 8,
    "start_time": "2023-01-13T12:19:29.433Z"
   },
   {
    "duration": 8,
    "start_time": "2023-01-13T12:19:43.245Z"
   },
   {
    "duration": 8,
    "start_time": "2023-01-13T12:20:10.697Z"
   },
   {
    "duration": 4,
    "start_time": "2023-01-13T12:20:37.001Z"
   },
   {
    "duration": 10,
    "start_time": "2023-01-13T12:22:21.675Z"
   },
   {
    "duration": 10,
    "start_time": "2023-01-13T12:23:56.914Z"
   },
   {
    "duration": 8,
    "start_time": "2023-01-13T12:24:37.468Z"
   },
   {
    "duration": 12,
    "start_time": "2023-01-13T12:24:49.241Z"
   },
   {
    "duration": 8,
    "start_time": "2023-01-13T12:25:37.218Z"
   },
   {
    "duration": 11,
    "start_time": "2023-01-13T12:26:10.052Z"
   },
   {
    "duration": 10,
    "start_time": "2023-01-13T12:26:45.161Z"
   },
   {
    "duration": 14,
    "start_time": "2023-01-13T12:26:52.660Z"
   },
   {
    "duration": 5,
    "start_time": "2023-01-13T12:28:36.444Z"
   },
   {
    "duration": 4,
    "start_time": "2023-01-13T12:29:03.309Z"
   },
   {
    "duration": 8,
    "start_time": "2023-01-13T12:29:40.196Z"
   },
   {
    "duration": 8,
    "start_time": "2023-01-13T12:31:10.812Z"
   },
   {
    "duration": 9,
    "start_time": "2023-01-13T12:32:32.139Z"
   },
   {
    "duration": 8,
    "start_time": "2023-01-13T12:34:41.595Z"
   },
   {
    "duration": 400,
    "start_time": "2023-01-13T12:35:57.954Z"
   },
   {
    "duration": 191,
    "start_time": "2023-01-13T12:36:03.659Z"
   },
   {
    "duration": 9,
    "start_time": "2023-01-13T12:36:07.483Z"
   },
   {
    "duration": 33,
    "start_time": "2023-01-13T12:36:15.772Z"
   },
   {
    "duration": 2,
    "start_time": "2023-01-13T12:36:21.340Z"
   },
   {
    "duration": 4,
    "start_time": "2023-01-13T12:36:25.539Z"
   },
   {
    "duration": 15,
    "start_time": "2023-01-13T12:36:39.780Z"
   },
   {
    "duration": 3,
    "start_time": "2023-01-13T12:36:44.245Z"
   },
   {
    "duration": 34,
    "start_time": "2023-01-13T12:36:49.691Z"
   },
   {
    "duration": 18,
    "start_time": "2023-01-13T12:36:56.946Z"
   },
   {
    "duration": 25,
    "start_time": "2023-01-13T12:37:00.780Z"
   },
   {
    "duration": 92,
    "start_time": "2023-01-13T12:37:05.211Z"
   },
   {
    "duration": 70,
    "start_time": "2023-01-13T12:37:08.563Z"
   },
   {
    "duration": 66,
    "start_time": "2023-01-13T12:37:12.051Z"
   },
   {
    "duration": 41,
    "start_time": "2023-01-13T12:37:16.341Z"
   },
   {
    "duration": 11,
    "start_time": "2023-01-13T12:37:22.403Z"
   },
   {
    "duration": 42,
    "start_time": "2023-01-13T12:37:26.563Z"
   },
   {
    "duration": 11,
    "start_time": "2023-01-13T12:37:33.993Z"
   },
   {
    "duration": 11,
    "start_time": "2023-01-13T12:37:37.685Z"
   },
   {
    "duration": 25,
    "start_time": "2023-01-13T12:37:41.808Z"
   },
   {
    "duration": 18,
    "start_time": "2023-01-13T12:37:50.835Z"
   },
   {
    "duration": 17,
    "start_time": "2023-01-13T12:37:54.105Z"
   },
   {
    "duration": 16,
    "start_time": "2023-01-13T12:37:57.500Z"
   },
   {
    "duration": 15,
    "start_time": "2023-01-13T12:38:01.051Z"
   },
   {
    "duration": 18,
    "start_time": "2023-01-13T12:38:03.862Z"
   },
   {
    "duration": 23,
    "start_time": "2023-01-13T12:38:08.955Z"
   },
   {
    "duration": 10,
    "start_time": "2023-01-13T12:38:12.665Z"
   },
   {
    "duration": 16,
    "start_time": "2023-01-13T12:38:19.779Z"
   },
   {
    "duration": 5,
    "start_time": "2023-01-13T12:38:25.829Z"
   },
   {
    "duration": 15,
    "start_time": "2023-01-13T12:38:36.059Z"
   },
   {
    "duration": 4,
    "start_time": "2023-01-13T12:38:40.345Z"
   },
   {
    "duration": 21,
    "start_time": "2023-01-13T12:38:47.104Z"
   },
   {
    "duration": 13,
    "start_time": "2023-01-13T12:38:51.243Z"
   },
   {
    "duration": 18,
    "start_time": "2023-01-13T12:38:54.948Z"
   },
   {
    "duration": 16,
    "start_time": "2023-01-13T12:40:03.802Z"
   },
   {
    "duration": 4,
    "start_time": "2023-01-13T12:40:12.181Z"
   },
   {
    "duration": 67,
    "start_time": "2023-01-13T12:40:31.948Z"
   },
   {
    "duration": 7,
    "start_time": "2023-01-13T12:43:46.615Z"
   },
   {
    "duration": 10,
    "start_time": "2023-01-13T12:48:44.199Z"
   },
   {
    "duration": 10,
    "start_time": "2023-01-13T12:51:39.430Z"
   },
   {
    "duration": 9,
    "start_time": "2023-01-13T12:53:27.005Z"
   },
   {
    "duration": 8,
    "start_time": "2023-01-13T12:54:06.497Z"
   },
   {
    "duration": 9,
    "start_time": "2023-01-13T12:56:44.710Z"
   },
   {
    "duration": 8,
    "start_time": "2023-01-13T12:56:55.520Z"
   },
   {
    "duration": 3,
    "start_time": "2023-01-13T12:57:55.664Z"
   },
   {
    "duration": 19,
    "start_time": "2023-01-13T12:58:19.143Z"
   },
   {
    "duration": 16,
    "start_time": "2023-01-13T12:58:24.703Z"
   },
   {
    "duration": 5,
    "start_time": "2023-01-13T12:58:30.817Z"
   },
   {
    "duration": 18,
    "start_time": "2023-01-13T12:58:35.550Z"
   },
   {
    "duration": 12,
    "start_time": "2023-01-13T12:58:39.117Z"
   },
   {
    "duration": 18,
    "start_time": "2023-01-13T12:58:42.591Z"
   },
   {
    "duration": 12,
    "start_time": "2023-01-13T12:58:46.208Z"
   },
   {
    "duration": 8,
    "start_time": "2023-01-13T12:58:50.351Z"
   },
   {
    "duration": 9,
    "start_time": "2023-01-13T12:59:04.512Z"
   },
   {
    "duration": 4,
    "start_time": "2023-01-13T12:59:28.375Z"
   },
   {
    "duration": 9,
    "start_time": "2023-01-13T13:00:24.434Z"
   },
   {
    "duration": 10,
    "start_time": "2023-01-13T13:01:00.050Z"
   },
   {
    "duration": 9,
    "start_time": "2023-01-13T13:01:45.241Z"
   },
   {
    "duration": 10,
    "start_time": "2023-01-13T13:02:26.704Z"
   },
   {
    "duration": 9,
    "start_time": "2023-01-13T13:03:21.601Z"
   },
   {
    "duration": 4,
    "start_time": "2023-01-13T13:04:38.434Z"
   },
   {
    "duration": 10,
    "start_time": "2023-01-13T13:05:34.256Z"
   },
   {
    "duration": 14,
    "start_time": "2023-01-13T13:06:17.160Z"
   },
   {
    "duration": 11,
    "start_time": "2023-01-13T13:06:32.913Z"
   },
   {
    "duration": 17,
    "start_time": "2023-01-13T13:18:54.011Z"
   },
   {
    "duration": 13,
    "start_time": "2023-01-13T13:20:52.829Z"
   },
   {
    "duration": 9,
    "start_time": "2023-01-13T13:22:21.101Z"
   },
   {
    "duration": 5,
    "start_time": "2023-01-13T13:24:45.276Z"
   },
   {
    "duration": 7,
    "start_time": "2023-01-13T13:25:36.183Z"
   },
   {
    "duration": 5,
    "start_time": "2023-01-13T13:26:48.822Z"
   }
  ],
  "colab": {
   "collapsed_sections": [
    "E0vqbgi9ay0H",
    "VUC88oWjTJw2"
   ],
   "name": "automatization_template_upd4.ipynb",
   "provenance": []
  },
  "kernelspec": {
   "display_name": "Python 3 (ipykernel)",
   "language": "python",
   "name": "python3"
  },
  "language_info": {
   "codemirror_mode": {
    "name": "ipython",
    "version": 3
   },
   "file_extension": ".py",
   "mimetype": "text/x-python",
   "name": "python",
   "nbconvert_exporter": "python",
   "pygments_lexer": "ipython3",
   "version": "3.9.13"
  },
  "toc": {
   "base_numbering": 1,
   "nav_menu": {
    "height": "215px",
    "width": "403px"
   },
   "number_sections": true,
   "sideBar": true,
   "skip_h1_title": true,
   "title_cell": "Table of Contents",
   "title_sidebar": "Contents",
   "toc_cell": false,
   "toc_position": {
    "height": "calc(100% - 180px)",
    "left": "10px",
    "top": "150px",
    "width": "285.825px"
   },
   "toc_section_display": true,
   "toc_window_display": false
  }
 },
 "nbformat": 4,
 "nbformat_minor": 1
}
