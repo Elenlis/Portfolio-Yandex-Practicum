{
 "cells": [
  {
   "cell_type": "markdown",
   "id": "c9a686bb",
   "metadata": {},
   "source": [
    "# Проект1 \n",
    "# Яндекс Музыка  "
   ]
  },
  {
   "cell_type": "markdown",
   "id": "cb9a0746",
   "metadata": {},
   "source": [
    "<a id='step_0'></a><h3>План работы</h3>\n",
    "\n",
    "\n",
    "[1. Получение и обзор данных.](#step_1)      \n",
    "[2. Предобработка данных](#step_2)     \n",
    "[3. Проверка гипотез.](#step_3)    \n",
    "[3.1. Действительно ли музыку в разных городах слушают по-разному?](#step_3.1)   \n",
    "[3.2. Утро понедельника и вечер пятницы — разная музыка или одна и та же?](#step_3.2)  \n",
    "[3.3. Москва и Питер — две разные столицы, два разных направления в музыке. Правда?](#step_3.3)    \n",
    "[4. Результаты исследования](#step_4)   \n"
   ]
  },
  {
   "cell_type": "markdown",
   "id": "46fcfcdc",
   "metadata": {},
   "source": [
    "<a id='step_1'></a><h3>1. Получение и обзор данных</h3>\n",
    "\n",
    "[К плану работ](#step_0)   \n",
    "\n",
    "\n",
    "Составим первое представление о данных сервиса Яндекс Музыки."
   ]
  },
  {
   "cell_type": "code",
   "execution_count": 1,
   "id": "94886d7d",
   "metadata": {},
   "outputs": [],
   "source": [
    "# импорт библиотеки pandas\n",
    "\n",
    "import pandas as pd"
   ]
  },
  {
   "cell_type": "markdown",
   "id": "1ce1cdb2",
   "metadata": {},
   "source": [
    "Прочитаем файл *music_project.csv* и сохраним его в переменной *df*. "
   ]
  },
  {
   "cell_type": "code",
   "execution_count": 2,
   "id": "409477ed",
   "metadata": {},
   "outputs": [],
   "source": [
    "# чтение файла с данными и сохранение в df\n",
    "df = pd.read_csv('/datasets/yandex_music_project.csv')"
   ]
  },
  {
   "cell_type": "markdown",
   "id": "352baa4f",
   "metadata": {},
   "source": [
    "Получение первых 10 строк таблицы."
   ]
  },
  {
   "cell_type": "code",
   "execution_count": 3,
   "id": "a18bc39e",
   "metadata": {},
   "outputs": [
    {
     "name": "stdout",
     "output_type": "stream",
     "text": [
      "     userID                        Track            artist   genre  \\\n",
      "0  FFB692EC            Kamigata To Boots  The Mass Missile    rock   \n",
      "1  55204538  Delayed Because of Accident  Andreas Rönnberg    rock   \n",
      "2    20EC38            Funiculì funiculà       Mario Lanza     pop   \n",
      "3  A3DD03C9        Dragons in the Sunset        Fire + Ice    folk   \n",
      "4  E2DC1FAE                  Soul People        Space Echo   dance   \n",
      "5  842029A1                    Преданная         IMPERVTOR  rusrap   \n",
      "6  4CB90AA5                         True      Roman Messer   dance   \n",
      "7  F03E1C1F             Feeling This Way   Polina Griffith   dance   \n",
      "8  8FA1D3BE     И вновь продолжается бой               NaN  ruspop   \n",
      "9  E772D5C0                    Pessimist               NaN   dance   \n",
      "\n",
      "             City        time        Day  \n",
      "0  Saint-Petersburg  20:28:33  Wednesday  \n",
      "1            Moscow  14:07:09     Friday  \n",
      "2  Saint-Petersburg  20:58:07  Wednesday  \n",
      "3  Saint-Petersburg  08:37:09     Monday  \n",
      "4            Moscow  08:34:34     Monday  \n",
      "5  Saint-Petersburg  13:09:41     Friday  \n",
      "6            Moscow  13:00:07  Wednesday  \n",
      "7            Moscow  20:47:49  Wednesday  \n",
      "8            Moscow  09:17:40     Friday  \n",
      "9  Saint-Petersburg  21:20:49  Wednesday  \n"
     ]
    }
   ],
   "source": [
    "# Получение первых 10 строк таблицы.\n",
    "print(df.head(10))"
   ]
  },
  {
   "cell_type": "markdown",
   "id": "987af58e",
   "metadata": {},
   "source": [
    "Общая информация о данных таблицы *df*."
   ]
  },
  {
   "cell_type": "code",
   "execution_count": 4,
   "id": "84f32176",
   "metadata": {},
   "outputs": [
    {
     "name": "stdout",
     "output_type": "stream",
     "text": [
      "<class 'pandas.core.frame.DataFrame'>\n",
      "RangeIndex: 65079 entries, 0 to 65078\n",
      "Data columns (total 7 columns):\n",
      " #   Column    Non-Null Count  Dtype \n",
      "---  ------    --------------  ----- \n",
      " 0     userID  65079 non-null  object\n",
      " 1   Track     63848 non-null  object\n",
      " 2   artist    57876 non-null  object\n",
      " 3   genre     63881 non-null  object\n",
      " 4     City    65079 non-null  object\n",
      " 5   time      65079 non-null  object\n",
      " 6   Day       65079 non-null  object\n",
      "dtypes: object(7)\n",
      "memory usage: 3.5+ MB\n"
     ]
    }
   ],
   "source": [
    "# Общая информация о данных таблицы df.\n",
    "df.info()"
   ]
  },
  {
   "cell_type": "markdown",
   "id": "2272018c",
   "metadata": {},
   "source": [
    "Рассмотрим полученную информацию подробнее.\n",
    "\n",
    "Всего в таблице 7 столбцов, тип данных у каждого столбца - строковый.\n",
    "\n",
    "Подробно разберём, какие в *df* столбцы и какую информацию они содержат:\n",
    "\n",
    "* userID — идентификатор пользователя;\n",
    "* Track — название трека;  \n",
    "* artist — имя исполнителя;\n",
    "* genre — название жанра;\n",
    "* City — город, в котором происходило прослушивание;\n",
    "* time — время, в которое пользователь слушал трек;\n",
    "* Day — день недели.\n",
    "\n",
    "Количество значений в столбцах различается. Это говорит о том, что в данных есть пропущенные значения.\n",
    "\n"
   ]
  },
  {
   "cell_type": "markdown",
   "id": "d5f25676",
   "metadata": {},
   "source": [
    "**Выводы**"
   ]
  },
  {
   "cell_type": "markdown",
   "id": "1f1ade2c",
   "metadata": {},
   "source": [
    "Каждая строка таблицы содержит информацию о композициях определённого жанра в определённом исполнении, которые пользователи слушали в одном из городов в определённое время и день недели. Две проблемы, которые нужно решать: пропуски и некачественные названия столбцов. Для проверки рабочих гипотез особенно ценны столбцы *time*, *day* и *City*. Данные из столбца *genre* позволят узнать самые популярные жанры."
   ]
  },
  {
   "cell_type": "markdown",
   "id": "2520003d",
   "metadata": {},
   "source": [
    "<a id='step_2'></a><h3>2. Предобработка данных</h3>\n",
    "\n",
    "[К плану работ](#step_0)   \n"
   ]
  },
  {
   "cell_type": "markdown",
   "id": "f5bacbca",
   "metadata": {},
   "source": [
    "Исключим пропуски, переименуем столбцы, а также проверим данные на наличие дубликатов."
   ]
  },
  {
   "cell_type": "markdown",
   "id": "abf77772",
   "metadata": {},
   "source": [
    "Получаем перечень названий столбцов. Какая наблюдается проблема — кроме тех, что уже были названы ранее?"
   ]
  },
  {
   "cell_type": "code",
   "execution_count": 5,
   "id": "76877e93",
   "metadata": {},
   "outputs": [
    {
     "name": "stdout",
     "output_type": "stream",
     "text": [
      "Index(['  userID', 'Track', 'artist', 'genre', '  City  ', 'time', 'Day'], dtype='object')\n"
     ]
    }
   ],
   "source": [
    "# перечень названий столбцов таблицы df\n",
    "print(df.columns)\n"
   ]
  },
  {
   "cell_type": "markdown",
   "id": "86d02e50",
   "metadata": {},
   "source": [
    "В названиях столбцов есть пробелы, которые могут затруднять доступ к данным."
   ]
  },
  {
   "cell_type": "markdown",
   "id": "78917792",
   "metadata": {},
   "source": [
    "Переименуем столбцы для удобства дальнейшей работы. Проверим результат."
   ]
  },
  {
   "cell_type": "code",
   "execution_count": 6,
   "id": "57b9eaa3",
   "metadata": {},
   "outputs": [],
   "source": [
    "# переименование столбцов\n",
    "df = df.rename(columns={'  userID': 'user_id', 'Track': 'track', '  City  ': 'city', 'Day': 'day'})"
   ]
  },
  {
   "cell_type": "code",
   "execution_count": 7,
   "id": "b86ea76d",
   "metadata": {},
   "outputs": [
    {
     "name": "stdout",
     "output_type": "stream",
     "text": [
      "Index(['user_id', 'track', 'artist', 'genre', 'city', 'time', 'day'], dtype='object')\n"
     ]
    }
   ],
   "source": [
    "# проверка результатов - перечень названий столбцов\n",
    "print(df.columns)"
   ]
  },
  {
   "cell_type": "markdown",
   "id": "45ad5acb",
   "metadata": {},
   "source": [
    "Проверим данные на наличие пропусков вызовом набора методов для суммирования пропущенных значений."
   ]
  },
  {
   "cell_type": "code",
   "execution_count": 8,
   "id": "7299a69b",
   "metadata": {},
   "outputs": [
    {
     "data": {
      "text/plain": [
       "user_id       0\n",
       "track      1231\n",
       "artist     7203\n",
       "genre      1198\n",
       "city          0\n",
       "time          0\n",
       "day           0\n",
       "dtype: int64"
      ]
     },
     "execution_count": 8,
     "metadata": {},
     "output_type": "execute_result"
    }
   ],
   "source": [
    "# суммарное количество пропусков, выявленных методом isna() в таблице df\n",
    "df.isna().sum()\n"
   ]
  },
  {
   "cell_type": "markdown",
   "id": "4b97a9b7",
   "metadata": {},
   "source": [
    "Пустые значения свидетельствуют, что для некоторых треков доступна не вся информация. Причины могут быть разные: скажем,  не назван конкретный исполнитель народной песни. Хуже, если проблемы с записью данных. Каждый отдельный случай необходимо разобрать и выявить причину."
   ]
  },
  {
   "cell_type": "markdown",
   "id": "b08981b6",
   "metadata": {},
   "source": [
    "Заменяем пропущенные значения в столбцах с названием трека и исполнителя на строку 'unknown'. После этой операции нужно убедиться, что таблица больше не содержит пропусков."
   ]
  },
  {
   "cell_type": "code",
   "execution_count": 9,
   "id": "1c432931",
   "metadata": {
    "scrolled": true
   },
   "outputs": [],
   "source": [
    "# перебор названий столбцов 'track', 'artist', 'genre' в цикле и замена пропущенных значений на 'unknown'\n",
    "columns_to_replace = ['track', 'artist', 'genre']\n",
    "for column in columns_to_replace:\n",
    "    df[column] = df[column].fillna('unknown') "
   ]
  },
  {
   "cell_type": "code",
   "execution_count": 10,
   "id": "68524e63",
   "metadata": {},
   "outputs": [
    {
     "data": {
      "text/plain": [
       "user_id    0\n",
       "track      0\n",
       "artist     0\n",
       "genre      0\n",
       "city       0\n",
       "time       0\n",
       "day        0\n",
       "dtype: int64"
      ]
     },
     "execution_count": 10,
     "metadata": {},
     "output_type": "execute_result"
    }
   ],
   "source": [
    "# проверка: вычисление суммарного количества пропусков, выявленных в таблице df\n",
    "df.isna().sum()"
   ]
  },
  {
   "cell_type": "markdown",
   "id": "e9c11bb9",
   "metadata": {},
   "source": [
    "Необходимо установить наличие дубликатов.  Если найдутся, удаляем, и проверяем, все ли удалились."
   ]
  },
  {
   "cell_type": "code",
   "execution_count": 11,
   "id": "fbe6f7be",
   "metadata": {},
   "outputs": [
    {
     "data": {
      "text/plain": [
       "3826"
      ]
     },
     "execution_count": 11,
     "metadata": {},
     "output_type": "execute_result"
    }
   ],
   "source": [
    "# получение суммарного количества явных дубликатов в таблице df\n",
    "df.duplicated().sum()"
   ]
  },
  {
   "cell_type": "markdown",
   "id": "66ab8ebf",
   "metadata": {},
   "source": [
    "Итого в таблице 3826 дубликатов"
   ]
  },
  {
   "cell_type": "code",
   "execution_count": 12,
   "id": "1501b559",
   "metadata": {},
   "outputs": [],
   "source": [
    "# удаление всех дубликатов из таблицы df специальным методом\n",
    "df = df.drop_duplicates()"
   ]
  },
  {
   "cell_type": "code",
   "execution_count": 13,
   "id": "b22ab07b",
   "metadata": {},
   "outputs": [
    {
     "data": {
      "text/plain": [
       "0"
      ]
     },
     "execution_count": 13,
     "metadata": {},
     "output_type": "execute_result"
    }
   ],
   "source": [
    "# проверка на отсутствие дубликатов\n",
    "df.duplicated().sum()"
   ]
  },
  {
   "cell_type": "markdown",
   "id": "5aa02b4c",
   "metadata": {},
   "source": [
    "Дубликаты могли появиться вследствие сбоя в записи данных. Стоит обратить внимание и разобраться с причинами появления такого «информационного мусора»."
   ]
  },
  {
   "cell_type": "markdown",
   "id": "11b3360e",
   "metadata": {},
   "source": [
    "Выведем на экран список уникальных названий жанров, отсортированный в алфавитном порядке."
   ]
  },
  {
   "cell_type": "code",
   "execution_count": 14,
   "id": "19fd5075",
   "metadata": {
    "scrolled": true
   },
   "outputs": [
    {
     "name": "stdout",
     "output_type": "stream",
     "text": [
      "['acid' 'acoustic' 'action' 'adult' 'africa' 'afrikaans' 'alternative'\n",
      " 'alternativepunk' 'ambient' 'americana' 'animated' 'anime' 'arabesk'\n",
      " 'arabic' 'arena' 'argentinetango' 'art' 'audiobook' 'author' 'avantgarde'\n",
      " 'axé' 'baile' 'balkan' 'beats' 'bigroom' 'black' 'bluegrass' 'blues'\n",
      " 'bollywood' 'bossa' 'brazilian' 'breakbeat' 'breaks' 'broadway'\n",
      " 'cantautori' 'cantopop' 'canzone' 'caribbean' 'caucasian' 'celtic'\n",
      " 'chamber' 'chanson' 'children' 'chill' 'chinese' 'choral' 'christian'\n",
      " 'christmas' 'classical' 'classicmetal' 'club' 'colombian' 'comedy'\n",
      " 'conjazz' 'contemporary' 'country' 'cuban' 'dance' 'dancehall' 'dancepop'\n",
      " 'dark' 'death' 'deep' 'deutschrock' 'deutschspr' 'dirty' 'disco' 'dnb'\n",
      " 'documentary' 'downbeat' 'downtempo' 'drum' 'dub' 'dubstep' 'eastern'\n",
      " 'easy' 'electronic' 'electropop' 'emo' 'entehno' 'epicmetal' 'estrada'\n",
      " 'ethnic' 'eurofolk' 'european' 'experimental' 'extrememetal' 'fado'\n",
      " 'fairytail' 'film' 'fitness' 'flamenco' 'folk' 'folklore' 'folkmetal'\n",
      " 'folkrock' 'folktronica' 'forró' 'frankreich' 'französisch' 'french'\n",
      " 'funk' 'future' 'gangsta' 'garage' 'german' 'ghazal' 'gitarre' 'glitch'\n",
      " 'gospel' 'gothic' 'grime' 'grunge' 'gypsy' 'handsup' \"hard'n'heavy\"\n",
      " 'hardcore' 'hardstyle' 'hardtechno' 'hip' 'hip-hop' 'hiphop' 'historisch'\n",
      " 'holiday' 'hop' 'horror' 'house' 'hymn' 'idm' 'independent' 'indian'\n",
      " 'indie' 'indipop' 'industrial' 'inspirational' 'instrumental'\n",
      " 'international' 'irish' 'jam' 'japanese' 'jazz' 'jewish' 'jpop' 'jungle'\n",
      " 'k-pop' 'karadeniz' 'karaoke' 'kayokyoku' 'korean' 'laiko' 'latin'\n",
      " 'latino' 'leftfield' 'local' 'lounge' 'loungeelectronic' 'lovers'\n",
      " 'malaysian' 'mandopop' 'marschmusik' 'meditative' 'mediterranean'\n",
      " 'melodic' 'metal' 'metalcore' 'mexican' 'middle' 'minimal'\n",
      " 'miscellaneous' 'modern' 'mood' 'mpb' 'muslim' 'native' 'neoklassik'\n",
      " 'neue' 'new' 'newage' 'newwave' 'nu' 'nujazz' 'numetal' 'oceania' 'old'\n",
      " 'opera' 'orchestral' 'other' 'piano' 'podcasts' 'pop' 'popdance'\n",
      " 'popelectronic' 'popeurodance' 'poprussian' 'post' 'posthardcore'\n",
      " 'postrock' 'power' 'progmetal' 'progressive' 'psychedelic' 'punjabi'\n",
      " 'punk' 'quebecois' 'ragga' 'ram' 'rancheras' 'rap' 'rave' 'reggae'\n",
      " 'reggaeton' 'regional' 'relax' 'religious' 'retro' 'rhythm' 'rnb' 'rnr'\n",
      " 'rock' 'rockabilly' 'rockalternative' 'rockindie' 'rockother' 'romance'\n",
      " 'roots' 'ruspop' 'rusrap' 'rusrock' 'russian' 'salsa' 'samba' 'scenic'\n",
      " 'schlager' 'self' 'sertanejo' 'shanson' 'shoegazing' 'showtunes' 'singer'\n",
      " 'ska' 'skarock' 'slow' 'smooth' 'soft' 'soul' 'soulful' 'sound'\n",
      " 'soundtrack' 'southern' 'specialty' 'speech' 'spiritual' 'sport'\n",
      " 'stonerrock' 'surf' 'swing' 'synthpop' 'synthrock' 'sängerportrait'\n",
      " 'tango' 'tanzorchester' 'taraftar' 'tatar' 'tech' 'techno' 'teen'\n",
      " 'thrash' 'top' 'traditional' 'tradjazz' 'trance' 'tribal' 'trip'\n",
      " 'triphop' 'tropical' 'türk' 'türkçe' 'ukrrock' 'unknown' 'urban' 'uzbek'\n",
      " 'variété' 'vi' 'videogame' 'vocal' 'western' 'world' 'worldbeat' 'ïîï'\n",
      " 'электроника']\n"
     ]
    }
   ],
   "source": [
    "# Просмотр уникальных названий жанров\n",
    "print(df['genre'].sort_values().unique())"
   ]
  },
  {
   "cell_type": "code",
   "execution_count": 15,
   "id": "6cfe35fa",
   "metadata": {},
   "outputs": [
    {
     "name": "stdout",
     "output_type": "stream",
     "text": [
      "290\n"
     ]
    }
   ],
   "source": [
    "# подсчитаем количество уникальных названий жанров\n",
    "print(df['genre'].nunique())"
   ]
  },
  {
   "cell_type": "markdown",
   "id": "067845bd",
   "metadata": {},
   "source": [
    "Мы видим неявные дубликаты названия `hiphop`:\n",
    "* *hip*,\n",
    "* *hop*,\n",
    "* *hip-hop*.\n",
    "\n",
    "Чтобы очистить от них таблицу используем метод `replace()` с двумя аргументами: списком строк-дубликатов (включащий *hip*, *hop* и *hip-hop*) и строкой с правильным значением. "
   ]
  },
  {
   "cell_type": "code",
   "execution_count": 16,
   "id": "2ed8196c",
   "metadata": {
    "scrolled": true
   },
   "outputs": [],
   "source": [
    "duplicates = ['hip','hop','hip-hop']\n",
    "name = 'hiphop'\n",
    "# Устранение неявных дубликатов\n",
    "df['genre'] = df['genre'].replace(duplicates, name)"
   ]
  },
  {
   "cell_type": "code",
   "execution_count": 17,
   "id": "317c42ba",
   "metadata": {},
   "outputs": [
    {
     "data": {
      "text/plain": [
       "0"
      ]
     },
     "execution_count": 17,
     "metadata": {},
     "output_type": "execute_result"
    }
   ],
   "source": [
    "# получение суммарного количества явных дубликатов в таблице df после замены неявных дубликатов\n",
    "df.duplicated().sum()"
   ]
  },
  {
   "cell_type": "code",
   "execution_count": 18,
   "id": "c44a533a",
   "metadata": {},
   "outputs": [
    {
     "name": "stdout",
     "output_type": "stream",
     "text": [
      "287\n"
     ]
    }
   ],
   "source": [
    "# подсчитаем количество уникальных названий жанров повторно\n",
    "print(df['genre'].nunique())"
   ]
  },
  {
   "cell_type": "markdown",
   "id": "91db2d8b",
   "metadata": {},
   "source": [
    "\"Ушло\" 3 неявных дубликата названия жанра Хипхоп"
   ]
  },
  {
   "cell_type": "markdown",
   "id": "d607f629",
   "metadata": {},
   "source": [
    "Получаем общую информацию о данных. Убеждаемся, что чистка выполнена успешно."
   ]
  },
  {
   "cell_type": "code",
   "execution_count": 19,
   "id": "8df493b1",
   "metadata": {},
   "outputs": [
    {
     "name": "stdout",
     "output_type": "stream",
     "text": [
      "<class 'pandas.core.frame.DataFrame'>\n",
      "Int64Index: 61253 entries, 0 to 65078\n",
      "Data columns (total 7 columns):\n",
      " #   Column   Non-Null Count  Dtype \n",
      "---  ------   --------------  ----- \n",
      " 0   user_id  61253 non-null  object\n",
      " 1   track    61253 non-null  object\n",
      " 2   artist   61253 non-null  object\n",
      " 3   genre    61253 non-null  object\n",
      " 4   city     61253 non-null  object\n",
      " 5   time     61253 non-null  object\n",
      " 6   day      61253 non-null  object\n",
      "dtypes: object(7)\n",
      "memory usage: 3.7+ MB\n"
     ]
    }
   ],
   "source": [
    "# получение общей информации о данных таблицы df\n",
    "df.info()"
   ]
  },
  {
   "cell_type": "markdown",
   "id": "d91966be",
   "metadata": {},
   "source": [
    "**Выводы**\n",
    "\n",
    "Предобработка обнаружила три проблемы в данных:\n",
    "\n",
    "- нарушения в стиле оформления заголовков,\n",
    "- пропущенные значения,\n",
    "- дубликаты — явные и неявные.\n",
    "\n",
    "мы исправили заголовки, чтобы упростить работу с таблицей. Без дубликатов исследование станет более точным.  \n",
    "Пропущенные значения мы заменили на `'unknown'`. Ещё предстоит увидеть, не повредят ли исследованию пропуски в колонке `genre`.   \n",
    "Поскольку сведения о жанрах важно сохранить для анализа, не просто удалили все пропущенные значения, а заполнили пропущенные имена исполнителей и названия треков и жанров. Имена столбцов теперь корректны и удобны для дальнейшей работы.    \n",
    "Теперь можно перейти к проверке гипотез.  "
   ]
  },
  {
   "cell_type": "markdown",
   "id": "1b40ebcf",
   "metadata": {},
   "source": [
    "<a id='step_3'></a><h3>3. Проверка гипотез</h3>\n",
    "\n",
    "[К плану работ](#step_0)   "
   ]
  },
  {
   "cell_type": "markdown",
   "id": "fee19fc1",
   "metadata": {},
   "source": [
    "<a id='step_3.1'></a><h3>3.1 Действительно ли музыку в разных городах слушают по-разному?</h3>\n",
    "\n",
    "[К плану работ](#step_0) "
   ]
  },
  {
   "cell_type": "markdown",
   "id": "ded97498",
   "metadata": {},
   "source": [
    "Была выдвинута гипотеза, что в Москве и Санкт-Петербурге пользователи слушают музыку по-разному. Проверяем это предположение по данным о трёх днях недели — понедельнике, среде и пятнице.\n",
    "\n",
    "Для каждого города устанавливаем количество прослушанных  в эти дни композиций с известным жанром, и сравниваем результаты."
   ]
  },
  {
   "cell_type": "markdown",
   "id": "366c0e19",
   "metadata": {},
   "source": [
    "Группируем данные по городу и вызовом метода *count()* подсчитываем композиции, для которых известен жанр."
   ]
  },
  {
   "cell_type": "code",
   "execution_count": 20,
   "id": "9862c985",
   "metadata": {
    "scrolled": true
   },
   "outputs": [
    {
     "name": "stdout",
     "output_type": "stream",
     "text": [
      "city\n",
      "Moscow              42741\n",
      "Saint-Petersburg    18512\n",
      "Name: genre, dtype: int64\n"
     ]
    }
   ],
   "source": [
    "# группировка данных таблицы df по столбцу 'city' и подсчёт количества значений столбца 'genre'\n",
    "city_grouping = df.groupby('city')['genre'].count()\n",
    "print(city_grouping)\n",
    "# Подсчёт прослушиваний в каждом городе"
   ]
  },
  {
   "cell_type": "code",
   "execution_count": 21,
   "id": "c1f7eeba",
   "metadata": {},
   "outputs": [
    {
     "name": "stdout",
     "output_type": "stream",
     "text": [
      "city\n",
      "Moscow              29358\n",
      "Saint-Petersburg    12423\n",
      "Name: user_id, dtype: int64\n"
     ]
    }
   ],
   "source": [
    "# группировка данных таблицы df по столбцу 'city' и подсчёт количества уникальных пользователей значений столбца 'user_id'\n",
    "city_grouping2 = df.groupby('city')['user_id'].nunique()\n",
    "print(city_grouping2)# подсчет уникальных слушателей в Москве и Санкт-Петербурге"
   ]
  },
  {
   "cell_type": "markdown",
   "id": "f946e0da",
   "metadata": {},
   "source": [
    "В Москве прослушиваний больше, чем в Питере, но это не значит, что Москва более активна. У Яндекс.Музыки в целом больше пользователей в Москве, поэтому величины сопоставимы."
   ]
  },
  {
   "cell_type": "markdown",
   "id": "75a44c54",
   "metadata": {},
   "source": [
    "Сгруппируем данные по дню недели и подсчитаем прослушанные в понедельник, среду и пятницу композиции, для которых известен жанр."
   ]
  },
  {
   "cell_type": "code",
   "execution_count": 22,
   "id": "4f3d0945",
   "metadata": {},
   "outputs": [
    {
     "name": "stdout",
     "output_type": "stream",
     "text": [
      "day\n",
      "Friday       21840\n",
      "Monday       21354\n",
      "Wednesday    18059\n",
      "Name: city, dtype: int64\n"
     ]
    }
   ],
   "source": [
    "# группировка данных по столбцу 'day' и подсчёт количества значений столбца 'city'\n",
    "day_grouping = df.groupby('day')['city'].count()\n",
    "print(day_grouping)# Подсчёт прослушиваний в каждый из трёх дней"
   ]
  },
  {
   "cell_type": "markdown",
   "id": "884cf206",
   "metadata": {},
   "source": [
    "В среднем пользователи из двух городов менее активны по средам. Но картина может измениться, если рассмотреть каждый город в отдельности."
   ]
  },
  {
   "cell_type": "markdown",
   "id": "1f35086e",
   "metadata": {},
   "source": [
    "Создаём функцию number_tracks(), которая принимает как параметры таблицу, день недели и название города, а возвращает количество прослушанных композиций, для которых известен жанр. Проверяем количество прослушанных композиций для каждого города и понедельника, затем среды и пятницы."
   ]
  },
  {
   "cell_type": "code",
   "execution_count": 23,
   "id": "33816447",
   "metadata": {},
   "outputs": [
    {
     "data": {
      "text/plain": [
       "15740"
      ]
     },
     "execution_count": 23,
     "metadata": {},
     "output_type": "execute_result"
    }
   ],
   "source": [
    "# создание функции number_tracks()\n",
    "# объявляется функция с тремя параметрами: df, day, city\n",
    "def number_tracks(day, city):\n",
    "    # в переменной track_list_day сохраняются те строки таблицы df, для которых \n",
    "    # значение в столбце 'day' равно параметру day\n",
    "    track_list_day = df[df['day'] == day]\n",
    "    # и одновременно значение в столбце 'city' равно параметру city\n",
    "    track_list = track_list_day[track_list_day['city'] == city]\n",
    "    # в переменной track_list_count сохраняется число значений столбца 'user_id',\n",
    "    # рассчитанное методом count() для таблицы track_list\n",
    "    track_list_count = track_list['user_id'].count()\n",
    "    # функция возвращает значение track_list_count    \n",
    "    return track_list_count\n",
    "\n",
    "\n",
    "# проверим как работает функция, подставив Понедельник и Москва\n",
    "number_tracks('Monday', 'Moscow') "
   ]
  },
  {
   "cell_type": "code",
   "execution_count": 24,
   "id": "14d296a2",
   "metadata": {},
   "outputs": [
    {
     "data": {
      "text/plain": [
       "15740"
      ]
     },
     "execution_count": 24,
     "metadata": {},
     "output_type": "execute_result"
    }
   ],
   "source": [
    "# список композиций для Москвы в понедельник\n",
    "mm = number_tracks('Monday', 'Moscow')\n",
    "mm"
   ]
  },
  {
   "cell_type": "code",
   "execution_count": 25,
   "id": "6fcb7630",
   "metadata": {},
   "outputs": [
    {
     "data": {
      "text/plain": [
       "5614"
      ]
     },
     "execution_count": 25,
     "metadata": {},
     "output_type": "execute_result"
    }
   ],
   "source": [
    "# список композиций для Санкт-Петербурга в понедельник\n",
    "sm = number_tracks('Monday', 'Saint-Petersburg')\n",
    "sm"
   ]
  },
  {
   "cell_type": "code",
   "execution_count": 26,
   "id": "3b4a8f2e",
   "metadata": {},
   "outputs": [
    {
     "data": {
      "text/plain": [
       "11056"
      ]
     },
     "execution_count": 26,
     "metadata": {},
     "output_type": "execute_result"
    }
   ],
   "source": [
    "# список композиций для Москвы в среду\n",
    "mw = number_tracks('Wednesday', 'Moscow')\n",
    "mw"
   ]
  },
  {
   "cell_type": "code",
   "execution_count": 27,
   "id": "763b7510",
   "metadata": {},
   "outputs": [
    {
     "data": {
      "text/plain": [
       "7003"
      ]
     },
     "execution_count": 27,
     "metadata": {},
     "output_type": "execute_result"
    }
   ],
   "source": [
    "# список композиций для Санкт-Петербурга в среду\n",
    "sw = number_tracks('Wednesday', 'Saint-Petersburg')\n",
    "sw"
   ]
  },
  {
   "cell_type": "code",
   "execution_count": 28,
   "id": "fc1f2367",
   "metadata": {},
   "outputs": [
    {
     "data": {
      "text/plain": [
       "15945"
      ]
     },
     "execution_count": 28,
     "metadata": {},
     "output_type": "execute_result"
    }
   ],
   "source": [
    "# список композиций для Москвы в пятницу\n",
    "mf = number_tracks('Friday', 'Moscow')\n",
    "mf"
   ]
  },
  {
   "cell_type": "code",
   "execution_count": 29,
   "id": "68cb94ee",
   "metadata": {},
   "outputs": [
    {
     "data": {
      "text/plain": [
       "5895"
      ]
     },
     "execution_count": 29,
     "metadata": {},
     "output_type": "execute_result"
    }
   ],
   "source": [
    "# список композиций для Санкт-Петербурга в пятницу\n",
    "sf = number_tracks('Friday', 'Saint-Petersburg')\n",
    "sf"
   ]
  },
  {
   "cell_type": "markdown",
   "id": "80a2b46a",
   "metadata": {},
   "source": [
    "Сведём полученную информацию в одну таблицу, где ['city', 'monday', 'wednesday', 'friday'] названия столбцов."
   ]
  },
  {
   "cell_type": "code",
   "execution_count": 30,
   "id": "8ee35a77",
   "metadata": {},
   "outputs": [
    {
     "data": {
      "text/html": [
       "<div>\n",
       "<style scoped>\n",
       "    .dataframe tbody tr th:only-of-type {\n",
       "        vertical-align: middle;\n",
       "    }\n",
       "\n",
       "    .dataframe tbody tr th {\n",
       "        vertical-align: top;\n",
       "    }\n",
       "\n",
       "    .dataframe thead th {\n",
       "        text-align: right;\n",
       "    }\n",
       "</style>\n",
       "<table border=\"1\" class=\"dataframe\">\n",
       "  <thead>\n",
       "    <tr style=\"text-align: right;\">\n",
       "      <th></th>\n",
       "      <th>city</th>\n",
       "      <th>monday</th>\n",
       "      <th>wednesday</th>\n",
       "      <th>friday</th>\n",
       "    </tr>\n",
       "  </thead>\n",
       "  <tbody>\n",
       "    <tr>\n",
       "      <th>0</th>\n",
       "      <td>Москва</td>\n",
       "      <td>15740</td>\n",
       "      <td>11056</td>\n",
       "      <td>15945</td>\n",
       "    </tr>\n",
       "    <tr>\n",
       "      <th>1</th>\n",
       "      <td>Санкт-Петербург</td>\n",
       "      <td>5614</td>\n",
       "      <td>7003</td>\n",
       "      <td>5895</td>\n",
       "    </tr>\n",
       "  </tbody>\n",
       "</table>\n",
       "</div>"
      ],
      "text/plain": [
       "              city  monday  wednesday  friday\n",
       "0           Москва   15740      11056   15945\n",
       "1  Санкт-Петербург    5614       7003    5895"
      ]
     },
     "execution_count": 30,
     "metadata": {},
     "output_type": "execute_result"
    }
   ],
   "source": [
    "# таблица с полученными данными\n",
    "info = pd.DataFrame(data=[['Москва', mm, mw, mf], ['Санкт-Петербург', sm, sw, sf]], \n",
    "                    columns=['city', 'monday', 'wednesday', 'friday'])\n",
    "info\n",
    "# Таблица с результатами"
   ]
  },
  {
   "cell_type": "markdown",
   "id": "9377e9ff",
   "metadata": {},
   "source": [
    "**Вывод**"
   ]
  },
  {
   "cell_type": "markdown",
   "id": "478e428a",
   "metadata": {},
   "source": [
    "Результаты показывают, что относительно среды музыку в Петербурге и Москве слушают «зеркально»: в Москве пики приходятся на понедельник и пятницу, а в среду время прослушивания снижается. Тогда как в Санкт-Петербурге среда — день самого большого интереса к музыке, а в понедельник и пятницу он меньше, причём почти одинаково меньше."
   ]
  },
  {
   "cell_type": "markdown",
   "id": "c8acc677",
   "metadata": {},
   "source": [
    "<a id='step_3.2'></a><h3>3.2 Утро понедельника и вечер пятницы — разная музыка или одна и та же?</h3>\n",
    "\n",
    "[К плану работ](#step_0) "
   ]
  },
  {
   "cell_type": "markdown",
   "id": "403cbf59",
   "metadata": {},
   "source": [
    "Ищем ответ на вопрос, какие жанры преобладают в разных городах в понедельник утром и в пятницу вечером. Есть предположение, что в понедельник утром пользователи слушают больше бодрящей музыки (например, жанра поп), а вечером пятницы — больше танцевальных (например, электронику)."
   ]
  },
  {
   "cell_type": "markdown",
   "id": "cc84d69c",
   "metadata": {},
   "source": [
    "Получим таблицы данных по Москве *moscow_general* и по Санкт-Петербургу *spb_general*."
   ]
  },
  {
   "cell_type": "code",
   "execution_count": 31,
   "id": "cadd0fc3",
   "metadata": {},
   "outputs": [
    {
     "name": "stdout",
     "output_type": "stream",
     "text": [
      "        user_id                          track                   artist  \\\n",
      "1      55204538    Delayed Because of Accident         Andreas Rönnberg   \n",
      "4      E2DC1FAE                    Soul People               Space Echo   \n",
      "6      4CB90AA5                           True             Roman Messer   \n",
      "7      F03E1C1F               Feeling This Way          Polina Griffith   \n",
      "8      8FA1D3BE       И вновь продолжается бой                  unknown   \n",
      "...         ...                            ...                      ...   \n",
      "65073  83A474E7  I Worship Only What You Bleed  The Black Dahlia Murder   \n",
      "65074  729CBB09                        My Name                   McLean   \n",
      "65076  C5E3A0D5                      Jalopiina                  unknown   \n",
      "65077  321D0506                  Freight Train            Chas McDevitt   \n",
      "65078  3A64EF84      Tell Me Sweet Little Lies             Monica Lopez   \n",
      "\n",
      "              genre    city      time        day  \n",
      "1              rock  Moscow  14:07:09     Friday  \n",
      "4             dance  Moscow  08:34:34     Monday  \n",
      "6             dance  Moscow  13:00:07  Wednesday  \n",
      "7             dance  Moscow  20:47:49  Wednesday  \n",
      "8            ruspop  Moscow  09:17:40     Friday  \n",
      "...             ...     ...       ...        ...  \n",
      "65073  extrememetal  Moscow  21:07:12     Monday  \n",
      "65074           rnb  Moscow  13:32:28  Wednesday  \n",
      "65076    industrial  Moscow  20:09:26     Friday  \n",
      "65077          rock  Moscow  21:43:59     Friday  \n",
      "65078       country  Moscow  21:59:46     Friday  \n",
      "\n",
      "[42741 rows x 7 columns]\n"
     ]
    }
   ],
   "source": [
    "# получение таблицы moscow_general из тех строк таблицы df, \n",
    "# для которых значение в столбце 'city' равно 'Moscow'\n",
    "moscow_general = df[df['city'] == 'Moscow']\n",
    "print(moscow_general)\n"
   ]
  },
  {
   "cell_type": "code",
   "execution_count": 32,
   "id": "14a6609d",
   "metadata": {},
   "outputs": [
    {
     "name": "stdout",
     "output_type": "stream",
     "text": [
      "        user_id                              track              artist  \\\n",
      "0      FFB692EC                  Kamigata To Boots    The Mass Missile   \n",
      "2        20EC38                  Funiculì funiculà         Mario Lanza   \n",
      "3      A3DD03C9              Dragons in the Sunset          Fire + Ice   \n",
      "5      842029A1                          Преданная           IMPERVTOR   \n",
      "9      E772D5C0                          Pessimist             unknown   \n",
      "...         ...                                ...                 ...   \n",
      "65063  D94F810B        Theme from the Walking Dead  Proyecto Halloween   \n",
      "65064  BC8EC5CF       Red Lips: Gta (Rover Rework)               Rover   \n",
      "65065  29E04611                       Bre Petrunko       Perunika Trio   \n",
      "65066  1B91C621             (Hello) Cloud Mountain     sleepmakeswaves   \n",
      "65075  D08D4A55  Maybe One Day (feat. Black Spade)         Blu & Exile   \n",
      "\n",
      "            genre              city      time        day  \n",
      "0            rock  Saint-Petersburg  20:28:33  Wednesday  \n",
      "2             pop  Saint-Petersburg  20:58:07  Wednesday  \n",
      "3            folk  Saint-Petersburg  08:37:09     Monday  \n",
      "5          rusrap  Saint-Petersburg  13:09:41     Friday  \n",
      "9           dance  Saint-Petersburg  21:20:49  Wednesday  \n",
      "...           ...               ...       ...        ...  \n",
      "65063        film  Saint-Petersburg  21:14:40     Monday  \n",
      "65064  electronic  Saint-Petersburg  21:06:50     Monday  \n",
      "65065       world  Saint-Petersburg  13:56:00     Monday  \n",
      "65066    postrock  Saint-Petersburg  09:22:13     Monday  \n",
      "65075      hiphop  Saint-Petersburg  10:00:00     Monday  \n",
      "\n",
      "[18512 rows x 7 columns]\n"
     ]
    }
   ],
   "source": [
    "# получение таблицы spb_general\n",
    "# для которых значение в столбце 'city' равно 'Saint-Petersburg'\n",
    "\n",
    "spb_general = df[df['city'] == 'Saint-Petersburg']\n",
    "print(spb_general)"
   ]
  },
  {
   "cell_type": "markdown",
   "id": "8a038cad",
   "metadata": {},
   "source": [
    "Создаём функцию *genre_weekday()*, которая возвращает список жанров по запрошенному дню недели и времени суток с такого-то часа по такой-то."
   ]
  },
  {
   "cell_type": "code",
   "execution_count": 33,
   "id": "658e2094",
   "metadata": {},
   "outputs": [],
   "source": [
    "# объявление функции genre_weekday() с параметрами df, day, time1, time2\n",
    "def genre_weekday(df, day, time1, time2):\n",
    "    # в переменной genre_df сохраняются те строки df, для которых одновременно:\n",
    "    # 1) значение в столбце 'day' равно параметру day,\n",
    "    genre_df = df[df['day'] == day]\n",
    "    # 2) значение в столбце 'time' больше time1 и\n",
    "    genre_df =  genre_df[ genre_df['time'] > time1]\n",
    "    # 3) меньше time2.\n",
    "    genre_df =  genre_df[ genre_df['time'] < time2]\n",
    "    # в переменной genre_df_grouped сохраняется  Series, полученная подсчётом числа значений столбца 'genre' \n",
    "    genre_df_grouped = genre_df.groupby('genre')['genre'].count()\n",
    "    # отсортированной по убыванию таблицы genre_df_grouped\n",
    "    genre_df_sorted = genre_df_grouped.sort_values(ascending=False)\n",
    "    # функция возвращает значение genre_df_sorted, первые 10 значений \n",
    "    return genre_df_sorted[:10]\n"
   ]
  },
  {
   "cell_type": "markdown",
   "id": "b7bad547",
   "metadata": {},
   "source": [
    "Cравниваем полученные результаты по таблице для Москвы и Санкт-Петербурга в понедельник утром (с 7 до 11) и в пятницу вечером (с 17 до 23)."
   ]
  },
  {
   "cell_type": "code",
   "execution_count": 34,
   "id": "9caa2ede",
   "metadata": {},
   "outputs": [
    {
     "data": {
      "text/plain": [
       "genre\n",
       "pop            781\n",
       "dance          549\n",
       "electronic     480\n",
       "rock           474\n",
       "hiphop         286\n",
       "ruspop         186\n",
       "world          181\n",
       "rusrap         175\n",
       "alternative    164\n",
       "unknown        161\n",
       "Name: genre, dtype: int64"
      ]
     },
     "execution_count": 34,
     "metadata": {},
     "output_type": "execute_result"
    }
   ],
   "source": [
    "# вызов функции для утра понедельника в Москве (вместо df таблица moscow_general)\n",
    "genre_weekday(moscow_general, 'Monday', '07:00', '11:00')"
   ]
  },
  {
   "cell_type": "code",
   "execution_count": 35,
   "id": "74ee5730",
   "metadata": {},
   "outputs": [
    {
     "data": {
      "text/plain": [
       "genre\n",
       "pop            218\n",
       "dance          182\n",
       "rock           162\n",
       "electronic     147\n",
       "hiphop          80\n",
       "ruspop          64\n",
       "alternative     58\n",
       "rusrap          55\n",
       "jazz            44\n",
       "classical       40\n",
       "Name: genre, dtype: int64"
      ]
     },
     "execution_count": 35,
     "metadata": {},
     "output_type": "execute_result"
    }
   ],
   "source": [
    "# вызов функции для утра понедельника в Петербурге (вместо df таблица spb_general)\n",
    "genre_weekday(spb_general, 'Monday', '07:00', '11:00')"
   ]
  },
  {
   "cell_type": "code",
   "execution_count": 36,
   "id": "b392c9c2",
   "metadata": {},
   "outputs": [
    {
     "data": {
      "text/plain": [
       "genre\n",
       "pop            713\n",
       "rock           517\n",
       "dance          495\n",
       "electronic     482\n",
       "hiphop         273\n",
       "world          208\n",
       "ruspop         170\n",
       "alternative    163\n",
       "classical      163\n",
       "rusrap         142\n",
       "Name: genre, dtype: int64"
      ]
     },
     "execution_count": 36,
     "metadata": {},
     "output_type": "execute_result"
    }
   ],
   "source": [
    "# вызов функции для вечера пятницы в Москве\n",
    "genre_weekday(moscow_general, 'Friday', '17:00', '23:00')"
   ]
  },
  {
   "cell_type": "code",
   "execution_count": 37,
   "id": "af1cbd9c",
   "metadata": {},
   "outputs": [
    {
     "data": {
      "text/plain": [
       "genre\n",
       "pop            256\n",
       "electronic     216\n",
       "rock           216\n",
       "dance          210\n",
       "hiphop          97\n",
       "alternative     63\n",
       "jazz            61\n",
       "classical       60\n",
       "rusrap          59\n",
       "world           54\n",
       "Name: genre, dtype: int64"
      ]
     },
     "execution_count": 37,
     "metadata": {},
     "output_type": "execute_result"
    }
   ],
   "source": [
    "# вызов функции для вечера пятницы в Питере\n",
    "genre_weekday(spb_general, 'Friday', '17:00', '23:00')"
   ]
  },
  {
   "cell_type": "markdown",
   "id": "d8844ea3",
   "metadata": {},
   "source": [
    "Популярные жанры в понедельник утром в Питере и Москве оказались похожи: везде, как и предполагалось, популярен поп. Несмотря на это, концовка топ-10 для двух городов различается: в Питере в топ-10 входит классика и джаз, а в Москве жанр *alternative*. Кроме того в Москве пропущенных значений оказалось так много, что значение 'unknown' заняло десятое место среди самых популярных жанров. Значит, пропущенные значения занимают существенную долю в данных и угрожают достоверности исследования.\n",
    "\n",
    "Вечер пятницы не меняет эту картину. Некоторые жанры поднимаются немного выше, другие спускаются, но в целом топ-10 остаётся тем же самым.\n",
    "\n",
    "Таким образом, вторая гипотеза подтвердилась лишь частично:\n",
    "\n",
    "Пользователи слушают похожую музыку в начале недели и в конце.\n",
    "Разница между Москвой и Петербургом не слишком выражена. В Москве чаще слушают русскую популярную музыку, в Петербурге — джаз.\n",
    "Однако пропуски в данных ставят под сомнение этот результат. В Москве их так много, что рейтинг топ-10 мог бы выглядеть иначе, если бы не утерянные данные о жанрах."
   ]
  },
  {
   "cell_type": "markdown",
   "id": "6d3d1d00",
   "metadata": {},
   "source": [
    "**Вывод**"
   ]
  },
  {
   "cell_type": "markdown",
   "id": "59155fd0",
   "metadata": {},
   "source": [
    "Жанр поп безусловный лидер, а топ-5 в целом не различается в обеих столицах. При этом видно, что концовка списка более «живая»: для каждого города выделяются более характерные жанры, которые действительно меняют свои позиции в зависимости от дня недели и времени."
   ]
  },
  {
   "cell_type": "markdown",
   "id": "8dff426f",
   "metadata": {},
   "source": [
    "<a id='step_3.3'></a><h3>3.3 Москва и Питер — две разные столицы, два разных направления в музыке. Правда?</h3>\n",
    "\n",
    "[К плану работ](#step_0)  "
   ]
  },
  {
   "cell_type": "markdown",
   "id": "56d8592e",
   "metadata": {},
   "source": [
    "Гипотеза: Питер богат своей рэп-культурой, поэтому это направление там слушают чаще, а Москва — город контрастов, но основная масса пользователей слушает попсу.\n"
   ]
  },
  {
   "cell_type": "markdown",
   "id": "4ff8ad1c",
   "metadata": {},
   "source": [
    "Сгруппируем таблицу *moscow_general* по жанру, сосчитаем численность композиций каждого жанра методом *count()*, отсортируем в порядке убывания и сохраним результат в таблице *moscow_genres*.\n",
    "\n",
    "Просмотрим первые 10 строк этой новой таблицы."
   ]
  },
  {
   "cell_type": "code",
   "execution_count": 38,
   "id": "96e9aca9",
   "metadata": {},
   "outputs": [],
   "source": [
    "# одной строкой: группировка таблицы moscow_general по столбцу 'genre', \n",
    "# подсчёт числа значений 'genre' в этой группировке методом count(), \n",
    "# сортировка Series в порядке убывания и сохранение в moscow_genres\n",
    "moscow_genres = moscow_general.groupby('genre')['genre'].count().sort_values(ascending=False)"
   ]
  },
  {
   "cell_type": "code",
   "execution_count": 39,
   "id": "0cc2e94b",
   "metadata": {},
   "outputs": [
    {
     "name": "stdout",
     "output_type": "stream",
     "text": [
      "genre\n",
      "pop            5892\n",
      "dance          4435\n",
      "rock           3965\n",
      "electronic     3786\n",
      "hiphop         2096\n",
      "classical      1616\n",
      "world          1432\n",
      "alternative    1379\n",
      "ruspop         1372\n",
      "rusrap         1161\n",
      "Name: genre, dtype: int64\n"
     ]
    }
   ],
   "source": [
    "# просмотр первых 10 строк moscow_genres\n",
    "print(moscow_genres.head(10))"
   ]
  },
  {
   "cell_type": "markdown",
   "id": "5f59deab",
   "metadata": {},
   "source": [
    "Сгруппируем таблицу *spb_general* по жанру, сосчитаем численность композиций каждого жанра методом *count()*, отсортируем в порядке убывания и сохраним результат в таблице *spb_genres*.\n",
    "\n",
    "Просматриваем первые 10 строк этой таблицы. Теперь можно сравнивать два города."
   ]
  },
  {
   "cell_type": "code",
   "execution_count": 40,
   "id": "76473bd6",
   "metadata": {},
   "outputs": [],
   "source": [
    "# группировка таблицы spb_general, расчёт, сохранение в spb_genres\n",
    "spb_genres = spb_general.groupby('genre')['genre'].count().sort_values(ascending=False)"
   ]
  },
  {
   "cell_type": "code",
   "execution_count": 41,
   "id": "f35509b8",
   "metadata": {},
   "outputs": [
    {
     "name": "stdout",
     "output_type": "stream",
     "text": [
      "genre\n",
      "pop            2431\n",
      "dance          1932\n",
      "rock           1879\n",
      "electronic     1736\n",
      "hiphop          960\n",
      "alternative     649\n",
      "classical       646\n",
      "rusrap          564\n",
      "ruspop          538\n",
      "world           515\n",
      "Name: genre, dtype: int64\n"
     ]
    }
   ],
   "source": [
    "# просмотр первых 10 строк spb_genres\n",
    "print(spb_genres.head(10))"
   ]
  },
  {
   "cell_type": "markdown",
   "id": "d5c3fc76",
   "metadata": {},
   "source": [
    "**Вывод**"
   ]
  },
  {
   "cell_type": "markdown",
   "id": "f8348063",
   "metadata": {},
   "source": [
    "Гипотеза частично подтвердилась:\n",
    "\n",
    "Поп-музыка — самый популярный жанр в Москве, как и предполагала гипотеза. Более того, в топ-10 жанров встречается близкий жанр — русская популярная музыка.\n",
    "Вопреки ожиданиям, рэп одинаково популярен в Москве и Петербурге."
   ]
  },
  {
   "cell_type": "markdown",
   "id": "f0d0e7c2",
   "metadata": {},
   "source": [
    "<a id='step_4'></a><h3>4. Результаты исследования</h3>\n",
    "\n",
    "[К плану работ](#step_0)   "
   ]
  },
  {
   "cell_type": "markdown",
   "id": "11fdbec2",
   "metadata": {},
   "source": [
    "Рабочие гипотезы:\n",
    "\n",
    "* музыку в двух городах — Москве и Санкт-Петербурге — слушают в разном режиме;\n",
    "\n",
    "* списки десяти самых популярных жанров утром в понедельник и вечером в пятницу имеют характерные отличия;\n",
    "\n",
    "* население двух городов предпочитает разные музыкальные жанры.   \n",
    "\n",
    "\n",
    "1. День недели по-разному влияет на активность пользователей в Москве и Петербурге. \n",
    "2. Музыкальные предпочтения не сильно меняются в течение недели — будь то Москва или Петербург. Небольшие различия заметны в начале недели, по понедельникам:\n",
    "* в Москве слушают музыку жанра “world”,\n",
    "* в Петербурге — джаз и классику.\n",
    "3. Во вкусах пользователей Москвы и Петербурга больше общего чем различий. Вопреки ожиданиям, предпочтения жанров в Петербурге напоминают московские.\n",
    "\n",
    "\n",
    "**Общие результаты**\n",
    "\n",
    "Москва и Петербург сходятся во вкусах: везде преобладает популярная музыка. При этом зависимости предпочтений от дня недели в каждом отдельном городе нет — люди постоянно слушают то, что им нравится. Но между городами в разрезе дней недели наблюдается зеркальность относительно среды: Москва больше слушает в понедельник и пятницу, а Петербург наоборот - больше в среду, но меньше в понедельник и пятницу.\n",
    "\n",
    "В результате первая гипотеза полностью подтвердилась, вторая гипотеза вторая гипотеза подтвердилась лишь отчасти и третья не подтверждена.\n",
    "\n",
    "\n"
   ]
  }
 ],
 "metadata": {
  "ExecuteTimeLog": [
   {
    "duration": 387,
    "start_time": "2023-09-14T12:12:29.466Z"
   },
   {
    "duration": 174,
    "start_time": "2023-09-14T12:13:48.991Z"
   },
   {
    "duration": 7,
    "start_time": "2023-09-14T12:15:04.280Z"
   },
   {
    "duration": 32,
    "start_time": "2023-09-14T12:16:19.521Z"
   },
   {
    "duration": 392,
    "start_time": "2023-09-14T12:19:53.483Z"
   },
   {
    "duration": 161,
    "start_time": "2023-09-14T12:19:53.877Z"
   },
   {
    "duration": 10,
    "start_time": "2023-09-14T12:19:54.040Z"
   },
   {
    "duration": 148,
    "start_time": "2023-09-14T12:19:54.052Z"
   },
   {
    "duration": 4,
    "start_time": "2023-09-14T12:26:03.435Z"
   },
   {
    "duration": 2,
    "start_time": "2023-09-14T12:28:52.999Z"
   },
   {
    "duration": 29,
    "start_time": "2023-09-14T12:31:07.389Z"
   },
   {
    "duration": 2216,
    "start_time": "2023-09-14T12:34:16.001Z"
   },
   {
    "duration": 410,
    "start_time": "2023-09-14T12:34:26.530Z"
   },
   {
    "duration": 164,
    "start_time": "2023-09-14T12:34:26.941Z"
   },
   {
    "duration": 9,
    "start_time": "2023-09-14T12:34:27.107Z"
   },
   {
    "duration": 49,
    "start_time": "2023-09-14T12:34:27.118Z"
   },
   {
    "duration": 29,
    "start_time": "2023-09-14T12:34:27.169Z"
   },
   {
    "duration": 28,
    "start_time": "2023-09-14T12:34:27.200Z"
   },
   {
    "duration": 28,
    "start_time": "2023-09-14T12:34:27.229Z"
   },
   {
    "duration": 49,
    "start_time": "2023-09-14T12:34:27.259Z"
   },
   {
    "duration": 25,
    "start_time": "2023-09-14T12:34:27.310Z"
   },
   {
    "duration": 4,
    "start_time": "2023-09-14T12:34:27.336Z"
   },
   {
    "duration": 28,
    "start_time": "2023-09-14T12:39:36.753Z"
   },
   {
    "duration": 95,
    "start_time": "2023-09-14T12:44:45.630Z"
   },
   {
    "duration": 70,
    "start_time": "2023-09-14T12:46:04.818Z"
   },
   {
    "duration": 44,
    "start_time": "2023-09-14T12:58:25.374Z"
   },
   {
    "duration": 12,
    "start_time": "2023-09-14T13:00:09.446Z"
   },
   {
    "duration": 13,
    "start_time": "2023-09-14T13:02:31.576Z"
   },
   {
    "duration": 16,
    "start_time": "2023-09-14T13:03:47.407Z"
   },
   {
    "duration": 30,
    "start_time": "2023-09-14T13:06:10.938Z"
   },
   {
    "duration": 62,
    "start_time": "2023-09-14T13:08:45.588Z"
   },
   {
    "duration": 417,
    "start_time": "2023-09-14T13:08:56.273Z"
   },
   {
    "duration": 158,
    "start_time": "2023-09-14T13:08:56.692Z"
   },
   {
    "duration": 8,
    "start_time": "2023-09-14T13:08:56.853Z"
   },
   {
    "duration": 47,
    "start_time": "2023-09-14T13:08:56.863Z"
   },
   {
    "duration": 13,
    "start_time": "2023-09-14T13:08:56.912Z"
   },
   {
    "duration": 25,
    "start_time": "2023-09-14T13:08:56.926Z"
   },
   {
    "duration": 30,
    "start_time": "2023-09-14T13:08:56.952Z"
   },
   {
    "duration": 39,
    "start_time": "2023-09-14T13:08:56.984Z"
   },
   {
    "duration": 18,
    "start_time": "2023-09-14T13:08:57.025Z"
   },
   {
    "duration": 29,
    "start_time": "2023-09-14T13:08:57.044Z"
   },
   {
    "duration": 69,
    "start_time": "2023-09-14T13:08:57.075Z"
   },
   {
    "duration": 69,
    "start_time": "2023-09-14T13:08:57.146Z"
   },
   {
    "duration": 75,
    "start_time": "2023-09-14T13:08:57.218Z"
   },
   {
    "duration": 141,
    "start_time": "2023-09-14T13:08:57.295Z"
   },
   {
    "duration": 0,
    "start_time": "2023-09-14T13:08:57.438Z"
   },
   {
    "duration": 0,
    "start_time": "2023-09-14T13:08:57.439Z"
   },
   {
    "duration": 0,
    "start_time": "2023-09-14T13:08:57.439Z"
   },
   {
    "duration": 0,
    "start_time": "2023-09-14T13:08:57.440Z"
   },
   {
    "duration": 0,
    "start_time": "2023-09-14T13:08:57.441Z"
   },
   {
    "duration": 41,
    "start_time": "2023-09-14T13:09:25.212Z"
   },
   {
    "duration": 11,
    "start_time": "2023-09-14T13:09:25.884Z"
   },
   {
    "duration": 65,
    "start_time": "2023-09-14T13:09:27.211Z"
   },
   {
    "duration": 10,
    "start_time": "2023-09-14T13:09:27.900Z"
   },
   {
    "duration": 28,
    "start_time": "2023-09-14T13:09:30.643Z"
   },
   {
    "duration": 11,
    "start_time": "2023-09-14T13:10:10.164Z"
   },
   {
    "duration": 58,
    "start_time": "2023-09-14T13:10:10.908Z"
   },
   {
    "duration": 15,
    "start_time": "2023-09-14T13:10:53.778Z"
   },
   {
    "duration": 26,
    "start_time": "2023-09-14T13:10:56.129Z"
   },
   {
    "duration": 11,
    "start_time": "2023-09-14T13:19:41.697Z"
   },
   {
    "duration": 64,
    "start_time": "2023-09-14T13:21:04.811Z"
   },
   {
    "duration": 10,
    "start_time": "2023-09-14T13:21:28.813Z"
   },
   {
    "duration": 26,
    "start_time": "2023-09-14T13:25:23.963Z"
   },
   {
    "duration": 21,
    "start_time": "2023-09-14T13:25:55.740Z"
   },
   {
    "duration": 11,
    "start_time": "2023-09-14T13:34:06.286Z"
   },
   {
    "duration": 18,
    "start_time": "2023-09-14T13:39:43.510Z"
   },
   {
    "duration": 420,
    "start_time": "2023-09-14T14:10:17.015Z"
   },
   {
    "duration": 178,
    "start_time": "2023-09-14T14:10:17.437Z"
   },
   {
    "duration": 10,
    "start_time": "2023-09-14T14:10:17.617Z"
   },
   {
    "duration": 54,
    "start_time": "2023-09-14T14:10:17.629Z"
   },
   {
    "duration": 43,
    "start_time": "2023-09-14T14:10:17.684Z"
   },
   {
    "duration": 61,
    "start_time": "2023-09-14T14:10:17.729Z"
   },
   {
    "duration": 34,
    "start_time": "2023-09-14T14:10:17.793Z"
   },
   {
    "duration": 71,
    "start_time": "2023-09-14T14:10:17.829Z"
   },
   {
    "duration": 34,
    "start_time": "2023-09-14T14:10:17.902Z"
   },
   {
    "duration": 66,
    "start_time": "2023-09-14T14:10:17.939Z"
   },
   {
    "duration": 108,
    "start_time": "2023-09-14T14:10:18.007Z"
   },
   {
    "duration": 96,
    "start_time": "2023-09-14T14:10:18.117Z"
   },
   {
    "duration": 110,
    "start_time": "2023-09-14T14:10:18.244Z"
   },
   {
    "duration": 96,
    "start_time": "2023-09-14T14:10:18.356Z"
   },
   {
    "duration": 11,
    "start_time": "2023-09-14T14:10:18.453Z"
   },
   {
    "duration": 33,
    "start_time": "2023-09-14T14:10:18.466Z"
   },
   {
    "duration": 119,
    "start_time": "2023-09-14T14:10:18.501Z"
   },
   {
    "duration": 12,
    "start_time": "2023-09-14T14:10:18.624Z"
   },
   {
    "duration": 36,
    "start_time": "2023-09-14T14:10:18.643Z"
   },
   {
    "duration": 12,
    "start_time": "2023-09-14T14:10:18.681Z"
   },
   {
    "duration": 32,
    "start_time": "2023-09-14T14:10:18.694Z"
   },
   {
    "duration": 28,
    "start_time": "2023-09-14T14:10:18.727Z"
   },
   {
    "duration": 19,
    "start_time": "2023-09-14T14:10:18.757Z"
   },
   {
    "duration": 141,
    "start_time": "2023-09-14T14:21:01.195Z"
   },
   {
    "duration": 27,
    "start_time": "2023-09-14T14:21:19.656Z"
   },
   {
    "duration": 29,
    "start_time": "2023-09-14T14:21:50.448Z"
   },
   {
    "duration": 3,
    "start_time": "2023-09-14T14:22:56.473Z"
   },
   {
    "duration": 3,
    "start_time": "2023-09-14T14:23:12.783Z"
   },
   {
    "duration": 2,
    "start_time": "2023-09-14T14:23:27.810Z"
   },
   {
    "duration": 3,
    "start_time": "2023-09-14T14:23:44.913Z"
   },
   {
    "duration": 2,
    "start_time": "2023-09-14T14:23:54.649Z"
   },
   {
    "duration": 3,
    "start_time": "2023-09-14T14:24:12.137Z"
   },
   {
    "duration": 3,
    "start_time": "2023-09-14T14:24:41.808Z"
   },
   {
    "duration": 94,
    "start_time": "2023-09-14T14:24:55.249Z"
   },
   {
    "duration": 4,
    "start_time": "2023-09-14T14:26:27.660Z"
   },
   {
    "duration": 2,
    "start_time": "2023-09-14T14:26:38.299Z"
   },
   {
    "duration": 4,
    "start_time": "2023-09-14T14:27:05.691Z"
   },
   {
    "duration": 2,
    "start_time": "2023-09-14T14:27:39.871Z"
   },
   {
    "duration": 3,
    "start_time": "2023-09-14T14:27:50.706Z"
   },
   {
    "duration": 2,
    "start_time": "2023-09-14T14:28:00.005Z"
   },
   {
    "duration": 2,
    "start_time": "2023-09-14T14:28:11.876Z"
   },
   {
    "duration": 3,
    "start_time": "2023-09-14T14:29:58.985Z"
   },
   {
    "duration": 3,
    "start_time": "2023-09-14T14:30:08.550Z"
   },
   {
    "duration": 3,
    "start_time": "2023-09-14T14:30:38.245Z"
   },
   {
    "duration": 3,
    "start_time": "2023-09-14T14:30:47.909Z"
   },
   {
    "duration": 405,
    "start_time": "2023-09-14T14:31:58.310Z"
   },
   {
    "duration": 172,
    "start_time": "2023-09-14T14:31:58.717Z"
   },
   {
    "duration": 8,
    "start_time": "2023-09-14T14:31:58.891Z"
   },
   {
    "duration": 52,
    "start_time": "2023-09-14T14:31:58.902Z"
   },
   {
    "duration": 7,
    "start_time": "2023-09-14T14:31:58.956Z"
   },
   {
    "duration": 26,
    "start_time": "2023-09-14T14:31:58.964Z"
   },
   {
    "duration": 20,
    "start_time": "2023-09-14T14:31:58.992Z"
   },
   {
    "duration": 40,
    "start_time": "2023-09-14T14:31:59.014Z"
   },
   {
    "duration": 31,
    "start_time": "2023-09-14T14:31:59.055Z"
   },
   {
    "duration": 28,
    "start_time": "2023-09-14T14:31:59.089Z"
   },
   {
    "duration": 108,
    "start_time": "2023-09-14T14:31:59.119Z"
   },
   {
    "duration": 71,
    "start_time": "2023-09-14T14:31:59.229Z"
   },
   {
    "duration": 63,
    "start_time": "2023-09-14T14:31:59.302Z"
   },
   {
    "duration": 43,
    "start_time": "2023-09-14T14:31:59.367Z"
   },
   {
    "duration": 32,
    "start_time": "2023-09-14T14:31:59.412Z"
   },
   {
    "duration": 13,
    "start_time": "2023-09-14T14:31:59.446Z"
   },
   {
    "duration": 78,
    "start_time": "2023-09-14T14:31:59.460Z"
   },
   {
    "duration": 16,
    "start_time": "2023-09-14T14:31:59.540Z"
   },
   {
    "duration": 50,
    "start_time": "2023-09-14T14:31:59.558Z"
   },
   {
    "duration": 16,
    "start_time": "2023-09-14T14:31:59.610Z"
   },
   {
    "duration": 33,
    "start_time": "2023-09-14T14:31:59.628Z"
   },
   {
    "duration": 10,
    "start_time": "2023-09-14T14:31:59.663Z"
   },
   {
    "duration": 18,
    "start_time": "2023-09-14T14:31:59.675Z"
   },
   {
    "duration": 11,
    "start_time": "2023-09-14T14:31:59.694Z"
   },
   {
    "duration": 6,
    "start_time": "2023-09-14T14:31:59.707Z"
   },
   {
    "duration": 10,
    "start_time": "2023-09-14T14:31:59.714Z"
   },
   {
    "duration": 3,
    "start_time": "2023-09-14T14:31:59.743Z"
   },
   {
    "duration": 2,
    "start_time": "2023-09-14T14:31:59.750Z"
   },
   {
    "duration": 7,
    "start_time": "2023-09-14T14:31:59.754Z"
   },
   {
    "duration": 4,
    "start_time": "2023-09-14T14:31:59.763Z"
   },
   {
    "duration": 10,
    "start_time": "2023-09-14T14:31:59.769Z"
   },
   {
    "duration": 5,
    "start_time": "2023-09-14T14:31:59.781Z"
   },
   {
    "duration": 18,
    "start_time": "2023-09-14T14:31:59.787Z"
   },
   {
    "duration": 17,
    "start_time": "2023-09-14T14:31:59.807Z"
   },
   {
    "duration": 4,
    "start_time": "2023-09-14T14:31:59.825Z"
   },
   {
    "duration": 5,
    "start_time": "2023-09-14T14:31:59.831Z"
   },
   {
    "duration": 5,
    "start_time": "2023-09-14T14:31:59.838Z"
   },
   {
    "duration": 6,
    "start_time": "2023-09-14T14:31:59.844Z"
   },
   {
    "duration": 5,
    "start_time": "2023-09-14T14:31:59.851Z"
   },
   {
    "duration": 21,
    "start_time": "2023-09-14T14:31:59.857Z"
   },
   {
    "duration": 4,
    "start_time": "2023-09-14T14:31:59.880Z"
   },
   {
    "duration": 18,
    "start_time": "2023-09-14T14:33:31.473Z"
   },
   {
    "duration": 16,
    "start_time": "2023-09-14T14:34:01.135Z"
   },
   {
    "duration": 15,
    "start_time": "2023-09-14T14:34:29.102Z"
   },
   {
    "duration": 19,
    "start_time": "2023-09-14T14:34:52.175Z"
   },
   {
    "duration": 25,
    "start_time": "2023-09-14T14:35:15.910Z"
   },
   {
    "duration": 17,
    "start_time": "2023-09-14T14:35:37.551Z"
   },
   {
    "duration": 421,
    "start_time": "2023-09-14T14:44:41.864Z"
   },
   {
    "duration": 193,
    "start_time": "2023-09-14T14:44:42.287Z"
   },
   {
    "duration": 9,
    "start_time": "2023-09-14T14:44:42.482Z"
   },
   {
    "duration": 49,
    "start_time": "2023-09-14T14:44:42.494Z"
   },
   {
    "duration": 4,
    "start_time": "2023-09-14T14:44:42.545Z"
   },
   {
    "duration": 38,
    "start_time": "2023-09-14T14:44:42.551Z"
   },
   {
    "duration": 9,
    "start_time": "2023-09-14T14:44:42.591Z"
   },
   {
    "duration": 46,
    "start_time": "2023-09-14T14:44:42.601Z"
   },
   {
    "duration": 26,
    "start_time": "2023-09-14T14:44:42.648Z"
   },
   {
    "duration": 34,
    "start_time": "2023-09-14T14:44:42.678Z"
   },
   {
    "duration": 89,
    "start_time": "2023-09-14T14:44:42.714Z"
   },
   {
    "duration": 82,
    "start_time": "2023-09-14T14:44:42.805Z"
   },
   {
    "duration": 67,
    "start_time": "2023-09-14T14:44:42.889Z"
   },
   {
    "duration": 42,
    "start_time": "2023-09-14T14:44:42.957Z"
   },
   {
    "duration": 9,
    "start_time": "2023-09-14T14:44:43.001Z"
   },
   {
    "duration": 41,
    "start_time": "2023-09-14T14:44:43.011Z"
   },
   {
    "duration": 83,
    "start_time": "2023-09-14T14:44:43.054Z"
   },
   {
    "duration": 10,
    "start_time": "2023-09-14T14:44:43.138Z"
   },
   {
    "duration": 43,
    "start_time": "2023-09-14T14:44:43.150Z"
   },
   {
    "duration": 50,
    "start_time": "2023-09-14T14:44:43.195Z"
   },
   {
    "duration": 21,
    "start_time": "2023-09-14T14:44:43.247Z"
   },
   {
    "duration": 19,
    "start_time": "2023-09-14T14:44:43.270Z"
   },
   {
    "duration": 30,
    "start_time": "2023-09-14T14:44:43.291Z"
   },
   {
    "duration": 58,
    "start_time": "2023-09-14T14:44:43.323Z"
   },
   {
    "duration": 43,
    "start_time": "2023-09-14T14:44:43.383Z"
   },
   {
    "duration": 49,
    "start_time": "2023-09-14T14:44:43.428Z"
   },
   {
    "duration": 46,
    "start_time": "2023-09-14T14:44:43.479Z"
   },
   {
    "duration": 17,
    "start_time": "2023-09-14T14:44:43.529Z"
   },
   {
    "duration": 38,
    "start_time": "2023-09-14T14:44:43.548Z"
   },
   {
    "duration": 43,
    "start_time": "2023-09-14T14:44:43.588Z"
   },
   {
    "duration": 41,
    "start_time": "2023-09-14T14:44:43.633Z"
   },
   {
    "duration": 14,
    "start_time": "2023-09-14T14:44:43.676Z"
   },
   {
    "duration": 37,
    "start_time": "2023-09-14T14:44:43.692Z"
   },
   {
    "duration": 16,
    "start_time": "2023-09-14T14:44:43.731Z"
   },
   {
    "duration": 48,
    "start_time": "2023-09-14T14:44:43.749Z"
   },
   {
    "duration": 39,
    "start_time": "2023-09-14T14:44:43.799Z"
   },
   {
    "duration": 10,
    "start_time": "2023-09-14T14:44:43.840Z"
   },
   {
    "duration": 33,
    "start_time": "2023-09-14T14:44:43.852Z"
   },
   {
    "duration": 29,
    "start_time": "2023-09-14T14:44:43.887Z"
   },
   {
    "duration": 49,
    "start_time": "2023-09-14T14:44:43.919Z"
   },
   {
    "duration": 26,
    "start_time": "2023-09-14T14:44:43.971Z"
   },
   {
    "duration": 9,
    "start_time": "2023-09-14T14:45:07.787Z"
   },
   {
    "duration": 20,
    "start_time": "2023-09-14T14:46:00.377Z"
   },
   {
    "duration": 15,
    "start_time": "2023-09-14T14:47:11.691Z"
   },
   {
    "duration": 69,
    "start_time": "2023-09-14T15:00:57.476Z"
   },
   {
    "duration": 4,
    "start_time": "2023-09-14T15:01:03.100Z"
   },
   {
    "duration": 23,
    "start_time": "2023-09-14T15:01:04.374Z"
   },
   {
    "duration": 14,
    "start_time": "2023-09-14T15:01:45.427Z"
   },
   {
    "duration": 16,
    "start_time": "2023-09-14T15:02:10.022Z"
   },
   {
    "duration": 14,
    "start_time": "2023-09-14T15:02:27.811Z"
   },
   {
    "duration": 21,
    "start_time": "2023-09-14T15:05:23.704Z"
   },
   {
    "duration": 8,
    "start_time": "2023-09-14T15:15:12.984Z"
   },
   {
    "duration": 4,
    "start_time": "2023-09-14T15:15:15.207Z"
   },
   {
    "duration": 5,
    "start_time": "2023-09-14T15:15:43.183Z"
   },
   {
    "duration": 5,
    "start_time": "2023-09-14T15:15:59.762Z"
   },
   {
    "duration": 423,
    "start_time": "2023-09-14T15:27:47.335Z"
   },
   {
    "duration": 178,
    "start_time": "2023-09-14T15:27:47.760Z"
   },
   {
    "duration": 13,
    "start_time": "2023-09-14T15:27:47.939Z"
   },
   {
    "duration": 41,
    "start_time": "2023-09-14T15:27:47.956Z"
   },
   {
    "duration": 3,
    "start_time": "2023-09-14T15:27:47.999Z"
   },
   {
    "duration": 37,
    "start_time": "2023-09-14T15:27:48.004Z"
   },
   {
    "duration": 14,
    "start_time": "2023-09-14T15:27:48.043Z"
   },
   {
    "duration": 44,
    "start_time": "2023-09-14T15:27:48.060Z"
   },
   {
    "duration": 23,
    "start_time": "2023-09-14T15:27:48.106Z"
   },
   {
    "duration": 45,
    "start_time": "2023-09-14T15:27:48.131Z"
   },
   {
    "duration": 76,
    "start_time": "2023-09-14T15:27:48.178Z"
   },
   {
    "duration": 67,
    "start_time": "2023-09-14T15:27:48.260Z"
   },
   {
    "duration": 75,
    "start_time": "2023-09-14T15:27:48.328Z"
   },
   {
    "duration": 58,
    "start_time": "2023-09-14T15:27:48.404Z"
   },
   {
    "duration": 14,
    "start_time": "2023-09-14T15:27:48.464Z"
   },
   {
    "duration": 10,
    "start_time": "2023-09-14T15:27:48.479Z"
   },
   {
    "duration": 75,
    "start_time": "2023-09-14T15:27:48.491Z"
   },
   {
    "duration": 12,
    "start_time": "2023-09-14T15:27:48.568Z"
   },
   {
    "duration": 74,
    "start_time": "2023-09-14T15:27:48.582Z"
   },
   {
    "duration": 12,
    "start_time": "2023-09-14T15:27:48.658Z"
   },
   {
    "duration": 19,
    "start_time": "2023-09-14T15:27:48.671Z"
   },
   {
    "duration": 11,
    "start_time": "2023-09-14T15:27:48.692Z"
   },
   {
    "duration": 41,
    "start_time": "2023-09-14T15:27:48.704Z"
   },
   {
    "duration": 23,
    "start_time": "2023-09-14T15:27:48.748Z"
   },
   {
    "duration": 13,
    "start_time": "2023-09-14T15:27:48.772Z"
   },
   {
    "duration": 15,
    "start_time": "2023-09-14T15:27:48.787Z"
   },
   {
    "duration": 43,
    "start_time": "2023-09-14T15:27:48.803Z"
   },
   {
    "duration": 22,
    "start_time": "2023-09-14T15:27:48.852Z"
   },
   {
    "duration": 13,
    "start_time": "2023-09-14T15:27:48.876Z"
   },
   {
    "duration": 8,
    "start_time": "2023-09-14T15:27:48.891Z"
   },
   {
    "duration": 24,
    "start_time": "2023-09-14T15:27:48.901Z"
   },
   {
    "duration": 21,
    "start_time": "2023-09-14T15:27:48.946Z"
   },
   {
    "duration": 3,
    "start_time": "2023-09-14T15:27:48.969Z"
   },
   {
    "duration": 20,
    "start_time": "2023-09-14T15:27:48.974Z"
   },
   {
    "duration": 13,
    "start_time": "2023-09-14T15:27:48.995Z"
   },
   {
    "duration": 47,
    "start_time": "2023-09-14T15:27:49.009Z"
   },
   {
    "duration": 18,
    "start_time": "2023-09-14T15:27:49.058Z"
   },
   {
    "duration": 12,
    "start_time": "2023-09-14T15:27:49.077Z"
   },
   {
    "duration": 4,
    "start_time": "2023-09-14T15:27:49.090Z"
   },
   {
    "duration": 9,
    "start_time": "2023-09-14T15:27:49.095Z"
   },
   {
    "duration": 3,
    "start_time": "2023-09-14T15:27:49.106Z"
   }
  ],
  "kernelspec": {
   "display_name": "Python 3 (ipykernel)",
   "language": "python",
   "name": "python3"
  },
  "language_info": {
   "codemirror_mode": {
    "name": "ipython",
    "version": 3
   },
   "file_extension": ".py",
   "mimetype": "text/x-python",
   "name": "python",
   "nbconvert_exporter": "python",
   "pygments_lexer": "ipython3",
   "version": "3.9.5"
  },
  "toc": {
   "base_numbering": 1,
   "nav_menu": {},
   "number_sections": false,
   "sideBar": true,
   "skip_h1_title": true,
   "title_cell": "Table of Contents",
   "title_sidebar": "Contents",
   "toc_cell": false,
   "toc_position": {},
   "toc_section_display": true,
   "toc_window_display": false
  }
 },
 "nbformat": 4,
 "nbformat_minor": 5
}
