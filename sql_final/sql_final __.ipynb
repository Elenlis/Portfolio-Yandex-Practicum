{
 "cells": [
  {
   "cell_type": "markdown",
   "metadata": {},
   "source": [
    "# Проект по SQL  (финальный)  \n",
    "\n",
    "### Цели исследования\n",
    "Коронавирус застал мир врасплох, изменив привычный порядок вещей. В свободное время жители городов больше не выходят на улицу, не посещают кафе и торговые центры. Зато стало больше времени для книг. Это заметили стартаперы — и бросились создавать приложения для тех, кто любит читать.    \n",
    "Ваша компания решила быть на волне и купила крупный сервис для чтения книг по подписке. Ваша первая **задача как аналитика — проанализировать базу данных**.    \n",
    "В ней — информация о книгах, издательствах, авторах, а также пользовательские обзоры книг. Эти данные помогут **сформулировать ценностное предложение для нового продукта**.  \n",
    "\n",
    "### Описание данных    \n",
    "\n",
    "**Таблица books**  \n",
    "Содержит данные о книгах:  \n",
    "- book_id — идентификатор книги;  \n",
    "- author_id — идентификатор автора;  \n",
    "- title — название книги;  \n",
    "- num_pages — количество страниц;  \n",
    "- publication_date — дата публикации книги;  \n",
    "- publisher_id — идентификатор издателя.  \n",
    "**Таблица authors**  \n",
    "Содержит данные об авторах:  \n",
    " - author_id — идентификатор автора;  \n",
    " - author — имя автора.  \n",
    "**Таблица publishers**  \n",
    "Содержит данные об издательствах:  \n",
    " - publisher_id — идентификатор издательства;  \n",
    " - publisher — название издательства;  \n",
    "**Таблица ratings**  \n",
    "Содержит данные о пользовательских оценках книг:  \n",
    " - rating_id — идентификатор оценки;  \n",
    " - book_id — идентификатор книги;  \n",
    " - username — имя пользователя, оставившего оценку;  \n",
    " - rating — оценка книги.  \n",
    "**Таблица reviews**  \n",
    "Содержит данные о пользовательских обзорах:  \n",
    " - review_id — идентификатор обзора;  \n",
    " - book_id — идентификатор книги;  \n",
    " - username — имя автора обзора;  \n",
    " - text — текст обзора.  \n",
    "\n",
    "\n",
    "\n",
    "\n"
   ]
  },
  {
   "cell_type": "markdown",
   "metadata": {},
   "source": [
    "<a id='step_0'></a><h3>План работы</h3>\n",
    "\n",
    "\n",
    "[1. Подключиться к БД.](#step_1)   \n",
    "[2. Провести исследование таблиц — вывести первые строки.](#step_2)    \n",
    "[3. Посчитать, сколько книг вышло после 1 января 2000 года.](#step_3)  \n",
    "[4. Для каждой книги посчитать количество обзоров и среднюю оценку.](#step_4)  \n",
    "[5. Определить издательство, которое выпустило наибольшее число книг толще 50 страниц.](#step_5)   \n",
    "[6. Определить автора с самой высокой средней оценкой книг — учитывать только книги с 50 и более оценками.](#step_6)   \n",
    "[7. Посчитать среднее количество обзоров от пользователей, которые поставили больше 48 оценок.](#step_7)   \n",
    "[8. Выводы](#step_8)"
   ]
  },
  {
   "cell_type": "markdown",
   "metadata": {},
   "source": [
    "<a id='step_1'></a><h3>1. Подключиться к БД</h3>\n",
    "\n",
    "[К плану работ](#step_0)  \n"
   ]
  },
  {
   "cell_type": "code",
   "execution_count": 1,
   "metadata": {
    "scrolled": true
   },
   "outputs": [],
   "source": [
    "# импортируем библиотеки\n",
    "import pandas as pd\n",
    "from sqlalchemy import text, create_engine\n",
    "# устанавливаем параметры\n",
    "db_config = {'user': 'praktikum_student', # имя пользователя\n",
    "'pwd': 'Sdf4$2;d-d30pp', # пароль\n",
    "'host': 'rc1b-wcoijxj3yxfsf3fs.mdb.yandexcloud.net',\n",
    "'port': ______, # порт подключения\n",
    "'db': 'data-analyst-final-project-db'} # название базы данных\n",
    "connection_string = 'postgresql://{user}:{pwd}@{host}:{port}/{db}'.format(**db_config)\n",
    "# сохраняем коннектор\n",
    "engine = create_engine(connection_string, connect_args={'sslmode':'require'})\n",
    "# чтобы выполнить SQL-запрос, используем Pandas\n"
   ]
  },
  {
   "cell_type": "markdown",
   "metadata": {},
   "source": [
    "\n",
    "<a id='step_2'></a><h3>2. Провести исследование таблиц — вывести первые строки.</h3>\n",
    "\n",
    "[К плану работ](#step_0)  \n"
   ]
  },
  {
   "cell_type": "code",
   "execution_count": 2,
   "metadata": {},
   "outputs": [
    {
     "data": {
      "text/html": [
       "<div>\n",
       "<style scoped>\n",
       "    .dataframe tbody tr th:only-of-type {\n",
       "        vertical-align: middle;\n",
       "    }\n",
       "\n",
       "    .dataframe tbody tr th {\n",
       "        vertical-align: top;\n",
       "    }\n",
       "\n",
       "    .dataframe thead th {\n",
       "        text-align: right;\n",
       "    }\n",
       "</style>\n",
       "<table border=\"1\" class=\"dataframe\">\n",
       "  <thead>\n",
       "    <tr style=\"text-align: right;\">\n",
       "      <th></th>\n",
       "      <th>book_id</th>\n",
       "      <th>author_id</th>\n",
       "      <th>title</th>\n",
       "      <th>num_pages</th>\n",
       "      <th>publication_date</th>\n",
       "      <th>publisher_id</th>\n",
       "    </tr>\n",
       "  </thead>\n",
       "  <tbody>\n",
       "    <tr>\n",
       "      <th>0</th>\n",
       "      <td>1</td>\n",
       "      <td>546</td>\n",
       "      <td>'Salem's Lot</td>\n",
       "      <td>594</td>\n",
       "      <td>2005-11-01</td>\n",
       "      <td>93</td>\n",
       "    </tr>\n",
       "    <tr>\n",
       "      <th>1</th>\n",
       "      <td>2</td>\n",
       "      <td>465</td>\n",
       "      <td>1 000 Places to See Before You Die</td>\n",
       "      <td>992</td>\n",
       "      <td>2003-05-22</td>\n",
       "      <td>336</td>\n",
       "    </tr>\n",
       "    <tr>\n",
       "      <th>2</th>\n",
       "      <td>3</td>\n",
       "      <td>407</td>\n",
       "      <td>13 Little Blue Envelopes (Little Blue Envelope...</td>\n",
       "      <td>322</td>\n",
       "      <td>2010-12-21</td>\n",
       "      <td>135</td>\n",
       "    </tr>\n",
       "    <tr>\n",
       "      <th>3</th>\n",
       "      <td>4</td>\n",
       "      <td>82</td>\n",
       "      <td>1491: New Revelations of the Americas Before C...</td>\n",
       "      <td>541</td>\n",
       "      <td>2006-10-10</td>\n",
       "      <td>309</td>\n",
       "    </tr>\n",
       "    <tr>\n",
       "      <th>4</th>\n",
       "      <td>5</td>\n",
       "      <td>125</td>\n",
       "      <td>1776</td>\n",
       "      <td>386</td>\n",
       "      <td>2006-07-04</td>\n",
       "      <td>268</td>\n",
       "    </tr>\n",
       "  </tbody>\n",
       "</table>\n",
       "</div>"
      ],
      "text/plain": [
       "   book_id  author_id                                              title  \\\n",
       "0        1        546                                       'Salem's Lot   \n",
       "1        2        465                 1 000 Places to See Before You Die   \n",
       "2        3        407  13 Little Blue Envelopes (Little Blue Envelope...   \n",
       "3        4         82  1491: New Revelations of the Americas Before C...   \n",
       "4        5        125                                               1776   \n",
       "\n",
       "   num_pages publication_date  publisher_id  \n",
       "0        594       2005-11-01            93  \n",
       "1        992       2003-05-22           336  \n",
       "2        322       2010-12-21           135  \n",
       "3        541       2006-10-10           309  \n",
       "4        386       2006-07-04           268  "
      ]
     },
     "metadata": {},
     "output_type": "display_data"
    },
    {
     "name": "stdout",
     "output_type": "stream",
     "text": [
      "<class 'pandas.core.frame.DataFrame'>\n",
      "RangeIndex: 1000 entries, 0 to 999\n",
      "Data columns (total 6 columns):\n",
      " #   Column            Non-Null Count  Dtype \n",
      "---  ------            --------------  ----- \n",
      " 0   book_id           1000 non-null   int64 \n",
      " 1   author_id         1000 non-null   int64 \n",
      " 2   title             1000 non-null   object\n",
      " 3   num_pages         1000 non-null   int64 \n",
      " 4   publication_date  1000 non-null   object\n",
      " 5   publisher_id      1000 non-null   int64 \n",
      "dtypes: int64(4), object(2)\n",
      "memory usage: 47.0+ KB\n"
     ]
    }
   ],
   "source": [
    "query = '''SELECT * FROM books;'''\n",
    "con=engine.connect()\n",
    "df = pd.io.sql.read_sql(sql=text(query), con = con)\n",
    "display(df.head())\n",
    "df.info()"
   ]
  },
  {
   "cell_type": "code",
   "execution_count": 3,
   "metadata": {},
   "outputs": [
    {
     "data": {
      "text/html": [
       "<div>\n",
       "<style scoped>\n",
       "    .dataframe tbody tr th:only-of-type {\n",
       "        vertical-align: middle;\n",
       "    }\n",
       "\n",
       "    .dataframe tbody tr th {\n",
       "        vertical-align: top;\n",
       "    }\n",
       "\n",
       "    .dataframe thead th {\n",
       "        text-align: right;\n",
       "    }\n",
       "</style>\n",
       "<table border=\"1\" class=\"dataframe\">\n",
       "  <thead>\n",
       "    <tr style=\"text-align: right;\">\n",
       "      <th></th>\n",
       "      <th>author_id</th>\n",
       "      <th>author</th>\n",
       "    </tr>\n",
       "  </thead>\n",
       "  <tbody>\n",
       "    <tr>\n",
       "      <th>0</th>\n",
       "      <td>1</td>\n",
       "      <td>A.S. Byatt</td>\n",
       "    </tr>\n",
       "    <tr>\n",
       "      <th>1</th>\n",
       "      <td>2</td>\n",
       "      <td>Aesop/Laura Harris/Laura Gibbs</td>\n",
       "    </tr>\n",
       "    <tr>\n",
       "      <th>2</th>\n",
       "      <td>3</td>\n",
       "      <td>Agatha Christie</td>\n",
       "    </tr>\n",
       "    <tr>\n",
       "      <th>3</th>\n",
       "      <td>4</td>\n",
       "      <td>Alan Brennert</td>\n",
       "    </tr>\n",
       "    <tr>\n",
       "      <th>4</th>\n",
       "      <td>5</td>\n",
       "      <td>Alan Moore/David   Lloyd</td>\n",
       "    </tr>\n",
       "  </tbody>\n",
       "</table>\n",
       "</div>"
      ],
      "text/plain": [
       "   author_id                          author\n",
       "0          1                      A.S. Byatt\n",
       "1          2  Aesop/Laura Harris/Laura Gibbs\n",
       "2          3                 Agatha Christie\n",
       "3          4                   Alan Brennert\n",
       "4          5        Alan Moore/David   Lloyd"
      ]
     },
     "metadata": {},
     "output_type": "display_data"
    },
    {
     "name": "stdout",
     "output_type": "stream",
     "text": [
      "<class 'pandas.core.frame.DataFrame'>\n",
      "RangeIndex: 636 entries, 0 to 635\n",
      "Data columns (total 2 columns):\n",
      " #   Column     Non-Null Count  Dtype \n",
      "---  ------     --------------  ----- \n",
      " 0   author_id  636 non-null    int64 \n",
      " 1   author     636 non-null    object\n",
      "dtypes: int64(1), object(1)\n",
      "memory usage: 10.1+ KB\n"
     ]
    }
   ],
   "source": [
    "query = '''\n",
    "SELECT * \n",
    "FROM authors; \n",
    "'''\n",
    "con=engine.connect()\n",
    "df=pd.io.sql.read_sql(sql=text(query), con = con)\n",
    "display(df.head())\n",
    "df.info()"
   ]
  },
  {
   "cell_type": "code",
   "execution_count": 4,
   "metadata": {},
   "outputs": [
    {
     "data": {
      "text/html": [
       "<div>\n",
       "<style scoped>\n",
       "    .dataframe tbody tr th:only-of-type {\n",
       "        vertical-align: middle;\n",
       "    }\n",
       "\n",
       "    .dataframe tbody tr th {\n",
       "        vertical-align: top;\n",
       "    }\n",
       "\n",
       "    .dataframe thead th {\n",
       "        text-align: right;\n",
       "    }\n",
       "</style>\n",
       "<table border=\"1\" class=\"dataframe\">\n",
       "  <thead>\n",
       "    <tr style=\"text-align: right;\">\n",
       "      <th></th>\n",
       "      <th>rating_id</th>\n",
       "      <th>book_id</th>\n",
       "      <th>username</th>\n",
       "      <th>rating</th>\n",
       "    </tr>\n",
       "  </thead>\n",
       "  <tbody>\n",
       "    <tr>\n",
       "      <th>0</th>\n",
       "      <td>1</td>\n",
       "      <td>1</td>\n",
       "      <td>ryanfranco</td>\n",
       "      <td>4</td>\n",
       "    </tr>\n",
       "    <tr>\n",
       "      <th>1</th>\n",
       "      <td>2</td>\n",
       "      <td>1</td>\n",
       "      <td>grantpatricia</td>\n",
       "      <td>2</td>\n",
       "    </tr>\n",
       "    <tr>\n",
       "      <th>2</th>\n",
       "      <td>3</td>\n",
       "      <td>1</td>\n",
       "      <td>brandtandrea</td>\n",
       "      <td>5</td>\n",
       "    </tr>\n",
       "    <tr>\n",
       "      <th>3</th>\n",
       "      <td>4</td>\n",
       "      <td>2</td>\n",
       "      <td>lorichen</td>\n",
       "      <td>3</td>\n",
       "    </tr>\n",
       "    <tr>\n",
       "      <th>4</th>\n",
       "      <td>5</td>\n",
       "      <td>2</td>\n",
       "      <td>mariokeller</td>\n",
       "      <td>2</td>\n",
       "    </tr>\n",
       "  </tbody>\n",
       "</table>\n",
       "</div>"
      ],
      "text/plain": [
       "   rating_id  book_id       username  rating\n",
       "0          1        1     ryanfranco       4\n",
       "1          2        1  grantpatricia       2\n",
       "2          3        1   brandtandrea       5\n",
       "3          4        2       lorichen       3\n",
       "4          5        2    mariokeller       2"
      ]
     },
     "metadata": {},
     "output_type": "display_data"
    },
    {
     "name": "stdout",
     "output_type": "stream",
     "text": [
      "<class 'pandas.core.frame.DataFrame'>\n",
      "RangeIndex: 6456 entries, 0 to 6455\n",
      "Data columns (total 4 columns):\n",
      " #   Column     Non-Null Count  Dtype \n",
      "---  ------     --------------  ----- \n",
      " 0   rating_id  6456 non-null   int64 \n",
      " 1   book_id    6456 non-null   int64 \n",
      " 2   username   6456 non-null   object\n",
      " 3   rating     6456 non-null   int64 \n",
      "dtypes: int64(3), object(1)\n",
      "memory usage: 201.9+ KB\n"
     ]
    }
   ],
   "source": [
    "query = '''\n",
    "SELECT * \n",
    "FROM ratings; \n",
    "'''\n",
    "con=engine.connect()\n",
    "df=pd.io.sql.read_sql(sql=text(query), con = con)\n",
    "display(df.head())\n",
    "df.info()"
   ]
  },
  {
   "cell_type": "code",
   "execution_count": 5,
   "metadata": {},
   "outputs": [
    {
     "data": {
      "text/html": [
       "<div>\n",
       "<style scoped>\n",
       "    .dataframe tbody tr th:only-of-type {\n",
       "        vertical-align: middle;\n",
       "    }\n",
       "\n",
       "    .dataframe tbody tr th {\n",
       "        vertical-align: top;\n",
       "    }\n",
       "\n",
       "    .dataframe thead th {\n",
       "        text-align: right;\n",
       "    }\n",
       "</style>\n",
       "<table border=\"1\" class=\"dataframe\">\n",
       "  <thead>\n",
       "    <tr style=\"text-align: right;\">\n",
       "      <th></th>\n",
       "      <th>review_id</th>\n",
       "      <th>book_id</th>\n",
       "      <th>username</th>\n",
       "      <th>text</th>\n",
       "    </tr>\n",
       "  </thead>\n",
       "  <tbody>\n",
       "    <tr>\n",
       "      <th>0</th>\n",
       "      <td>1</td>\n",
       "      <td>1</td>\n",
       "      <td>brandtandrea</td>\n",
       "      <td>Mention society tell send professor analysis. ...</td>\n",
       "    </tr>\n",
       "    <tr>\n",
       "      <th>1</th>\n",
       "      <td>2</td>\n",
       "      <td>1</td>\n",
       "      <td>ryanfranco</td>\n",
       "      <td>Foot glass pretty audience hit themselves. Amo...</td>\n",
       "    </tr>\n",
       "    <tr>\n",
       "      <th>2</th>\n",
       "      <td>3</td>\n",
       "      <td>2</td>\n",
       "      <td>lorichen</td>\n",
       "      <td>Listen treat keep worry. Miss husband tax but ...</td>\n",
       "    </tr>\n",
       "    <tr>\n",
       "      <th>3</th>\n",
       "      <td>4</td>\n",
       "      <td>3</td>\n",
       "      <td>johnsonamanda</td>\n",
       "      <td>Finally month interesting blue could nature cu...</td>\n",
       "    </tr>\n",
       "    <tr>\n",
       "      <th>4</th>\n",
       "      <td>5</td>\n",
       "      <td>3</td>\n",
       "      <td>scotttamara</td>\n",
       "      <td>Nation purpose heavy give wait song will. List...</td>\n",
       "    </tr>\n",
       "  </tbody>\n",
       "</table>\n",
       "</div>"
      ],
      "text/plain": [
       "   review_id  book_id       username  \\\n",
       "0          1        1   brandtandrea   \n",
       "1          2        1     ryanfranco   \n",
       "2          3        2       lorichen   \n",
       "3          4        3  johnsonamanda   \n",
       "4          5        3    scotttamara   \n",
       "\n",
       "                                                text  \n",
       "0  Mention society tell send professor analysis. ...  \n",
       "1  Foot glass pretty audience hit themselves. Amo...  \n",
       "2  Listen treat keep worry. Miss husband tax but ...  \n",
       "3  Finally month interesting blue could nature cu...  \n",
       "4  Nation purpose heavy give wait song will. List...  "
      ]
     },
     "metadata": {},
     "output_type": "display_data"
    },
    {
     "name": "stdout",
     "output_type": "stream",
     "text": [
      "<class 'pandas.core.frame.DataFrame'>\n",
      "RangeIndex: 2793 entries, 0 to 2792\n",
      "Data columns (total 4 columns):\n",
      " #   Column     Non-Null Count  Dtype \n",
      "---  ------     --------------  ----- \n",
      " 0   review_id  2793 non-null   int64 \n",
      " 1   book_id    2793 non-null   int64 \n",
      " 2   username   2793 non-null   object\n",
      " 3   text       2793 non-null   object\n",
      "dtypes: int64(2), object(2)\n",
      "memory usage: 87.4+ KB\n"
     ]
    }
   ],
   "source": [
    "query = '''\n",
    "SELECT * \n",
    "FROM reviews; \n",
    "'''\n",
    "con=engine.connect()\n",
    "df=pd.io.sql.read_sql(sql=text(query), con = con)\n",
    "display(df.head())\n",
    "df.info()"
   ]
  },
  {
   "cell_type": "code",
   "execution_count": 6,
   "metadata": {
    "scrolled": true
   },
   "outputs": [
    {
     "data": {
      "text/html": [
       "<div>\n",
       "<style scoped>\n",
       "    .dataframe tbody tr th:only-of-type {\n",
       "        vertical-align: middle;\n",
       "    }\n",
       "\n",
       "    .dataframe tbody tr th {\n",
       "        vertical-align: top;\n",
       "    }\n",
       "\n",
       "    .dataframe thead th {\n",
       "        text-align: right;\n",
       "    }\n",
       "</style>\n",
       "<table border=\"1\" class=\"dataframe\">\n",
       "  <thead>\n",
       "    <tr style=\"text-align: right;\">\n",
       "      <th></th>\n",
       "      <th>publisher_id</th>\n",
       "      <th>publisher</th>\n",
       "    </tr>\n",
       "  </thead>\n",
       "  <tbody>\n",
       "    <tr>\n",
       "      <th>0</th>\n",
       "      <td>1</td>\n",
       "      <td>Ace</td>\n",
       "    </tr>\n",
       "    <tr>\n",
       "      <th>1</th>\n",
       "      <td>2</td>\n",
       "      <td>Ace Book</td>\n",
       "    </tr>\n",
       "    <tr>\n",
       "      <th>2</th>\n",
       "      <td>3</td>\n",
       "      <td>Ace Books</td>\n",
       "    </tr>\n",
       "    <tr>\n",
       "      <th>3</th>\n",
       "      <td>4</td>\n",
       "      <td>Ace Hardcover</td>\n",
       "    </tr>\n",
       "    <tr>\n",
       "      <th>4</th>\n",
       "      <td>5</td>\n",
       "      <td>Addison Wesley Publishing Company</td>\n",
       "    </tr>\n",
       "  </tbody>\n",
       "</table>\n",
       "</div>"
      ],
      "text/plain": [
       "   publisher_id                          publisher\n",
       "0             1                                Ace\n",
       "1             2                           Ace Book\n",
       "2             3                          Ace Books\n",
       "3             4                      Ace Hardcover\n",
       "4             5  Addison Wesley Publishing Company"
      ]
     },
     "metadata": {},
     "output_type": "display_data"
    },
    {
     "name": "stdout",
     "output_type": "stream",
     "text": [
      "<class 'pandas.core.frame.DataFrame'>\n",
      "RangeIndex: 340 entries, 0 to 339\n",
      "Data columns (total 2 columns):\n",
      " #   Column        Non-Null Count  Dtype \n",
      "---  ------        --------------  ----- \n",
      " 0   publisher_id  340 non-null    int64 \n",
      " 1   publisher     340 non-null    object\n",
      "dtypes: int64(1), object(1)\n",
      "memory usage: 5.4+ KB\n"
     ]
    }
   ],
   "source": [
    "query = '''\n",
    "SELECT * \n",
    "FROM publishers \n",
    "'''\n",
    "con=engine.connect()\n",
    "df=pd.io.sql.read_sql(sql=text(query), con = con)\n",
    "display(df.head())\n",
    "df.info()"
   ]
  },
  {
   "cell_type": "markdown",
   "metadata": {},
   "source": [
    "Верх таблиц выведен, есть строковые и численные форматы. Всего 1000 книг, 636 авторов, 340 издательств,  6456 рейтингов от ревьюверов. Для Ленинской библиотеки маловато, но для мобильного приложения с оплачиваемым контентом вполне подходит."
   ]
  },
  {
   "cell_type": "markdown",
   "metadata": {},
   "source": [
    "\n",
    "<a id='step_3'></a><h3>3. Посчитать, сколько книг вышло после 1 января 2000 года.</h3>\n",
    "\n",
    "[К плану работ](#step_0)  \n"
   ]
  },
  {
   "cell_type": "code",
   "execution_count": 7,
   "metadata": {
    "scrolled": true
   },
   "outputs": [
    {
     "data": {
      "text/html": [
       "<div>\n",
       "<style scoped>\n",
       "    .dataframe tbody tr th:only-of-type {\n",
       "        vertical-align: middle;\n",
       "    }\n",
       "\n",
       "    .dataframe tbody tr th {\n",
       "        vertical-align: top;\n",
       "    }\n",
       "\n",
       "    .dataframe thead th {\n",
       "        text-align: right;\n",
       "    }\n",
       "</style>\n",
       "<table border=\"1\" class=\"dataframe\">\n",
       "  <thead>\n",
       "    <tr style=\"text-align: right;\">\n",
       "      <th></th>\n",
       "      <th>count</th>\n",
       "    </tr>\n",
       "  </thead>\n",
       "  <tbody>\n",
       "    <tr>\n",
       "      <th>0</th>\n",
       "      <td>819</td>\n",
       "    </tr>\n",
       "  </tbody>\n",
       "</table>\n",
       "</div>"
      ],
      "text/plain": [
       "   count\n",
       "0    819"
      ]
     },
     "execution_count": 7,
     "metadata": {},
     "output_type": "execute_result"
    }
   ],
   "source": [
    "query = '''\n",
    "SELECT \n",
    "    COUNT(publisher_id)\n",
    "FROM \n",
    "    books \n",
    "WHERE \n",
    "    CAST(publication_date AS date) > '2000-01-01';\n",
    "'''\n",
    "con=engine.connect()\n",
    "pd.io.sql.read_sql(sql=text(query), con = con)"
   ]
  },
  {
   "cell_type": "markdown",
   "metadata": {},
   "source": [
    "После 1 января 2000 года вышло 819 книг."
   ]
  },
  {
   "cell_type": "markdown",
   "metadata": {},
   "source": [
    " \n",
    "<a id='step_4'></a><h3>4. Для каждой книги посчитать количество обзоров и среднюю оценку.</h3>\n",
    "\n",
    "[К плану работ](#step_0)  \n"
   ]
  },
  {
   "cell_type": "code",
   "execution_count": 8,
   "metadata": {},
   "outputs": [
    {
     "data": {
      "text/html": [
       "<div>\n",
       "<style scoped>\n",
       "    .dataframe tbody tr th:only-of-type {\n",
       "        vertical-align: middle;\n",
       "    }\n",
       "\n",
       "    .dataframe tbody tr th {\n",
       "        vertical-align: top;\n",
       "    }\n",
       "\n",
       "    .dataframe thead th {\n",
       "        text-align: right;\n",
       "    }\n",
       "</style>\n",
       "<table border=\"1\" class=\"dataframe\">\n",
       "  <thead>\n",
       "    <tr style=\"text-align: right;\">\n",
       "      <th></th>\n",
       "      <th>title</th>\n",
       "      <th>cnt_rev</th>\n",
       "      <th>avg_rat</th>\n",
       "    </tr>\n",
       "  </thead>\n",
       "  <tbody>\n",
       "    <tr>\n",
       "      <th>0</th>\n",
       "      <td>A Dirty Job (Grim Reaper  #1)</td>\n",
       "      <td>4</td>\n",
       "      <td>5.0</td>\n",
       "    </tr>\n",
       "    <tr>\n",
       "      <th>1</th>\n",
       "      <td>School's Out—Forever (Maximum Ride  #2)</td>\n",
       "      <td>3</td>\n",
       "      <td>5.0</td>\n",
       "    </tr>\n",
       "    <tr>\n",
       "      <th>2</th>\n",
       "      <td>Moneyball: The Art of Winning an Unfair Game</td>\n",
       "      <td>3</td>\n",
       "      <td>5.0</td>\n",
       "    </tr>\n",
       "    <tr>\n",
       "      <th>3</th>\n",
       "      <td>Wherever You Go  There You Are: Mindfulness Me...</td>\n",
       "      <td>2</td>\n",
       "      <td>5.0</td>\n",
       "    </tr>\n",
       "    <tr>\n",
       "      <th>4</th>\n",
       "      <td>Pop Goes the Weasel (Alex Cross  #5)</td>\n",
       "      <td>2</td>\n",
       "      <td>5.0</td>\n",
       "    </tr>\n",
       "  </tbody>\n",
       "</table>\n",
       "</div>"
      ],
      "text/plain": [
       "                                               title  cnt_rev  avg_rat\n",
       "0                      A Dirty Job (Grim Reaper  #1)        4      5.0\n",
       "1            School's Out—Forever (Maximum Ride  #2)        3      5.0\n",
       "2       Moneyball: The Art of Winning an Unfair Game        3      5.0\n",
       "3  Wherever You Go  There You Are: Mindfulness Me...        2      5.0\n",
       "4               Pop Goes the Weasel (Alex Cross  #5)        2      5.0"
      ]
     },
     "execution_count": 8,
     "metadata": {},
     "output_type": "execute_result"
    }
   ],
   "source": [
    "##Для каждой книги посчитайте количество обзоров и среднюю оценку;\n",
    "query = '''\n",
    "SELECT a2.title AS title,\n",
    "       a2.cnt_rev AS cnt_rev,\n",
    "       AVG(a2.rating) AS avg_rat\n",
    "FROM(\n",
    "        (SELECT b.book_id AS book_id_,\n",
    "                b.title AS title,\n",
    "                COUNT(r.review_id) AS cnt_rev\n",
    "         FROM books AS b\n",
    "         LEFT JOIN reviews AS r ON r.book_id=b.book_id\n",
    "         GROUP BY book_id_,\n",
    "                  title\n",
    "        ) AS a1\n",
    "                  \n",
    "     LEFT JOIN ratings AS r ON r.book_id=a1.book_id_) AS a2\n",
    "GROUP BY\n",
    "        title,\n",
    "        cnt_rev\n",
    "ORDER BY\n",
    "         avg_rat DESC,\n",
    "         cnt_rev DESC\n",
    "LIMIT 5;\n",
    "'''\n",
    "con=engine.connect()\n",
    "df = pd.io.sql.read_sql(sql=text(query), con = con)\n",
    "df\n"
   ]
  },
  {
   "cell_type": "markdown",
   "metadata": {},
   "source": [
    "Максимальный рейтинг 5, количество обзоров -4.  \n",
    "В первую пятерку попадают:  \n",
    "1. A Dirty Job (Grim Reaper #1)  \n",
    "2. School's Out—Forever (Maximum Ride #2)  \n",
    "3. Moneyball: The Art of Winning an Unfair Game  \n",
    "4. Wherever You Go There You Are: Mindfulness Me  \n",
    "5. Pop Goes the Weasel (Alex Cross #5)"
   ]
  },
  {
   "cell_type": "markdown",
   "metadata": {},
   "source": [
    " \n",
    "<a id='step_5'></a><h3>5. Определить издательство, которое выпустило наибольшее число книг толще 50 страниц.</h3>\n",
    "\n",
    "[К плану работ](#step_0)  \n",
    "\n",
    "Определим издательство, которое выпустило наибольшее число книг толще 50 страниц — так вы исключим из анализа брошюры;  \n",
    " "
   ]
  },
  {
   "cell_type": "code",
   "execution_count": 9,
   "metadata": {},
   "outputs": [
    {
     "data": {
      "text/html": [
       "<div>\n",
       "<style scoped>\n",
       "    .dataframe tbody tr th:only-of-type {\n",
       "        vertical-align: middle;\n",
       "    }\n",
       "\n",
       "    .dataframe tbody tr th {\n",
       "        vertical-align: top;\n",
       "    }\n",
       "\n",
       "    .dataframe thead th {\n",
       "        text-align: right;\n",
       "    }\n",
       "</style>\n",
       "<table border=\"1\" class=\"dataframe\">\n",
       "  <thead>\n",
       "    <tr style=\"text-align: right;\">\n",
       "      <th></th>\n",
       "      <th>publisher_id</th>\n",
       "      <th>publisher</th>\n",
       "      <th>cnt_book</th>\n",
       "    </tr>\n",
       "  </thead>\n",
       "  <tbody>\n",
       "    <tr>\n",
       "      <th>0</th>\n",
       "      <td>212</td>\n",
       "      <td>Penguin Books</td>\n",
       "      <td>42</td>\n",
       "    </tr>\n",
       "  </tbody>\n",
       "</table>\n",
       "</div>"
      ],
      "text/plain": [
       "   publisher_id      publisher  cnt_book\n",
       "0           212  Penguin Books        42"
      ]
     },
     "execution_count": 9,
     "metadata": {},
     "output_type": "execute_result"
    }
   ],
   "source": [
    "##Определите издательство, которое выпустило наибольшее число книг толще 50 страниц — так вы исключите из анализа брошюры;\n",
    "query = '''\n",
    "SELECT\n",
    "    books.publisher_id,\n",
    "    publishers.publisher,\n",
    "    COUNT(books.publisher_id) AS cnt_book\n",
    "FROM\n",
    "    books\n",
    "INNER JOIN publishers ON books.publisher_id = publishers.publisher_id\n",
    "WHERE\n",
    "     books.num_pages>50\n",
    "GROUP BY\n",
    "        books.publisher_id,\n",
    "        publishers.publisher\n",
    "ORDER BY\n",
    "        cnt_book DESC\n",
    "LIMIT 1;\n",
    "\n",
    "        '''\n",
    "con=engine.connect()\n",
    "pd.io.sql.read_sql(sql=text(query), con = con)"
   ]
  },
  {
   "cell_type": "markdown",
   "metadata": {},
   "source": [
    "Издательство Penguin Books самое плодотворное - оно выпустила 42 книги с количеством страниц более 50."
   ]
  },
  {
   "cell_type": "markdown",
   "metadata": {},
   "source": [
    "\n",
    "<a id='step_6'></a><h3>6. Определить автора с самой высокой средней оценкой книг — учитывать только книги с 50 и более оценками.</h3>\n",
    "\n",
    "[К плану работ](#step_0)  \n"
   ]
  },
  {
   "cell_type": "code",
   "execution_count": 10,
   "metadata": {},
   "outputs": [
    {
     "data": {
      "text/html": [
       "<div>\n",
       "<style scoped>\n",
       "    .dataframe tbody tr th:only-of-type {\n",
       "        vertical-align: middle;\n",
       "    }\n",
       "\n",
       "    .dataframe tbody tr th {\n",
       "        vertical-align: top;\n",
       "    }\n",
       "\n",
       "    .dataframe thead th {\n",
       "        text-align: right;\n",
       "    }\n",
       "</style>\n",
       "<table border=\"1\" class=\"dataframe\">\n",
       "  <thead>\n",
       "    <tr style=\"text-align: right;\">\n",
       "      <th></th>\n",
       "      <th>author</th>\n",
       "      <th>avg_auth_rat</th>\n",
       "    </tr>\n",
       "  </thead>\n",
       "  <tbody>\n",
       "    <tr>\n",
       "      <th>0</th>\n",
       "      <td>J.K. Rowling/Mary GrandPré</td>\n",
       "      <td>4.283844</td>\n",
       "    </tr>\n",
       "  </tbody>\n",
       "</table>\n",
       "</div>"
      ],
      "text/plain": [
       "                       author  avg_auth_rat\n",
       "0  J.K. Rowling/Mary GrandPré      4.283844"
      ]
     },
     "execution_count": 10,
     "metadata": {},
     "output_type": "execute_result"
    }
   ],
   "source": [
    "# Определите автора с самой высокой средней оценкой книг — учитывайте только книги с 50 и более оценками;\n",
    "\n",
    "query = ''' SELECT\n",
    "                a1.author,\n",
    "                AVG (a1.avg_book_rat) AS avg_auth_rat\n",
    "            FROM (\n",
    "                    SELECT\n",
    "                        b.author_id,\n",
    "                        b.book_id,\n",
    "                        a.author_id,\n",
    "                        a.author,\n",
    "                        r.book_id,\n",
    "                        AVG (r.rating) AS avg_book_rat,\n",
    "                        COUNT(r.rating) AS cnt_rat\n",
    "                    FROM\n",
    "                        books AS b\n",
    "                        INNER JOIN authors AS a ON b.author_id = a.author_id\n",
    "                        INNER JOIN ratings AS r ON b.book_id = r.book_id\n",
    "                    GROUP BY\n",
    "                        b.author_id,\n",
    "                        b.book_id,\n",
    "                        a.author_id,\n",
    "                        a.author,\n",
    "                        r.book_id\n",
    "                    HAVING\n",
    "                        COUNT(r.rating)>50\n",
    "                    ORDER BY\n",
    "                        b.author_id) AS a1\n",
    "                GROUP BY\n",
    "                    a1.author\n",
    "                ORDER BY\n",
    "                    avg_auth_rat DESC\n",
    "                LIMIT 1    \n",
    "        '''\n",
    "df = pd.io.sql.read_sql(query, con=engine)\n",
    "df"
   ]
  },
  {
   "cell_type": "markdown",
   "metadata": {},
   "source": [
    "Джоан Роулинг имеет самый высокий рейтинг среди самых оцениваемых книг(более 50 оценок). Автор Гарри Поттера - не удивительно, ведь 2000 год она была на пике популярности."
   ]
  },
  {
   "cell_type": "markdown",
   "metadata": {},
   "source": [
    "<a id='step_7'></a><h3>7. Посчитать среднее количество обзоров от пользователей, которые поставили больше 48 оценок.</h3>\n",
    "\n",
    "[К плану работ](#step_0)  "
   ]
  },
  {
   "cell_type": "code",
   "execution_count": 11,
   "metadata": {},
   "outputs": [
    {
     "data": {
      "text/html": [
       "<div>\n",
       "<style scoped>\n",
       "    .dataframe tbody tr th:only-of-type {\n",
       "        vertical-align: middle;\n",
       "    }\n",
       "\n",
       "    .dataframe tbody tr th {\n",
       "        vertical-align: top;\n",
       "    }\n",
       "\n",
       "    .dataframe thead th {\n",
       "        text-align: right;\n",
       "    }\n",
       "</style>\n",
       "<table border=\"1\" class=\"dataframe\">\n",
       "  <thead>\n",
       "    <tr style=\"text-align: right;\">\n",
       "      <th></th>\n",
       "      <th>avg_cnt_rew</th>\n",
       "    </tr>\n",
       "  </thead>\n",
       "  <tbody>\n",
       "    <tr>\n",
       "      <th>0</th>\n",
       "      <td>24.0</td>\n",
       "    </tr>\n",
       "  </tbody>\n",
       "</table>\n",
       "</div>"
      ],
      "text/plain": [
       "   avg_cnt_rew\n",
       "0         24.0"
      ]
     },
     "execution_count": 11,
     "metadata": {},
     "output_type": "execute_result"
    }
   ],
   "source": [
    "# Посчитайте среднее количество обзоров от пользователей, которые поставили больше 48 оценок\n",
    "query = '''\n",
    "SELECT AVG(a1.cnt_rev) AS avg_cnt_rew\n",
    "       \n",
    "FROM(\n",
    "     SELECT\n",
    "           r.username,\n",
    "           COUNT(r.review_id) AS cnt_rev\n",
    "     FROM \n",
    "          reviews AS r\n",
    "     WHERE username IN (\n",
    "                        SELECT username\n",
    "                        FROM ratings\n",
    "                        GROUP BY username\n",
    "                        HAVING COUNT(rating_id)>48\n",
    "                        )\n",
    "     GROUP BY username\n",
    "     ORDER BY\n",
    "     cnt_rev DESC) AS a1;\n",
    "   \n",
    "--LIMIT 10;\n",
    "'''\n",
    "con=engine.connect()\n",
    "pd.io.sql.read_sql(sql=text(query), con = con)\n"
   ]
  },
  {
   "cell_type": "markdown",
   "metadata": {},
   "source": [
    "Активные пользователи пишут обзоров в среднем в 2 раза меньше (24) чем ставят оценок (48)"
   ]
  },
  {
   "cell_type": "markdown",
   "metadata": {},
   "source": [
    " <a id='step_8'></a><h3>8. Выводы</h3>\n",
    "\n",
    "[К плану работ](#step_0)  \n",
    "\n",
    "База насчитывает 1000 книг, в ней есть популярные авторы такие как Джоан Роулинг, обзоры и оценки к книгам, издательства выпускают книги и брошюры. Есть солидные издательства с выпуском 43-х книг. Если правильно распорядиться этой информацией, то получится хороший стартап."
   ]
  }
 ],
 "metadata": {
  "ExecuteTimeLog": [
   {
    "duration": 168,
    "start_time": "2023-07-12T05:21:50.602Z"
   },
   {
    "duration": 12669,
    "start_time": "2023-07-12T05:22:11.186Z"
   },
   {
    "duration": 3,
    "start_time": "2023-07-12T05:22:40.669Z"
   },
   {
    "duration": 132,
    "start_time": "2023-07-12T05:22:55.279Z"
   },
   {
    "duration": 53,
    "start_time": "2023-07-12T05:23:24.421Z"
   },
   {
    "duration": 55,
    "start_time": "2023-07-12T05:23:31.945Z"
   },
   {
    "duration": 132,
    "start_time": "2023-07-12T05:43:14.722Z"
   },
   {
    "duration": 70,
    "start_time": "2023-07-12T05:44:03.230Z"
   },
   {
    "duration": 147,
    "start_time": "2023-07-12T05:44:49.741Z"
   },
   {
    "duration": 144,
    "start_time": "2023-07-12T05:44:56.272Z"
   },
   {
    "duration": 123,
    "start_time": "2023-07-12T05:46:13.582Z"
   },
   {
    "duration": 149,
    "start_time": "2023-07-12T05:55:07.456Z"
   },
   {
    "duration": 65,
    "start_time": "2023-07-12T05:55:30.264Z"
   },
   {
    "duration": 58,
    "start_time": "2023-07-12T05:56:01.295Z"
   },
   {
    "duration": 74,
    "start_time": "2023-07-12T05:57:00.193Z"
   },
   {
    "duration": 56,
    "start_time": "2023-07-12T05:57:08.474Z"
   },
   {
    "duration": 52,
    "start_time": "2023-07-12T05:57:39.158Z"
   },
   {
    "duration": 57,
    "start_time": "2023-07-12T06:00:55.715Z"
   },
   {
    "duration": 57,
    "start_time": "2023-07-12T06:01:48.409Z"
   },
   {
    "duration": 84,
    "start_time": "2023-07-12T06:04:26.597Z"
   },
   {
    "duration": 41,
    "start_time": "2023-07-12T06:04:45.185Z"
   },
   {
    "duration": 72,
    "start_time": "2023-07-12T06:05:12.183Z"
   },
   {
    "duration": 41,
    "start_time": "2023-07-12T06:05:20.142Z"
   },
   {
    "duration": 54,
    "start_time": "2023-07-12T06:05:46.162Z"
   },
   {
    "duration": 59,
    "start_time": "2023-07-12T06:06:14.531Z"
   },
   {
    "duration": 43,
    "start_time": "2023-07-12T09:18:50.252Z"
   },
   {
    "duration": 233,
    "start_time": "2023-07-12T09:18:55.347Z"
   },
   {
    "duration": 147,
    "start_time": "2023-07-12T09:18:55.918Z"
   },
   {
    "duration": 54,
    "start_time": "2023-07-12T09:18:56.422Z"
   },
   {
    "duration": 56,
    "start_time": "2023-07-12T09:18:56.985Z"
   },
   {
    "duration": 57,
    "start_time": "2023-07-12T09:18:58.209Z"
   },
   {
    "duration": 50,
    "start_time": "2023-07-12T09:18:59.367Z"
   },
   {
    "duration": 72,
    "start_time": "2023-07-12T11:25:37.278Z"
   },
   {
    "duration": 68,
    "start_time": "2023-07-12T11:50:24.402Z"
   },
   {
    "duration": 51,
    "start_time": "2023-07-12T11:50:41.853Z"
   },
   {
    "duration": 55,
    "start_time": "2023-07-12T11:50:57.053Z"
   },
   {
    "duration": 53,
    "start_time": "2023-07-12T11:52:12.853Z"
   },
   {
    "duration": 107,
    "start_time": "2023-07-12T13:51:56.956Z"
   },
   {
    "duration": 69,
    "start_time": "2023-07-12T13:54:19.758Z"
   },
   {
    "duration": 73,
    "start_time": "2023-07-12T13:55:05.450Z"
   },
   {
    "duration": 69,
    "start_time": "2023-07-12T14:00:11.113Z"
   },
   {
    "duration": 156,
    "start_time": "2023-07-12T14:06:20.561Z"
   },
   {
    "duration": 199,
    "start_time": "2023-07-12T14:09:40.992Z"
   },
   {
    "duration": 165,
    "start_time": "2023-07-12T14:09:52.397Z"
   },
   {
    "duration": 99,
    "start_time": "2023-07-12T14:10:37.400Z"
   },
   {
    "duration": 80,
    "start_time": "2023-07-12T14:10:44.826Z"
   },
   {
    "duration": 83,
    "start_time": "2023-07-12T14:11:11.002Z"
   },
   {
    "duration": 77,
    "start_time": "2023-07-12T14:14:02.316Z"
   },
   {
    "duration": 89,
    "start_time": "2023-07-12T14:16:32.223Z"
   },
   {
    "duration": 49,
    "start_time": "2023-07-12T14:16:48.453Z"
   },
   {
    "duration": 100,
    "start_time": "2023-07-12T14:17:39.896Z"
   },
   {
    "duration": 71,
    "start_time": "2023-07-12T14:18:05.498Z"
   },
   {
    "duration": 204,
    "start_time": "2023-07-12T14:18:53.596Z"
   },
   {
    "duration": 73,
    "start_time": "2023-07-12T14:23:47.755Z"
   },
   {
    "duration": 79,
    "start_time": "2023-07-12T14:58:33.631Z"
   },
   {
    "duration": 261,
    "start_time": "2023-07-12T14:59:48.109Z"
   },
   {
    "duration": 194,
    "start_time": "2023-07-12T15:01:08.546Z"
   },
   {
    "duration": 181,
    "start_time": "2023-07-12T15:04:08.834Z"
   },
   {
    "duration": 246,
    "start_time": "2023-07-12T15:11:25.132Z"
   },
   {
    "duration": 87,
    "start_time": "2023-07-12T15:13:43.123Z"
   },
   {
    "duration": 108,
    "start_time": "2023-07-12T15:16:27.095Z"
   },
   {
    "duration": 119,
    "start_time": "2023-07-12T15:18:57.732Z"
   },
   {
    "duration": 122,
    "start_time": "2023-07-12T15:19:20.071Z"
   },
   {
    "duration": 110,
    "start_time": "2023-07-12T15:19:44.456Z"
   },
   {
    "duration": 69,
    "start_time": "2023-07-12T15:20:34.390Z"
   },
   {
    "duration": 75,
    "start_time": "2023-07-12T15:22:09.647Z"
   },
   {
    "duration": 71,
    "start_time": "2023-07-12T15:22:26.329Z"
   },
   {
    "duration": 107,
    "start_time": "2023-07-12T15:24:07.331Z"
   },
   {
    "duration": 139,
    "start_time": "2023-07-12T15:30:47.654Z"
   },
   {
    "duration": 1578,
    "start_time": "2023-07-12T15:31:16.891Z"
   },
   {
    "duration": 88,
    "start_time": "2023-07-12T15:31:28.386Z"
   },
   {
    "duration": 98,
    "start_time": "2023-07-12T15:36:45.155Z"
   },
   {
    "duration": 98,
    "start_time": "2023-07-12T15:38:01.787Z"
   },
   {
    "duration": 106,
    "start_time": "2023-07-12T15:38:46.671Z"
   },
   {
    "duration": 73,
    "start_time": "2023-07-12T15:40:38.346Z"
   },
   {
    "duration": 74,
    "start_time": "2023-07-12T15:41:16.390Z"
   },
   {
    "duration": 76,
    "start_time": "2023-07-12T15:41:23.535Z"
   },
   {
    "duration": 220,
    "start_time": "2023-07-12T15:44:56.725Z"
   },
   {
    "duration": 78,
    "start_time": "2023-07-12T15:45:42.387Z"
   },
   {
    "duration": 55,
    "start_time": "2023-07-12T16:03:05.698Z"
   },
   {
    "duration": 54,
    "start_time": "2023-07-12T16:05:30.721Z"
   },
   {
    "duration": 75,
    "start_time": "2023-07-12T16:07:33.484Z"
   },
   {
    "duration": 57,
    "start_time": "2023-07-12T16:07:44.936Z"
   },
   {
    "duration": 43,
    "start_time": "2023-07-12T16:07:54.601Z"
   },
   {
    "duration": 55,
    "start_time": "2023-07-12T16:14:31.440Z"
   },
   {
    "duration": 20166,
    "start_time": "2023-07-12T16:18:46.788Z"
   },
   {
    "duration": 133,
    "start_time": "2023-07-12T16:19:06.956Z"
   },
   {
    "duration": 60,
    "start_time": "2023-07-12T16:19:07.091Z"
   },
   {
    "duration": 50,
    "start_time": "2023-07-12T16:19:07.154Z"
   },
   {
    "duration": 54,
    "start_time": "2023-07-12T16:19:07.206Z"
   },
   {
    "duration": 51,
    "start_time": "2023-07-12T16:19:07.262Z"
   },
   {
    "duration": 97,
    "start_time": "2023-07-12T16:19:07.314Z"
   },
   {
    "duration": 89,
    "start_time": "2023-07-12T16:19:07.413Z"
   },
   {
    "duration": 62,
    "start_time": "2023-07-12T16:19:07.504Z"
   },
   {
    "duration": 82,
    "start_time": "2023-07-12T16:19:07.568Z"
   },
   {
    "duration": 51,
    "start_time": "2023-07-12T16:19:07.651Z"
   },
   {
    "duration": 16814,
    "start_time": "2023-07-12T16:19:30.958Z"
   },
   {
    "duration": 123,
    "start_time": "2023-07-12T16:19:47.774Z"
   },
   {
    "duration": 63,
    "start_time": "2023-07-12T16:19:47.899Z"
   },
   {
    "duration": 51,
    "start_time": "2023-07-12T16:19:47.963Z"
   },
   {
    "duration": 52,
    "start_time": "2023-07-12T16:19:48.016Z"
   },
   {
    "duration": 50,
    "start_time": "2023-07-12T16:19:48.069Z"
   },
   {
    "duration": 215,
    "start_time": "2023-07-12T16:19:48.120Z"
   },
   {
    "duration": 74,
    "start_time": "2023-07-12T16:19:48.342Z"
   },
   {
    "duration": 83,
    "start_time": "2023-07-12T16:19:48.418Z"
   },
   {
    "duration": 60,
    "start_time": "2023-07-12T16:19:48.503Z"
   },
   {
    "duration": 22544,
    "start_time": "2023-07-12T16:31:36.073Z"
   },
   {
    "duration": 150,
    "start_time": "2023-07-12T16:31:58.619Z"
   },
   {
    "duration": 54,
    "start_time": "2023-07-12T16:31:58.772Z"
   },
   {
    "duration": 64,
    "start_time": "2023-07-12T16:31:58.829Z"
   },
   {
    "duration": 56,
    "start_time": "2023-07-12T16:31:58.895Z"
   },
   {
    "duration": 50,
    "start_time": "2023-07-12T16:31:58.953Z"
   },
   {
    "duration": 86,
    "start_time": "2023-07-12T16:31:59.005Z"
   },
   {
    "duration": 58,
    "start_time": "2023-07-12T16:31:59.093Z"
   },
   {
    "duration": 79,
    "start_time": "2023-07-12T16:31:59.153Z"
   },
   {
    "duration": 61,
    "start_time": "2023-07-12T16:31:59.236Z"
   },
   {
    "duration": 24577,
    "start_time": "2023-07-12T16:38:26.309Z"
   },
   {
    "duration": 208,
    "start_time": "2023-07-12T16:38:50.888Z"
   },
   {
    "duration": 74,
    "start_time": "2023-07-12T16:38:51.098Z"
   },
   {
    "duration": 56,
    "start_time": "2023-07-12T16:38:51.174Z"
   },
   {
    "duration": 70,
    "start_time": "2023-07-12T16:38:51.237Z"
   },
   {
    "duration": 78,
    "start_time": "2023-07-12T16:38:51.309Z"
   },
   {
    "duration": 90,
    "start_time": "2023-07-12T16:38:51.389Z"
   },
   {
    "duration": 62,
    "start_time": "2023-07-12T16:38:51.481Z"
   },
   {
    "duration": 82,
    "start_time": "2023-07-12T16:38:51.545Z"
   },
   {
    "duration": 64,
    "start_time": "2023-07-12T16:38:51.630Z"
   },
   {
    "duration": 89,
    "start_time": "2023-07-12T16:41:40.131Z"
   },
   {
    "duration": 215,
    "start_time": "2023-07-12T16:42:47.299Z"
   },
   {
    "duration": 49,
    "start_time": "2023-07-12T16:42:56.197Z"
   },
   {
    "duration": 181,
    "start_time": "2023-07-12T16:44:43.129Z"
   },
   {
    "duration": 68,
    "start_time": "2023-07-12T16:46:28.738Z"
   },
   {
    "duration": 59,
    "start_time": "2023-07-12T16:46:38.051Z"
   },
   {
    "duration": 159,
    "start_time": "2023-07-12T16:47:51.029Z"
   },
   {
    "duration": 147,
    "start_time": "2023-07-12T17:09:15.455Z"
   },
   {
    "duration": 77,
    "start_time": "2023-07-12T17:18:28.047Z"
   },
   {
    "duration": 82,
    "start_time": "2023-07-12T17:19:00.998Z"
   },
   {
    "duration": 63,
    "start_time": "2023-07-12T17:19:18.551Z"
   },
   {
    "duration": 4,
    "start_time": "2023-07-12T17:19:53.761Z"
   },
   {
    "duration": 272,
    "start_time": "2023-07-12T17:26:37.312Z"
   },
   {
    "duration": 152,
    "start_time": "2023-07-12T17:26:43.863Z"
   },
   {
    "duration": 176,
    "start_time": "2023-07-12T17:40:49.048Z"
   },
   {
    "duration": 88,
    "start_time": "2023-07-12T17:41:07.028Z"
   },
   {
    "duration": 82,
    "start_time": "2023-07-12T17:41:19.195Z"
   },
   {
    "duration": 16112,
    "start_time": "2023-07-12T17:43:23.252Z"
   },
   {
    "duration": 250,
    "start_time": "2023-07-12T17:43:39.366Z"
   },
   {
    "duration": 175,
    "start_time": "2023-07-12T17:43:39.618Z"
   },
   {
    "duration": 90,
    "start_time": "2023-07-12T17:43:39.795Z"
   },
   {
    "duration": 119,
    "start_time": "2023-07-12T17:43:39.887Z"
   },
   {
    "duration": 59,
    "start_time": "2023-07-12T17:43:40.008Z"
   },
   {
    "duration": 51,
    "start_time": "2023-07-12T17:43:40.068Z"
   },
   {
    "duration": 66,
    "start_time": "2023-07-12T17:43:40.122Z"
   },
   {
    "duration": 61,
    "start_time": "2023-07-12T17:43:40.189Z"
   },
   {
    "duration": 77,
    "start_time": "2023-07-12T17:43:40.252Z"
   },
   {
    "duration": 57,
    "start_time": "2023-07-12T17:43:40.330Z"
   },
   {
    "duration": 14153,
    "start_time": "2023-07-12T17:48:24.390Z"
   },
   {
    "duration": 261,
    "start_time": "2023-07-12T17:48:38.547Z"
   },
   {
    "duration": 151,
    "start_time": "2023-07-12T17:48:38.810Z"
   },
   {
    "duration": 99,
    "start_time": "2023-07-12T17:48:38.962Z"
   },
   {
    "duration": 116,
    "start_time": "2023-07-12T17:48:39.063Z"
   },
   {
    "duration": 61,
    "start_time": "2023-07-12T17:48:39.181Z"
   },
   {
    "duration": 54,
    "start_time": "2023-07-12T17:48:39.248Z"
   },
   {
    "duration": 70,
    "start_time": "2023-07-12T17:48:39.304Z"
   },
   {
    "duration": 55,
    "start_time": "2023-07-12T17:48:39.376Z"
   },
   {
    "duration": 85,
    "start_time": "2023-07-12T17:48:39.432Z"
   },
   {
    "duration": 73,
    "start_time": "2023-07-12T17:48:39.518Z"
   },
   {
    "duration": 11026,
    "start_time": "2023-07-12T17:57:42.145Z"
   },
   {
    "duration": 273,
    "start_time": "2023-07-12T17:57:53.173Z"
   },
   {
    "duration": 144,
    "start_time": "2023-07-12T17:57:53.449Z"
   },
   {
    "duration": 101,
    "start_time": "2023-07-12T17:57:53.595Z"
   },
   {
    "duration": 96,
    "start_time": "2023-07-12T17:57:53.699Z"
   },
   {
    "duration": 63,
    "start_time": "2023-07-12T17:57:53.796Z"
   },
   {
    "duration": 49,
    "start_time": "2023-07-12T17:57:53.860Z"
   },
   {
    "duration": 66,
    "start_time": "2023-07-12T17:57:53.911Z"
   },
   {
    "duration": 52,
    "start_time": "2023-07-12T17:57:53.979Z"
   },
   {
    "duration": 76,
    "start_time": "2023-07-12T17:57:54.040Z"
   },
   {
    "duration": 56,
    "start_time": "2023-07-12T17:57:54.118Z"
   },
   {
    "duration": 18388,
    "start_time": "2023-07-12T18:00:48.917Z"
   },
   {
    "duration": 286,
    "start_time": "2023-07-12T18:01:07.307Z"
   },
   {
    "duration": 177,
    "start_time": "2023-07-12T18:01:07.595Z"
   },
   {
    "duration": 109,
    "start_time": "2023-07-12T18:01:07.774Z"
   },
   {
    "duration": 106,
    "start_time": "2023-07-12T18:01:07.885Z"
   },
   {
    "duration": 62,
    "start_time": "2023-07-12T18:01:07.993Z"
   },
   {
    "duration": 49,
    "start_time": "2023-07-12T18:01:08.057Z"
   },
   {
    "duration": 71,
    "start_time": "2023-07-12T18:01:08.108Z"
   },
   {
    "duration": 50,
    "start_time": "2023-07-12T18:01:08.180Z"
   },
   {
    "duration": 77,
    "start_time": "2023-07-12T18:01:08.238Z"
   },
   {
    "duration": 53,
    "start_time": "2023-07-12T18:01:08.316Z"
   }
  ],
  "kernelspec": {
   "display_name": "Python 3 (ipykernel)",
   "language": "python",
   "name": "python3"
  },
  "language_info": {
   "codemirror_mode": {
    "name": "ipython",
    "version": 3
   },
   "file_extension": ".py",
   "mimetype": "text/x-python",
   "name": "python",
   "nbconvert_exporter": "python",
   "pygments_lexer": "ipython3",
   "version": "3.9.5"
  },
  "toc": {
   "base_numbering": 1,
   "nav_menu": {},
   "number_sections": false,
   "sideBar": true,
   "skip_h1_title": true,
   "title_cell": "Table of Contents",
   "title_sidebar": "Contents",
   "toc_cell": false,
   "toc_position": {},
   "toc_section_display": true,
   "toc_window_display": false
  }
 },
 "nbformat": 4,
 "nbformat_minor": 2
}
