{
 "cells": [
  {
   "cell_type": "markdown",
   "metadata": {},
   "source": [
    "# Проект по SQL  (продвинутый)  \n",
    "\n",
    "### Цели исследования\n",
    "https://disk.yandex.ru/i/FO-GExhnlOKR7A\n",
    "\n",
    "### Описание данных    \n",
    "https://disk.yandex.ru/i/FO-GExhnlOKR7A\n"
   ]
  },
  {
   "cell_type": "markdown",
   "metadata": {},
   "source": [
    "<a id='step_0'></a><h3>План работы</h3>\n",
    "\n",
    "\n",
    "[1. Подключиться к БД.](#step_1)   \n",
    "[Первая часть](#step_1_)    \n",
    "[2. Количество вопросов, которые набрали больше 300 очков или как минимум 100 раз были добавлены в «Закладки».](#step_2)    \n",
    "[3. Сколько в среднем в день задавали вопросов с 1 по 18 ноября 2008 включительно?](#step_3)    \n",
    "[4. Сколько пользователей получили значки сразу в день регистрации?](#step_4)    \n",
    "[5. Сколько уникальных постов пользователя с именем Joel Coehoorn получили хотя бы один голос?](#step_5)     \n",
    "[6. Выгрузим все поля таблицы vote_types. Добавим к таблице поле rank, в которое войдут номера записей в обратном порядке.](#step_6)     \n",
    "[7. 10 пользователей, которые поставили больше всего голосов типа Close.](#step_7)     \n",
    "[8. ТОП10 пользователей по количеству значков, полученных в период с 15 ноября по 15 декабря 2008 года включительно.](#step_8)    \n",
    "[9. Сколько в среднем очков получает пост каждого пользователя?](#step_9)    \n",
    "[10. Заголовки постов, которые были написаны пользователями, получившими более 1000 значков.](#step_10)   \n",
    "[11. Данные о пользователях из США - 3 группы.](#step_11)    \n",
    "[12. ТОП пользователей, которые набрали максимальное число просмотров в своей группе.](#step_12)    \n",
    "[13. Ежедневный прирост новых пользователей в ноябре 2008 года.](#step_13)    \n",
    "[14. Интервал между регистрацией и первым постом у пишущих пользователей.](#step_14)    \n",
    "[Вторая часть](#step_2_)    \n",
    "[1. ТОП месяцев 2008 года по количеству просмотров.](#step_15)    \n",
    "[2.ТОП самых активных пользователей (более 100 ответов без учета вопросов).](#step_16)    \n",
    "[3. ТОП месяцев 2008 года по просмотрам пользователей, зарегистрированных в сентябре и активных в декабре.](#step_17)    \n",
    "[4. Таблица пользователей и их постов, сумма просмотров авторов с накоплением.](#step_18)    \n",
    "[5. Сколько в среднем дней в период с 1 по 7 декабря 2008 года включительно пользователи взаимодействовали с платформой?](#step_19)    \n",
    "[6. На сколько процентов менялось количество постов ежемесячно с 1 сентября по 31 декабря 2008 года?](#step_20)    \n",
    "[7. Данные активности за октябрь 2008 пользователя, который опубликовал больше всего постов за всё время.](#step_21)    \n",
    "   "
   ]
  },
  {
   "cell_type": "markdown",
   "metadata": {},
   "source": [
    "<a id='step_1'></a><h3>1. Подключаемся к БД.</h3>\n",
    "\n",
    "[К плану работ](#step_0)  \n"
   ]
  },
  {
   "cell_type": "code",
   "execution_count": 1,
   "metadata": {
    "scrolled": true
   },
   "outputs": [],
   "source": [
    "# импортируем библиотеки\n",
    "import pandas as pd\n",
    "from sqlalchemy import text, create_engine\n",
    "# устанавливаем параметры\n",
    "db_config = {'user': 'praktikum_student', # имя пользователя\n",
    "'pwd': 'Sdf4$2;d-d30pp', # пароль\n",
    "'host': 'rc1b-wcoijxj3yxfsf3fs.mdb.yandexcloud.net',\n",
    "'port': ______, # порт подключения\n",
    "'db': 'data-analyst-advanced-project-db'} # название базы данных\n",
    "connection_string = 'postgresql://{user}:{pwd}@{host}:{port}/{db}'.format(**db_config)\n",
    "# сохраняем коннектор\n",
    "engine = create_engine(connection_string, connect_args={'sslmode':'require'})\n",
    "# чтобы выполнить SQL-запрос, используем Pandas\n"
   ]
  },
  {
   "cell_type": "markdown",
   "metadata": {},
   "source": [
    "## скачать БД не удалось, поэтому проект представлен без результатов и без выводов"
   ]
  },
  {
   "cell_type": "markdown",
   "metadata": {},
   "source": [
    "<a id='step_1_'></a><h3>Первая часть</h3>\n",
    "\n",
    "[К плану работ](#step_0)  \n",
    "   "
   ]
  },
  {
   "cell_type": "markdown",
   "metadata": {},
   "source": [
    "<a id='step_2'></a><h3>2. Количество вопросов, которые набрали больше 300 очков или как минимум 100 раз были добавлены в «Закладки».</h3>\n",
    "\n",
    "[К плану работ](#step_0)  \n"
   ]
  },
  {
   "cell_type": "code",
   "execution_count": null,
   "metadata": {},
   "outputs": [],
   "source": [
    "query = '''\n",
    "SELECT count(p.id)\n",
    "FROM stackoverflow.posts as p\n",
    "JOIN stackoverflow.post_types as pt on pt.id = p.post_type_id\n",
    "WHERE pt.type= 'Question'\n",
    "AND p.score > 300\n",
    "OR p.favorites_count >=100;\n",
    "'''\n",
    "con=engine.connect()\n",
    "df = pd.io.sql.read_sql(sql=text(query), con = con)\n",
    "display(df.head())\n",
    "df.info()"
   ]
  },
  {
   "cell_type": "markdown",
   "metadata": {},
   "source": [
    "<a id='step_3'></a><h3>3. Сколько в среднем в день задавали вопросов с 1 по 18 ноября 2008 включительно? </h3>\n",
    "\n",
    "[К плану работ](#step_0)  \n",
    "Результат округлите до целого числа.\n"
   ]
  },
  {
   "cell_type": "code",
   "execution_count": null,
   "metadata": {},
   "outputs": [],
   "source": [
    "query = '''\n",
    "SELECT ROUND(AVG(day_count),0)\n",
    "FROM \n",
    "    (SELECT p.creation_date::date,\n",
    "            COUNT(p.id) AS day_count\n",
    "     FROM stackoverflow.posts as p\n",
    "     JOIN stackoverflow.post_types  as pt on pt.id = p.post_type_id\n",
    "     WHERE pt.type='Question'\n",
    "     GROUP BY creation_date::date\n",
    "     HAVING creation_date::date BETWEEN '2008-11-01' AND '2008-11-18') as total_ques_day;\n",
    "'''\n",
    "con=engine.connect()\n",
    "df = pd.io.sql.read_sql(sql=text(query), con = con)\n",
    "display(df.head())\n",
    "df.info()"
   ]
  },
  {
   "cell_type": "markdown",
   "metadata": {},
   "source": [
    "<a id='step_4'></a><h3>4. Сколько пользователей получили значки сразу в день регистрации? </h3>\n",
    "\n",
    "[К плану работ](#step_0)  \n",
    "Выведите количество уникальных пользователей.   "
   ]
  },
  {
   "cell_type": "code",
   "execution_count": null,
   "metadata": {},
   "outputs": [],
   "source": [
    "query = '''\n",
    "SELECT COUNT(DISTINCT b.user_id)\n",
    "FROM stackoverflow.badges as b\n",
    "JOIN stackoverflow.users AS u ON b.user_id = u.id\n",
    "WHERE b.creation_date::date = u.creation_date::date;\n",
    "'''\n",
    "con=engine.connect()\n",
    "df = pd.io.sql.read_sql(sql=text(query), con = con)\n",
    "display(df.head())\n",
    "df.info()"
   ]
  },
  {
   "cell_type": "markdown",
   "metadata": {},
   "source": [
    "<a id='step_5'></a><h3>5. Сколько уникальных постов пользователя с именем Joel Coehoorn получили хотя бы один голос?</h3>\n",
    "\n",
    "[К плану работ](#step_0)  \n"
   ]
  },
  {
   "cell_type": "code",
   "execution_count": null,
   "metadata": {},
   "outputs": [],
   "source": [
    "query = '''\n",
    "SELECT COUNT (DISTINCT cv.id)\n",
    "FROM (SELECT p.id\n",
    "      FROM stackoverflow.posts AS p\n",
    "      JOIN stackoverflow.votes AS v ON p.id = v.post_id\n",
    "      JOIN stackoverflow.users AS u ON p.user_id = u.id\n",
    "      WHERE u.display_name LIKE '%Joel Coehoorn%'\n",
    "      AND v.id > 0\n",
    "      GROUP BY p.id) AS cv;\n",
    "'''\n",
    "con=engine.connect()\n",
    "df = pd.io.sql.read_sql(sql=text(query), con = con)\n",
    "display(df.head())\n",
    "df.info()"
   ]
  },
  {
   "cell_type": "markdown",
   "metadata": {},
   "source": [
    "<a id='step_6'></a><h3>6. Выгрузим все поля таблицы vote_types. Добавим к таблице поле rank, в которое войдут номера записей в обратном порядке. </h3>\n",
    "\n",
    "[К плану работ](#step_0)     \n",
    "Таблицу отсортируем по полю id."
   ]
  },
  {
   "cell_type": "code",
   "execution_count": null,
   "metadata": {},
   "outputs": [],
   "source": [
    "query = '''\n",
    "SELECT*,\n",
    "RANK() OVER (ORDER BY id DESC)\n",
    "FROM stackoverflow.vote_types\n",
    "ORDER BY id;\n",
    "'''\n",
    "con=engine.connect()\n",
    "df = pd.io.sql.read_sql(sql=text(query), con = con)\n",
    "display(df.head())\n",
    "df.info()"
   ]
  },
  {
   "cell_type": "markdown",
   "metadata": {},
   "source": [
    "<a id='step_7'></a><h3>7. 10 пользователей, которые поставили больше всего голосов типа Close.</h3>\n",
    "\n",
    "[К плану работ](#step_0)  \n",
    " Отобразим таблицу из двух полей: идентификатором пользователя и количеством голосов. Отсортируем данные сначала по убыванию количества голосов, потом по убыванию значения идентификатора пользователя."
   ]
  },
  {
   "cell_type": "code",
   "execution_count": null,
   "metadata": {},
   "outputs": [],
   "source": [
    "query = '''\n",
    "SELECT *\n",
    "FROM\n",
    "(SELECT v.user_id,\n",
    "       COUNT (vt.id) AS cnt_v\n",
    "FROM stackoverflow.votes v \n",
    "JOIN stackoverflow.vote_types vt ON vt.id=v.vote_type_id\n",
    "WHERE vt.name = 'Close'\n",
    "GROUP BY v.user_id\n",
    "ORDER BY cnt_v DESC\n",
    "LIMIT 10) AS v_adm\n",
    "ORDER BY v_adm.cnt_v DESC, v_adm.user_id DESC;\n",
    "'''\n",
    "con=engine.connect()\n",
    "df = pd.io.sql.read_sql(sql=text(query), con = con)\n",
    "display(df.head())\n",
    "df.info()"
   ]
  },
  {
   "cell_type": "markdown",
   "metadata": {},
   "source": [
    "<a id='step_8'></a><h3>8. ТОП10 пользователей по количеству значков, полученных в период с 15 ноября по 15 декабря 2008 года включительно.</h3>\n",
    "[К плану работ](#step_0)  \n",
    "Отобразим несколько полей:   \n",
    "идентификатор пользователя;   \n",
    "число значков;   \n",
    "место в рейтинге — чем больше значков, тем выше рейтинг.  \n",
    "Пользователям, которые набрали одинаковое количество значков, присвоим одно и то же место в рейтинге.   \n",
    "Отсортируем записи по количеству значков по убыванию, а затем по возрастанию значения идентификатора пользователя.   \n",
    "   "
   ]
  },
  {
   "cell_type": "code",
   "execution_count": null,
   "metadata": {},
   "outputs": [],
   "source": [
    "query = '''\n",
    "SELECT *,\n",
    "       DENSE_RANK () OVER (ORDER BY b.b_cnt DESC) AS rating\n",
    "FROM (SELECT ba.user_id,\n",
    "             COUNT(ba.id) AS b_cnt\n",
    "      FROM stackoverflow.badges ba\n",
    "      WHERE ba.creation_date::date BETWEEN '2008-11-15' AND '2008-12-15'\n",
    "      GROUP BY ba.user_id\n",
    "      ORDER BY b_cnt DESC, ba.user_id \n",
    "      LIMIT 10) AS b;\n",
    "'''\n",
    "con=engine.connect()\n",
    "df = pd.io.sql.read_sql(sql=text(query), con = con)\n",
    "display(df.head())\n",
    "df.info()"
   ]
  },
  {
   "cell_type": "markdown",
   "metadata": {},
   "source": [
    "<a id='step_9'></a><h3>9. Сколько в среднем очков получает пост каждого пользователя? </h3>\n",
    "\n",
    "[К плану работ](#step_0)  \n",
    "Сформируем таблицу из следующих полей:   \n",
    "заголовок поста;   \n",
    "идентификатор пользователя;   \n",
    "число очков поста;   \n",
    "среднее число очков пользователя за пост, округлённое до целого числа.   \n",
    "Не учитываем посты без заголовка, а также те, что набрали ноль очков.   "
   ]
  },
  {
   "cell_type": "code",
   "execution_count": null,
   "metadata": {},
   "outputs": [],
   "source": [
    "query = '''\n",
    "WITH sc AS (\n",
    "SELECT ROUND(AVG(score)) AS avg_score,\n",
    "       user_id\n",
    "FROM stackoverflow.posts\n",
    "WHERE title IS NOT NULL AND score <> 0\n",
    "GROUP BY user_id)\n",
    "\n",
    "SELECT p.title,\n",
    "       sc.user_id,\n",
    "       p.score,\n",
    "       sc.avg_score\n",
    "FROM sc\n",
    "JOIN stackoverflow.posts AS p ON sc.user_id=p.user_id\n",
    "WHERE p.title IS NOT NULL AND p.score <> 0;\n",
    "'''\n",
    "con=engine.connect()\n",
    "df = pd.io.sql.read_sql(sql=text(query), con = con)\n",
    "display(df.head())\n",
    "df.info()"
   ]
  },
  {
   "cell_type": "markdown",
   "metadata": {},
   "source": [
    "<a id='step_10'></a><h3>10. Заголовки постов, которые были написаны пользователями, получившими более 1000 значков.</h3>\n",
    "\n",
    "[К плану работ](#step_0)  \n",
    "Посты без заголовков в список не попали."
   ]
  },
  {
   "cell_type": "code",
   "execution_count": null,
   "metadata": {},
   "outputs": [],
   "source": [
    "query = '''\n",
    "WITH spisok AS\n",
    "(SELECT user_id,\n",
    " COUNT(id) AS cou\n",
    "FROM stackoverflow.badges\n",
    "GROUP BY user_id\n",
    "HAVING COUNT(id) >1000)\n",
    "SELECT title\n",
    "FROM stackoverflow.posts p\n",
    "WHERE user_id IN (SELECT user_id FROM spisok)\n",
    "AND title is not null;\n",
    "'''\n",
    "con=engine.connect()\n",
    "df = pd.io.sql.read_sql(sql=text(query), con = con)\n",
    "display(df.head())\n",
    "df.info()"
   ]
  },
  {
   "cell_type": "markdown",
   "metadata": {},
   "source": [
    "<a id='step_11'></a><h3>11. Данные о пользователях из США - 3 группы. </h3>\n",
    "\n",
    "[К плану работ](#step_0)  \n",
    "Напишем запрос, который выгрузит данные о пользователях из США (англ. United States). Разделим пользователей на три группы в зависимости от количества просмотров их профилей:   \n",
    "пользователям с числом просмотров больше либо равным 350 присвойте группу 1;   \n",
    "пользователям с числом просмотров меньше 350, но больше либо равно 100 — группу 2;   \n",
    "пользователям с числом просмотров меньше 100 — группу 3.   \n",
    "Отобразим в итоговой таблице идентификатор пользователя, количество просмотров профиля и группу. Пользователи с нулевым количеством просмотров в итоговую таблицу не вошли.   "
   ]
  },
  {
   "cell_type": "code",
   "execution_count": null,
   "metadata": {},
   "outputs": [],
   "source": [
    "query = '''\n",
    "SELECT DISTINCT(u.id),\n",
    "       u.views,\n",
    "       CASE\n",
    "           WHEN u.views >= 100 AND u.views < 350 THEN 2\n",
    "           WHEN u.views >= 350 THEN 1\n",
    "           ELSE 3\n",
    "       END AS group_n\n",
    "FROM stackoverflow.users u\n",
    "WHERE u.location LIKE '%United States%'\n",
    "AND u.views > 0;\n",
    "'''\n",
    "con=engine.connect()\n",
    "df = pd.io.sql.read_sql(sql=text(query), con = con)\n",
    "display(df.head())\n",
    "df.info()"
   ]
  },
  {
   "cell_type": "markdown",
   "metadata": {},
   "source": [
    "<a id='step_12'></a><h3>12. ТОП пользователей, которые набрали максимальное число просмотров в своей группе. </h3>\n",
    "\n",
    "[К плану работ](#step_0)  \n",
    "Дополним предыдущий запрос. Отобразим лидеров каждой группы — пользователей, которые набрали максимальное число просмотров в своей группе. Выведем поля с идентификатором пользователя, группой и количеством просмотров. Отсортируем таблицу по убыванию просмотров, а затем по возрастанию значения идентификатора."
   ]
  },
  {
   "cell_type": "code",
   "execution_count": null,
   "metadata": {},
   "outputs": [],
   "source": [
    "query = '''\n",
    "WITH gr AS \n",
    "(SELECT DISTINCT(u.id),\n",
    "        u.views,\n",
    "        CASE\n",
    "            WHEN u.views >= 100 AND u.views < 350 THEN 2\n",
    "            WHEN u.views >= 350 THEN 1\n",
    "            ELSE 3\n",
    "        END AS group_n\n",
    "FROM stackoverflow.users u\n",
    "WHERE u.location LIKE '%United States%'\n",
    "AND u.views > 0),\n",
    "loc AS (SELECT *,\n",
    "       MAX(gr.views) OVER (PARTITION BY group_n) AS max_in_group\n",
    "       FROM gr)\n",
    "SELECT id AS lead_group,\n",
    "       group_n,\n",
    "       views\n",
    "FROM loc\n",
    "WHERE views = max_in_group\n",
    "ORDER BY views DESC, id;\n",
    "'''\n",
    "con=engine.connect()\n",
    "df = pd.io.sql.read_sql(sql=text(query), con = con)\n",
    "display(df.head())\n",
    "df.info()"
   ]
  },
  {
   "cell_type": "markdown",
   "metadata": {},
   "source": [
    "<a id='step_13'></a><h3>13. Ежедневный прирост новых пользователей в ноябре 2008 года. </h3>\n",
    "\n",
    "[К плану работ](#step_0)  \n",
    "Сформируем таблицу с полями:   \n",
    "номер дня;   \n",
    "число пользователей, зарегистрированных в этот день;   \n",
    "сумму пользователей с накоплением.   "
   ]
  },
  {
   "cell_type": "code",
   "execution_count": null,
   "metadata": {},
   "outputs": [],
   "source": [
    "query = '''\n",
    "WITH count_per_day AS\n",
    "(SELECT EXTRACT (DAY FROM u.creation_date::date) AS day_,\n",
    "        EXTRACT (MONTH FROM u.creation_date::date) AS month_,\n",
    "        COUNT(u.id) AS cnt_day_new\n",
    "FROM stackoverflow.users AS u\n",
    "WHERE u.creation_date::date BETWEEN '2008-11-1' AND '2008-11-30'\n",
    "GROUP BY EXTRACT (DAY FROM u.creation_date::date), month_)\n",
    "SELECT cpd.day_,\n",
    "       cpd.cnt_day_new,\n",
    "       SUM(cpd.cnt_day_new) OVER (ORDER BY cpd.day_)\n",
    "FROM count_per_day AS cpd;\n",
    "'''\n",
    "con=engine.connect()\n",
    "df = pd.io.sql.read_sql(sql=text(query), con = con)\n",
    "display(df.head())\n",
    "df.info()"
   ]
  },
  {
   "cell_type": "markdown",
   "metadata": {},
   "source": [
    "<a id='step_14'></a><h3>14. Интервал между регистрацией и первым постом у пишущих пользователей.</h3>\n",
    "\n",
    "[К плану работ](#step_0)  \n",
    "Для каждого пользователя, который написал хотя бы один пост, найдем интервал между регистрацией и временем создания первого поста.   \n",
    "Отобразим:   \n",
    "идентификатор пользователя;   \n",
    "разницу во времени между регистрацией и первым постом.   "
   ]
  },
  {
   "cell_type": "code",
   "execution_count": null,
   "metadata": {},
   "outputs": [],
   "source": [
    "query = '''\n",
    "SELECT pd.user,\n",
    "       (pd.min_date_post - pd.reg_date) AS different\n",
    "FROM\n",
    "(SELECT DISTINCT p.user_id AS user,\n",
    "       MIN(p.creation_date) OVER (PARTITION BY p.user_id) AS min_date_post,\n",
    "       u.creation_date AS reg_date\n",
    "FROM stackoverflow.posts p\n",
    "JOIN stackoverflow.users u ON u.id = p.user_id\n",
    "WHERE p.id > 0) AS pd;\n",
    "'''\n",
    "con=engine.connect()\n",
    "df = pd.io.sql.read_sql(sql=text(query), con = con)\n",
    "display(df.head())\n",
    "df.info()"
   ]
  },
  {
   "cell_type": "markdown",
   "metadata": {},
   "source": [
    "<a id='step_2_'></a><h3>Вторая часть</h3>\n",
    "\n",
    "[К плану работ](#step_0)  \n",
    "   "
   ]
  },
  {
   "cell_type": "markdown",
   "metadata": {},
   "source": [
    "<a id='step_15'></a><h3>1. ТОП месяцев 2008 года по количеству просмотров. </h3>\n",
    "\n",
    "[К плану работ](#step_0)  \n",
    "Выведем общую сумму просмотров постов за каждый месяц 2008 года. Пропущены месяцы без просмотров. Результат отсортирован по убыванию общего количества просмотров.    "
   ]
  },
  {
   "cell_type": "code",
   "execution_count": null,
   "metadata": {},
   "outputs": [],
   "source": [
    "query = '''\n",
    "SELECT DATE_TRUNC('month', p.creation_date)::date mon,\n",
    "       SUM(p.views_count) total_vie_mon\n",
    "FROM stackoverflow.posts p\n",
    "WHERE EXTRACT(year FROM p.creation_date::date) = 2008\n",
    "GROUP BY mon--, p.views_count, p.creation_date\n",
    "ORDER BY total_vie_mon DESC;\n",
    "'''\n",
    "con=engine.connect()\n",
    "df = pd.io.sql.read_sql(sql=text(query), con = con)\n",
    "display(df.head())\n",
    "df.info()"
   ]
  },
  {
   "cell_type": "markdown",
   "metadata": {},
   "source": [
    "<a id='step_16'></a><h3>2.ТОП самых активных пользователей (более 100 ответов без учета вопросов). </h3>\n",
    "\n",
    "[К плану работ](#step_0)  \n",
    "Выведем имена самых активных пользователей, которые в первый месяц после регистрации (включая день регистрации) дали больше 100 ответов. Вопросы, которые задавали пользователи, не учитываем. Для каждого имени пользователя выведем количество уникальных значений user_id. Отсортируем результат по полю с именами в лексикографическом порядке."
   ]
  },
  {
   "cell_type": "code",
   "execution_count": null,
   "metadata": {},
   "outputs": [],
   "source": [
    "query = '''\n",
    "WITH ca AS\n",
    "(SELECT u.display_name,\n",
    "        COUNT (p.id) AS cnt_answ,\n",
    "        COUNT (DISTINCT p.user_id) cnt_user \n",
    " FROM stackoverflow.users u\n",
    " JOIN stackoverflow.posts p ON p.user_id = u.id\n",
    " JOIN stackoverflow.post_types pt ON p.post_type_id = pt.id\n",
    " WHERE pt.type LIKE '%Answer%'\n",
    " AND p.creation_date::date <= u.creation_date::date + INTERVAL '1 month'\n",
    " GROUP BY u.display_name)\n",
    "SELECT ca.display_name,\n",
    "       ca.cnt_user\n",
    "FROM ca\n",
    "WHERE ca.cnt_answ > 100\n",
    "ORDER BY ca.display_name;\n",
    "'''\n",
    "con=engine.connect()\n",
    "df = pd.io.sql.read_sql(sql=text(query), con = con)\n",
    "display(df.head())\n",
    "df.info()"
   ]
  },
  {
   "cell_type": "markdown",
   "metadata": {},
   "source": [
    "<a id='step_17'></a><h3>3. ТОП месяцев 2008 года по просмотрам пользователей, зарегистрированных в сентябре и активных в декабре.</h3>\n",
    "\n",
    "[К плану работ](#step_0)  \n",
    "Выведем количество постов за 2008 год по месяцам. Отберем посты от пользователей, которые зарегистрировались в сентябре 2008 года и сделали хотя бы один пост в декабре того же года. Отсортируем таблицу по значению месяца по убыванию."
   ]
  },
  {
   "cell_type": "code",
   "execution_count": null,
   "metadata": {},
   "outputs": [],
   "source": [
    "query = '''\n",
    "SELECT COUNT (p.id),\n",
    "       DATE_TRUNC('month', p.creation_date::date)::date AS mon\n",
    "FROM \n",
    "(SELECT u.id\n",
    "        --DATE_TRUNC('month', p.creation_date::date) AS mon\n",
    "FROM stackoverflow.posts p\n",
    "JOIN stackoverflow.users u ON u.id = p.user_id\n",
    "WHERE EXTRACT(YEAR FROM p.creation_date::date) = 2008\n",
    "AND DATE_TRUNC('month', u.creation_date::date) = '2008-09-01'\n",
    "AND DATE_TRUNC('month', p.creation_date::date) = '2008-12-01'\n",
    "GROUP BY u.id--, DATE_TRUNC('month', p.creation_date::date)\n",
    "HAVING COUNT(p.id) <> 0) AS cu\n",
    "JOIN stackoverflow.posts p ON p.user_id = cu.id\n",
    "GROUP BY mon\n",
    "ORDER BY mon DESC;\n",
    "'''\n",
    "con=engine.connect()\n",
    "df = pd.io.sql.read_sql(sql=text(query), con = con)\n",
    "display(df.head())\n",
    "df.info()"
   ]
  },
  {
   "cell_type": "markdown",
   "metadata": {},
   "source": [
    "<a id='step_18'></a><h3>4. Таблица пользователей и их постов, сумма просмотров авторов с накоплением.</h3>\n",
    "\n",
    "[К плану работ](#step_0)  \n",
    "Используя данные о постах, выведем несколько полей:   \n",
    "идентификатор пользователя, который написал пост;   \n",
    "дата создания поста;   \n",
    "количество просмотров у текущего поста;   \n",
    "сумму просмотров постов автора с накоплением.   \n",
    "Данные в таблице отсортируем по возрастанию идентификаторов пользователей, а данные об одном и том же пользователе — по возрастанию даты создания поста.   "
   ]
  },
  {
   "cell_type": "code",
   "execution_count": null,
   "metadata": {},
   "outputs": [],
   "source": [
    "query = '''\n",
    "SELECT  DISTINCT p.user_id,\n",
    "        p.creation_date,\n",
    "        p.views_count,\n",
    "        SUM(p.views_count) OVER (PARTITION BY p.user_id ORDER BY p.creation_date) AS tot_vie_post_user\n",
    "FROM stackoverflow.posts AS p;\n",
    "'''\n",
    "con=engine.connect()\n",
    "df = pd.io.sql.read_sql(sql=text(query), con = con)\n",
    "display(df.head())\n",
    "df.info()"
   ]
  },
  {
   "cell_type": "markdown",
   "metadata": {},
   "source": [
    "<a id='step_19'></a><h3>5. Сколько в среднем дней в период с 1 по 7 декабря 2008 года включительно пользователи взаимодействовали с платформой? </h3>\n",
    "\n",
    "[К плану работ](#step_0)   \n",
    "Для каждого пользователя отберем дни, в которые он или она опубликовали хотя бы один пост (округлим результат)."
   ]
  },
  {
   "cell_type": "code",
   "execution_count": null,
   "metadata": {},
   "outputs": [],
   "source": [
    "query = '''\n",
    "WITH da AS\n",
    "(SELECT p.user_id,\n",
    "        COUNT(DISTINCT p.creation_date::date) AS a_cnt\n",
    "FROM stackoverflow.posts p\n",
    "WHERE DATE_TRUNC('day', p.creation_date::date) BETWEEN '2008-12-01' AND '2008-12-07'\n",
    "GROUP BY p.user_id)     \n",
    "SELECT ROUND(AVG(da.a_cnt),0)\n",
    "FROM da;\n",
    "'''\n",
    "con=engine.connect()\n",
    "df = pd.io.sql.read_sql(sql=text(query), con = con)\n",
    "display(df.head())\n",
    "df.info()"
   ]
  },
  {
   "cell_type": "markdown",
   "metadata": {},
   "source": [
    "<a id='step_20'></a><h3>6. На сколько процентов менялось количество постов ежемесячно с 1 сентября по 31 декабря 2008 года? </h3>\n",
    "\n",
    "[К плану работ](#step_0)  \n",
    "Отобразим таблицу со следующими полями:   \n",
    "номер месяца;   \n",
    "количество постов за месяц;   \n",
    "процент, который показывает, насколько изменилось количество постов в текущем месяце по сравнению с предыдущим.   \n",
    "Если постов стало меньше, значение процента - отрицательное, если больше — положительное. Округлим значение процента до двух знаков после запятой (переведем делимое в тип numeric чтобы избежать при делении одного целого числа на другое в PostgreSQL в результате получится целое число, округлённое до ближайшего целого вниз)."
   ]
  },
  {
   "cell_type": "code",
   "execution_count": null,
   "metadata": {},
   "outputs": [],
   "source": [
    "query = '''\n",
    "SELECT *,\n",
    "       ROUND((cnt - LAG(cnt) OVER ()) * 100.0 / (LAG(cnt) OVER()) * 1.0, 2) AS percent_diff\n",
    "   \n",
    "FROM (SELECT EXTRACT(MONTH FROM p.creation_date::date) AS mon,\n",
    "       (COUNT(p.id)*1.0) AS cnt\n",
    "FROM stackoverflow.posts p\n",
    "WHERE EXTRACT(YEAR FROM p.creation_date::date)=2008\n",
    "AND EXTRACT(MONTH FROM p.creation_date::date) BETWEEN 9 AND 12\n",
    "GROUP BY 1) AS a;\n",
    "'''\n",
    "con=engine.connect()\n",
    "df = pd.io.sql.read_sql(sql=text(query), con = con)\n",
    "display(df.head())\n",
    "df.info()"
   ]
  },
  {
   "cell_type": "markdown",
   "metadata": {},
   "source": [
    "<a id='step_21'></a><h3>7. Данные активности за октябрь 2008 пользователя, который опубликовал больше всего постов за всё время.</h3>\n",
    "\n",
    "[К плану работ](#step_0)  \n",
    "Выведем данные за октябрь 2008 года в таком виде:   \n",
    "номер недели;   \n",
    "дата и время последнего поста, опубликованного на этой неделе.   "
   ]
  },
  {
   "cell_type": "code",
   "execution_count": null,
   "metadata": {},
   "outputs": [],
   "source": [
    "query = '''\n",
    "WITH lead_user AS(\n",
    "    SELECT p.user_id, COUNT(p.id)\n",
    "    FROM stackoverflow.posts p\n",
    "    GROUP BY 1\n",
    "    ORDER BY 2 DESC\n",
    "    LIMIT 1),\n",
    "   lead_user_posts AS(\n",
    "SELECT p.user_id, p.id, p.creation_date,\n",
    "       EXTRACT(WEEK FROM p.creation_date::date) week\n",
    "   FROM stackoverflow.posts p\n",
    "   JOIN lead_user lu ON lu.user_id = p.user_id\n",
    "   WHERE EXTRACT(YEAR FROM p.creation_date::date) = 2008\n",
    "   AND EXTRACT(MONTH FROM p.creation_date::date) = 10\n",
    "   ORDER BY p.creation_date\n",
    "          )\n",
    "SELECT DISTINCT l.week,\n",
    "       LAST_VALUE(l.creation_date) OVER (PARTITION BY l.week ORDER BY l.creation_date ROWS BETWEEN CURRENT ROW AND UNBOUNDED FOLLOWING) AS last_post\n",
    "FROM lead_user_posts l\n",
    "ORDER BY 1;   \n",
    "'''\n",
    "con=engine.connect()\n",
    "df = pd.io.sql.read_sql(sql=text(query), con = con)\n",
    "display(df.head())\n",
    "df.info()"
   ]
  }
 ],
 "metadata": {
  "ExecuteTimeLog": [
   {
    "duration": 168,
    "start_time": "2023-07-12T05:21:50.602Z"
   },
   {
    "duration": 12669,
    "start_time": "2023-07-12T05:22:11.186Z"
   },
   {
    "duration": 3,
    "start_time": "2023-07-12T05:22:40.669Z"
   },
   {
    "duration": 132,
    "start_time": "2023-07-12T05:22:55.279Z"
   },
   {
    "duration": 53,
    "start_time": "2023-07-12T05:23:24.421Z"
   },
   {
    "duration": 55,
    "start_time": "2023-07-12T05:23:31.945Z"
   },
   {
    "duration": 132,
    "start_time": "2023-07-12T05:43:14.722Z"
   },
   {
    "duration": 70,
    "start_time": "2023-07-12T05:44:03.230Z"
   },
   {
    "duration": 147,
    "start_time": "2023-07-12T05:44:49.741Z"
   },
   {
    "duration": 144,
    "start_time": "2023-07-12T05:44:56.272Z"
   },
   {
    "duration": 123,
    "start_time": "2023-07-12T05:46:13.582Z"
   },
   {
    "duration": 149,
    "start_time": "2023-07-12T05:55:07.456Z"
   },
   {
    "duration": 65,
    "start_time": "2023-07-12T05:55:30.264Z"
   },
   {
    "duration": 58,
    "start_time": "2023-07-12T05:56:01.295Z"
   },
   {
    "duration": 74,
    "start_time": "2023-07-12T05:57:00.193Z"
   },
   {
    "duration": 56,
    "start_time": "2023-07-12T05:57:08.474Z"
   },
   {
    "duration": 52,
    "start_time": "2023-07-12T05:57:39.158Z"
   },
   {
    "duration": 57,
    "start_time": "2023-07-12T06:00:55.715Z"
   },
   {
    "duration": 57,
    "start_time": "2023-07-12T06:01:48.409Z"
   },
   {
    "duration": 84,
    "start_time": "2023-07-12T06:04:26.597Z"
   },
   {
    "duration": 41,
    "start_time": "2023-07-12T06:04:45.185Z"
   },
   {
    "duration": 72,
    "start_time": "2023-07-12T06:05:12.183Z"
   },
   {
    "duration": 41,
    "start_time": "2023-07-12T06:05:20.142Z"
   },
   {
    "duration": 54,
    "start_time": "2023-07-12T06:05:46.162Z"
   },
   {
    "duration": 59,
    "start_time": "2023-07-12T06:06:14.531Z"
   },
   {
    "duration": 43,
    "start_time": "2023-07-12T09:18:50.252Z"
   },
   {
    "duration": 233,
    "start_time": "2023-07-12T09:18:55.347Z"
   },
   {
    "duration": 147,
    "start_time": "2023-07-12T09:18:55.918Z"
   },
   {
    "duration": 54,
    "start_time": "2023-07-12T09:18:56.422Z"
   },
   {
    "duration": 56,
    "start_time": "2023-07-12T09:18:56.985Z"
   },
   {
    "duration": 57,
    "start_time": "2023-07-12T09:18:58.209Z"
   },
   {
    "duration": 50,
    "start_time": "2023-07-12T09:18:59.367Z"
   },
   {
    "duration": 72,
    "start_time": "2023-07-12T11:25:37.278Z"
   },
   {
    "duration": 68,
    "start_time": "2023-07-12T11:50:24.402Z"
   },
   {
    "duration": 51,
    "start_time": "2023-07-12T11:50:41.853Z"
   },
   {
    "duration": 55,
    "start_time": "2023-07-12T11:50:57.053Z"
   },
   {
    "duration": 53,
    "start_time": "2023-07-12T11:52:12.853Z"
   },
   {
    "duration": 107,
    "start_time": "2023-07-12T13:51:56.956Z"
   },
   {
    "duration": 69,
    "start_time": "2023-07-12T13:54:19.758Z"
   },
   {
    "duration": 73,
    "start_time": "2023-07-12T13:55:05.450Z"
   },
   {
    "duration": 69,
    "start_time": "2023-07-12T14:00:11.113Z"
   },
   {
    "duration": 156,
    "start_time": "2023-07-12T14:06:20.561Z"
   },
   {
    "duration": 199,
    "start_time": "2023-07-12T14:09:40.992Z"
   },
   {
    "duration": 165,
    "start_time": "2023-07-12T14:09:52.397Z"
   },
   {
    "duration": 99,
    "start_time": "2023-07-12T14:10:37.400Z"
   },
   {
    "duration": 80,
    "start_time": "2023-07-12T14:10:44.826Z"
   },
   {
    "duration": 83,
    "start_time": "2023-07-12T14:11:11.002Z"
   },
   {
    "duration": 77,
    "start_time": "2023-07-12T14:14:02.316Z"
   },
   {
    "duration": 89,
    "start_time": "2023-07-12T14:16:32.223Z"
   },
   {
    "duration": 49,
    "start_time": "2023-07-12T14:16:48.453Z"
   },
   {
    "duration": 100,
    "start_time": "2023-07-12T14:17:39.896Z"
   },
   {
    "duration": 71,
    "start_time": "2023-07-12T14:18:05.498Z"
   },
   {
    "duration": 204,
    "start_time": "2023-07-12T14:18:53.596Z"
   },
   {
    "duration": 73,
    "start_time": "2023-07-12T14:23:47.755Z"
   },
   {
    "duration": 79,
    "start_time": "2023-07-12T14:58:33.631Z"
   },
   {
    "duration": 261,
    "start_time": "2023-07-12T14:59:48.109Z"
   },
   {
    "duration": 194,
    "start_time": "2023-07-12T15:01:08.546Z"
   },
   {
    "duration": 181,
    "start_time": "2023-07-12T15:04:08.834Z"
   },
   {
    "duration": 246,
    "start_time": "2023-07-12T15:11:25.132Z"
   },
   {
    "duration": 87,
    "start_time": "2023-07-12T15:13:43.123Z"
   },
   {
    "duration": 108,
    "start_time": "2023-07-12T15:16:27.095Z"
   },
   {
    "duration": 119,
    "start_time": "2023-07-12T15:18:57.732Z"
   },
   {
    "duration": 122,
    "start_time": "2023-07-12T15:19:20.071Z"
   },
   {
    "duration": 110,
    "start_time": "2023-07-12T15:19:44.456Z"
   },
   {
    "duration": 69,
    "start_time": "2023-07-12T15:20:34.390Z"
   },
   {
    "duration": 75,
    "start_time": "2023-07-12T15:22:09.647Z"
   },
   {
    "duration": 71,
    "start_time": "2023-07-12T15:22:26.329Z"
   },
   {
    "duration": 107,
    "start_time": "2023-07-12T15:24:07.331Z"
   },
   {
    "duration": 139,
    "start_time": "2023-07-12T15:30:47.654Z"
   },
   {
    "duration": 1578,
    "start_time": "2023-07-12T15:31:16.891Z"
   },
   {
    "duration": 88,
    "start_time": "2023-07-12T15:31:28.386Z"
   },
   {
    "duration": 98,
    "start_time": "2023-07-12T15:36:45.155Z"
   },
   {
    "duration": 98,
    "start_time": "2023-07-12T15:38:01.787Z"
   },
   {
    "duration": 106,
    "start_time": "2023-07-12T15:38:46.671Z"
   },
   {
    "duration": 73,
    "start_time": "2023-07-12T15:40:38.346Z"
   },
   {
    "duration": 74,
    "start_time": "2023-07-12T15:41:16.390Z"
   },
   {
    "duration": 76,
    "start_time": "2023-07-12T15:41:23.535Z"
   },
   {
    "duration": 220,
    "start_time": "2023-07-12T15:44:56.725Z"
   },
   {
    "duration": 78,
    "start_time": "2023-07-12T15:45:42.387Z"
   },
   {
    "duration": 55,
    "start_time": "2023-07-12T16:03:05.698Z"
   },
   {
    "duration": 54,
    "start_time": "2023-07-12T16:05:30.721Z"
   },
   {
    "duration": 75,
    "start_time": "2023-07-12T16:07:33.484Z"
   },
   {
    "duration": 57,
    "start_time": "2023-07-12T16:07:44.936Z"
   },
   {
    "duration": 43,
    "start_time": "2023-07-12T16:07:54.601Z"
   },
   {
    "duration": 55,
    "start_time": "2023-07-12T16:14:31.440Z"
   },
   {
    "duration": 20166,
    "start_time": "2023-07-12T16:18:46.788Z"
   },
   {
    "duration": 133,
    "start_time": "2023-07-12T16:19:06.956Z"
   },
   {
    "duration": 60,
    "start_time": "2023-07-12T16:19:07.091Z"
   },
   {
    "duration": 50,
    "start_time": "2023-07-12T16:19:07.154Z"
   },
   {
    "duration": 54,
    "start_time": "2023-07-12T16:19:07.206Z"
   },
   {
    "duration": 51,
    "start_time": "2023-07-12T16:19:07.262Z"
   },
   {
    "duration": 97,
    "start_time": "2023-07-12T16:19:07.314Z"
   },
   {
    "duration": 89,
    "start_time": "2023-07-12T16:19:07.413Z"
   },
   {
    "duration": 62,
    "start_time": "2023-07-12T16:19:07.504Z"
   },
   {
    "duration": 82,
    "start_time": "2023-07-12T16:19:07.568Z"
   },
   {
    "duration": 51,
    "start_time": "2023-07-12T16:19:07.651Z"
   },
   {
    "duration": 16814,
    "start_time": "2023-07-12T16:19:30.958Z"
   },
   {
    "duration": 123,
    "start_time": "2023-07-12T16:19:47.774Z"
   },
   {
    "duration": 63,
    "start_time": "2023-07-12T16:19:47.899Z"
   },
   {
    "duration": 51,
    "start_time": "2023-07-12T16:19:47.963Z"
   },
   {
    "duration": 52,
    "start_time": "2023-07-12T16:19:48.016Z"
   },
   {
    "duration": 50,
    "start_time": "2023-07-12T16:19:48.069Z"
   },
   {
    "duration": 215,
    "start_time": "2023-07-12T16:19:48.120Z"
   },
   {
    "duration": 74,
    "start_time": "2023-07-12T16:19:48.342Z"
   },
   {
    "duration": 83,
    "start_time": "2023-07-12T16:19:48.418Z"
   },
   {
    "duration": 60,
    "start_time": "2023-07-12T16:19:48.503Z"
   },
   {
    "duration": 22544,
    "start_time": "2023-07-12T16:31:36.073Z"
   },
   {
    "duration": 150,
    "start_time": "2023-07-12T16:31:58.619Z"
   },
   {
    "duration": 54,
    "start_time": "2023-07-12T16:31:58.772Z"
   },
   {
    "duration": 64,
    "start_time": "2023-07-12T16:31:58.829Z"
   },
   {
    "duration": 56,
    "start_time": "2023-07-12T16:31:58.895Z"
   },
   {
    "duration": 50,
    "start_time": "2023-07-12T16:31:58.953Z"
   },
   {
    "duration": 86,
    "start_time": "2023-07-12T16:31:59.005Z"
   },
   {
    "duration": 58,
    "start_time": "2023-07-12T16:31:59.093Z"
   },
   {
    "duration": 79,
    "start_time": "2023-07-12T16:31:59.153Z"
   },
   {
    "duration": 61,
    "start_time": "2023-07-12T16:31:59.236Z"
   },
   {
    "duration": 24577,
    "start_time": "2023-07-12T16:38:26.309Z"
   },
   {
    "duration": 208,
    "start_time": "2023-07-12T16:38:50.888Z"
   },
   {
    "duration": 74,
    "start_time": "2023-07-12T16:38:51.098Z"
   },
   {
    "duration": 56,
    "start_time": "2023-07-12T16:38:51.174Z"
   },
   {
    "duration": 70,
    "start_time": "2023-07-12T16:38:51.237Z"
   },
   {
    "duration": 78,
    "start_time": "2023-07-12T16:38:51.309Z"
   },
   {
    "duration": 90,
    "start_time": "2023-07-12T16:38:51.389Z"
   },
   {
    "duration": 62,
    "start_time": "2023-07-12T16:38:51.481Z"
   },
   {
    "duration": 82,
    "start_time": "2023-07-12T16:38:51.545Z"
   },
   {
    "duration": 64,
    "start_time": "2023-07-12T16:38:51.630Z"
   },
   {
    "duration": 89,
    "start_time": "2023-07-12T16:41:40.131Z"
   },
   {
    "duration": 215,
    "start_time": "2023-07-12T16:42:47.299Z"
   },
   {
    "duration": 49,
    "start_time": "2023-07-12T16:42:56.197Z"
   },
   {
    "duration": 181,
    "start_time": "2023-07-12T16:44:43.129Z"
   },
   {
    "duration": 68,
    "start_time": "2023-07-12T16:46:28.738Z"
   },
   {
    "duration": 59,
    "start_time": "2023-07-12T16:46:38.051Z"
   },
   {
    "duration": 159,
    "start_time": "2023-07-12T16:47:51.029Z"
   },
   {
    "duration": 147,
    "start_time": "2023-07-12T17:09:15.455Z"
   },
   {
    "duration": 77,
    "start_time": "2023-07-12T17:18:28.047Z"
   },
   {
    "duration": 82,
    "start_time": "2023-07-12T17:19:00.998Z"
   },
   {
    "duration": 63,
    "start_time": "2023-07-12T17:19:18.551Z"
   },
   {
    "duration": 4,
    "start_time": "2023-07-12T17:19:53.761Z"
   },
   {
    "duration": 272,
    "start_time": "2023-07-12T17:26:37.312Z"
   },
   {
    "duration": 152,
    "start_time": "2023-07-12T17:26:43.863Z"
   },
   {
    "duration": 176,
    "start_time": "2023-07-12T17:40:49.048Z"
   },
   {
    "duration": 88,
    "start_time": "2023-07-12T17:41:07.028Z"
   },
   {
    "duration": 82,
    "start_time": "2023-07-12T17:41:19.195Z"
   },
   {
    "duration": 16112,
    "start_time": "2023-07-12T17:43:23.252Z"
   },
   {
    "duration": 250,
    "start_time": "2023-07-12T17:43:39.366Z"
   },
   {
    "duration": 175,
    "start_time": "2023-07-12T17:43:39.618Z"
   },
   {
    "duration": 90,
    "start_time": "2023-07-12T17:43:39.795Z"
   },
   {
    "duration": 119,
    "start_time": "2023-07-12T17:43:39.887Z"
   },
   {
    "duration": 59,
    "start_time": "2023-07-12T17:43:40.008Z"
   },
   {
    "duration": 51,
    "start_time": "2023-07-12T17:43:40.068Z"
   },
   {
    "duration": 66,
    "start_time": "2023-07-12T17:43:40.122Z"
   },
   {
    "duration": 61,
    "start_time": "2023-07-12T17:43:40.189Z"
   },
   {
    "duration": 77,
    "start_time": "2023-07-12T17:43:40.252Z"
   },
   {
    "duration": 57,
    "start_time": "2023-07-12T17:43:40.330Z"
   },
   {
    "duration": 14153,
    "start_time": "2023-07-12T17:48:24.390Z"
   },
   {
    "duration": 261,
    "start_time": "2023-07-12T17:48:38.547Z"
   },
   {
    "duration": 151,
    "start_time": "2023-07-12T17:48:38.810Z"
   },
   {
    "duration": 99,
    "start_time": "2023-07-12T17:48:38.962Z"
   },
   {
    "duration": 116,
    "start_time": "2023-07-12T17:48:39.063Z"
   },
   {
    "duration": 61,
    "start_time": "2023-07-12T17:48:39.181Z"
   },
   {
    "duration": 54,
    "start_time": "2023-07-12T17:48:39.248Z"
   },
   {
    "duration": 70,
    "start_time": "2023-07-12T17:48:39.304Z"
   },
   {
    "duration": 55,
    "start_time": "2023-07-12T17:48:39.376Z"
   },
   {
    "duration": 85,
    "start_time": "2023-07-12T17:48:39.432Z"
   },
   {
    "duration": 73,
    "start_time": "2023-07-12T17:48:39.518Z"
   },
   {
    "duration": 11026,
    "start_time": "2023-07-12T17:57:42.145Z"
   },
   {
    "duration": 273,
    "start_time": "2023-07-12T17:57:53.173Z"
   },
   {
    "duration": 144,
    "start_time": "2023-07-12T17:57:53.449Z"
   },
   {
    "duration": 101,
    "start_time": "2023-07-12T17:57:53.595Z"
   },
   {
    "duration": 96,
    "start_time": "2023-07-12T17:57:53.699Z"
   },
   {
    "duration": 63,
    "start_time": "2023-07-12T17:57:53.796Z"
   },
   {
    "duration": 49,
    "start_time": "2023-07-12T17:57:53.860Z"
   },
   {
    "duration": 66,
    "start_time": "2023-07-12T17:57:53.911Z"
   },
   {
    "duration": 52,
    "start_time": "2023-07-12T17:57:53.979Z"
   },
   {
    "duration": 76,
    "start_time": "2023-07-12T17:57:54.040Z"
   },
   {
    "duration": 56,
    "start_time": "2023-07-12T17:57:54.118Z"
   },
   {
    "duration": 18388,
    "start_time": "2023-07-12T18:00:48.917Z"
   },
   {
    "duration": 286,
    "start_time": "2023-07-12T18:01:07.307Z"
   },
   {
    "duration": 177,
    "start_time": "2023-07-12T18:01:07.595Z"
   },
   {
    "duration": 109,
    "start_time": "2023-07-12T18:01:07.774Z"
   },
   {
    "duration": 106,
    "start_time": "2023-07-12T18:01:07.885Z"
   },
   {
    "duration": 62,
    "start_time": "2023-07-12T18:01:07.993Z"
   },
   {
    "duration": 49,
    "start_time": "2023-07-12T18:01:08.057Z"
   },
   {
    "duration": 71,
    "start_time": "2023-07-12T18:01:08.108Z"
   },
   {
    "duration": 50,
    "start_time": "2023-07-12T18:01:08.180Z"
   },
   {
    "duration": 77,
    "start_time": "2023-07-12T18:01:08.238Z"
   },
   {
    "duration": 53,
    "start_time": "2023-07-12T18:01:08.316Z"
   },
   {
    "duration": 523,
    "start_time": "2023-11-13T16:57:29.616Z"
   },
   {
    "duration": 7,
    "start_time": "2023-11-13T16:57:30.422Z"
   },
   {
    "duration": 6685,
    "start_time": "2023-11-13T16:58:25.992Z"
   },
   {
    "duration": 108,
    "start_time": "2023-11-13T16:59:50.916Z"
   },
   {
    "duration": 66,
    "start_time": "2023-11-13T17:00:29.837Z"
   },
   {
    "duration": 42,
    "start_time": "2023-11-13T17:01:31.241Z"
   },
   {
    "duration": 4,
    "start_time": "2023-11-13T17:01:37.985Z"
   },
   {
    "duration": 4,
    "start_time": "2023-11-13T17:01:55.474Z"
   },
   {
    "duration": 63,
    "start_time": "2023-11-13T17:01:58.751Z"
   },
   {
    "duration": 3,
    "start_time": "2023-11-13T17:33:38.347Z"
   },
   {
    "duration": 57,
    "start_time": "2023-11-13T17:33:52.384Z"
   },
   {
    "duration": 42,
    "start_time": "2023-11-13T17:33:52.734Z"
   },
   {
    "duration": 28,
    "start_time": "2023-11-13T17:33:53.018Z"
   },
   {
    "duration": 24,
    "start_time": "2023-11-13T17:33:54.136Z"
   },
   {
    "duration": 22,
    "start_time": "2023-11-13T17:33:54.361Z"
   },
   {
    "duration": 9,
    "start_time": "2023-11-13T17:33:54.988Z"
   },
   {
    "duration": 18,
    "start_time": "2023-11-13T17:33:55.607Z"
   },
   {
    "duration": 13,
    "start_time": "2023-11-13T17:33:56.228Z"
   },
   {
    "duration": 15,
    "start_time": "2023-11-13T17:33:56.840Z"
   },
   {
    "duration": 14,
    "start_time": "2023-11-13T17:33:57.451Z"
   },
   {
    "duration": 4,
    "start_time": "2023-11-13T17:35:27.184Z"
   },
   {
    "duration": 7255,
    "start_time": "2023-11-13T17:35:43.059Z"
   },
   {
    "duration": 61,
    "start_time": "2023-11-13T17:35:50.315Z"
   },
   {
    "duration": 34,
    "start_time": "2023-11-13T17:35:50.378Z"
   },
   {
    "duration": 30,
    "start_time": "2023-11-13T17:35:50.414Z"
   },
   {
    "duration": 25,
    "start_time": "2023-11-13T17:35:50.445Z"
   },
   {
    "duration": 17,
    "start_time": "2023-11-13T17:35:50.471Z"
   },
   {
    "duration": 21,
    "start_time": "2023-11-13T17:35:50.489Z"
   },
   {
    "duration": 27,
    "start_time": "2023-11-13T17:35:50.512Z"
   },
   {
    "duration": 21,
    "start_time": "2023-11-13T17:35:50.540Z"
   },
   {
    "duration": 47,
    "start_time": "2023-11-13T17:35:50.564Z"
   },
   {
    "duration": 28,
    "start_time": "2023-11-13T17:35:50.612Z"
   }
  ],
  "kernelspec": {
   "display_name": "Python 3 (ipykernel)",
   "language": "python",
   "name": "python3"
  },
  "language_info": {
   "codemirror_mode": {
    "name": "ipython",
    "version": 3
   },
   "file_extension": ".py",
   "mimetype": "text/x-python",
   "name": "python",
   "nbconvert_exporter": "python",
   "pygments_lexer": "ipython3",
   "version": "3.9.5"
  },
  "toc": {
   "base_numbering": 1,
   "nav_menu": {},
   "number_sections": false,
   "sideBar": true,
   "skip_h1_title": true,
   "title_cell": "Table of Contents",
   "title_sidebar": "Contents",
   "toc_cell": false,
   "toc_position": {},
   "toc_section_display": true,
   "toc_window_display": false
  }
 },
 "nbformat": 4,
 "nbformat_minor": 2
}
