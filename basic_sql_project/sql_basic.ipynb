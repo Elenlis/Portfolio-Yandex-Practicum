{
 "cells": [
  {
   "cell_type": "markdown",
   "metadata": {},
   "source": [
    "# Проект по SQL  (базовый)  \n",
    "\n",
    "### Цели исследования\n",
    "https://disk.yandex.ru/i/xbMKrjLKGYFGpQ\n",
    "\n",
    "### Описание данных    \n",
    "https://disk.yandex.ru/i/xbMKrjLKGYFGpQ\n",
    "\n",
    "## скачать БД не удалось, поэтому проект представлен без результатов и без выводов\n"
   ]
  },
  {
   "cell_type": "markdown",
   "metadata": {},
   "source": [
    "<a id='step_0'></a><h3>План работы</h3>\n",
    "\n",
    "\n",
    "[1. Подключиться к БД.](#step_1)   \n",
    "[2. Посчитаем, сколько компаний закрылось.](#step_2)    \n",
    "[3. Отобразим количество привлечённых средств для новостных компаний США.](#step_3)    \n",
    "[4. Найдем общую сумму сделок по покупке одних компаний другими в долларах.](#step_4)    \n",
    "[5. Отобразим имя, фамилию и названия аккаунтов людей в твиттере, у которых названия аккаунтов начинаются на 'Silver'.](#step_5)     \n",
    "[6. Выведем на экран всю информацию о людях, у которых названия аккаунтов в твиттере содержат подстроку 'money', а фамилия начинается на 'K'.](#step_6)     \n",
    "[7. Для каждой страны отобразим общую сумму привлечённых инвестиций, которые получили компании, зарегистрированные в этой стране.](#step_7)     \n",
    "[8. Составим таблицу, в которую войдёт дата проведения раунда, а также минимальное и максимальное значения суммы инвестиций, привлечённых в эту дату.](#step_8)    \n",
    "[9. Создадим поле с категориями. Отобразим все поля таблицы fund и новое поле с категориями.](#step_9)    \n",
    "[10. Для каждой из категорий посчитаем количество инвестиционных раундов, в которых фонд принимал участие. Определим среднее число инвестиционных раундов по категориям.](#step_10)   \n",
    "[11. В каких странах находятся фонды, которые чаще всего инвестируют в стартапы?](#step_11)    \n",
    "[12. Имена и фамилии всех сотрудников стартапов и название учебного заведения, которые они окончили.](#step_12)    \n",
    "[13. Количество учебных заведений, которые окончили сотрудники каждой компании. Топ 5 компаний по количеству университетов.](#step_13)    \n",
    "[14. Список закрытых компаний-аутсайдеров, для которых первый раунд финансирования оказался последним.](#step_14)    \n",
    "[15. Список уникальных номеров сотрудников, которые работают в компаниях-аутсайдерах](#step_15)    \n",
    "[16. Таблица уникальных пар: номера сотрудников компании-аутсайдера и учебное заведение которое он окончил.](#step_16)    \n",
    "[17. Количество учебных заведений для каждого сотрудника из предыдущего пункта.](#step_17)    \n",
    "[18. Среднее число учебных заведений (всех, не только уникальных), которые окончили сотрудники разных компаний.](#step_18)    \n",
    "[19. Среднее число учебных заведений (всех, не только уникальных), которые окончили сотрудники Facebook.](#step_19)    \n",
    "[20. Таблица компаний, в истории которых было больше шести важных этапов, а раунды финансирования проходили с 2012 по 2013 год включительно.](#step_20)    \n",
    "[21. Таблица ТОП10 самых дорогих компаний, купленных на рынке из нашей БД.](#step_21)    \n",
    "[22. Таблица, в которую войдут названия компаний из категории social, получившие финансирование с 2010 по 2013 год включительно.](#step_22)    \n",
    "[22. Таблица фондов из США купивших компании по месяцам.](#step_23)    \n",
    "[24. Сводная таблица - средняя сумма инвестиций для стран, в которых есть стартапы, зарегистрированные в 2011 - 2013 годах.](#step_24)    "
   ]
  },
  {
   "cell_type": "markdown",
   "metadata": {},
   "source": [
    "<a id='step_1'></a><h3>1. Подключаемся к БД.</h3>\n",
    "\n",
    "[К плану работ](#step_0)  \n"
   ]
  },
  {
   "cell_type": "code",
   "execution_count": 1,
   "metadata": {
    "scrolled": true
   },
   "outputs": [],
   "source": [
    "# импортируем библиотеки\n",
    "import pandas as pd\n",
    "from sqlalchemy import text, create_engine\n",
    "# устанавливаем параметры\n",
    "db_config = {'user': 'praktikum_student', # имя пользователя\n",
    "'pwd': 'Sdf4$2;d-d30pp', # пароль\n",
    "'host': 'rc1b-wcoijxj3yxfsf3fs.mdb.yandexcloud.net',\n",
    "'port': 6432, # порт подключения\n",
    "'db': 'data-analyst-final-project-db'} # название базы данных\n",
    "connection_string = 'postgresql://{user}:{pwd}@{host}:{port}/{db}'.format(**db_config)\n",
    "# сохраняем коннектор\n",
    "engine = create_engine(connection_string, connect_args={'sslmode':'require'})\n",
    "# чтобы выполнить SQL-запрос, используем Pandas\n"
   ]
  },
  {
   "cell_type": "markdown",
   "metadata": {},
   "source": [
    "<a id='step_2'></a><h3>2. Посчитаем, сколько компаний закрылось.</h3>\n",
    "\n",
    "[К плану работ](#step_0)  \n"
   ]
  },
  {
   "cell_type": "code",
   "execution_count": null,
   "metadata": {},
   "outputs": [],
   "source": [
    "query = '''\n",
    "SELECT COUNT(status)\n",
    "FROM company\n",
    "WHERE status = 'closed'\n",
    "'''\n",
    "con=engine.connect()\n",
    "df = pd.io.sql.read_sql(sql=text(query), con = con)\n",
    "display(df.head())\n",
    "df.info()"
   ]
  },
  {
   "cell_type": "markdown",
   "metadata": {},
   "source": [
    "2584"
   ]
  },
  {
   "cell_type": "markdown",
   "metadata": {},
   "source": [
    "<a id='step_3'></a><h3>3. Отобразим количество привлечённых средств для новостных компаний США.</h3>\n",
    "\n",
    "[К плану работ](#step_0)  \n",
    "Используем данные из таблицы company. Отсортируем таблицу по убыванию значений в поле funding_total .\n"
   ]
  },
  {
   "cell_type": "code",
   "execution_count": null,
   "metadata": {},
   "outputs": [],
   "source": [
    "query = '''\n",
    "SELECT funding_total\n",
    "FROM company\n",
    "WHERE category_code = 'news'\n",
    "AND country_code = 'USA'\n",
    "GROUP BY name, category_code, funding_total\n",
    "ORDER BY funding_total DESC;\n",
    "'''\n",
    "con=engine.connect()\n",
    "df = pd.io.sql.read_sql(sql=text(query), con = con)\n",
    "display(df.head())\n",
    "df.info()"
   ]
  },
  {
   "cell_type": "code",
   "execution_count": null,
   "metadata": {},
   "outputs": [],
   "source": []
  },
  {
   "cell_type": "markdown",
   "metadata": {},
   "source": [
    "<a id='step_4'></a><h3>4. Найдем общую сумму сделок по покупке одних компаний другими в долларах.</h3>\n",
    "\n",
    "[К плану работ](#step_0)  \n",
    "Отберем сделки, которые осуществлялись только за наличные с 2011 по 2013 год включительно.\n"
   ]
  },
  {
   "cell_type": "code",
   "execution_count": null,
   "metadata": {},
   "outputs": [],
   "source": [
    "query = '''\n",
    "SELECT SUM(price_amount)\n",
    "FROM acquisition\n",
    "WHERE term_code = 'cash'\n",
    "AND EXTRACT(YEAR FROM CAST(acquired_at AS date)) IN ('2011', '2012','2013');\n",
    "'''\n",
    "con=engine.connect()\n",
    "df = pd.io.sql.read_sql(sql=text(query), con = con)\n",
    "display(df.head())\n",
    "df.info()"
   ]
  },
  {
   "cell_type": "markdown",
   "metadata": {},
   "source": [
    "<a id='step_5'></a><h3>5. Отобразим имя, фамилию и названия аккаунтов людей в твиттере, у которых названия аккаунтов начинаются на 'Silver'.</h3>\n",
    "\n",
    "[К плану работ](#step_0)  \n"
   ]
  },
  {
   "cell_type": "code",
   "execution_count": null,
   "metadata": {},
   "outputs": [],
   "source": [
    "query = '''\n",
    "SELECT first_name,\n",
    "       last_name ,\n",
    "       twitter_username\n",
    "FROM people\n",
    "WHERE twitter_username LIKE 'Silver%';\n",
    "'''\n",
    "con=engine.connect()\n",
    "df = pd.io.sql.read_sql(sql=text(query), con = con)\n",
    "display(df.head())\n",
    "df.info()"
   ]
  },
  {
   "cell_type": "markdown",
   "metadata": {},
   "source": [
    "<a id='step_6'></a><h3>6. Выведем на экран всю информацию о людях, у которых названия аккаунтов в твиттере содержат подстроку 'money', а фамилия начинается на 'K'.</h3>\n",
    "\n",
    "[К плану работ](#step_0)  \n"
   ]
  },
  {
   "cell_type": "code",
   "execution_count": null,
   "metadata": {},
   "outputs": [],
   "source": [
    "query = '''\n",
    "SELECT *\n",
    "FROM people\n",
    "WHERE twitter_username LIKE '%money%'\n",
    "AND last_name LIKE 'K%';\n",
    "'''\n",
    "con=engine.connect()\n",
    "df = pd.io.sql.read_sql(sql=text(query), con = con)\n",
    "display(df.head())\n",
    "df.info()"
   ]
  },
  {
   "cell_type": "markdown",
   "metadata": {},
   "source": [
    "<a id='step_7'></a><h3>7. Для каждой страны отобразим общую сумму привлечённых инвестиций, которые получили компании, зарегистрированные в этой стране.</h3>\n",
    "\n",
    "[К плану работ](#step_0)  \n",
    " Страну, в которой зарегистрирована компания, можно определить по коду страны. Отсортируем данные по убыванию суммы."
   ]
  },
  {
   "cell_type": "code",
   "execution_count": null,
   "metadata": {},
   "outputs": [],
   "source": [
    "query = '''\n",
    "SELECT country_code,\n",
    "       SUM(funding_total)\n",
    "FROM company\n",
    "\n",
    "GROUP BY country_code\n",
    "ORDER BY SUM(funding_total) DESC;\n",
    "'''\n",
    "con=engine.connect()\n",
    "df = pd.io.sql.read_sql(sql=text(query), con = con)\n",
    "display(df.head())\n",
    "df.info()"
   ]
  },
  {
   "cell_type": "markdown",
   "metadata": {},
   "source": [
    "<a id='step_8'></a><h3>8. Составим таблицу, в которую войдёт дата проведения раунда, а также минимальное и максимальное значения суммы инвестиций, привлечённых в эту дату.</h3>\n",
    "\n",
    "[К плану работ](#step_0)  \n",
    "Оставим в итоговой таблице только те записи, в которых минимальное значение суммы инвестиций не равно нулю и не равно максимальному значению.    "
   ]
  },
  {
   "cell_type": "code",
   "execution_count": null,
   "metadata": {},
   "outputs": [],
   "source": [
    "query = '''\n",
    "SELECT funded_at,\n",
    "       MIN(raised_amount),\n",
    "       MAX(raised_amount)\n",
    "FROM funding_round\n",
    "GROUP BY funded_at\n",
    "HAVING MIN(raised_amount) <>0\n",
    "AND MIN(raised_amount)<> MAX(raised_amount);\n",
    "'''\n",
    "con=engine.connect()\n",
    "df = pd.io.sql.read_sql(sql=text(query), con = con)\n",
    "display(df.head())\n",
    "df.info()"
   ]
  },
  {
   "cell_type": "markdown",
   "metadata": {},
   "source": [
    "<a id='step_9'></a><h3>9. Создадим поле с категориями. Отобразим все поля таблицы fund и новое поле с категориями.</h3>\n",
    "\n",
    "[К плану работ](#step_0)  \n",
    "Создадим поле с категориями:\n",
    "Для фондов, которые инвестируют в 100 и более компаний, назначьте категорию high_activity.\n",
    "Для фондов, которые инвестируют в 20 и более компаний до 100, назначьте категорию middle_activity.\n",
    "Если количество инвестируемых компаний фонда не достигает 20, назначьте категорию low_activity.\n",
    "Отобразим все поля таблицы fund и новое поле с категориями."
   ]
  },
  {
   "cell_type": "code",
   "execution_count": null,
   "metadata": {},
   "outputs": [],
   "source": [
    "query = '''\n",
    "SELECT *,\n",
    "           CASE\n",
    "           WHEN invested_companies >100 THEN 'high_activity'\n",
    "           WHEN invested_companies >=20 AND invested_companies <= 100 THEN 'middle_activity'\n",
    "           ELSE 'low_activity'\n",
    "       END AS activity\n",
    "FROM fund;\n",
    "'''\n",
    "con=engine.connect()\n",
    "df = pd.io.sql.read_sql(sql=text(query), con = con)\n",
    "display(df.head())\n",
    "df.info()"
   ]
  },
  {
   "cell_type": "markdown",
   "metadata": {},
   "source": [
    "<a id='step_10'></a><h3>10. Для каждой из категорий посчитаем количество инвестиционных раундов, в которых фонд принимал участие. Определим среднее число инвестиционных раундов по категориям.</h3>\n",
    "\n",
    "[К плану работ](#step_0)  \n",
    "Для каждой из категорий, назначенных в предыдущем действии, посчитаем округлённое до ближайшего целого числа среднее количество инвестиционных раундов, в которых фонд принимал участие. Выведем на экран категории и среднее число инвестиционных раундов. Отсортируем таблицу по возрастанию среднего.   "
   ]
  },
  {
   "cell_type": "code",
   "execution_count": null,
   "metadata": {},
   "outputs": [],
   "source": [
    "query = '''\n",
    "SELECT \n",
    "       CASE\n",
    "           WHEN invested_companies>=100 THEN 'high_activity'\n",
    "           WHEN invested_companies>=20 THEN 'middle_activity'\n",
    "           ELSE 'low_activity'\n",
    "       END AS activity,\n",
    "       ROUND(AVG(investment_rounds),0) AS avg_round\n",
    "FROM fund\n",
    "GROUP BY activity\n",
    "ORDER BY avg_round;\n",
    "'''\n",
    "con=engine.connect()\n",
    "df = pd.io.sql.read_sql(sql=text(query), con = con)\n",
    "display(df.head())\n",
    "df.info()"
   ]
  },
  {
   "cell_type": "markdown",
   "metadata": {},
   "source": [
    "<a id='step_11'></a><h3>11. В каких странах находятся фонды, которые чаще всего инвестируют в стартапы?</h3>\n",
    "\n",
    "[К плану работ](#step_0)  \n",
    "Проанализируем, в каких странах находятся фонды, которые чаще всего инвестируют в стартапы. \n",
    "Для каждой страны посчитайте минимальное, максимальное и среднее число компаний, в которые инвестировали фонды этой страны, основанные с 2010 по 2012 год включительно. Исключим страны с фондами, у которых минимальное число компаний, получивших инвестиции, равно нулю. \n",
    "Выгрузим десять самых активных стран-инвесторов: отсортируем таблицу по среднему количеству компаний от большего к меньшему. Затем добавим сортировку по коду страны в лексикографическом порядке.     "
   ]
  },
  {
   "cell_type": "code",
   "execution_count": null,
   "metadata": {},
   "outputs": [],
   "source": [
    "query = '''\n",
    "SELECT country_code,\n",
    "       MIN(invested_companies),\n",
    "       MAX(invested_companies),\n",
    "       AVG(invested_companies)\n",
    "FROM \n",
    "(SELECT *\n",
    "FROM fund       \n",
    "WHERE EXTRACT (YEAR FROM founded_at) BETWEEN 2010 AND 2012) AS f\n",
    " \n",
    "GROUP BY country_code\n",
    "HAVING MIN(invested_companies) > 0\n",
    "ORDER BY AVG(invested_companies) DESC\n",
    "LIMIT 10;\n",
    "'''\n",
    "con=engine.connect()\n",
    "df = pd.io.sql.read_sql(sql=text(query), con = con)\n",
    "display(df.head())\n",
    "df.info()"
   ]
  },
  {
   "cell_type": "markdown",
   "metadata": {},
   "source": [
    "<a id='step_12'></a><h3>12. Имена и фамилии всех сотрудников стартапов и название учебного заведения, которые они окончили.</h3>\n",
    "\n",
    "[К плану работ](#step_0)  \n",
    "Отобразим имя и фамилию всех сотрудников стартапов. Добавим поле с названием учебного заведения, которое окончил сотрудник, если эта информация известна."
   ]
  },
  {
   "cell_type": "code",
   "execution_count": null,
   "metadata": {},
   "outputs": [],
   "source": [
    "query = '''\n",
    "SELECT p.first_name,\n",
    "       p.last_name,\n",
    "       e.instituition\n",
    "FROM people AS p\n",
    "LEFT OUTER JOIN education AS e ON p.id=e.person_id;\n",
    "'''\n",
    "con=engine.connect()\n",
    "df = pd.io.sql.read_sql(sql=text(query), con = con)\n",
    "display(df.head())\n",
    "df.info()"
   ]
  },
  {
   "cell_type": "markdown",
   "metadata": {},
   "source": [
    "<a id='step_13'></a><h3>13. Количество учебных заведений, которые окончили сотрудники каждой компании. Топ 5 компаний по количеству университетов.</h3>\n",
    "\n",
    "[К плану работ](#step_0)  \n",
    "Для каждой компании найдем количество учебных заведений, которые окончили её сотрудники. Выведем название компании и число уникальных названий учебных заведений. Составим топ-5 компаний по количеству университетов.\n",
    "\n"
   ]
  },
  {
   "cell_type": "code",
   "execution_count": null,
   "metadata": {},
   "outputs": [],
   "source": [
    "query = '''\n",
    "SELECT c.name,\n",
    "       COUNT(DISTINCT e.instituition) AS unic_inst\n",
    "FROM company AS c\n",
    "INNER JOIN people AS p ON c.id=p.company_id\n",
    "INNER JOIN education AS e ON p.id=e.person_id\n",
    "GROUP BY  c.name\n",
    "ORDER BY unic_inst DESC\n",
    "LIMIT 5;\n",
    "'''\n",
    "con=engine.connect()\n",
    "df = pd.io.sql.read_sql(sql=text(query), con = con)\n",
    "display(df.head())\n",
    "df.info()"
   ]
  },
  {
   "cell_type": "markdown",
   "metadata": {},
   "source": [
    "<a id='step_14'></a><h3>14. Список закрытых компаний-аутсайдеров, для которых первый раунд финансирования оказался последним.</h3>\n",
    "\n",
    "[К плану работ](#step_0)  \n",
    "Составим список с уникальными названиями закрытых компаний, для которых первый раунд финансирования оказался последним.   "
   ]
  },
  {
   "cell_type": "code",
   "execution_count": null,
   "metadata": {},
   "outputs": [],
   "source": [
    "query = '''\n",
    "SELECT DISTINCT c.name\n",
    "FROM company AS c\n",
    "INNER JOIN funding_round AS fr ON c.id=fr.company_id\n",
    "WHERE c.status LIKE '%closed%'\n",
    "AND is_first_round=1\n",
    "AND is_last_round=1;\n",
    "'''\n",
    "con=engine.connect()\n",
    "df = pd.io.sql.read_sql(sql=text(query), con = con)\n",
    "display(df.head())\n",
    "df.info()"
   ]
  },
  {
   "cell_type": "markdown",
   "metadata": {},
   "source": [
    "<a id='step_15'></a><h3>15. Список уникальных номеров сотрудников, которые работают в компаниях-аутсайдерах.</h3>\n",
    "\n",
    "[К плану работ](#step_0)  \n",
    "Составим список уникальных номеров сотрудников, которые работают в компаниях, отобранных в предыдущем пункте.    "
   ]
  },
  {
   "cell_type": "code",
   "execution_count": null,
   "metadata": {},
   "outputs": [],
   "source": [
    "query = '''\n",
    "SELECT DISTINCT p.id\n",
    "FROM company AS c\n",
    "INNER JOIN funding_round AS fr ON c.id=fr.company_id\n",
    "INNER JOIN people AS p ON c.id=p.company_id\n",
    "WHERE c.status LIKE '%closed%'\n",
    "AND is_first_round=1\n",
    "AND is_last_round=1;\n",
    "'''\n",
    "con=engine.connect()\n",
    "df = pd.io.sql.read_sql(sql=text(query), con = con)\n",
    "display(df.head())\n",
    "df.info()"
   ]
  },
  {
   "cell_type": "markdown",
   "metadata": {},
   "source": [
    "<a id='step_16'></a><h3>16. Таблица уникальных пар: номера сотрудников компании-аутсайдера и учебное заведение которое он окончил.</h3>\n",
    "\n",
    "[К плану работ](#step_0)  \n",
    "Составим таблицу, куда войдут уникальные пары с номерами сотрудников из предыдущего пункта и учебным заведением, которое окончил сотрудник.\n"
   ]
  },
  {
   "cell_type": "code",
   "execution_count": null,
   "metadata": {},
   "outputs": [],
   "source": [
    "query = '''\n",
    "SELECT DISTINCT p.id, e.instituition\n",
    "FROM company AS c\n",
    "INNER JOIN funding_round AS fr ON c.id=fr.company_id\n",
    "INNER JOIN people AS p ON c.id=p.company_id\n",
    "INNER JOIN education AS e ON p.id=e.person_id\n",
    "WHERE c.status LIKE '%closed%'\n",
    "AND is_first_round=1\n",
    "AND is_last_round=1;\n",
    "'''\n",
    "con=engine.connect()\n",
    "df = pd.io.sql.read_sql(sql=text(query), con = con)\n",
    "display(df.head())\n",
    "df.info()"
   ]
  },
  {
   "cell_type": "markdown",
   "metadata": {},
   "source": [
    "<a id='step_17'></a><h3>17. Количество учебных заведений для каждого сотрудника из предыдущего пункта.</h3>\n",
    "\n",
    "[К плану работ](#step_0)  \n",
    "Посчитаем количество учебных заведений для каждого сотрудника из предыдущего пункта. При подсчёте учитываем, что некоторые сотрудники могли окончить одно и то же заведение дважды.\n"
   ]
  },
  {
   "cell_type": "code",
   "execution_count": null,
   "metadata": {},
   "outputs": [],
   "source": [
    "query = '''\n",
    "SELECT p.id, \n",
    "COUNT(e.instituition)\n",
    "FROM people AS p\n",
    "LEFT JOIN education AS e ON p.id=e.person_id\n",
    "WHERE p.company_id IN\n",
    "(SELECT c.id\n",
    "FROM company AS c\n",
    "INNER JOIN funding_round AS fr ON c.id=fr.company_id\n",
    "INNER JOIN people AS p ON c.id=p.company_id\n",
    "INNER JOIN education AS e ON p.id=e.person_id\n",
    "WHERE c.status LIKE '%closed%'\n",
    "AND is_first_round=1\n",
    "AND is_last_round=1\n",
    "GROUP BY c.id)\n",
    "GROUP BY p.id\n",
    "HAVING COUNT(DISTINCT e.instituition) >0;\n",
    "'''\n",
    "con=engine.connect()\n",
    "df = pd.io.sql.read_sql(sql=text(query), con = con)\n",
    "display(df.head())\n",
    "df.info()"
   ]
  },
  {
   "cell_type": "markdown",
   "metadata": {},
   "source": [
    "<a id='step_18'></a><h3>18. Среднее число учебных заведений (всех, не только уникальных), которые окончили сотрудники разных компаний.</h3>\n",
    "\n",
    "[К плану работ](#step_0)  \n",
    "Дополним предыдущий запрос и выведем среднее число учебных заведений (всех, не только уникальных), которые окончили сотрудники разных компаний. Нужно вывести только одну запись, группировка здесь не понадобится.\n"
   ]
  },
  {
   "cell_type": "code",
   "execution_count": null,
   "metadata": {},
   "outputs": [],
   "source": [
    "query = '''\n",
    "WITH base AS\n",
    "(SELECT p.id,\n",
    "        COUNT(e.instituition)\n",
    "FROM people AS p\n",
    "LEFT JOIN education AS e ON p.id = e.person_id\n",
    "WHERE p.company_id IN\n",
    "        (SELECT c.id\n",
    "        FROM company AS c\n",
    "        JOIN funding_round AS fr ON c.id = fr.company_id\n",
    "        WHERE STATUS ='closed'\n",
    "        AND is_first_round = 1\n",
    "        AND is_last_round = 1\n",
    "            GROUP BY c.id)\n",
    "GROUP BY p.id\n",
    "HAVING COUNT(DISTINCT e.instituition) >0)\n",
    "SELECT AVG(COUNT)\n",
    "FROM base;\n",
    "'''\n",
    "con=engine.connect()\n",
    "df = pd.io.sql.read_sql(sql=text(query), con = con)\n",
    "display(df.head())\n",
    "df.info()"
   ]
  },
  {
   "cell_type": "markdown",
   "metadata": {},
   "source": [
    "<a id='step_19'></a><h3>19. Среднее число учебных заведений (всех, не только уникальных), которые окончили сотрудники Facebook.</h3>\n",
    "\n",
    "[К плану работ](#step_0)  \n",
    "Напишем похожий запрос: выведем среднее число учебных заведений (всех, не только уникальных), которые окончили сотрудники Facebook\n"
   ]
  },
  {
   "cell_type": "code",
   "execution_count": null,
   "metadata": {},
   "outputs": [],
   "source": [
    "query = '''\n",
    "WITH base AS\n",
    "(SELECT p.id,\n",
    "        COUNT(e.instituition)\n",
    "FROM people AS p\n",
    "RIGHT JOIN education AS e ON p.id = e.person_id\n",
    "WHERE p.company_id IN\n",
    "        (SELECT c.id\n",
    "        FROM company AS c\n",
    "        WHERE c.name = 'Facebook')\n",
    "GROUP BY p.id)\n",
    "SELECT AVG(COUNT)\n",
    "FROM base;\n",
    "'''\n",
    "con=engine.connect()\n",
    "df = pd.io.sql.read_sql(sql=text(query), con = con)\n",
    "display(df.head())\n",
    "df.info()"
   ]
  },
  {
   "cell_type": "markdown",
   "metadata": {},
   "source": [
    "<a id='step_20'></a><h3>20. Таблица компаний, в истории которых было больше шести важных этапов, а раунды финансирования проходили с 2012 по 2013 год включительно.</h3>\n",
    "\n",
    "[К плану работ](#step_0)  \n",
    "Составим таблицу из полей:\n",
    "name_of_fund — название фонда;\n",
    "name_of_company — название компании;\n",
    "amount — сумма инвестиций, которую привлекла компания в раунде.\n",
    "В таблицу войдут данные о компаниях, в истории которых было больше шести важных этапов, а раунды финансирования проходили с 2012 по 2013 год включительно.\n"
   ]
  },
  {
   "cell_type": "code",
   "execution_count": null,
   "metadata": {},
   "outputs": [],
   "source": [
    "query = '''\n",
    "SELECT  f.name AS name_of_fund,\n",
    "        c.name AS name_of_company,\n",
    "        fr.raised_amount AS amount\n",
    "FROM investment AS i\n",
    "LEFT JOIN company AS c ON i.company_id=c.id\n",
    "LEFT JOIN fund AS f ON i.fund_id=f.id\n",
    "INNER JOIN \n",
    "(SELECT* \n",
    " FROM funding_round AS fr \n",
    " WHERE EXTRACT(YEAR FROM CAST(fr.funded_at AS date)) IN (2012, 2013)) AS fr ON fr.id = i.funding_round_id\n",
    "WHERE c.milestones > 6;\n",
    "'''\n",
    "con=engine.connect()\n",
    "df = pd.io.sql.read_sql(sql=text(query), con = con)\n",
    "display(df.head())\n",
    "df.info()"
   ]
  },
  {
   "cell_type": "markdown",
   "metadata": {},
   "source": [
    "<a id='step_21'></a><h3>21. Таблица ТОП10 самых дорогих компаний, купленных на рынке из нашей БД.</h3>\n",
    "\n",
    "[К плану работ](#step_0)  \n",
    "Выгрузим таблицу, в которой будут такие поля:\n",
    "название компании-покупателя;\n",
    "сумма сделки;\n",
    "название компании, которую купили;\n",
    "сумма инвестиций, вложенных в купленную компанию;\n",
    "доля, которая отображает, во сколько раз сумма покупки превысила сумму вложенных в компанию инвестиций, округлённая до ближайшего целого числа.\n",
    "Не учитываем те сделки, в которых сумма покупки равна нулю. Если сумма инвестиций в компанию равна нулю, исключим такую компанию из таблицы. \n",
    "Отсортируем таблицу по сумме сделки от большей к меньшей, а затем по названию купленной компании в лексикографическом порядке. Ограничим таблицу первыми десятью записями.\n"
   ]
  },
  {
   "cell_type": "code",
   "execution_count": null,
   "metadata": {},
   "outputs": [],
   "source": [
    "query = '''\n",
    "SELECT  c_buy.name AS buy,\n",
    "        a.price_amount, --сумма сделки;\n",
    "        c_sell.name AS sell,\n",
    "        c_sell.funding_total, --сумма инвестиций, вложенных в купленную компанию;\n",
    "        ROUND(a.price_amount / c_sell.funding_total)--доля, которая отображает, во сколько раз сумма покупки превысила сумму вложенных в компанию инвестиций, округлённая до ближайшего целого числа.\n",
    "FROM acquisition AS a\n",
    "LEFT JOIN company AS c_buy ON a.acquiring_company_id = c_buy.id --2. к тому что получилось 2 раза присоедините company сначала по id компании \n",
    "LEFT JOIN company AS c_sell ON a.acquired_company_id = c_sell.id--покупателя потом по id компании продавца ( таблицы лучше обозвать company_buy и  \n",
    "WHERE a.price_amount<>0--3.  в WHERE пропишите условия, что сумма покупки из acquisition не равна 0 \n",
    "AND c_sell.funding_total <>0-- И сумма инвестиций в таблице company_sell  не равна 0\n",
    "ORDER BY a.price_amount DESC, sell\n",
    "LIMIT 10;\n",
    "'''\n",
    "con=engine.connect()\n",
    "df = pd.io.sql.read_sql(sql=text(query), con = con)\n",
    "display(df.head())\n",
    "df.info()"
   ]
  },
  {
   "cell_type": "markdown",
   "metadata": {},
   "source": [
    "<a id='step_22'></a><h3>22. Таблица, в которую войдут названия компаний из категории social, получившие финансирование с 2010 по 2013 год включительно.</h3>\n",
    "\n",
    "[К плану работ](#step_0)  \n",
    "Выгрузим таблицу, в которую войдут названия компаний из категории social, получившие финансирование с 2010 по 2013 год включительно. Проверим, что сумма инвестиций не равна нулю. Выведем также номер месяца, в котором проходил раунд финансирования.\n"
   ]
  },
  {
   "cell_type": "code",
   "execution_count": null,
   "metadata": {},
   "outputs": [],
   "source": [
    "query = '''\n",
    "SELECT c.name AS name_c, -- названия компаний\n",
    "       EXTRACT(MONTH FROM CAST(fr.funded_at AS date)) AS mon -- дата проведения раунда\n",
    "FROM company AS c\n",
    "LEFT JOIN funding_round AS fr ON c.id=fr.company_id\n",
    "WHERE EXTRACT(YEAR FROM CAST(fr.funded_at AS date)) BETWEEN '2010' AND '2013'\n",
    "AND fr.raised_amount<>0 --сумма инвестиций, которую привлекла компания в этом раунде в долларах;\n",
    "AND c.category_code = 'social'-- категория деятельности компании, например: из категории social надо отобрать;\n",
    "'''\n",
    "con=engine.connect()\n",
    "df = pd.io.sql.read_sql(sql=text(query), con = con)\n",
    "display(df.head())\n",
    "df.info()"
   ]
  },
  {
   "cell_type": "markdown",
   "metadata": {},
   "source": [
    "<a id='step_23'></a><h3>23. Таблица фондов из США купивших компании по месяцам.</h3>\n",
    "\n",
    "[К плану работ](#step_0)    \n",
    "Отберем данные по месяцам с 2010 по 2013 год, когда проходили инвестиционные раунды. Сгруппируем данные по номеру месяца и получим таблицу, в которой будут поля:\n",
    "номер месяца, в котором проходили раунды;\n",
    "количество уникальных названий фондов из США, которые инвестировали в этом месяце;\n",
    "количество компаний, купленных за этот месяц;\n",
    "общая сумма сделок по покупкам в этом месяце."
   ]
  },
  {
   "cell_type": "code",
   "execution_count": null,
   "metadata": {},
   "outputs": [],
   "source": [
    "query = '''\n",
    "WITH\n",
    "fundings AS\n",
    "(SELECT \n",
    "      EXTRACT (MONTH FROM CAST(funded_at AS date)) AS mon, --номер месяца, в котором проходили раунды;\n",
    "      COUNT(DISTINCT f.name) AS id_fund\n",
    " FROM fund AS f \n",
    " LEFT JOIN investment AS i ON f.id=i.fund_id\n",
    " LEFT JOIN funding_round AS fr ON i.funding_round_id=fr.id\n",
    " WHERE f.country_code ='USA'\n",
    " AND EXTRACT(YEAR FROM CAST(funded_at AS date)) BETWEEN 2010 AND 2013--количество уникальных названий фондов из США, которые инвестировали в этом месяце;\n",
    " GROUP BY mon),\n",
    "acquisitions AS \n",
    "(SELECT EXTRACT (MONTH FROM CAST(acquired_at AS date)) AS mon,\n",
    "        COUNT(a.acquired_company_id) AS acquired, --количество компаний, купленных за этот месяц;\n",
    "        SUM(a.price_amount) AS sum_total--общая сумма сделок по покупкам в этом месяце.       \n",
    "       FROM acquisition AS a\n",
    "        WHERE EXTRACT(YEAR FROM CAST(acquired_at AS date)) BETWEEN 2010 AND 2013\n",
    "        GROUP BY mon)\n",
    "SELECT funding.mon,\n",
    "       funding.id_fund,\n",
    "       acquisitions.acquired,\n",
    "       acquisitions.sum_total\n",
    "FROM fundings AS funding\n",
    "LEFT JOIN acquisitions AS acquisitions ON funding.mon=acquisitions.mon;\n",
    "'''\n",
    "con=engine.connect()\n",
    "df = pd.io.sql.read_sql(sql=text(query), con = con)\n",
    "display(df.head())\n",
    "df.info()"
   ]
  },
  {
   "cell_type": "markdown",
   "metadata": {},
   "source": [
    "<a id='step_24'></a><h3>24. Сводная таблица - средняя сумма инвестиций для стран, в которых есть стартапы, зарегистрированные в 2011 - 2013 годах.</h3>\n",
    "\n",
    "[К плану работ](#step_0)  \n",
    "Составим сводную таблицу и выведем среднюю сумму инвестиций для стран, в которых есть стартапы, зарегистрированные в 2011, 2012 и 2013 годах. Данные за каждый год будут в отдельном поле. Отсортируем таблицу по среднему значению инвестиций за 2011 год от большего к меньшему."
   ]
  },
  {
   "cell_type": "code",
   "execution_count": null,
   "metadata": {},
   "outputs": [],
   "source": [
    "query = '''\n",
    "WITH \n",
    "a AS (\n",
    "        SELECT country_code,\n",
    "               AVG(funding_total) AS inv2011\n",
    "        FROM company\n",
    "        WHERE EXTRACT(YEAR FROM CAST(founded_at AS DATE)) = 2011\n",
    "        GROUP BY country_code),\n",
    "b AS (\n",
    "        SELECT country_code,\n",
    "               AVG(funding_total) AS inv2012\n",
    "        FROM company\n",
    "        WHERE EXTRACT(YEAR FROM CAST(founded_at AS DATE)) = 2012\n",
    "        GROUP BY country_code),\n",
    "c AS (\n",
    "        SELECT country_code,\n",
    "               AVG(funding_total) AS inv2013\n",
    "        FROM company\n",
    "        WHERE EXTRACT(YEAR FROM CAST(founded_at AS DATE)) = 2013\n",
    "        GROUP BY country_code)\n",
    "\n",
    "SELECT a.country_code,\n",
    "       a.inv2011,\n",
    "       b.inv2012,\n",
    "       c.inv2013\n",
    "FROM a\n",
    "INNER JOIN b ON a.country_code = b.country_code\n",
    "INNER JOIN c ON a.country_code = c.country_code\n",
    "--GROUP BY country_code \n",
    "ORDER BY a.inv2011 DESC;\n",
    "'''\n",
    "con=engine.connect()\n",
    "df = pd.io.sql.read_sql(sql=text(query), con = con)\n",
    "display(df.head())\n",
    "df.info()"
   ]
  }
 ],
 "metadata": {
  "ExecuteTimeLog": [
   {
    "duration": 168,
    "start_time": "2023-07-12T05:21:50.602Z"
   },
   {
    "duration": 12669,
    "start_time": "2023-07-12T05:22:11.186Z"
   },
   {
    "duration": 3,
    "start_time": "2023-07-12T05:22:40.669Z"
   },
   {
    "duration": 132,
    "start_time": "2023-07-12T05:22:55.279Z"
   },
   {
    "duration": 53,
    "start_time": "2023-07-12T05:23:24.421Z"
   },
   {
    "duration": 55,
    "start_time": "2023-07-12T05:23:31.945Z"
   },
   {
    "duration": 132,
    "start_time": "2023-07-12T05:43:14.722Z"
   },
   {
    "duration": 70,
    "start_time": "2023-07-12T05:44:03.230Z"
   },
   {
    "duration": 147,
    "start_time": "2023-07-12T05:44:49.741Z"
   },
   {
    "duration": 144,
    "start_time": "2023-07-12T05:44:56.272Z"
   },
   {
    "duration": 123,
    "start_time": "2023-07-12T05:46:13.582Z"
   },
   {
    "duration": 149,
    "start_time": "2023-07-12T05:55:07.456Z"
   },
   {
    "duration": 65,
    "start_time": "2023-07-12T05:55:30.264Z"
   },
   {
    "duration": 58,
    "start_time": "2023-07-12T05:56:01.295Z"
   },
   {
    "duration": 74,
    "start_time": "2023-07-12T05:57:00.193Z"
   },
   {
    "duration": 56,
    "start_time": "2023-07-12T05:57:08.474Z"
   },
   {
    "duration": 52,
    "start_time": "2023-07-12T05:57:39.158Z"
   },
   {
    "duration": 57,
    "start_time": "2023-07-12T06:00:55.715Z"
   },
   {
    "duration": 57,
    "start_time": "2023-07-12T06:01:48.409Z"
   },
   {
    "duration": 84,
    "start_time": "2023-07-12T06:04:26.597Z"
   },
   {
    "duration": 41,
    "start_time": "2023-07-12T06:04:45.185Z"
   },
   {
    "duration": 72,
    "start_time": "2023-07-12T06:05:12.183Z"
   },
   {
    "duration": 41,
    "start_time": "2023-07-12T06:05:20.142Z"
   },
   {
    "duration": 54,
    "start_time": "2023-07-12T06:05:46.162Z"
   },
   {
    "duration": 59,
    "start_time": "2023-07-12T06:06:14.531Z"
   },
   {
    "duration": 43,
    "start_time": "2023-07-12T09:18:50.252Z"
   },
   {
    "duration": 233,
    "start_time": "2023-07-12T09:18:55.347Z"
   },
   {
    "duration": 147,
    "start_time": "2023-07-12T09:18:55.918Z"
   },
   {
    "duration": 54,
    "start_time": "2023-07-12T09:18:56.422Z"
   },
   {
    "duration": 56,
    "start_time": "2023-07-12T09:18:56.985Z"
   },
   {
    "duration": 57,
    "start_time": "2023-07-12T09:18:58.209Z"
   },
   {
    "duration": 50,
    "start_time": "2023-07-12T09:18:59.367Z"
   },
   {
    "duration": 72,
    "start_time": "2023-07-12T11:25:37.278Z"
   },
   {
    "duration": 68,
    "start_time": "2023-07-12T11:50:24.402Z"
   },
   {
    "duration": 51,
    "start_time": "2023-07-12T11:50:41.853Z"
   },
   {
    "duration": 55,
    "start_time": "2023-07-12T11:50:57.053Z"
   },
   {
    "duration": 53,
    "start_time": "2023-07-12T11:52:12.853Z"
   },
   {
    "duration": 107,
    "start_time": "2023-07-12T13:51:56.956Z"
   },
   {
    "duration": 69,
    "start_time": "2023-07-12T13:54:19.758Z"
   },
   {
    "duration": 73,
    "start_time": "2023-07-12T13:55:05.450Z"
   },
   {
    "duration": 69,
    "start_time": "2023-07-12T14:00:11.113Z"
   },
   {
    "duration": 156,
    "start_time": "2023-07-12T14:06:20.561Z"
   },
   {
    "duration": 199,
    "start_time": "2023-07-12T14:09:40.992Z"
   },
   {
    "duration": 165,
    "start_time": "2023-07-12T14:09:52.397Z"
   },
   {
    "duration": 99,
    "start_time": "2023-07-12T14:10:37.400Z"
   },
   {
    "duration": 80,
    "start_time": "2023-07-12T14:10:44.826Z"
   },
   {
    "duration": 83,
    "start_time": "2023-07-12T14:11:11.002Z"
   },
   {
    "duration": 77,
    "start_time": "2023-07-12T14:14:02.316Z"
   },
   {
    "duration": 89,
    "start_time": "2023-07-12T14:16:32.223Z"
   },
   {
    "duration": 49,
    "start_time": "2023-07-12T14:16:48.453Z"
   },
   {
    "duration": 100,
    "start_time": "2023-07-12T14:17:39.896Z"
   },
   {
    "duration": 71,
    "start_time": "2023-07-12T14:18:05.498Z"
   },
   {
    "duration": 204,
    "start_time": "2023-07-12T14:18:53.596Z"
   },
   {
    "duration": 73,
    "start_time": "2023-07-12T14:23:47.755Z"
   },
   {
    "duration": 79,
    "start_time": "2023-07-12T14:58:33.631Z"
   },
   {
    "duration": 261,
    "start_time": "2023-07-12T14:59:48.109Z"
   },
   {
    "duration": 194,
    "start_time": "2023-07-12T15:01:08.546Z"
   },
   {
    "duration": 181,
    "start_time": "2023-07-12T15:04:08.834Z"
   },
   {
    "duration": 246,
    "start_time": "2023-07-12T15:11:25.132Z"
   },
   {
    "duration": 87,
    "start_time": "2023-07-12T15:13:43.123Z"
   },
   {
    "duration": 108,
    "start_time": "2023-07-12T15:16:27.095Z"
   },
   {
    "duration": 119,
    "start_time": "2023-07-12T15:18:57.732Z"
   },
   {
    "duration": 122,
    "start_time": "2023-07-12T15:19:20.071Z"
   },
   {
    "duration": 110,
    "start_time": "2023-07-12T15:19:44.456Z"
   },
   {
    "duration": 69,
    "start_time": "2023-07-12T15:20:34.390Z"
   },
   {
    "duration": 75,
    "start_time": "2023-07-12T15:22:09.647Z"
   },
   {
    "duration": 71,
    "start_time": "2023-07-12T15:22:26.329Z"
   },
   {
    "duration": 107,
    "start_time": "2023-07-12T15:24:07.331Z"
   },
   {
    "duration": 139,
    "start_time": "2023-07-12T15:30:47.654Z"
   },
   {
    "duration": 1578,
    "start_time": "2023-07-12T15:31:16.891Z"
   },
   {
    "duration": 88,
    "start_time": "2023-07-12T15:31:28.386Z"
   },
   {
    "duration": 98,
    "start_time": "2023-07-12T15:36:45.155Z"
   },
   {
    "duration": 98,
    "start_time": "2023-07-12T15:38:01.787Z"
   },
   {
    "duration": 106,
    "start_time": "2023-07-12T15:38:46.671Z"
   },
   {
    "duration": 73,
    "start_time": "2023-07-12T15:40:38.346Z"
   },
   {
    "duration": 74,
    "start_time": "2023-07-12T15:41:16.390Z"
   },
   {
    "duration": 76,
    "start_time": "2023-07-12T15:41:23.535Z"
   },
   {
    "duration": 220,
    "start_time": "2023-07-12T15:44:56.725Z"
   },
   {
    "duration": 78,
    "start_time": "2023-07-12T15:45:42.387Z"
   },
   {
    "duration": 55,
    "start_time": "2023-07-12T16:03:05.698Z"
   },
   {
    "duration": 54,
    "start_time": "2023-07-12T16:05:30.721Z"
   },
   {
    "duration": 75,
    "start_time": "2023-07-12T16:07:33.484Z"
   },
   {
    "duration": 57,
    "start_time": "2023-07-12T16:07:44.936Z"
   },
   {
    "duration": 43,
    "start_time": "2023-07-12T16:07:54.601Z"
   },
   {
    "duration": 55,
    "start_time": "2023-07-12T16:14:31.440Z"
   },
   {
    "duration": 20166,
    "start_time": "2023-07-12T16:18:46.788Z"
   },
   {
    "duration": 133,
    "start_time": "2023-07-12T16:19:06.956Z"
   },
   {
    "duration": 60,
    "start_time": "2023-07-12T16:19:07.091Z"
   },
   {
    "duration": 50,
    "start_time": "2023-07-12T16:19:07.154Z"
   },
   {
    "duration": 54,
    "start_time": "2023-07-12T16:19:07.206Z"
   },
   {
    "duration": 51,
    "start_time": "2023-07-12T16:19:07.262Z"
   },
   {
    "duration": 97,
    "start_time": "2023-07-12T16:19:07.314Z"
   },
   {
    "duration": 89,
    "start_time": "2023-07-12T16:19:07.413Z"
   },
   {
    "duration": 62,
    "start_time": "2023-07-12T16:19:07.504Z"
   },
   {
    "duration": 82,
    "start_time": "2023-07-12T16:19:07.568Z"
   },
   {
    "duration": 51,
    "start_time": "2023-07-12T16:19:07.651Z"
   },
   {
    "duration": 16814,
    "start_time": "2023-07-12T16:19:30.958Z"
   },
   {
    "duration": 123,
    "start_time": "2023-07-12T16:19:47.774Z"
   },
   {
    "duration": 63,
    "start_time": "2023-07-12T16:19:47.899Z"
   },
   {
    "duration": 51,
    "start_time": "2023-07-12T16:19:47.963Z"
   },
   {
    "duration": 52,
    "start_time": "2023-07-12T16:19:48.016Z"
   },
   {
    "duration": 50,
    "start_time": "2023-07-12T16:19:48.069Z"
   },
   {
    "duration": 215,
    "start_time": "2023-07-12T16:19:48.120Z"
   },
   {
    "duration": 74,
    "start_time": "2023-07-12T16:19:48.342Z"
   },
   {
    "duration": 83,
    "start_time": "2023-07-12T16:19:48.418Z"
   },
   {
    "duration": 60,
    "start_time": "2023-07-12T16:19:48.503Z"
   },
   {
    "duration": 22544,
    "start_time": "2023-07-12T16:31:36.073Z"
   },
   {
    "duration": 150,
    "start_time": "2023-07-12T16:31:58.619Z"
   },
   {
    "duration": 54,
    "start_time": "2023-07-12T16:31:58.772Z"
   },
   {
    "duration": 64,
    "start_time": "2023-07-12T16:31:58.829Z"
   },
   {
    "duration": 56,
    "start_time": "2023-07-12T16:31:58.895Z"
   },
   {
    "duration": 50,
    "start_time": "2023-07-12T16:31:58.953Z"
   },
   {
    "duration": 86,
    "start_time": "2023-07-12T16:31:59.005Z"
   },
   {
    "duration": 58,
    "start_time": "2023-07-12T16:31:59.093Z"
   },
   {
    "duration": 79,
    "start_time": "2023-07-12T16:31:59.153Z"
   },
   {
    "duration": 61,
    "start_time": "2023-07-12T16:31:59.236Z"
   },
   {
    "duration": 24577,
    "start_time": "2023-07-12T16:38:26.309Z"
   },
   {
    "duration": 208,
    "start_time": "2023-07-12T16:38:50.888Z"
   },
   {
    "duration": 74,
    "start_time": "2023-07-12T16:38:51.098Z"
   },
   {
    "duration": 56,
    "start_time": "2023-07-12T16:38:51.174Z"
   },
   {
    "duration": 70,
    "start_time": "2023-07-12T16:38:51.237Z"
   },
   {
    "duration": 78,
    "start_time": "2023-07-12T16:38:51.309Z"
   },
   {
    "duration": 90,
    "start_time": "2023-07-12T16:38:51.389Z"
   },
   {
    "duration": 62,
    "start_time": "2023-07-12T16:38:51.481Z"
   },
   {
    "duration": 82,
    "start_time": "2023-07-12T16:38:51.545Z"
   },
   {
    "duration": 64,
    "start_time": "2023-07-12T16:38:51.630Z"
   },
   {
    "duration": 89,
    "start_time": "2023-07-12T16:41:40.131Z"
   },
   {
    "duration": 215,
    "start_time": "2023-07-12T16:42:47.299Z"
   },
   {
    "duration": 49,
    "start_time": "2023-07-12T16:42:56.197Z"
   },
   {
    "duration": 181,
    "start_time": "2023-07-12T16:44:43.129Z"
   },
   {
    "duration": 68,
    "start_time": "2023-07-12T16:46:28.738Z"
   },
   {
    "duration": 59,
    "start_time": "2023-07-12T16:46:38.051Z"
   },
   {
    "duration": 159,
    "start_time": "2023-07-12T16:47:51.029Z"
   },
   {
    "duration": 147,
    "start_time": "2023-07-12T17:09:15.455Z"
   },
   {
    "duration": 77,
    "start_time": "2023-07-12T17:18:28.047Z"
   },
   {
    "duration": 82,
    "start_time": "2023-07-12T17:19:00.998Z"
   },
   {
    "duration": 63,
    "start_time": "2023-07-12T17:19:18.551Z"
   },
   {
    "duration": 4,
    "start_time": "2023-07-12T17:19:53.761Z"
   },
   {
    "duration": 272,
    "start_time": "2023-07-12T17:26:37.312Z"
   },
   {
    "duration": 152,
    "start_time": "2023-07-12T17:26:43.863Z"
   },
   {
    "duration": 176,
    "start_time": "2023-07-12T17:40:49.048Z"
   },
   {
    "duration": 88,
    "start_time": "2023-07-12T17:41:07.028Z"
   },
   {
    "duration": 82,
    "start_time": "2023-07-12T17:41:19.195Z"
   },
   {
    "duration": 16112,
    "start_time": "2023-07-12T17:43:23.252Z"
   },
   {
    "duration": 250,
    "start_time": "2023-07-12T17:43:39.366Z"
   },
   {
    "duration": 175,
    "start_time": "2023-07-12T17:43:39.618Z"
   },
   {
    "duration": 90,
    "start_time": "2023-07-12T17:43:39.795Z"
   },
   {
    "duration": 119,
    "start_time": "2023-07-12T17:43:39.887Z"
   },
   {
    "duration": 59,
    "start_time": "2023-07-12T17:43:40.008Z"
   },
   {
    "duration": 51,
    "start_time": "2023-07-12T17:43:40.068Z"
   },
   {
    "duration": 66,
    "start_time": "2023-07-12T17:43:40.122Z"
   },
   {
    "duration": 61,
    "start_time": "2023-07-12T17:43:40.189Z"
   },
   {
    "duration": 77,
    "start_time": "2023-07-12T17:43:40.252Z"
   },
   {
    "duration": 57,
    "start_time": "2023-07-12T17:43:40.330Z"
   },
   {
    "duration": 14153,
    "start_time": "2023-07-12T17:48:24.390Z"
   },
   {
    "duration": 261,
    "start_time": "2023-07-12T17:48:38.547Z"
   },
   {
    "duration": 151,
    "start_time": "2023-07-12T17:48:38.810Z"
   },
   {
    "duration": 99,
    "start_time": "2023-07-12T17:48:38.962Z"
   },
   {
    "duration": 116,
    "start_time": "2023-07-12T17:48:39.063Z"
   },
   {
    "duration": 61,
    "start_time": "2023-07-12T17:48:39.181Z"
   },
   {
    "duration": 54,
    "start_time": "2023-07-12T17:48:39.248Z"
   },
   {
    "duration": 70,
    "start_time": "2023-07-12T17:48:39.304Z"
   },
   {
    "duration": 55,
    "start_time": "2023-07-12T17:48:39.376Z"
   },
   {
    "duration": 85,
    "start_time": "2023-07-12T17:48:39.432Z"
   },
   {
    "duration": 73,
    "start_time": "2023-07-12T17:48:39.518Z"
   },
   {
    "duration": 11026,
    "start_time": "2023-07-12T17:57:42.145Z"
   },
   {
    "duration": 273,
    "start_time": "2023-07-12T17:57:53.173Z"
   },
   {
    "duration": 144,
    "start_time": "2023-07-12T17:57:53.449Z"
   },
   {
    "duration": 101,
    "start_time": "2023-07-12T17:57:53.595Z"
   },
   {
    "duration": 96,
    "start_time": "2023-07-12T17:57:53.699Z"
   },
   {
    "duration": 63,
    "start_time": "2023-07-12T17:57:53.796Z"
   },
   {
    "duration": 49,
    "start_time": "2023-07-12T17:57:53.860Z"
   },
   {
    "duration": 66,
    "start_time": "2023-07-12T17:57:53.911Z"
   },
   {
    "duration": 52,
    "start_time": "2023-07-12T17:57:53.979Z"
   },
   {
    "duration": 76,
    "start_time": "2023-07-12T17:57:54.040Z"
   },
   {
    "duration": 56,
    "start_time": "2023-07-12T17:57:54.118Z"
   },
   {
    "duration": 18388,
    "start_time": "2023-07-12T18:00:48.917Z"
   },
   {
    "duration": 286,
    "start_time": "2023-07-12T18:01:07.307Z"
   },
   {
    "duration": 177,
    "start_time": "2023-07-12T18:01:07.595Z"
   },
   {
    "duration": 109,
    "start_time": "2023-07-12T18:01:07.774Z"
   },
   {
    "duration": 106,
    "start_time": "2023-07-12T18:01:07.885Z"
   },
   {
    "duration": 62,
    "start_time": "2023-07-12T18:01:07.993Z"
   },
   {
    "duration": 49,
    "start_time": "2023-07-12T18:01:08.057Z"
   },
   {
    "duration": 71,
    "start_time": "2023-07-12T18:01:08.108Z"
   },
   {
    "duration": 50,
    "start_time": "2023-07-12T18:01:08.180Z"
   },
   {
    "duration": 77,
    "start_time": "2023-07-12T18:01:08.238Z"
   },
   {
    "duration": 53,
    "start_time": "2023-07-12T18:01:08.316Z"
   },
   {
    "duration": 523,
    "start_time": "2023-11-13T16:57:29.616Z"
   },
   {
    "duration": 7,
    "start_time": "2023-11-13T16:57:30.422Z"
   },
   {
    "duration": 6685,
    "start_time": "2023-11-13T16:58:25.992Z"
   },
   {
    "duration": 108,
    "start_time": "2023-11-13T16:59:50.916Z"
   },
   {
    "duration": 66,
    "start_time": "2023-11-13T17:00:29.837Z"
   },
   {
    "duration": 42,
    "start_time": "2023-11-13T17:01:31.241Z"
   },
   {
    "duration": 4,
    "start_time": "2023-11-13T17:01:37.985Z"
   },
   {
    "duration": 4,
    "start_time": "2023-11-13T17:01:55.474Z"
   },
   {
    "duration": 63,
    "start_time": "2023-11-13T17:01:58.751Z"
   },
   {
    "duration": 3,
    "start_time": "2023-11-13T17:33:38.347Z"
   },
   {
    "duration": 57,
    "start_time": "2023-11-13T17:33:52.384Z"
   },
   {
    "duration": 42,
    "start_time": "2023-11-13T17:33:52.734Z"
   },
   {
    "duration": 28,
    "start_time": "2023-11-13T17:33:53.018Z"
   },
   {
    "duration": 24,
    "start_time": "2023-11-13T17:33:54.136Z"
   },
   {
    "duration": 22,
    "start_time": "2023-11-13T17:33:54.361Z"
   },
   {
    "duration": 9,
    "start_time": "2023-11-13T17:33:54.988Z"
   },
   {
    "duration": 18,
    "start_time": "2023-11-13T17:33:55.607Z"
   },
   {
    "duration": 13,
    "start_time": "2023-11-13T17:33:56.228Z"
   },
   {
    "duration": 15,
    "start_time": "2023-11-13T17:33:56.840Z"
   },
   {
    "duration": 14,
    "start_time": "2023-11-13T17:33:57.451Z"
   },
   {
    "duration": 4,
    "start_time": "2023-11-13T17:35:27.184Z"
   },
   {
    "duration": 7255,
    "start_time": "2023-11-13T17:35:43.059Z"
   },
   {
    "duration": 61,
    "start_time": "2023-11-13T17:35:50.315Z"
   },
   {
    "duration": 34,
    "start_time": "2023-11-13T17:35:50.378Z"
   },
   {
    "duration": 30,
    "start_time": "2023-11-13T17:35:50.414Z"
   },
   {
    "duration": 25,
    "start_time": "2023-11-13T17:35:50.445Z"
   },
   {
    "duration": 17,
    "start_time": "2023-11-13T17:35:50.471Z"
   },
   {
    "duration": 21,
    "start_time": "2023-11-13T17:35:50.489Z"
   },
   {
    "duration": 27,
    "start_time": "2023-11-13T17:35:50.512Z"
   },
   {
    "duration": 21,
    "start_time": "2023-11-13T17:35:50.540Z"
   },
   {
    "duration": 47,
    "start_time": "2023-11-13T17:35:50.564Z"
   },
   {
    "duration": 28,
    "start_time": "2023-11-13T17:35:50.612Z"
   }
  ],
  "kernelspec": {
   "display_name": "Python 3 (ipykernel)",
   "language": "python",
   "name": "python3"
  },
  "language_info": {
   "codemirror_mode": {
    "name": "ipython",
    "version": 3
   },
   "file_extension": ".py",
   "mimetype": "text/x-python",
   "name": "python",
   "nbconvert_exporter": "python",
   "pygments_lexer": "ipython3",
   "version": "3.9.5"
  },
  "toc": {
   "base_numbering": 1,
   "nav_menu": {},
   "number_sections": false,
   "sideBar": true,
   "skip_h1_title": true,
   "title_cell": "Table of Contents",
   "title_sidebar": "Contents",
   "toc_cell": false,
   "toc_position": {},
   "toc_section_display": true,
   "toc_window_display": false
  }
 },
 "nbformat": 4,
 "nbformat_minor": 2
}
