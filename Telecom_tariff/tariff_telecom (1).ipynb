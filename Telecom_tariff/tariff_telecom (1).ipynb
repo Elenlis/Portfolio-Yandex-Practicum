{
 "cells": [
  {
   "cell_type": "markdown",
   "id": "a6776a72",
   "metadata": {},
   "source": [
    "# Проект \n",
    "# Определение выгодного тарифа для телеком компании"
   ]
  },
  {
   "cell_type": "markdown",
   "id": "89ae6a6c",
   "metadata": {},
   "source": [
    "<a id='step_0'></a><h3>Оглавление</h3>\n",
    "\n",
    "\n",
    "[1. Описание проекта и данных](#step_1)  \n",
    "[2. Загружаем файлы с данными и изучаем общую информацию](#step_2)   \n",
    "[3. Предобработка](#step_3)      \n",
    "    [3.1 Приводим все столбцы с датами к временному типу](#step_3.1)  \n",
    "    [3.2 Округляем продолжительность звонков в верхнюю сторону и приводим к целому типу](#step_3.2)  \n",
    "    [3.3 Удаляем лишние стобцы и добавляем нужные](#step_3.3)    \n",
    "    [3.4 Подсчет количества услуг каждого пользователя в месяц](#step_3.4)  \n",
    "[4. Анализ данных и подсчёт выручки](#step_4)   \n",
    "    [4.1  Процент расторжения договоров](#step_4.1)  \n",
    "    [4.2  Соединение всех таблиц в общую user_behavior с пользователями и полученными ими услугами от компании \"Мега*\"](#step_4.2)   \n",
    "    [4.3  Пропуски в таблице user_behavior и их заполнени](#step_4.3)   \n",
    "    [4.4  Присоединяем информацию о тарифах к таблице user_behavior](#step_4.4)  \n",
    "    [4.5  Количество услуг пользователей сверх лимита по тарифу](#step_4.5)  \n",
    "    [4.6 Расходы пользователей сверх лимита по тарифу](#step_4.6)  \n",
    "    [4.7 Помесячная выручка каждого пользователя](#step_4.7)  \n",
    "    [4.8 Сводная таблица месяц-тариф stats_df](#step_4.8)   \n",
    "    [4.9 Распределение услуг по тарифам и по месяцам](#step_4.9)  \n",
    "    [4.10 Распределение общей выручки по тарифам и по месяцам](#step_4.10)   \n",
    "    [4.11 Количество услуг и выручка по тарифам за 2018 год](#step_4.11)   \n",
    "[5. Проверка гипотез](#step_5)    \n",
    "[5.1 Проверка гипотезы: средняя выручка пользователей тарифов «Ультра» и «Смарт» различается ](#step_5.1)   \n",
    "[5.2 Проверка гипотезы: средняя выручка с пользователей из Москвы отличается от выручки c пользователей других регионов](#step_5.2)   \n",
    "[6. Общий вывод](#step_6)    "
   ]
  },
  {
   "cell_type": "code",
   "execution_count": 1,
   "id": "24c2b7aa",
   "metadata": {},
   "outputs": [],
   "source": [
    "# загружаем библиотеки\n",
    "import pandas as pd\n",
    "import numpy as np\n",
    "import seaborn as sns\n",
    "import matplotlib.pyplot as plt\n",
    "from scipy import stats as st"
   ]
  },
  {
   "cell_type": "markdown",
   "id": "da178b76",
   "metadata": {},
   "source": [
    "<a id='step_1'></a><h3>1. Описание проекта и данных</h3>\n",
    "\n",
    "[К оглавлению](#step_0)"
   ]
  },
  {
   "cell_type": "markdown",
   "id": "21b9bd57",
   "metadata": {},
   "source": [
    "**В аналитический отдел компании** «Мега*» — федерального оператора сотовой связи **поступила задача от коммерческого департамента**. Клиентам предлагается два тарифных плана: «Смарт» и «Ультра». Нужно **оценить какой из тарифов приносит компании больше денег, чтобы скорректировать рекламный бюджет**.  \n",
    "Предстоит сделать предварительный анализ тарифов **на выборке клиентов (500 пользователей «Мега*»)**: кто они, откуда, каким тарифом пользуются, сколько звонков и сообщений каждый отправил за 2018-й год. Задача проанализировать поведение клиентов и сделать вывод — какой тариф лучше для компании.  \n",
    "Описание тарифов:  \n",
    "**Тариф «Смарт»**  \n",
    "Ежемесячная плата: 550 рублей  \n",
    "Включено 500 минут разговора, 50 сообщений и 15 Гб интернет-трафика  \n",
    "Стоимость услуг сверх тарифного пакета:  \n",
    "Минута разговора — 3 рубля. Количество использованных минут и мегабайтов «Мегалайн» всегда округляет вверх. Если пользователь проговорил всего 1 секунду, в тарифе засчитывается целая минута.  \n",
    "Сообщение — 3 рубля.  \n",
    "1 Гб интернет-трафика — 200 рублей.  \n",
    "**Тариф «Ультра»**  \n",
    "Ежемесячная плата: 1950 рублей  \n",
    "Включено 3000 минут разговора, 1000 сообщений и 30 Гб интернет-трафика  \n",
    "Стоимость услуг сверх тарифного пакета:  \n",
    "Минута разговора — 1 рубль;  \n",
    "Сообщение — 1 рубль;  \n",
    "1 Гб интернет-трафика: 150 рублей.  \n",
    "\n",
    "#### Описание данных  \n",
    "**Таблица users** — информация о пользователях:  \n",
    "**user_id** — уникальный идентификатор пользователя  \n",
    "**first_name** — имя пользователя  \n",
    "**last_name** — фамилия пользователя  \n",
    "**age** — возраст пользователя (годы)  \n",
    "**reg_date** — дата подключения тарифа (день, месяц, год)  \n",
    "**churn_date** — дата прекращения пользования тарифом (если значение пропущено, значит, тариф ещё действовал на момент выгрузки данных)  \n",
    "**city** — город проживания пользователя  \n",
    "**tarif** — название тарифного плана  \n",
    "**Таблица calls** — информация о звонках:  \n",
    "**id** — уникальный номер звонка  \n",
    "**call_date** — дата звонка  \n",
    "**duration** — длительность звонка в минутах  \n",
    "**user_id** — идентификатор пользователя, сделавшего звонок  \n",
    "**Таблица messages** — информация о сообщениях:  \n",
    "**id** — уникальный номер звонка  \n",
    "**message_date** — дата сообщения  \n",
    "**user_id** — идентификатор пользователя, отправившего сообщение  \n",
    "**Таблица internet** — информация об интернет-сессиях:  \n",
    "**id** — уникальный номер сессии  \n",
    "**mb_used** — объём потраченного за сессию интернет-трафика (в мегабайтах)  \n",
    "**session_date** — дата интернет-сессии  \n",
    "**user_id** — идентификатор пользователя  \n",
    "**Таблица tariffs** — информация о тарифах:  \n",
    "**tariff_name** — название тарифа  \n",
    "**rub_monthly_fee** — ежемесячная абонентская плата в рублях  \n",
    "**minutes_included** — количество минут разговора в месяц, включённых в абонентскую плату  \n",
    "**messages_included** — количество сообщений в месяц, включённых в абонентскую плату  \n",
    "**mb_per_month_included** — объём интернет-трафика, включённого в абонентскую плату (в мегабайтах)  \n",
    "**rub_per_minute** — стоимость минуты разговора сверх тарифного пакета (например, если в тарифе 100 минут разговора в месяц, то со 101 минуты будет взиматься плата)  \n",
    "**rub_per_message** — стоимость отправки сообщения сверх тарифного пакета  \n",
    "**rub_per_gb** — стоимость дополнительного гигабайта интернет-трафика сверх тарифного пакета (1 гигабайт = 1024 мегабайта)  "
   ]
  },
  {
   "cell_type": "markdown",
   "id": "08712a35",
   "metadata": {},
   "source": [
    "<a id='step_2'></a><h3>2. Загружаем файлы с данными и изучаем общую информацию</h3>\n",
    "\n",
    "[К оглавлению](#step_0)"
   ]
  },
  {
   "cell_type": "code",
   "execution_count": 2,
   "id": "0f97c39b",
   "metadata": {},
   "outputs": [],
   "source": [
    "# информация о звонках\n",
    "calls = pd.read_csv('/datasets/calls.csv')"
   ]
  },
  {
   "cell_type": "code",
   "execution_count": 3,
   "id": "67b2c171",
   "metadata": {},
   "outputs": [
    {
     "data": {
      "text/html": [
       "<div>\n",
       "<style scoped>\n",
       "    .dataframe tbody tr th:only-of-type {\n",
       "        vertical-align: middle;\n",
       "    }\n",
       "\n",
       "    .dataframe tbody tr th {\n",
       "        vertical-align: top;\n",
       "    }\n",
       "\n",
       "    .dataframe thead th {\n",
       "        text-align: right;\n",
       "    }\n",
       "</style>\n",
       "<table border=\"1\" class=\"dataframe\">\n",
       "  <thead>\n",
       "    <tr style=\"text-align: right;\">\n",
       "      <th></th>\n",
       "      <th>id</th>\n",
       "      <th>call_date</th>\n",
       "      <th>duration</th>\n",
       "      <th>user_id</th>\n",
       "    </tr>\n",
       "  </thead>\n",
       "  <tbody>\n",
       "    <tr>\n",
       "      <th>0</th>\n",
       "      <td>1000_0</td>\n",
       "      <td>2018-07-25</td>\n",
       "      <td>0.00</td>\n",
       "      <td>1000</td>\n",
       "    </tr>\n",
       "    <tr>\n",
       "      <th>1</th>\n",
       "      <td>1000_1</td>\n",
       "      <td>2018-08-17</td>\n",
       "      <td>0.00</td>\n",
       "      <td>1000</td>\n",
       "    </tr>\n",
       "    <tr>\n",
       "      <th>2</th>\n",
       "      <td>1000_2</td>\n",
       "      <td>2018-06-11</td>\n",
       "      <td>2.85</td>\n",
       "      <td>1000</td>\n",
       "    </tr>\n",
       "    <tr>\n",
       "      <th>3</th>\n",
       "      <td>1000_3</td>\n",
       "      <td>2018-09-21</td>\n",
       "      <td>13.80</td>\n",
       "      <td>1000</td>\n",
       "    </tr>\n",
       "    <tr>\n",
       "      <th>4</th>\n",
       "      <td>1000_4</td>\n",
       "      <td>2018-12-15</td>\n",
       "      <td>5.18</td>\n",
       "      <td>1000</td>\n",
       "    </tr>\n",
       "  </tbody>\n",
       "</table>\n",
       "</div>"
      ],
      "text/plain": [
       "       id   call_date  duration  user_id\n",
       "0  1000_0  2018-07-25      0.00     1000\n",
       "1  1000_1  2018-08-17      0.00     1000\n",
       "2  1000_2  2018-06-11      2.85     1000\n",
       "3  1000_3  2018-09-21     13.80     1000\n",
       "4  1000_4  2018-12-15      5.18     1000"
      ]
     },
     "execution_count": 3,
     "metadata": {},
     "output_type": "execute_result"
    }
   ],
   "source": [
    "# выводим на экран верх таблицы\n",
    "calls.head()"
   ]
  },
  {
   "cell_type": "code",
   "execution_count": 4,
   "id": "db98cd86",
   "metadata": {},
   "outputs": [
    {
     "name": "stdout",
     "output_type": "stream",
     "text": [
      "<class 'pandas.core.frame.DataFrame'>\n",
      "RangeIndex: 202607 entries, 0 to 202606\n",
      "Data columns (total 4 columns):\n",
      " #   Column     Non-Null Count   Dtype  \n",
      "---  ------     --------------   -----  \n",
      " 0   id         202607 non-null  object \n",
      " 1   call_date  202607 non-null  object \n",
      " 2   duration   202607 non-null  float64\n",
      " 3   user_id    202607 non-null  int64  \n",
      "dtypes: float64(1), int64(1), object(2)\n",
      "memory usage: 6.2+ MB\n"
     ]
    }
   ],
   "source": [
    "# смотрим информацию о таблице с звонками\n",
    "calls.info()"
   ]
  },
  {
   "cell_type": "markdown",
   "id": "c47de19d",
   "metadata": {},
   "source": [
    "В таблице  202607 строк и 4 столбца. Идентификатор звонка и дата звонка тип object, продолжительность - вещественное число и идентификатор пользователя -целое число.\n"
   ]
  },
  {
   "cell_type": "code",
   "execution_count": 5,
   "id": "a3901c2f",
   "metadata": {},
   "outputs": [
    {
     "data": {
      "image/png": "[encoded data removed]",
      "text/plain": [
       "<Figure size 1080x360 with 1 Axes>"
      ]
     },
     "metadata": {
      "needs_background": "light"
     },
     "output_type": "display_data"
    }
   ],
   "source": [
    "# выведем гистограмму для столбца с продолжительностью звонков\n",
    "calls['duration'].hist(bins=20, figsize=(15, 5))\n",
    "plt.legend(['продолжительность звонков'])\n",
    "plt.xlabel('минут')\n",
    "plt.ylabel('Количество звонков')\n",
    "plt.show()"
   ]
  },
  {
   "cell_type": "markdown",
   "id": "0be6998f",
   "metadata": {},
   "source": [
    "Данные имеют распределение Гаусса, скос вправо, на отметке 0 - выброс."
   ]
  },
  {
   "cell_type": "code",
   "execution_count": 6,
   "id": "2e4ae52a",
   "metadata": {},
   "outputs": [],
   "source": [
    "# таблица продолжительность сессий интернет траффика\n",
    "sessions = pd.read_csv('/datasets/internet.csv')"
   ]
  },
  {
   "cell_type": "code",
   "execution_count": 7,
   "id": "30c71e90",
   "metadata": {},
   "outputs": [
    {
     "data": {
      "text/html": [
       "<div>\n",
       "<style scoped>\n",
       "    .dataframe tbody tr th:only-of-type {\n",
       "        vertical-align: middle;\n",
       "    }\n",
       "\n",
       "    .dataframe tbody tr th {\n",
       "        vertical-align: top;\n",
       "    }\n",
       "\n",
       "    .dataframe thead th {\n",
       "        text-align: right;\n",
       "    }\n",
       "</style>\n",
       "<table border=\"1\" class=\"dataframe\">\n",
       "  <thead>\n",
       "    <tr style=\"text-align: right;\">\n",
       "      <th></th>\n",
       "      <th>Unnamed: 0</th>\n",
       "      <th>id</th>\n",
       "      <th>mb_used</th>\n",
       "      <th>session_date</th>\n",
       "      <th>user_id</th>\n",
       "    </tr>\n",
       "  </thead>\n",
       "  <tbody>\n",
       "    <tr>\n",
       "      <th>0</th>\n",
       "      <td>0</td>\n",
       "      <td>1000_0</td>\n",
       "      <td>112.95</td>\n",
       "      <td>2018-11-25</td>\n",
       "      <td>1000</td>\n",
       "    </tr>\n",
       "    <tr>\n",
       "      <th>1</th>\n",
       "      <td>1</td>\n",
       "      <td>1000_1</td>\n",
       "      <td>1052.81</td>\n",
       "      <td>2018-09-07</td>\n",
       "      <td>1000</td>\n",
       "    </tr>\n",
       "    <tr>\n",
       "      <th>2</th>\n",
       "      <td>2</td>\n",
       "      <td>1000_2</td>\n",
       "      <td>1197.26</td>\n",
       "      <td>2018-06-25</td>\n",
       "      <td>1000</td>\n",
       "    </tr>\n",
       "    <tr>\n",
       "      <th>3</th>\n",
       "      <td>3</td>\n",
       "      <td>1000_3</td>\n",
       "      <td>550.27</td>\n",
       "      <td>2018-08-22</td>\n",
       "      <td>1000</td>\n",
       "    </tr>\n",
       "    <tr>\n",
       "      <th>4</th>\n",
       "      <td>4</td>\n",
       "      <td>1000_4</td>\n",
       "      <td>302.56</td>\n",
       "      <td>2018-09-24</td>\n",
       "      <td>1000</td>\n",
       "    </tr>\n",
       "  </tbody>\n",
       "</table>\n",
       "</div>"
      ],
      "text/plain": [
       "   Unnamed: 0      id  mb_used session_date  user_id\n",
       "0           0  1000_0   112.95   2018-11-25     1000\n",
       "1           1  1000_1  1052.81   2018-09-07     1000\n",
       "2           2  1000_2  1197.26   2018-06-25     1000\n",
       "3           3  1000_3   550.27   2018-08-22     1000\n",
       "4           4  1000_4   302.56   2018-09-24     1000"
      ]
     },
     "execution_count": 7,
     "metadata": {},
     "output_type": "execute_result"
    }
   ],
   "source": [
    "# выводим на экран верх таблицы продолжительности сессий\n",
    "sessions.head()"
   ]
  },
  {
   "cell_type": "code",
   "execution_count": 8,
   "id": "c01e0b51",
   "metadata": {},
   "outputs": [
    {
     "name": "stdout",
     "output_type": "stream",
     "text": [
      "<class 'pandas.core.frame.DataFrame'>\n",
      "RangeIndex: 149396 entries, 0 to 149395\n",
      "Data columns (total 5 columns):\n",
      " #   Column        Non-Null Count   Dtype  \n",
      "---  ------        --------------   -----  \n",
      " 0   Unnamed: 0    149396 non-null  int64  \n",
      " 1   id            149396 non-null  object \n",
      " 2   mb_used       149396 non-null  float64\n",
      " 3   session_date  149396 non-null  object \n",
      " 4   user_id       149396 non-null  int64  \n",
      "dtypes: float64(1), int64(2), object(2)\n",
      "memory usage: 5.7+ MB\n"
     ]
    }
   ],
   "source": [
    "# смотрим информацию о таблице с сессиями\n",
    "sessions.info()"
   ]
  },
  {
   "cell_type": "markdown",
   "id": "c73e76c8",
   "metadata": {},
   "source": [
    "В таблице sessions 149396 строк и 5 столбцов. Идентификатор и дата сессии - тип object, количество мегабайт - вещественное число, номер идентификатора пользователя - целое."
   ]
  },
  {
   "cell_type": "code",
   "execution_count": 9,
   "id": "bcc9a847",
   "metadata": {},
   "outputs": [
    {
     "data": {
      "image/png": "[encoded data removed]",
      "text/plain": [
       "<Figure size 1080x360 with 1 Axes>"
      ]
     },
     "metadata": {
      "needs_background": "light"
     },
     "output_type": "display_data"
    }
   ],
   "source": [
    "# выведем гистограмму для столбца с количеством потраченных мегабайт\n",
    "sessions['mb_used'].hist(bins=20, figsize=(15, 5))\n",
    "plt.legend(['Количество потраченных Мегабайт'])\n",
    "plt.xlabel('Мегабайт')\n",
    "plt.ylabel('Количество клиентов')\n",
    "plt.show()"
   ]
  },
  {
   "cell_type": "markdown",
   "id": "acdf1e99",
   "metadata": {},
   "source": [
    "Данные имеют распределение Гаусса, скос вправо, на отметке 0 - выброс."
   ]
  },
  {
   "cell_type": "code",
   "execution_count": 10,
   "id": "facca8aa",
   "metadata": {},
   "outputs": [],
   "source": [
    "# таблица количество сообщений\n",
    "messages = pd.read_csv('/datasets/messages.csv')"
   ]
  },
  {
   "cell_type": "code",
   "execution_count": 11,
   "id": "51fa820e",
   "metadata": {
    "scrolled": true
   },
   "outputs": [
    {
     "data": {
      "text/html": [
       "<div>\n",
       "<style scoped>\n",
       "    .dataframe tbody tr th:only-of-type {\n",
       "        vertical-align: middle;\n",
       "    }\n",
       "\n",
       "    .dataframe tbody tr th {\n",
       "        vertical-align: top;\n",
       "    }\n",
       "\n",
       "    .dataframe thead th {\n",
       "        text-align: right;\n",
       "    }\n",
       "</style>\n",
       "<table border=\"1\" class=\"dataframe\">\n",
       "  <thead>\n",
       "    <tr style=\"text-align: right;\">\n",
       "      <th></th>\n",
       "      <th>id</th>\n",
       "      <th>message_date</th>\n",
       "      <th>user_id</th>\n",
       "    </tr>\n",
       "  </thead>\n",
       "  <tbody>\n",
       "    <tr>\n",
       "      <th>0</th>\n",
       "      <td>1000_0</td>\n",
       "      <td>2018-06-27</td>\n",
       "      <td>1000</td>\n",
       "    </tr>\n",
       "    <tr>\n",
       "      <th>1</th>\n",
       "      <td>1000_1</td>\n",
       "      <td>2018-10-08</td>\n",
       "      <td>1000</td>\n",
       "    </tr>\n",
       "    <tr>\n",
       "      <th>2</th>\n",
       "      <td>1000_2</td>\n",
       "      <td>2018-08-04</td>\n",
       "      <td>1000</td>\n",
       "    </tr>\n",
       "    <tr>\n",
       "      <th>3</th>\n",
       "      <td>1000_3</td>\n",
       "      <td>2018-06-16</td>\n",
       "      <td>1000</td>\n",
       "    </tr>\n",
       "    <tr>\n",
       "      <th>4</th>\n",
       "      <td>1000_4</td>\n",
       "      <td>2018-12-05</td>\n",
       "      <td>1000</td>\n",
       "    </tr>\n",
       "  </tbody>\n",
       "</table>\n",
       "</div>"
      ],
      "text/plain": [
       "       id message_date  user_id\n",
       "0  1000_0   2018-06-27     1000\n",
       "1  1000_1   2018-10-08     1000\n",
       "2  1000_2   2018-08-04     1000\n",
       "3  1000_3   2018-06-16     1000\n",
       "4  1000_4   2018-12-05     1000"
      ]
     },
     "execution_count": 11,
     "metadata": {},
     "output_type": "execute_result"
    }
   ],
   "source": [
    "# выводим на экран верх таблицы количество сообщений\n",
    "messages.head()"
   ]
  },
  {
   "cell_type": "code",
   "execution_count": 12,
   "id": "e1275900",
   "metadata": {
    "scrolled": true
   },
   "outputs": [
    {
     "name": "stdout",
     "output_type": "stream",
     "text": [
      "<class 'pandas.core.frame.DataFrame'>\n",
      "RangeIndex: 123036 entries, 0 to 123035\n",
      "Data columns (total 3 columns):\n",
      " #   Column        Non-Null Count   Dtype \n",
      "---  ------        --------------   ----- \n",
      " 0   id            123036 non-null  object\n",
      " 1   message_date  123036 non-null  object\n",
      " 2   user_id       123036 non-null  int64 \n",
      "dtypes: int64(1), object(2)\n",
      "memory usage: 2.8+ MB\n"
     ]
    }
   ],
   "source": [
    "# смотрим информацию о таблице с сообщениями\n",
    "messages.info()"
   ]
  },
  {
   "cell_type": "markdown",
   "id": "f72e3392",
   "metadata": {},
   "source": [
    "Таблица messages имеет 123036 строк и 3 столбца. Идентификатор сообщения и дата сообщения - тип object, идентификатор пользоателя - целое число."
   ]
  },
  {
   "cell_type": "code",
   "execution_count": 13,
   "id": "a9ba0fd3",
   "metadata": {},
   "outputs": [],
   "source": [
    "# датафрейм tariffs загружаем\n",
    "tariffs = pd.read_csv('/datasets/tariffs.csv')"
   ]
  },
  {
   "cell_type": "code",
   "execution_count": 14,
   "id": "eaccac98",
   "metadata": {},
   "outputs": [
    {
     "data": {
      "text/html": [
       "<div>\n",
       "<style scoped>\n",
       "    .dataframe tbody tr th:only-of-type {\n",
       "        vertical-align: middle;\n",
       "    }\n",
       "\n",
       "    .dataframe tbody tr th {\n",
       "        vertical-align: top;\n",
       "    }\n",
       "\n",
       "    .dataframe thead th {\n",
       "        text-align: right;\n",
       "    }\n",
       "</style>\n",
       "<table border=\"1\" class=\"dataframe\">\n",
       "  <thead>\n",
       "    <tr style=\"text-align: right;\">\n",
       "      <th></th>\n",
       "      <th>messages_included</th>\n",
       "      <th>mb_per_month_included</th>\n",
       "      <th>minutes_included</th>\n",
       "      <th>rub_monthly_fee</th>\n",
       "      <th>rub_per_gb</th>\n",
       "      <th>rub_per_message</th>\n",
       "      <th>rub_per_minute</th>\n",
       "      <th>tariff_name</th>\n",
       "    </tr>\n",
       "  </thead>\n",
       "  <tbody>\n",
       "    <tr>\n",
       "      <th>0</th>\n",
       "      <td>50</td>\n",
       "      <td>15360</td>\n",
       "      <td>500</td>\n",
       "      <td>550</td>\n",
       "      <td>200</td>\n",
       "      <td>3</td>\n",
       "      <td>3</td>\n",
       "      <td>smart</td>\n",
       "    </tr>\n",
       "    <tr>\n",
       "      <th>1</th>\n",
       "      <td>1000</td>\n",
       "      <td>30720</td>\n",
       "      <td>3000</td>\n",
       "      <td>1950</td>\n",
       "      <td>150</td>\n",
       "      <td>1</td>\n",
       "      <td>1</td>\n",
       "      <td>ultra</td>\n",
       "    </tr>\n",
       "  </tbody>\n",
       "</table>\n",
       "</div>"
      ],
      "text/plain": [
       "   messages_included  mb_per_month_included  minutes_included  \\\n",
       "0                 50                  15360               500   \n",
       "1               1000                  30720              3000   \n",
       "\n",
       "   rub_monthly_fee  rub_per_gb  rub_per_message  rub_per_minute tariff_name  \n",
       "0              550         200                3               3       smart  \n",
       "1             1950         150                1               1       ultra  "
      ]
     },
     "execution_count": 14,
     "metadata": {},
     "output_type": "execute_result"
    }
   ],
   "source": [
    "# Выводим весь датафрейм tariffs\n",
    "tariffs"
   ]
  },
  {
   "cell_type": "code",
   "execution_count": 15,
   "id": "1bab73a7",
   "metadata": {},
   "outputs": [
    {
     "name": "stdout",
     "output_type": "stream",
     "text": [
      "<class 'pandas.core.frame.DataFrame'>\n",
      "RangeIndex: 2 entries, 0 to 1\n",
      "Data columns (total 8 columns):\n",
      " #   Column                 Non-Null Count  Dtype \n",
      "---  ------                 --------------  ----- \n",
      " 0   messages_included      2 non-null      int64 \n",
      " 1   mb_per_month_included  2 non-null      int64 \n",
      " 2   minutes_included       2 non-null      int64 \n",
      " 3   rub_monthly_fee        2 non-null      int64 \n",
      " 4   rub_per_gb             2 non-null      int64 \n",
      " 5   rub_per_message        2 non-null      int64 \n",
      " 6   rub_per_minute         2 non-null      int64 \n",
      " 7   tariff_name            2 non-null      object\n",
      "dtypes: int64(7), object(1)\n",
      "memory usage: 256.0+ bytes\n"
     ]
    }
   ],
   "source": [
    "# информация о таблице tariffs\n",
    "tariffs.info()"
   ]
  },
  {
   "cell_type": "markdown",
   "id": "df1203e8",
   "metadata": {},
   "source": [
    "В таблице с тарифами 2 стороки и 8 столбцов. Наименование тарифа - строки, остальные столбцы - тип целое число."
   ]
  },
  {
   "cell_type": "code",
   "execution_count": 16,
   "id": "e7ef89df",
   "metadata": {},
   "outputs": [],
   "source": [
    "# загружаем таблицу пользователей\n",
    "users = pd.read_csv('/datasets/users.csv')"
   ]
  },
  {
   "cell_type": "code",
   "execution_count": 17,
   "id": "ace58f80",
   "metadata": {},
   "outputs": [
    {
     "data": {
      "text/html": [
       "<div>\n",
       "<style scoped>\n",
       "    .dataframe tbody tr th:only-of-type {\n",
       "        vertical-align: middle;\n",
       "    }\n",
       "\n",
       "    .dataframe tbody tr th {\n",
       "        vertical-align: top;\n",
       "    }\n",
       "\n",
       "    .dataframe thead th {\n",
       "        text-align: right;\n",
       "    }\n",
       "</style>\n",
       "<table border=\"1\" class=\"dataframe\">\n",
       "  <thead>\n",
       "    <tr style=\"text-align: right;\">\n",
       "      <th></th>\n",
       "      <th>user_id</th>\n",
       "      <th>age</th>\n",
       "      <th>churn_date</th>\n",
       "      <th>city</th>\n",
       "      <th>first_name</th>\n",
       "      <th>last_name</th>\n",
       "      <th>reg_date</th>\n",
       "      <th>tariff</th>\n",
       "    </tr>\n",
       "  </thead>\n",
       "  <tbody>\n",
       "    <tr>\n",
       "      <th>0</th>\n",
       "      <td>1000</td>\n",
       "      <td>52</td>\n",
       "      <td>NaN</td>\n",
       "      <td>Краснодар</td>\n",
       "      <td>Рафаил</td>\n",
       "      <td>Верещагин</td>\n",
       "      <td>2018-05-25</td>\n",
       "      <td>ultra</td>\n",
       "    </tr>\n",
       "    <tr>\n",
       "      <th>1</th>\n",
       "      <td>1001</td>\n",
       "      <td>41</td>\n",
       "      <td>NaN</td>\n",
       "      <td>Москва</td>\n",
       "      <td>Иван</td>\n",
       "      <td>Ежов</td>\n",
       "      <td>2018-11-01</td>\n",
       "      <td>smart</td>\n",
       "    </tr>\n",
       "    <tr>\n",
       "      <th>2</th>\n",
       "      <td>1002</td>\n",
       "      <td>59</td>\n",
       "      <td>NaN</td>\n",
       "      <td>Стерлитамак</td>\n",
       "      <td>Евгений</td>\n",
       "      <td>Абрамович</td>\n",
       "      <td>2018-06-17</td>\n",
       "      <td>smart</td>\n",
       "    </tr>\n",
       "    <tr>\n",
       "      <th>3</th>\n",
       "      <td>1003</td>\n",
       "      <td>23</td>\n",
       "      <td>NaN</td>\n",
       "      <td>Москва</td>\n",
       "      <td>Белла</td>\n",
       "      <td>Белякова</td>\n",
       "      <td>2018-08-17</td>\n",
       "      <td>ultra</td>\n",
       "    </tr>\n",
       "    <tr>\n",
       "      <th>4</th>\n",
       "      <td>1004</td>\n",
       "      <td>68</td>\n",
       "      <td>NaN</td>\n",
       "      <td>Новокузнецк</td>\n",
       "      <td>Татьяна</td>\n",
       "      <td>Авдеенко</td>\n",
       "      <td>2018-05-14</td>\n",
       "      <td>ultra</td>\n",
       "    </tr>\n",
       "  </tbody>\n",
       "</table>\n",
       "</div>"
      ],
      "text/plain": [
       "   user_id  age churn_date         city first_name  last_name    reg_date  \\\n",
       "0     1000   52        NaN    Краснодар     Рафаил  Верещагин  2018-05-25   \n",
       "1     1001   41        NaN       Москва       Иван       Ежов  2018-11-01   \n",
       "2     1002   59        NaN  Стерлитамак    Евгений  Абрамович  2018-06-17   \n",
       "3     1003   23        NaN       Москва      Белла   Белякова  2018-08-17   \n",
       "4     1004   68        NaN  Новокузнецк    Татьяна   Авдеенко  2018-05-14   \n",
       "\n",
       "  tariff  \n",
       "0  ultra  \n",
       "1  smart  \n",
       "2  smart  \n",
       "3  ultra  \n",
       "4  ultra  "
      ]
     },
     "execution_count": 17,
     "metadata": {},
     "output_type": "execute_result"
    }
   ],
   "source": [
    "# Выводим верх таблицы\n",
    "users.head()"
   ]
  },
  {
   "cell_type": "code",
   "execution_count": 18,
   "id": "739cff8f",
   "metadata": {
    "scrolled": false
   },
   "outputs": [
    {
     "name": "stdout",
     "output_type": "stream",
     "text": [
      "<class 'pandas.core.frame.DataFrame'>\n",
      "RangeIndex: 500 entries, 0 to 499\n",
      "Data columns (total 8 columns):\n",
      " #   Column      Non-Null Count  Dtype \n",
      "---  ------      --------------  ----- \n",
      " 0   user_id     500 non-null    int64 \n",
      " 1   age         500 non-null    int64 \n",
      " 2   churn_date  38 non-null     object\n",
      " 3   city        500 non-null    object\n",
      " 4   first_name  500 non-null    object\n",
      " 5   last_name   500 non-null    object\n",
      " 6   reg_date    500 non-null    object\n",
      " 7   tariff      500 non-null    object\n",
      "dtypes: int64(2), object(6)\n",
      "memory usage: 31.4+ KB\n"
     ]
    }
   ],
   "source": [
    "# информация о таблице пользователей\n",
    "users.info()"
   ]
  },
  {
   "cell_type": "markdown",
   "id": "27443bd6",
   "metadata": {},
   "source": [
    "В таблице с пользователями 500 сторок и 8 столбцов. Наименование тарифа, город, фамили, имя и дата регистрации - строки, остальные столбцы (идентификатор пользователя и возраст) - тип целое число."
   ]
  },
  {
   "cell_type": "markdown",
   "id": "7619ae25",
   "metadata": {},
   "source": [
    "<a id='step_3'></a><h3>3. Предобработка</h3>\n",
    "\n",
    "[К оглавлению](#step_0) "
   ]
  },
  {
   "cell_type": "markdown",
   "id": "1ad6eb0e",
   "metadata": {},
   "source": [
    "<a id='step_3.1'></a><h3>3.1 Приводим все столбцы с датами к временному типу</h3>\n",
    "\n",
    "[К оглавлению](#step_0) "
   ]
  },
  {
   "cell_type": "markdown",
   "id": "a367f775",
   "metadata": {},
   "source": [
    "Приводим столбцы\n",
    "\n",
    "- `reg_date` из таблицы `users`\n",
    "- `churn_date` из таблицы `users`\n",
    "- `call_date` из таблицы `calls`\n",
    "- `message_date` из таблицы `messages`\n",
    "- `session_date` из таблицы `sessions`\n",
    "\n",
    "к временнОму типу с помощью метода `to_datetime()`."
   ]
  },
  {
   "cell_type": "code",
   "execution_count": 19,
   "id": "93141524",
   "metadata": {},
   "outputs": [],
   "source": [
    "# обработка столбца reg_date\n",
    "users['reg_date'] = pd.to_datetime(users['reg_date'], format = '%Y-%m-%d')\n",
    "# обработка столбца churn_date\n",
    "users['churn_date'] = pd.to_datetime(users['churn_date'], format = '%Y-%m-%d')\n",
    "# обработка столбца call_date\n",
    "calls['call_date'] = pd.to_datetime(calls['call_date'], format = '%Y-%m-%d')\n",
    "# обработка столбца message_date\n",
    "messages['message_date'] = pd.to_datetime(messages['message_date'], format = '%Y-%m-%d')\n",
    "# обработка столбца session_date\n",
    "sessions['session_date'] = pd.to_datetime(sessions['session_date'], format = '%Y-%m-%d')"
   ]
  },
  {
   "cell_type": "markdown",
   "id": "951f1926",
   "metadata": {},
   "source": [
    "<a id='step_3.2'></a><h3>3.2 Округляем продолжительность звонков в верхнюю сторону и приводим к целому типу</h3>\n",
    "\n",
    "[К оглавлению](#step_0) "
   ]
  },
  {
   "cell_type": "markdown",
   "id": "c7953a66",
   "metadata": {},
   "source": [
    "В данных вы найдёте звонки с нулевой продолжительностью. Нулями обозначены пропущенные звонки, поэтому их не нужно удалять.\n",
    "\n",
    "Однако в столбце `duration` датафрейма `calls` значения дробные. Округлим значения столбца `duration` вверх с помощью метода `numpy.ceil()` и приведем столбец `duration` к типу `int`."
   ]
  },
  {
   "cell_type": "code",
   "execution_count": 20,
   "id": "c1edf1b8",
   "metadata": {},
   "outputs": [],
   "source": [
    "calls['duration'] = np.ceil(calls['duration']).astype(int)"
   ]
  },
  {
   "cell_type": "markdown",
   "id": "11aeedb7",
   "metadata": {},
   "source": [
    "<a id='step_3.3'></a><h3>3.3 Удаляем лишние стобцы и добавляем нужные</h3>\n",
    "\n",
    "[К оглавлению](#step_0) "
   ]
  },
  {
   "cell_type": "code",
   "execution_count": 21,
   "id": "2701b7c4",
   "metadata": {},
   "outputs": [],
   "source": [
    "# Удалиv столбец Unnamed: 0 из датафрейма sessions\n",
    "sessions = sessions.drop(columns='Unnamed: 0') "
   ]
  },
  {
   "cell_type": "code",
   "execution_count": 22,
   "id": "e67b41c8",
   "metadata": {},
   "outputs": [],
   "source": [
    "# Создадим столбец month в датафрейме calls с номером месяца из столбца call_date\n",
    "calls['month'] = pd.DatetimeIndex(calls['call_date']).month\n"
   ]
  },
  {
   "cell_type": "code",
   "execution_count": 23,
   "id": "73b8b0db",
   "metadata": {},
   "outputs": [],
   "source": [
    "#  Создадим столбец month в датафрейме messages с номером месяца из столбца message_date\n",
    "messages['month'] = pd.DatetimeIndex(messages['message_date']).month"
   ]
  },
  {
   "cell_type": "code",
   "execution_count": 24,
   "id": "7191134e",
   "metadata": {},
   "outputs": [],
   "source": [
    "# Создадим столбец month в датафрейме sessions с номером месяца из столбца session_date\n",
    "sessions['month'] = pd.DatetimeIndex(sessions['session_date']).month"
   ]
  },
  {
   "cell_type": "markdown",
   "id": "f2a1d3a7",
   "metadata": {},
   "source": [
    "<a id='step_3.4'></a><h3>3.4 Подсчет количества услуг каждого пользователя в месяц</h3>\n",
    "\n",
    "[К оглавлению](#step_0) "
   ]
  },
  {
   "cell_type": "code",
   "execution_count": 25,
   "id": "fd35a8d1",
   "metadata": {},
   "outputs": [],
   "source": [
    "# подсчёт количества звонков для каждого пользователя по месяцам\n",
    "calls_per_month = calls.groupby(['user_id', 'month']).agg(calls=('duration', 'count'))\n"
   ]
  },
  {
   "cell_type": "code",
   "execution_count": 26,
   "id": "e665e33b",
   "metadata": {},
   "outputs": [
    {
     "data": {
      "text/html": [
       "<div>\n",
       "<style scoped>\n",
       "    .dataframe tbody tr th:only-of-type {\n",
       "        vertical-align: middle;\n",
       "    }\n",
       "\n",
       "    .dataframe tbody tr th {\n",
       "        vertical-align: top;\n",
       "    }\n",
       "\n",
       "    .dataframe thead th {\n",
       "        text-align: right;\n",
       "    }\n",
       "</style>\n",
       "<table border=\"1\" class=\"dataframe\">\n",
       "  <thead>\n",
       "    <tr style=\"text-align: right;\">\n",
       "      <th></th>\n",
       "      <th></th>\n",
       "      <th>calls</th>\n",
       "    </tr>\n",
       "    <tr>\n",
       "      <th>user_id</th>\n",
       "      <th>month</th>\n",
       "      <th></th>\n",
       "    </tr>\n",
       "  </thead>\n",
       "  <tbody>\n",
       "    <tr>\n",
       "      <th rowspan=\"8\" valign=\"top\">1000</th>\n",
       "      <th>5</th>\n",
       "      <td>22</td>\n",
       "    </tr>\n",
       "    <tr>\n",
       "      <th>6</th>\n",
       "      <td>43</td>\n",
       "    </tr>\n",
       "    <tr>\n",
       "      <th>7</th>\n",
       "      <td>47</td>\n",
       "    </tr>\n",
       "    <tr>\n",
       "      <th>8</th>\n",
       "      <td>52</td>\n",
       "    </tr>\n",
       "    <tr>\n",
       "      <th>9</th>\n",
       "      <td>58</td>\n",
       "    </tr>\n",
       "    <tr>\n",
       "      <th>10</th>\n",
       "      <td>57</td>\n",
       "    </tr>\n",
       "    <tr>\n",
       "      <th>11</th>\n",
       "      <td>43</td>\n",
       "    </tr>\n",
       "    <tr>\n",
       "      <th>12</th>\n",
       "      <td>46</td>\n",
       "    </tr>\n",
       "    <tr>\n",
       "      <th rowspan=\"2\" valign=\"top\">1001</th>\n",
       "      <th>11</th>\n",
       "      <td>59</td>\n",
       "    </tr>\n",
       "    <tr>\n",
       "      <th>12</th>\n",
       "      <td>63</td>\n",
       "    </tr>\n",
       "    <tr>\n",
       "      <th rowspan=\"7\" valign=\"top\">1002</th>\n",
       "      <th>6</th>\n",
       "      <td>15</td>\n",
       "    </tr>\n",
       "    <tr>\n",
       "      <th>7</th>\n",
       "      <td>26</td>\n",
       "    </tr>\n",
       "    <tr>\n",
       "      <th>8</th>\n",
       "      <td>42</td>\n",
       "    </tr>\n",
       "    <tr>\n",
       "      <th>9</th>\n",
       "      <td>36</td>\n",
       "    </tr>\n",
       "    <tr>\n",
       "      <th>10</th>\n",
       "      <td>33</td>\n",
       "    </tr>\n",
       "    <tr>\n",
       "      <th>11</th>\n",
       "      <td>32</td>\n",
       "    </tr>\n",
       "    <tr>\n",
       "      <th>12</th>\n",
       "      <td>33</td>\n",
       "    </tr>\n",
       "    <tr>\n",
       "      <th rowspan=\"5\" valign=\"top\">1003</th>\n",
       "      <th>8</th>\n",
       "      <td>55</td>\n",
       "    </tr>\n",
       "    <tr>\n",
       "      <th>9</th>\n",
       "      <td>134</td>\n",
       "    </tr>\n",
       "    <tr>\n",
       "      <th>10</th>\n",
       "      <td>108</td>\n",
       "    </tr>\n",
       "    <tr>\n",
       "      <th>11</th>\n",
       "      <td>115</td>\n",
       "    </tr>\n",
       "    <tr>\n",
       "      <th>12</th>\n",
       "      <td>108</td>\n",
       "    </tr>\n",
       "    <tr>\n",
       "      <th rowspan=\"8\" valign=\"top\">1004</th>\n",
       "      <th>5</th>\n",
       "      <td>9</td>\n",
       "    </tr>\n",
       "    <tr>\n",
       "      <th>6</th>\n",
       "      <td>31</td>\n",
       "    </tr>\n",
       "    <tr>\n",
       "      <th>7</th>\n",
       "      <td>22</td>\n",
       "    </tr>\n",
       "    <tr>\n",
       "      <th>8</th>\n",
       "      <td>19</td>\n",
       "    </tr>\n",
       "    <tr>\n",
       "      <th>9</th>\n",
       "      <td>26</td>\n",
       "    </tr>\n",
       "    <tr>\n",
       "      <th>10</th>\n",
       "      <td>29</td>\n",
       "    </tr>\n",
       "    <tr>\n",
       "      <th>11</th>\n",
       "      <td>19</td>\n",
       "    </tr>\n",
       "    <tr>\n",
       "      <th>12</th>\n",
       "      <td>21</td>\n",
       "    </tr>\n",
       "  </tbody>\n",
       "</table>\n",
       "</div>"
      ],
      "text/plain": [
       "               calls\n",
       "user_id month       \n",
       "1000    5         22\n",
       "        6         43\n",
       "        7         47\n",
       "        8         52\n",
       "        9         58\n",
       "        10        57\n",
       "        11        43\n",
       "        12        46\n",
       "1001    11        59\n",
       "        12        63\n",
       "1002    6         15\n",
       "        7         26\n",
       "        8         42\n",
       "        9         36\n",
       "        10        33\n",
       "        11        32\n",
       "        12        33\n",
       "1003    8         55\n",
       "        9        134\n",
       "        10       108\n",
       "        11       115\n",
       "        12       108\n",
       "1004    5          9\n",
       "        6         31\n",
       "        7         22\n",
       "        8         19\n",
       "        9         26\n",
       "        10        29\n",
       "        11        19\n",
       "        12        21"
      ]
     },
     "execution_count": 26,
     "metadata": {},
     "output_type": "execute_result"
    }
   ],
   "source": [
    "# вывод 30 первых строк на экран\n",
    "calls_per_month.head(30)"
   ]
  },
  {
   "cell_type": "code",
   "execution_count": 27,
   "id": "9868b588",
   "metadata": {},
   "outputs": [],
   "source": [
    "# подсчёт израсходованных минут для каждого пользователя по месяцам\n",
    "minutes_per_month = calls.groupby(['user_id', 'month']).agg(minutes=('duration', 'sum'))"
   ]
  },
  {
   "cell_type": "code",
   "execution_count": 28,
   "id": "ddc5f3b4",
   "metadata": {},
   "outputs": [
    {
     "data": {
      "text/html": [
       "<div>\n",
       "<style scoped>\n",
       "    .dataframe tbody tr th:only-of-type {\n",
       "        vertical-align: middle;\n",
       "    }\n",
       "\n",
       "    .dataframe tbody tr th {\n",
       "        vertical-align: top;\n",
       "    }\n",
       "\n",
       "    .dataframe thead th {\n",
       "        text-align: right;\n",
       "    }\n",
       "</style>\n",
       "<table border=\"1\" class=\"dataframe\">\n",
       "  <thead>\n",
       "    <tr style=\"text-align: right;\">\n",
       "      <th></th>\n",
       "      <th></th>\n",
       "      <th>minutes</th>\n",
       "    </tr>\n",
       "    <tr>\n",
       "      <th>user_id</th>\n",
       "      <th>month</th>\n",
       "      <th></th>\n",
       "    </tr>\n",
       "  </thead>\n",
       "  <tbody>\n",
       "    <tr>\n",
       "      <th rowspan=\"8\" valign=\"top\">1000</th>\n",
       "      <th>5</th>\n",
       "      <td>159</td>\n",
       "    </tr>\n",
       "    <tr>\n",
       "      <th>6</th>\n",
       "      <td>172</td>\n",
       "    </tr>\n",
       "    <tr>\n",
       "      <th>7</th>\n",
       "      <td>340</td>\n",
       "    </tr>\n",
       "    <tr>\n",
       "      <th>8</th>\n",
       "      <td>408</td>\n",
       "    </tr>\n",
       "    <tr>\n",
       "      <th>9</th>\n",
       "      <td>466</td>\n",
       "    </tr>\n",
       "    <tr>\n",
       "      <th>10</th>\n",
       "      <td>350</td>\n",
       "    </tr>\n",
       "    <tr>\n",
       "      <th>11</th>\n",
       "      <td>338</td>\n",
       "    </tr>\n",
       "    <tr>\n",
       "      <th>12</th>\n",
       "      <td>333</td>\n",
       "    </tr>\n",
       "    <tr>\n",
       "      <th rowspan=\"2\" valign=\"top\">1001</th>\n",
       "      <th>11</th>\n",
       "      <td>430</td>\n",
       "    </tr>\n",
       "    <tr>\n",
       "      <th>12</th>\n",
       "      <td>414</td>\n",
       "    </tr>\n",
       "    <tr>\n",
       "      <th rowspan=\"7\" valign=\"top\">1002</th>\n",
       "      <th>6</th>\n",
       "      <td>117</td>\n",
       "    </tr>\n",
       "    <tr>\n",
       "      <th>7</th>\n",
       "      <td>214</td>\n",
       "    </tr>\n",
       "    <tr>\n",
       "      <th>8</th>\n",
       "      <td>289</td>\n",
       "    </tr>\n",
       "    <tr>\n",
       "      <th>9</th>\n",
       "      <td>206</td>\n",
       "    </tr>\n",
       "    <tr>\n",
       "      <th>10</th>\n",
       "      <td>212</td>\n",
       "    </tr>\n",
       "    <tr>\n",
       "      <th>11</th>\n",
       "      <td>243</td>\n",
       "    </tr>\n",
       "    <tr>\n",
       "      <th>12</th>\n",
       "      <td>236</td>\n",
       "    </tr>\n",
       "    <tr>\n",
       "      <th rowspan=\"5\" valign=\"top\">1003</th>\n",
       "      <th>8</th>\n",
       "      <td>380</td>\n",
       "    </tr>\n",
       "    <tr>\n",
       "      <th>9</th>\n",
       "      <td>961</td>\n",
       "    </tr>\n",
       "    <tr>\n",
       "      <th>10</th>\n",
       "      <td>855</td>\n",
       "    </tr>\n",
       "    <tr>\n",
       "      <th>11</th>\n",
       "      <td>824</td>\n",
       "    </tr>\n",
       "    <tr>\n",
       "      <th>12</th>\n",
       "      <td>802</td>\n",
       "    </tr>\n",
       "    <tr>\n",
       "      <th rowspan=\"8\" valign=\"top\">1004</th>\n",
       "      <th>5</th>\n",
       "      <td>35</td>\n",
       "    </tr>\n",
       "    <tr>\n",
       "      <th>6</th>\n",
       "      <td>171</td>\n",
       "    </tr>\n",
       "    <tr>\n",
       "      <th>7</th>\n",
       "      <td>135</td>\n",
       "    </tr>\n",
       "    <tr>\n",
       "      <th>8</th>\n",
       "      <td>137</td>\n",
       "    </tr>\n",
       "    <tr>\n",
       "      <th>9</th>\n",
       "      <td>117</td>\n",
       "    </tr>\n",
       "    <tr>\n",
       "      <th>10</th>\n",
       "      <td>145</td>\n",
       "    </tr>\n",
       "    <tr>\n",
       "      <th>11</th>\n",
       "      <td>117</td>\n",
       "    </tr>\n",
       "    <tr>\n",
       "      <th>12</th>\n",
       "      <td>130</td>\n",
       "    </tr>\n",
       "  </tbody>\n",
       "</table>\n",
       "</div>"
      ],
      "text/plain": [
       "               minutes\n",
       "user_id month         \n",
       "1000    5          159\n",
       "        6          172\n",
       "        7          340\n",
       "        8          408\n",
       "        9          466\n",
       "        10         350\n",
       "        11         338\n",
       "        12         333\n",
       "1001    11         430\n",
       "        12         414\n",
       "1002    6          117\n",
       "        7          214\n",
       "        8          289\n",
       "        9          206\n",
       "        10         212\n",
       "        11         243\n",
       "        12         236\n",
       "1003    8          380\n",
       "        9          961\n",
       "        10         855\n",
       "        11         824\n",
       "        12         802\n",
       "1004    5           35\n",
       "        6          171\n",
       "        7          135\n",
       "        8          137\n",
       "        9          117\n",
       "        10         145\n",
       "        11         117\n",
       "        12         130"
      ]
     },
     "execution_count": 28,
     "metadata": {},
     "output_type": "execute_result"
    }
   ],
   "source": [
    "# вывод первых 30 строк на экран\n",
    "minutes_per_month.head(30)"
   ]
  },
  {
   "cell_type": "code",
   "execution_count": 29,
   "id": "5fd171a8",
   "metadata": {},
   "outputs": [],
   "source": [
    "# подсчёт количества отправленных сообщений для каждого пользователя по месяцам\n",
    "messages_per_month = messages.groupby(['user_id', 'month']).agg(messages=('message_date', 'count'))\n"
   ]
  },
  {
   "cell_type": "code",
   "execution_count": 30,
   "id": "382d5521",
   "metadata": {},
   "outputs": [
    {
     "data": {
      "text/html": [
       "<div>\n",
       "<style scoped>\n",
       "    .dataframe tbody tr th:only-of-type {\n",
       "        vertical-align: middle;\n",
       "    }\n",
       "\n",
       "    .dataframe tbody tr th {\n",
       "        vertical-align: top;\n",
       "    }\n",
       "\n",
       "    .dataframe thead th {\n",
       "        text-align: right;\n",
       "    }\n",
       "</style>\n",
       "<table border=\"1\" class=\"dataframe\">\n",
       "  <thead>\n",
       "    <tr style=\"text-align: right;\">\n",
       "      <th></th>\n",
       "      <th></th>\n",
       "      <th>messages</th>\n",
       "    </tr>\n",
       "    <tr>\n",
       "      <th>user_id</th>\n",
       "      <th>month</th>\n",
       "      <th></th>\n",
       "    </tr>\n",
       "  </thead>\n",
       "  <tbody>\n",
       "    <tr>\n",
       "      <th rowspan=\"8\" valign=\"top\">1000</th>\n",
       "      <th>5</th>\n",
       "      <td>22</td>\n",
       "    </tr>\n",
       "    <tr>\n",
       "      <th>6</th>\n",
       "      <td>60</td>\n",
       "    </tr>\n",
       "    <tr>\n",
       "      <th>7</th>\n",
       "      <td>75</td>\n",
       "    </tr>\n",
       "    <tr>\n",
       "      <th>8</th>\n",
       "      <td>81</td>\n",
       "    </tr>\n",
       "    <tr>\n",
       "      <th>9</th>\n",
       "      <td>57</td>\n",
       "    </tr>\n",
       "    <tr>\n",
       "      <th>10</th>\n",
       "      <td>73</td>\n",
       "    </tr>\n",
       "    <tr>\n",
       "      <th>11</th>\n",
       "      <td>58</td>\n",
       "    </tr>\n",
       "    <tr>\n",
       "      <th>12</th>\n",
       "      <td>70</td>\n",
       "    </tr>\n",
       "    <tr>\n",
       "      <th rowspan=\"7\" valign=\"top\">1002</th>\n",
       "      <th>6</th>\n",
       "      <td>4</td>\n",
       "    </tr>\n",
       "    <tr>\n",
       "      <th>7</th>\n",
       "      <td>11</td>\n",
       "    </tr>\n",
       "    <tr>\n",
       "      <th>8</th>\n",
       "      <td>13</td>\n",
       "    </tr>\n",
       "    <tr>\n",
       "      <th>9</th>\n",
       "      <td>4</td>\n",
       "    </tr>\n",
       "    <tr>\n",
       "      <th>10</th>\n",
       "      <td>10</td>\n",
       "    </tr>\n",
       "    <tr>\n",
       "      <th>11</th>\n",
       "      <td>16</td>\n",
       "    </tr>\n",
       "    <tr>\n",
       "      <th>12</th>\n",
       "      <td>12</td>\n",
       "    </tr>\n",
       "    <tr>\n",
       "      <th rowspan=\"5\" valign=\"top\">1003</th>\n",
       "      <th>8</th>\n",
       "      <td>37</td>\n",
       "    </tr>\n",
       "    <tr>\n",
       "      <th>9</th>\n",
       "      <td>91</td>\n",
       "    </tr>\n",
       "    <tr>\n",
       "      <th>10</th>\n",
       "      <td>83</td>\n",
       "    </tr>\n",
       "    <tr>\n",
       "      <th>11</th>\n",
       "      <td>94</td>\n",
       "    </tr>\n",
       "    <tr>\n",
       "      <th>12</th>\n",
       "      <td>75</td>\n",
       "    </tr>\n",
       "    <tr>\n",
       "      <th rowspan=\"8\" valign=\"top\">1004</th>\n",
       "      <th>5</th>\n",
       "      <td>95</td>\n",
       "    </tr>\n",
       "    <tr>\n",
       "      <th>6</th>\n",
       "      <td>134</td>\n",
       "    </tr>\n",
       "    <tr>\n",
       "      <th>7</th>\n",
       "      <td>181</td>\n",
       "    </tr>\n",
       "    <tr>\n",
       "      <th>8</th>\n",
       "      <td>151</td>\n",
       "    </tr>\n",
       "    <tr>\n",
       "      <th>9</th>\n",
       "      <td>146</td>\n",
       "    </tr>\n",
       "    <tr>\n",
       "      <th>10</th>\n",
       "      <td>165</td>\n",
       "    </tr>\n",
       "    <tr>\n",
       "      <th>11</th>\n",
       "      <td>158</td>\n",
       "    </tr>\n",
       "    <tr>\n",
       "      <th>12</th>\n",
       "      <td>162</td>\n",
       "    </tr>\n",
       "    <tr>\n",
       "      <th rowspan=\"2\" valign=\"top\">1005</th>\n",
       "      <th>1</th>\n",
       "      <td>7</td>\n",
       "    </tr>\n",
       "    <tr>\n",
       "      <th>2</th>\n",
       "      <td>38</td>\n",
       "    </tr>\n",
       "  </tbody>\n",
       "</table>\n",
       "</div>"
      ],
      "text/plain": [
       "               messages\n",
       "user_id month          \n",
       "1000    5            22\n",
       "        6            60\n",
       "        7            75\n",
       "        8            81\n",
       "        9            57\n",
       "        10           73\n",
       "        11           58\n",
       "        12           70\n",
       "1002    6             4\n",
       "        7            11\n",
       "        8            13\n",
       "        9             4\n",
       "        10           10\n",
       "        11           16\n",
       "        12           12\n",
       "1003    8            37\n",
       "        9            91\n",
       "        10           83\n",
       "        11           94\n",
       "        12           75\n",
       "1004    5            95\n",
       "        6           134\n",
       "        7           181\n",
       "        8           151\n",
       "        9           146\n",
       "        10          165\n",
       "        11          158\n",
       "        12          162\n",
       "1005    1             7\n",
       "        2            38"
      ]
     },
     "execution_count": 30,
     "metadata": {},
     "output_type": "execute_result"
    }
   ],
   "source": [
    "# вывод первых 30 строк на экран\n",
    "messages_per_month.head(30)"
   ]
  },
  {
   "cell_type": "code",
   "execution_count": 31,
   "id": "7f620e46",
   "metadata": {},
   "outputs": [],
   "source": [
    "# подсчёт потраченных мегабайт для каждого пользователя по месяцам\n",
    "sessions_per_month = sessions.groupby(['user_id', 'month']).agg({'mb_used': 'sum'})"
   ]
  },
  {
   "cell_type": "code",
   "execution_count": 32,
   "id": "2691a666",
   "metadata": {},
   "outputs": [
    {
     "data": {
      "text/html": [
       "<div>\n",
       "<style scoped>\n",
       "    .dataframe tbody tr th:only-of-type {\n",
       "        vertical-align: middle;\n",
       "    }\n",
       "\n",
       "    .dataframe tbody tr th {\n",
       "        vertical-align: top;\n",
       "    }\n",
       "\n",
       "    .dataframe thead th {\n",
       "        text-align: right;\n",
       "    }\n",
       "</style>\n",
       "<table border=\"1\" class=\"dataframe\">\n",
       "  <thead>\n",
       "    <tr style=\"text-align: right;\">\n",
       "      <th></th>\n",
       "      <th></th>\n",
       "      <th>mb_used</th>\n",
       "    </tr>\n",
       "    <tr>\n",
       "      <th>user_id</th>\n",
       "      <th>month</th>\n",
       "      <th></th>\n",
       "    </tr>\n",
       "  </thead>\n",
       "  <tbody>\n",
       "    <tr>\n",
       "      <th rowspan=\"8\" valign=\"top\">1000</th>\n",
       "      <th>5</th>\n",
       "      <td>2253.49</td>\n",
       "    </tr>\n",
       "    <tr>\n",
       "      <th>6</th>\n",
       "      <td>23233.77</td>\n",
       "    </tr>\n",
       "    <tr>\n",
       "      <th>7</th>\n",
       "      <td>14003.64</td>\n",
       "    </tr>\n",
       "    <tr>\n",
       "      <th>8</th>\n",
       "      <td>14055.93</td>\n",
       "    </tr>\n",
       "    <tr>\n",
       "      <th>9</th>\n",
       "      <td>14568.91</td>\n",
       "    </tr>\n",
       "    <tr>\n",
       "      <th>10</th>\n",
       "      <td>14702.49</td>\n",
       "    </tr>\n",
       "    <tr>\n",
       "      <th>11</th>\n",
       "      <td>14756.47</td>\n",
       "    </tr>\n",
       "    <tr>\n",
       "      <th>12</th>\n",
       "      <td>9817.61</td>\n",
       "    </tr>\n",
       "    <tr>\n",
       "      <th rowspan=\"2\" valign=\"top\">1001</th>\n",
       "      <th>11</th>\n",
       "      <td>18429.34</td>\n",
       "    </tr>\n",
       "    <tr>\n",
       "      <th>12</th>\n",
       "      <td>14036.66</td>\n",
       "    </tr>\n",
       "    <tr>\n",
       "      <th rowspan=\"7\" valign=\"top\">1002</th>\n",
       "      <th>6</th>\n",
       "      <td>10856.82</td>\n",
       "    </tr>\n",
       "    <tr>\n",
       "      <th>7</th>\n",
       "      <td>17580.10</td>\n",
       "    </tr>\n",
       "    <tr>\n",
       "      <th>8</th>\n",
       "      <td>20319.26</td>\n",
       "    </tr>\n",
       "    <tr>\n",
       "      <th>9</th>\n",
       "      <td>16691.08</td>\n",
       "    </tr>\n",
       "    <tr>\n",
       "      <th>10</th>\n",
       "      <td>13888.25</td>\n",
       "    </tr>\n",
       "    <tr>\n",
       "      <th>11</th>\n",
       "      <td>18587.28</td>\n",
       "    </tr>\n",
       "    <tr>\n",
       "      <th>12</th>\n",
       "      <td>18113.73</td>\n",
       "    </tr>\n",
       "    <tr>\n",
       "      <th rowspan=\"5\" valign=\"top\">1003</th>\n",
       "      <th>8</th>\n",
       "      <td>8565.21</td>\n",
       "    </tr>\n",
       "    <tr>\n",
       "      <th>9</th>\n",
       "      <td>12468.87</td>\n",
       "    </tr>\n",
       "    <tr>\n",
       "      <th>10</th>\n",
       "      <td>14768.14</td>\n",
       "    </tr>\n",
       "    <tr>\n",
       "      <th>11</th>\n",
       "      <td>11356.89</td>\n",
       "    </tr>\n",
       "    <tr>\n",
       "      <th>12</th>\n",
       "      <td>10121.53</td>\n",
       "    </tr>\n",
       "    <tr>\n",
       "      <th rowspan=\"8\" valign=\"top\">1004</th>\n",
       "      <th>5</th>\n",
       "      <td>13403.98</td>\n",
       "    </tr>\n",
       "    <tr>\n",
       "      <th>6</th>\n",
       "      <td>17600.02</td>\n",
       "    </tr>\n",
       "    <tr>\n",
       "      <th>7</th>\n",
       "      <td>22229.58</td>\n",
       "    </tr>\n",
       "    <tr>\n",
       "      <th>8</th>\n",
       "      <td>28584.37</td>\n",
       "    </tr>\n",
       "    <tr>\n",
       "      <th>9</th>\n",
       "      <td>15109.03</td>\n",
       "    </tr>\n",
       "    <tr>\n",
       "      <th>10</th>\n",
       "      <td>18475.44</td>\n",
       "    </tr>\n",
       "    <tr>\n",
       "      <th>11</th>\n",
       "      <td>15616.02</td>\n",
       "    </tr>\n",
       "    <tr>\n",
       "      <th>12</th>\n",
       "      <td>18021.04</td>\n",
       "    </tr>\n",
       "  </tbody>\n",
       "</table>\n",
       "</div>"
      ],
      "text/plain": [
       "                mb_used\n",
       "user_id month          \n",
       "1000    5       2253.49\n",
       "        6      23233.77\n",
       "        7      14003.64\n",
       "        8      14055.93\n",
       "        9      14568.91\n",
       "        10     14702.49\n",
       "        11     14756.47\n",
       "        12      9817.61\n",
       "1001    11     18429.34\n",
       "        12     14036.66\n",
       "1002    6      10856.82\n",
       "        7      17580.10\n",
       "        8      20319.26\n",
       "        9      16691.08\n",
       "        10     13888.25\n",
       "        11     18587.28\n",
       "        12     18113.73\n",
       "1003    8       8565.21\n",
       "        9      12468.87\n",
       "        10     14768.14\n",
       "        11     11356.89\n",
       "        12     10121.53\n",
       "1004    5      13403.98\n",
       "        6      17600.02\n",
       "        7      22229.58\n",
       "        8      28584.37\n",
       "        9      15109.03\n",
       "        10     18475.44\n",
       "        11     15616.02\n",
       "        12     18021.04"
      ]
     },
     "execution_count": 32,
     "metadata": {},
     "output_type": "execute_result"
    }
   ],
   "source": [
    "# вывод первых 30 строк на экран\n",
    "sessions_per_month.head(30)"
   ]
  },
  {
   "cell_type": "markdown",
   "id": "7e4f4e15",
   "metadata": {},
   "source": [
    "<a id='step_4'></a><h3>4. Анализ данных и подсчёт выручки</h3>\n",
    "\n",
    "[К оглавлению](#step_0)  "
   ]
  },
  {
   "cell_type": "markdown",
   "id": "3a5cb756",
   "metadata": {},
   "source": [
    "<a id='step_4.1'></a><h3>4.1 Процент расторжения договоров</h3>\n",
    "\n",
    "[К оглавлению](#step_0) "
   ]
  },
  {
   "cell_type": "code",
   "execution_count": 33,
   "id": "bff8eccf",
   "metadata": {},
   "outputs": [
    {
     "data": {
      "text/plain": [
       "7.6"
      ]
     },
     "execution_count": 33,
     "metadata": {},
     "output_type": "execute_result"
    }
   ],
   "source": [
    "# считаем процент расторгнутых договоров от общего числа\n",
    "users['churn_date'].count() / users['churn_date'].shape[0] * 100"
   ]
  },
  {
   "cell_type": "markdown",
   "id": "d2c017d3",
   "metadata": {},
   "source": [
    "Расторгли договор 7.6% клиентов из датасета"
   ]
  },
  {
   "cell_type": "markdown",
   "id": "f277b733",
   "metadata": {},
   "source": [
    "<a id='step_4.2'></a><h3>4.2 Соединение всех таблиц в общую user_behavior с пользователями и полученными ими услугами от компании \"Мега*\"</h3>\n",
    "\n",
    "[К оглавлению](#step_0) "
   ]
  },
  {
   "cell_type": "markdown",
   "id": "9b80cef6",
   "metadata": {},
   "source": [
    "Объединяем все посчитанные выше значения в один датафрейм `user_behavior`.\n",
    "Для каждой пары «пользователь — месяц» будут доступны информация о тарифе, количестве звонков, сообщений и потраченных мегабайтах."
   ]
  },
  {
   "cell_type": "code",
   "execution_count": 34,
   "id": "7d25bf73",
   "metadata": {},
   "outputs": [
    {
     "data": {
      "text/html": [
       "<div>\n",
       "<style scoped>\n",
       "    .dataframe tbody tr th:only-of-type {\n",
       "        vertical-align: middle;\n",
       "    }\n",
       "\n",
       "    .dataframe tbody tr th {\n",
       "        vertical-align: top;\n",
       "    }\n",
       "\n",
       "    .dataframe thead th {\n",
       "        text-align: right;\n",
       "    }\n",
       "</style>\n",
       "<table border=\"1\" class=\"dataframe\">\n",
       "  <thead>\n",
       "    <tr style=\"text-align: right;\">\n",
       "      <th></th>\n",
       "      <th>user_id</th>\n",
       "      <th>month</th>\n",
       "      <th>calls</th>\n",
       "      <th>messages</th>\n",
       "      <th>mb_used</th>\n",
       "      <th>minutes</th>\n",
       "      <th>age</th>\n",
       "      <th>churn_date</th>\n",
       "      <th>city</th>\n",
       "      <th>first_name</th>\n",
       "      <th>last_name</th>\n",
       "      <th>reg_date</th>\n",
       "      <th>tariff</th>\n",
       "    </tr>\n",
       "  </thead>\n",
       "  <tbody>\n",
       "    <tr>\n",
       "      <th>0</th>\n",
       "      <td>1000</td>\n",
       "      <td>5</td>\n",
       "      <td>22.0</td>\n",
       "      <td>22.0</td>\n",
       "      <td>2253.49</td>\n",
       "      <td>159.0</td>\n",
       "      <td>52</td>\n",
       "      <td>NaT</td>\n",
       "      <td>Краснодар</td>\n",
       "      <td>Рафаил</td>\n",
       "      <td>Верещагин</td>\n",
       "      <td>2018-05-25</td>\n",
       "      <td>ultra</td>\n",
       "    </tr>\n",
       "    <tr>\n",
       "      <th>1</th>\n",
       "      <td>1000</td>\n",
       "      <td>6</td>\n",
       "      <td>43.0</td>\n",
       "      <td>60.0</td>\n",
       "      <td>23233.77</td>\n",
       "      <td>172.0</td>\n",
       "      <td>52</td>\n",
       "      <td>NaT</td>\n",
       "      <td>Краснодар</td>\n",
       "      <td>Рафаил</td>\n",
       "      <td>Верещагин</td>\n",
       "      <td>2018-05-25</td>\n",
       "      <td>ultra</td>\n",
       "    </tr>\n",
       "    <tr>\n",
       "      <th>2</th>\n",
       "      <td>1000</td>\n",
       "      <td>7</td>\n",
       "      <td>47.0</td>\n",
       "      <td>75.0</td>\n",
       "      <td>14003.64</td>\n",
       "      <td>340.0</td>\n",
       "      <td>52</td>\n",
       "      <td>NaT</td>\n",
       "      <td>Краснодар</td>\n",
       "      <td>Рафаил</td>\n",
       "      <td>Верещагин</td>\n",
       "      <td>2018-05-25</td>\n",
       "      <td>ultra</td>\n",
       "    </tr>\n",
       "    <tr>\n",
       "      <th>3</th>\n",
       "      <td>1000</td>\n",
       "      <td>8</td>\n",
       "      <td>52.0</td>\n",
       "      <td>81.0</td>\n",
       "      <td>14055.93</td>\n",
       "      <td>408.0</td>\n",
       "      <td>52</td>\n",
       "      <td>NaT</td>\n",
       "      <td>Краснодар</td>\n",
       "      <td>Рафаил</td>\n",
       "      <td>Верещагин</td>\n",
       "      <td>2018-05-25</td>\n",
       "      <td>ultra</td>\n",
       "    </tr>\n",
       "    <tr>\n",
       "      <th>4</th>\n",
       "      <td>1000</td>\n",
       "      <td>9</td>\n",
       "      <td>58.0</td>\n",
       "      <td>57.0</td>\n",
       "      <td>14568.91</td>\n",
       "      <td>466.0</td>\n",
       "      <td>52</td>\n",
       "      <td>NaT</td>\n",
       "      <td>Краснодар</td>\n",
       "      <td>Рафаил</td>\n",
       "      <td>Верещагин</td>\n",
       "      <td>2018-05-25</td>\n",
       "      <td>ultra</td>\n",
       "    </tr>\n",
       "  </tbody>\n",
       "</table>\n",
       "</div>"
      ],
      "text/plain": [
       "   user_id  month  calls  messages   mb_used  minutes  age churn_date  \\\n",
       "0     1000      5   22.0      22.0   2253.49    159.0   52        NaT   \n",
       "1     1000      6   43.0      60.0  23233.77    172.0   52        NaT   \n",
       "2     1000      7   47.0      75.0  14003.64    340.0   52        NaT   \n",
       "3     1000      8   52.0      81.0  14055.93    408.0   52        NaT   \n",
       "4     1000      9   58.0      57.0  14568.91    466.0   52        NaT   \n",
       "\n",
       "        city first_name  last_name   reg_date tariff  \n",
       "0  Краснодар     Рафаил  Верещагин 2018-05-25  ultra  \n",
       "1  Краснодар     Рафаил  Верещагин 2018-05-25  ultra  \n",
       "2  Краснодар     Рафаил  Верещагин 2018-05-25  ultra  \n",
       "3  Краснодар     Рафаил  Верещагин 2018-05-25  ultra  \n",
       "4  Краснодар     Рафаил  Верещагин 2018-05-25  ultra  "
      ]
     },
     "execution_count": 34,
     "metadata": {},
     "output_type": "execute_result"
    }
   ],
   "source": [
    "# создаем общий датафрейм\n",
    "user_behavior = calls_per_month\\\n",
    "    .merge(messages_per_month, left_index=True, right_index=True, how='outer')\\\n",
    "    .merge(sessions_per_month, left_index=True, right_index=True, how='outer')\\\n",
    "    .merge(minutes_per_month, left_index=True, right_index=True, how='outer')\\\n",
    "    .reset_index()\\\n",
    "    .merge(users, how='left', left_on='user_id', right_on='user_id')\\\n",
    "# выводим верх таблицы\n",
    "user_behavior.head()"
   ]
  },
  {
   "cell_type": "markdown",
   "id": "74342b6e",
   "metadata": {},
   "source": [
    "Проверим пропуски в таблице `user_behavior` после объединения:"
   ]
  },
  {
   "cell_type": "markdown",
   "id": "5e76b731",
   "metadata": {},
   "source": [
    "<a id='step_4.3'></a><h3>4.3 Пропуски в таблице user_behavior и их заполнение</h3>\n",
    "\n",
    "[К оглавлению](#step_0) "
   ]
  },
  {
   "cell_type": "code",
   "execution_count": 35,
   "id": "1384bd71",
   "metadata": {},
   "outputs": [
    {
     "data": {
      "text/plain": [
       "user_id          0\n",
       "month            0\n",
       "calls           40\n",
       "messages       497\n",
       "mb_used         11\n",
       "minutes         40\n",
       "age              0\n",
       "churn_date    3027\n",
       "city             0\n",
       "first_name       0\n",
       "last_name        0\n",
       "reg_date         0\n",
       "tariff           0\n",
       "dtype: int64"
      ]
     },
     "execution_count": 35,
     "metadata": {},
     "output_type": "execute_result"
    }
   ],
   "source": [
    "# Проверим пропуски в таблице user_behavior после объединения:\n",
    "user_behavior.isna().sum()"
   ]
  },
  {
   "cell_type": "markdown",
   "id": "b623cb57",
   "metadata": {},
   "source": [
    "Все столбцы с пропусками кроме churn_date заполним 0"
   ]
  },
  {
   "cell_type": "code",
   "execution_count": 36,
   "id": "fdf0c57c",
   "metadata": {},
   "outputs": [],
   "source": [
    "# Заполним образовавшиеся пропуски в данных\n",
    "user_behavior['calls'] = user_behavior['calls'].fillna(0)\n",
    "user_behavior['minutes'] = user_behavior['minutes'].fillna(0)\n",
    "user_behavior['messages'] = user_behavior['messages'].fillna(0)\n",
    "user_behavior['mb_used'] = user_behavior['mb_used'].fillna(0)"
   ]
  },
  {
   "cell_type": "markdown",
   "id": "073ae7c1",
   "metadata": {},
   "source": [
    "Присоединяем информацию о тарифах"
   ]
  },
  {
   "cell_type": "markdown",
   "id": "177b7030",
   "metadata": {},
   "source": [
    "<a id='step_4.4'></a><h3>4.4 Присоединяем информацию о тарифах к таблице user_behavior</h3>\n",
    "\n",
    "[К оглавлению](#step_0) "
   ]
  },
  {
   "cell_type": "code",
   "execution_count": 37,
   "id": "93fffd0c",
   "metadata": {},
   "outputs": [],
   "source": [
    "# переименование столбца tariff_name на tariff\n",
    "tariffs = tariffs.rename(\n",
    "                         columns={\n",
    "                                  'tariff_name': 'tariff'\n",
    "                                  }\n",
    "                        )"
   ]
  },
  {
   "cell_type": "code",
   "execution_count": 38,
   "id": "f9345dd0",
   "metadata": {},
   "outputs": [],
   "source": [
    "# Присоединяем информацию о тарифах\n",
    "user_behavior = user_behavior.merge(tariffs, on='tariff')"
   ]
  },
  {
   "cell_type": "markdown",
   "id": "e1323d73",
   "metadata": {},
   "source": [
    "<a id='step_4.5'></a><h3>4.5 Количество услуг пользователей сверх лимита по тарифу</h3>\n",
    "\n",
    "[К оглавлению](#step_0) "
   ]
  },
  {
   "cell_type": "markdown",
   "id": "54dec9e5",
   "metadata": {},
   "source": [
    "Считаем количество минут разговора, сообщений и мегабайт, превышающих включённые в тариф\n"
   ]
  },
  {
   "cell_type": "code",
   "execution_count": 39,
   "id": "87badae9",
   "metadata": {},
   "outputs": [],
   "source": [
    "# Считаем количество минут разговора превышающих включённые в тариф\n",
    "user_behavior['paid_minutes'] = user_behavior['minutes'] - user_behavior['minutes_included']\n",
    "# Считаем количество сообщений превышающих включённые в тариф\n",
    "user_behavior['paid_messages'] = user_behavior['messages'] - user_behavior['messages_included']\n",
    "# Считаем количество  мегабайт, превышающих включённые в тариф\n",
    "user_behavior['paid_mb'] = user_behavior['mb_used'] - user_behavior['mb_per_month_included']\n",
    "# отрицательные значения заменяем на 0\n",
    "for col in ['paid_messages', 'paid_minutes', 'paid_mb']:\n",
    "    user_behavior.loc[user_behavior[col] < 0, col] = 0"
   ]
  },
  {
   "cell_type": "markdown",
   "id": "1e6f948c",
   "metadata": {},
   "source": [
    "Переводим превышающие тариф мегабайты в гигабайты и сохраняем в столбец `paid_gb`"
   ]
  },
  {
   "cell_type": "code",
   "execution_count": 40,
   "id": "df97d1f7",
   "metadata": {},
   "outputs": [],
   "source": [
    "# Переводим превышающие тариф мегабайты в гигабайты и сохраняем в столбец paid_gb\n",
    "user_behavior['paid_gb'] = np.ceil(user_behavior['paid_mb'] / 1024).astype(int)"
   ]
  },
  {
   "cell_type": "markdown",
   "id": "b081c4b2",
   "metadata": {},
   "source": [
    "<a id='step_4.6'></a><h3>4.6 Расходы пользователей сверх лимита по тарифу</h3>\n",
    "\n",
    "[К оглавлению](#step_0) "
   ]
  },
  {
   "cell_type": "markdown",
   "id": "ffb33141",
   "metadata": {},
   "source": [
    "Считаем выручку за минуты разговора, сообщения и интернет"
   ]
  },
  {
   "cell_type": "code",
   "execution_count": 41,
   "id": "6c21a1ba",
   "metadata": {},
   "outputs": [],
   "source": [
    "# Считаем выручку за минуты разговора\n",
    "user_behavior['cost_minutes'] = user_behavior['paid_minutes'] * user_behavior['rub_per_minute']\n",
    "# Считаем выручку за сообщения\n",
    "user_behavior['cost_messages'] = user_behavior['paid_messages'] * user_behavior['rub_per_message']\n",
    "# Считаем выручку интернет\n",
    "user_behavior['cost_gb'] = user_behavior['paid_gb'] * user_behavior['rub_per_gb']"
   ]
  },
  {
   "cell_type": "markdown",
   "id": "ad0d2429",
   "metadata": {},
   "source": [
    "<a id='step_4.7'></a><h3>4.7 Помесячная выручка каждого пользователя</h3>\n",
    "\n",
    "[К оглавлению](#step_0) "
   ]
  },
  {
   "cell_type": "markdown",
   "id": "57fe0fc2",
   "metadata": {},
   "source": [
    "Считаем помесячную выручку с каждого пользователя, она будет храниться в столбце `total_cost`"
   ]
  },
  {
   "cell_type": "code",
   "execution_count": 42,
   "id": "6292b6fb",
   "metadata": {},
   "outputs": [],
   "source": [
    "user_behavior['total_cost'] = \\\n",
    "      user_behavior['rub_monthly_fee']\\\n",
    "    + user_behavior['cost_minutes']\\\n",
    "    + user_behavior['cost_messages']\\\n",
    "    + user_behavior['cost_gb']"
   ]
  },
  {
   "cell_type": "markdown",
   "id": "1b25fcf4",
   "metadata": {},
   "source": [
    "<a id='step_4.8'></a><h3>4.8 Сводная таблица месяц-тариф stats_df </h3>\n",
    "\n",
    "[К оглавлению](#step_0) "
   ]
  },
  {
   "cell_type": "markdown",
   "id": "b5a3029b",
   "metadata": {},
   "source": [
    "Датафрейм `stats_df` для каждой пары «месяц — тариф» будет хранить основные характеристики"
   ]
  },
  {
   "cell_type": "code",
   "execution_count": 43,
   "id": "ad1cf9e2",
   "metadata": {
    "scrolled": true
   },
   "outputs": [
    {
     "data": {
      "text/html": [
       "<div>\n",
       "<style scoped>\n",
       "    .dataframe tbody tr th:only-of-type {\n",
       "        vertical-align: middle;\n",
       "    }\n",
       "\n",
       "    .dataframe tbody tr th {\n",
       "        vertical-align: top;\n",
       "    }\n",
       "\n",
       "    .dataframe thead th {\n",
       "        text-align: right;\n",
       "    }\n",
       "</style>\n",
       "<table border=\"1\" class=\"dataframe\">\n",
       "  <thead>\n",
       "    <tr style=\"text-align: right;\">\n",
       "      <th></th>\n",
       "      <th>month</th>\n",
       "      <th>tariff</th>\n",
       "      <th>calls_mean</th>\n",
       "      <th>sessions_mean</th>\n",
       "      <th>messages_mean</th>\n",
       "      <th>minutes_mean</th>\n",
       "      <th>calls_std</th>\n",
       "      <th>sessions_std</th>\n",
       "      <th>messages_std</th>\n",
       "      <th>minutes_std</th>\n",
       "      <th>calls_median</th>\n",
       "      <th>sessions_median</th>\n",
       "      <th>messages_median</th>\n",
       "      <th>minutes_median</th>\n",
       "    </tr>\n",
       "  </thead>\n",
       "  <tbody>\n",
       "    <tr>\n",
       "      <th>0</th>\n",
       "      <td>1</td>\n",
       "      <td>smart</td>\n",
       "      <td>27.68</td>\n",
       "      <td>8513.72</td>\n",
       "      <td>18.24</td>\n",
       "      <td>203.85</td>\n",
       "      <td>20.81</td>\n",
       "      <td>6444.68</td>\n",
       "      <td>16.20</td>\n",
       "      <td>154.23</td>\n",
       "      <td>20.5</td>\n",
       "      <td>7096.18</td>\n",
       "      <td>15.0</td>\n",
       "      <td>162.5</td>\n",
       "    </tr>\n",
       "    <tr>\n",
       "      <th>1</th>\n",
       "      <td>1</td>\n",
       "      <td>ultra</td>\n",
       "      <td>59.44</td>\n",
       "      <td>13140.68</td>\n",
       "      <td>33.78</td>\n",
       "      <td>428.11</td>\n",
       "      <td>41.64</td>\n",
       "      <td>6865.35</td>\n",
       "      <td>30.67</td>\n",
       "      <td>269.76</td>\n",
       "      <td>51.0</td>\n",
       "      <td>14791.37</td>\n",
       "      <td>32.0</td>\n",
       "      <td>382.0</td>\n",
       "    </tr>\n",
       "    <tr>\n",
       "      <th>2</th>\n",
       "      <td>2</td>\n",
       "      <td>smart</td>\n",
       "      <td>40.19</td>\n",
       "      <td>11597.05</td>\n",
       "      <td>24.09</td>\n",
       "      <td>298.69</td>\n",
       "      <td>25.39</td>\n",
       "      <td>6247.35</td>\n",
       "      <td>21.75</td>\n",
       "      <td>190.82</td>\n",
       "      <td>38.5</td>\n",
       "      <td>12553.71</td>\n",
       "      <td>20.0</td>\n",
       "      <td>258.0</td>\n",
       "    </tr>\n",
       "    <tr>\n",
       "      <th>3</th>\n",
       "      <td>2</td>\n",
       "      <td>ultra</td>\n",
       "      <td>41.54</td>\n",
       "      <td>11775.94</td>\n",
       "      <td>21.96</td>\n",
       "      <td>297.12</td>\n",
       "      <td>40.97</td>\n",
       "      <td>10644.64</td>\n",
       "      <td>26.77</td>\n",
       "      <td>296.51</td>\n",
       "      <td>25.0</td>\n",
       "      <td>7327.12</td>\n",
       "      <td>5.5</td>\n",
       "      <td>168.0</td>\n",
       "    </tr>\n",
       "    <tr>\n",
       "      <th>4</th>\n",
       "      <td>3</td>\n",
       "      <td>smart</td>\n",
       "      <td>54.32</td>\n",
       "      <td>15104.16</td>\n",
       "      <td>31.86</td>\n",
       "      <td>390.05</td>\n",
       "      <td>25.54</td>\n",
       "      <td>5828.24</td>\n",
       "      <td>26.80</td>\n",
       "      <td>191.89</td>\n",
       "      <td>59.0</td>\n",
       "      <td>15670.25</td>\n",
       "      <td>23.0</td>\n",
       "      <td>409.0</td>\n",
       "    </tr>\n",
       "    <tr>\n",
       "      <th>5</th>\n",
       "      <td>3</td>\n",
       "      <td>ultra</td>\n",
       "      <td>67.68</td>\n",
       "      <td>17535.55</td>\n",
       "      <td>32.30</td>\n",
       "      <td>489.65</td>\n",
       "      <td>44.84</td>\n",
       "      <td>10951.79</td>\n",
       "      <td>41.62</td>\n",
       "      <td>333.74</td>\n",
       "      <td>57.0</td>\n",
       "      <td>17495.18</td>\n",
       "      <td>20.0</td>\n",
       "      <td>403.0</td>\n",
       "    </tr>\n",
       "    <tr>\n",
       "      <th>6</th>\n",
       "      <td>4</td>\n",
       "      <td>smart</td>\n",
       "      <td>51.31</td>\n",
       "      <td>13462.18</td>\n",
       "      <td>30.74</td>\n",
       "      <td>367.13</td>\n",
       "      <td>25.70</td>\n",
       "      <td>5698.25</td>\n",
       "      <td>24.54</td>\n",
       "      <td>186.49</td>\n",
       "      <td>52.0</td>\n",
       "      <td>14087.65</td>\n",
       "      <td>28.0</td>\n",
       "      <td>368.5</td>\n",
       "    </tr>\n",
       "    <tr>\n",
       "      <th>7</th>\n",
       "      <td>4</td>\n",
       "      <td>ultra</td>\n",
       "      <td>64.09</td>\n",
       "      <td>16828.13</td>\n",
       "      <td>31.56</td>\n",
       "      <td>458.02</td>\n",
       "      <td>36.27</td>\n",
       "      <td>9718.65</td>\n",
       "      <td>37.51</td>\n",
       "      <td>267.68</td>\n",
       "      <td>61.0</td>\n",
       "      <td>16645.78</td>\n",
       "      <td>17.0</td>\n",
       "      <td>453.0</td>\n",
       "    </tr>\n",
       "    <tr>\n",
       "      <th>8</th>\n",
       "      <td>5</td>\n",
       "      <td>smart</td>\n",
       "      <td>55.24</td>\n",
       "      <td>15805.18</td>\n",
       "      <td>33.77</td>\n",
       "      <td>387.36</td>\n",
       "      <td>25.38</td>\n",
       "      <td>5978.23</td>\n",
       "      <td>27.04</td>\n",
       "      <td>186.60</td>\n",
       "      <td>59.0</td>\n",
       "      <td>16323.94</td>\n",
       "      <td>30.0</td>\n",
       "      <td>433.0</td>\n",
       "    </tr>\n",
       "    <tr>\n",
       "      <th>9</th>\n",
       "      <td>5</td>\n",
       "      <td>ultra</td>\n",
       "      <td>72.51</td>\n",
       "      <td>19363.15</td>\n",
       "      <td>37.85</td>\n",
       "      <td>510.33</td>\n",
       "      <td>41.08</td>\n",
       "      <td>10046.11</td>\n",
       "      <td>40.31</td>\n",
       "      <td>289.60</td>\n",
       "      <td>75.0</td>\n",
       "      <td>18696.43</td>\n",
       "      <td>25.0</td>\n",
       "      <td>519.0</td>\n",
       "    </tr>\n",
       "  </tbody>\n",
       "</table>\n",
       "</div>"
      ],
      "text/plain": [
       "   month tariff  calls_mean  sessions_mean  messages_mean  minutes_mean  \\\n",
       "0      1  smart       27.68        8513.72          18.24        203.85   \n",
       "1      1  ultra       59.44       13140.68          33.78        428.11   \n",
       "2      2  smart       40.19       11597.05          24.09        298.69   \n",
       "3      2  ultra       41.54       11775.94          21.96        297.12   \n",
       "4      3  smart       54.32       15104.16          31.86        390.05   \n",
       "5      3  ultra       67.68       17535.55          32.30        489.65   \n",
       "6      4  smart       51.31       13462.18          30.74        367.13   \n",
       "7      4  ultra       64.09       16828.13          31.56        458.02   \n",
       "8      5  smart       55.24       15805.18          33.77        387.36   \n",
       "9      5  ultra       72.51       19363.15          37.85        510.33   \n",
       "\n",
       "   calls_std  sessions_std  messages_std  minutes_std  calls_median  \\\n",
       "0      20.81       6444.68         16.20       154.23          20.5   \n",
       "1      41.64       6865.35         30.67       269.76          51.0   \n",
       "2      25.39       6247.35         21.75       190.82          38.5   \n",
       "3      40.97      10644.64         26.77       296.51          25.0   \n",
       "4      25.54       5828.24         26.80       191.89          59.0   \n",
       "5      44.84      10951.79         41.62       333.74          57.0   \n",
       "6      25.70       5698.25         24.54       186.49          52.0   \n",
       "7      36.27       9718.65         37.51       267.68          61.0   \n",
       "8      25.38       5978.23         27.04       186.60          59.0   \n",
       "9      41.08      10046.11         40.31       289.60          75.0   \n",
       "\n",
       "   sessions_median  messages_median  minutes_median  \n",
       "0          7096.18             15.0           162.5  \n",
       "1         14791.37             32.0           382.0  \n",
       "2         12553.71             20.0           258.0  \n",
       "3          7327.12              5.5           168.0  \n",
       "4         15670.25             23.0           409.0  \n",
       "5         17495.18             20.0           403.0  \n",
       "6         14087.65             28.0           368.5  \n",
       "7         16645.78             17.0           453.0  \n",
       "8         16323.94             30.0           433.0  \n",
       "9         18696.43             25.0           519.0  "
      ]
     },
     "execution_count": 43,
     "metadata": {},
     "output_type": "execute_result"
    }
   ],
   "source": [
    "# сохранение статистических метрик для каждой пары месяц-тариф\n",
    "# в одной таблице stats_df (среднее значение, стандартное отклонение, медиана)\n",
    "\n",
    "stats_df = user_behavior.pivot_table(\n",
    "            index=['month', 'tariff'],\\\n",
    "            values=['calls', 'minutes', 'messages', 'mb_used'],\\\n",
    "            aggfunc=['mean', 'std', 'median']\\\n",
    ").round(2).reset_index()\n",
    "\n",
    "stats_df.columns=['month', 'tariff', 'calls_mean', 'sessions_mean', 'messages_mean', 'minutes_mean',\n",
    "                                     'calls_std',  'sessions_std', 'messages_std', 'minutes_std', \n",
    "                                     'calls_median', 'sessions_median', 'messages_median',  'minutes_median']\n",
    "\n",
    "stats_df.head(10)"
   ]
  },
  {
   "cell_type": "markdown",
   "id": "d1ad84cc",
   "metadata": {},
   "source": [
    "<a id='step_4.9'></a><h3>4.9 Распределение услуг по тарифам и по месяцам </h3>\n",
    "\n",
    "[К оглавлению](#step_0) "
   ]
  },
  {
   "cell_type": "markdown",
   "id": "5836f811",
   "metadata": {},
   "source": [
    "Распределение среднего количества звонков по видам тарифов и месяцам"
   ]
  },
  {
   "cell_type": "code",
   "execution_count": 44,
   "id": "0c2a10dc",
   "metadata": {},
   "outputs": [
    {
     "data": {
      "image/png": "[encoded data removed]",
      "text/plain": [
       "<Figure size 432x288 with 1 Axes>"
      ]
     },
     "metadata": {
      "needs_background": "light"
     },
     "output_type": "display_data"
    }
   ],
   "source": [
    "# Распределение среднего количества звонков по видам тарифов и месяцам\n",
    "ax = sns.barplot(x='month',\n",
    "            y='calls_mean',\n",
    "            hue=\"tariff\",\n",
    "            data=stats_df,\n",
    "            palette=['lightblue', 'blue'])\n",
    "\n",
    "ax.set_title('Распределение количества звонков по видам тарифов и месяцам')\n",
    "ax.set(xlabel='Номер месяца', ylabel='Среднее количество звонков');"
   ]
  },
  {
   "cell_type": "code",
   "execution_count": 45,
   "id": "217fa045",
   "metadata": {},
   "outputs": [
    {
     "data": {
      "image/png": "[encoded data removed]",
      "text/plain": [
       "<Figure size 432x288 with 1 Axes>"
      ]
     },
     "metadata": {
      "needs_background": "light"
     },
     "output_type": "display_data"
    }
   ],
   "source": [
    "# Распределение среднего количества звонков по видам тарифов и месяцам\n",
    "user_behavior.groupby('tariff')['calls'].plot(kind='hist', bins=35, alpha=0.5)\n",
    "plt.legend(['Smart', 'Ultra'])\n",
    "plt.xlabel('Количество звонков')\n",
    "plt.ylabel('Количество клиентов')\n",
    "plt.show()"
   ]
  },
  {
   "cell_type": "markdown",
   "id": "71ab2892",
   "metadata": {},
   "source": [
    "Распределение средней продолжительности звонков по видам тарифов и месяцам"
   ]
  },
  {
   "cell_type": "code",
   "execution_count": 46,
   "id": "ac8f0fc6",
   "metadata": {},
   "outputs": [
    {
     "data": {
      "image/png": "[encoded data removed]",
      "text/plain": [
       "<Figure size 432x288 with 1 Axes>"
      ]
     },
     "metadata": {
      "needs_background": "light"
     },
     "output_type": "display_data"
    }
   ],
   "source": [
    "ax = sns.barplot(x='month',\n",
    "            y='minutes_mean',\n",
    "            hue=\"tariff\",\n",
    "            data=stats_df,\n",
    "            palette=['lightblue', 'blue'])\n",
    "\n",
    "ax.set_title('Распределение продолжительности звонков по видам тарифов и месяцам')\n",
    "ax.set(xlabel='Номер месяца', ylabel='Средняя продолжительность звонков');"
   ]
  },
  {
   "cell_type": "code",
   "execution_count": 47,
   "id": "1d776ec2",
   "metadata": {},
   "outputs": [
    {
     "data": {
      "image/png": "[encoded data removed]",
      "text/plain": [
       "<Figure size 432x288 with 1 Axes>"
      ]
     },
     "metadata": {
      "needs_background": "light"
     },
     "output_type": "display_data"
    }
   ],
   "source": [
    "user_behavior[user_behavior['tariff'] =='smart']['minutes'].hist(bins=35, alpha=0.5, color='green')\n",
    "user_behavior[user_behavior['tariff'] =='ultra']['minutes'].hist(bins=35, alpha=0.5, color='blue');\n",
    "plt.legend(['Smart', 'Ultra'])\n",
    "plt.xlabel('Количество минут')\n",
    "plt.ylabel('Количество клиентов')\n",
    "plt.show()"
   ]
  },
  {
   "cell_type": "markdown",
   "id": "a08234c8",
   "metadata": {},
   "source": [
    "Средняя длительность разговоров у абонентов тарифа Ultra больше, чем у абонентов тарифа Smart. В течение года пользователи обоих тарифов увеличивают среднюю продолжительность своих разговоров. Рост средней длительности разговоров у абонентов тарифа Smart равномерный в течение года. Пользователи тарифа Ultra не проявляют подобной линейной стабильности. Стоит отметить, что феврале у абонентов обоих тарифных планов наблюдались самые низкие показатели."
   ]
  },
  {
   "cell_type": "markdown",
   "id": "ba5c0724",
   "metadata": {},
   "source": [
    "Распределение среднего количества сообщений по видам тарифов и месяцам"
   ]
  },
  {
   "cell_type": "code",
   "execution_count": 48,
   "id": "4677e305",
   "metadata": {},
   "outputs": [
    {
     "data": {
      "image/png": "[encoded data removed]",
      "text/plain": [
       "<Figure size 432x288 with 1 Axes>"
      ]
     },
     "metadata": {
      "needs_background": "light"
     },
     "output_type": "display_data"
    }
   ],
   "source": [
    "ax = sns.barplot(x='month',\n",
    "            y='messages_mean',\n",
    "            hue=\"tariff\",\n",
    "            data=stats_df,\n",
    "            palette=['lightblue', 'blue']\n",
    ")\n",
    "\n",
    "ax.set_title('Распределение количества сообщений по видам тарифов и месяцам')\n",
    "ax.set(xlabel='Номер месяца', ylabel='Среднее количество сообщений');"
   ]
  },
  {
   "cell_type": "code",
   "execution_count": 49,
   "id": "adeb9bf3",
   "metadata": {},
   "outputs": [
    {
     "data": {
      "image/png": "[encoded data removed]",
      "text/plain": [
       "<Figure size 432x288 with 1 Axes>"
      ]
     },
     "metadata": {
      "needs_background": "light"
     },
     "output_type": "display_data"
    }
   ],
   "source": [
    "user_behavior[user_behavior['tariff'] =='smart']['messages'].hist(bins=35, alpha=0.5, color='green')\n",
    "user_behavior[user_behavior['tariff'] =='ultra']['messages'].hist(bins=35, alpha=0.5, color='blue');\n",
    "plt.legend(['Smart', 'Ultra'])\n",
    "plt.xlabel('Количество сообщений')\n",
    "plt.ylabel('Количество клиентов')\n",
    "plt.show()"
   ]
  },
  {
   "cell_type": "markdown",
   "id": "f5c3578c",
   "metadata": {},
   "source": [
    "В среднем пользователи тарифа Ultra отправляют больше сообщений — почти на 20 сообщений больше, чем пользователи тарифа Smart. Количество сообщений в течение года на обоих тарифах растёт. Динамика по отправке сообщений схожа с тенденциями по длительности разговоров: в феврале отмечено наименьшее количество сообщений за год и пользователи тарифа Ultra также проявляют нелинейную положительную динамику."
   ]
  },
  {
   "cell_type": "code",
   "execution_count": 50,
   "id": "a8c28fb5",
   "metadata": {},
   "outputs": [
    {
     "data": {
      "image/png": "[encoded data removed]",
      "text/plain": [
       "<Figure size 432x288 with 1 Axes>"
      ]
     },
     "metadata": {
      "needs_background": "light"
     },
     "output_type": "display_data"
    }
   ],
   "source": [
    "ax = sns.barplot(x='month',\n",
    "            y='sessions_mean',\n",
    "            hue='tariff',\n",
    "            data=stats_df,\n",
    "            palette=['lightblue', 'blue']\n",
    ")\n",
    "\n",
    "ax.set_title('Распределение количества потраченного трафика (Мб) по видам тарифов и месяцам')\n",
    "ax.set(xlabel='Номер месяца', ylabel='Среднее количество мегабайт');"
   ]
  },
  {
   "cell_type": "markdown",
   "id": "e7af3d2a",
   "metadata": {},
   "source": [
    "Сравнение потраченных мегабайт среди пользователей тарифов Smart и Ultra"
   ]
  },
  {
   "cell_type": "code",
   "execution_count": 51,
   "id": "66b33249",
   "metadata": {},
   "outputs": [
    {
     "data": {
      "image/png": "[encoded data removed]",
      "text/plain": [
       "<Figure size 432x288 with 1 Axes>"
      ]
     },
     "metadata": {
      "needs_background": "light"
     },
     "output_type": "display_data"
    }
   ],
   "source": [
    "user_behavior[user_behavior['tariff'] =='smart']['mb_used'].hist(bins=35, alpha=0.5, color='green')\n",
    "user_behavior[user_behavior['tariff'] =='ultra']['mb_used'].hist(bins=35, alpha=0.5, color='blue');\n",
    "plt.legend(['Smart', 'Ultra'])\n",
    "plt.xlabel('Количество гигабайт')\n",
    "plt.ylabel('Количество клиентов')\n",
    "plt.show()"
   ]
  },
  {
   "cell_type": "markdown",
   "id": "87282cf3",
   "metadata": {},
   "source": [
    "Меньше всего пользователи использовали интернет в январе, феврале и апреле. Чаще всего абоненты тарифа Smart тратят 15–17 Гб, а абоненты тарифного плана Ultra — 19–21 ГБ."
   ]
  },
  {
   "cell_type": "markdown",
   "id": "416a8413",
   "metadata": {},
   "source": [
    "<a id='step_4.10'></a><h3>4.10 Распределение общей выручки по тарифам и по месяцам </h3>\n",
    "\n",
    "[К оглавлению](#step_0) "
   ]
  },
  {
   "cell_type": "code",
   "execution_count": 52,
   "id": "21e06b69",
   "metadata": {
    "scrolled": true
   },
   "outputs": [
    {
     "data": {
      "image/png": "[encoded data removed]",
      "text/plain": [
       "<Figure size 432x288 with 1 Axes>"
      ]
     },
     "metadata": {
      "needs_background": "light"
     },
     "output_type": "display_data"
    }
   ],
   "source": [
    "user_behavior[user_behavior['tariff'] =='smart']['total_cost'].hist(bins=35, alpha=0.5, color='green')\n",
    "user_behavior[user_behavior['tariff'] =='ultra']['total_cost'].hist(bins=35, alpha=0.5, color='blue');\n",
    "plt.legend(['Smart', 'Ultra'])\n",
    "plt.xlabel('Выручка')\n",
    "plt.ylabel('Количество клиентов')\n",
    "plt.show()"
   ]
  },
  {
   "cell_type": "markdown",
   "id": "f582b2c8",
   "metadata": {},
   "source": [
    "<a id='step_4.11'></a><h3>4.11 Количество услуг и выручка по тарифам за 2018 год </h3>\n",
    "\n",
    "[К оглавлению](#step_0) "
   ]
  },
  {
   "cell_type": "code",
   "execution_count": 53,
   "id": "4a470e34",
   "metadata": {
    "scrolled": true
   },
   "outputs": [
    {
     "data": {
      "text/plain": [
       "smart    2229\n",
       "ultra     985\n",
       "Name: tariff, dtype: int64"
      ]
     },
     "execution_count": 53,
     "metadata": {},
     "output_type": "execute_result"
    }
   ],
   "source": [
    "# Количество услуг по тарифам за 2018 год\n",
    "user_behavior['tariff'].value_counts()"
   ]
  },
  {
   "cell_type": "code",
   "execution_count": 54,
   "id": "89e737bc",
   "metadata": {},
   "outputs": [
    {
     "data": {
      "text/html": [
       "<div>\n",
       "<style scoped>\n",
       "    .dataframe tbody tr th:only-of-type {\n",
       "        vertical-align: middle;\n",
       "    }\n",
       "\n",
       "    .dataframe tbody tr th {\n",
       "        vertical-align: top;\n",
       "    }\n",
       "\n",
       "    .dataframe thead tr th {\n",
       "        text-align: left;\n",
       "    }\n",
       "</style>\n",
       "<table border=\"1\" class=\"dataframe\">\n",
       "  <thead>\n",
       "    <tr>\n",
       "      <th></th>\n",
       "      <th>tariff</th>\n",
       "      <th>sum</th>\n",
       "    </tr>\n",
       "    <tr>\n",
       "      <th></th>\n",
       "      <th></th>\n",
       "      <th>total_cost</th>\n",
       "    </tr>\n",
       "  </thead>\n",
       "  <tbody>\n",
       "    <tr>\n",
       "      <th>0</th>\n",
       "      <td>smart</td>\n",
       "      <td>2875351.0</td>\n",
       "    </tr>\n",
       "    <tr>\n",
       "      <th>1</th>\n",
       "      <td>ultra</td>\n",
       "      <td>2039100.0</td>\n",
       "    </tr>\n",
       "  </tbody>\n",
       "</table>\n",
       "</div>"
      ],
      "text/plain": [
       "  tariff        sum\n",
       "         total_cost\n",
       "0  smart  2875351.0\n",
       "1  ultra  2039100.0"
      ]
     },
     "execution_count": 54,
     "metadata": {},
     "output_type": "execute_result"
    }
   ],
   "source": [
    "# Выручка по тарифам за 2018 год\n",
    "user_behavior[user_behavior['tariff'] =='smart']['total_cost']\n",
    "total_df = user_behavior.pivot_table(\n",
    "            index=['tariff'],\\\n",
    "            values=['total_cost'],\\\n",
    "            aggfunc=['sum']\\\n",
    ").reset_index()\n",
    "total_df"
   ]
  },
  {
   "cell_type": "markdown",
   "id": "5460bdca",
   "metadata": {},
   "source": [
    "#### Вывод:\n",
    "Количество услуг и общая выручка тарифа Смарт больше"
   ]
  },
  {
   "cell_type": "markdown",
   "id": "7e77d685",
   "metadata": {},
   "source": [
    "<a id='step_5'></a><h3>5. Проверка гипотез</h3>\n",
    "\n",
    "[К оглавлению](#step_0)   "
   ]
  },
  {
   "cell_type": "markdown",
   "id": "d9a43426",
   "metadata": {},
   "source": [
    "<a id='step_5.1'></a><h3>5.1 Проверка гипотезы: средняя выручка пользователей тарифов «Ультра» и «Смарт» различается </h3>\n",
    "\n",
    "[К оглавлению](#step_0) "
   ]
  },
  {
   "cell_type": "markdown",
   "id": "923352c5",
   "metadata": {},
   "source": [
    "Гипотезы:\n",
    "```\n",
    "H_0: Выручка (total_cost) пользователей \"Ультра\" = выручка (total_cost) пользователей \"Смарт\"`\n",
    "H_a: Выручка (total_cost) пользователей \"Ультра\" ≠ выручка (total_cost) пользователей \"Смарт\"`\n",
    "alpha = 0.05\n",
    "```"
   ]
  },
  {
   "cell_type": "code",
   "execution_count": 55,
   "id": "70f7fccf",
   "metadata": {
    "scrolled": false
   },
   "outputs": [
    {
     "name": "stdout",
     "output_type": "stream",
     "text": [
      "4.2606313931076085e-250\n",
      "Отвергаем нулевую гипотезу\n"
     ]
    },
    {
     "data": {
      "text/plain": [
       "array(['Краснодар', 'Москва', 'Новокузнецк', 'Иваново', 'Омск', 'Уфа',\n",
       "       'Томск', 'Санкт-Петербург', 'Тверь', 'Ярославль', 'Тюмень',\n",
       "       'Ростов-на-Дону', 'Калуга', 'Тула', 'Волгоград', 'Саранск',\n",
       "       'Иркутск', 'Череповец', 'Набережные Челны', 'Новосибирск',\n",
       "       'Брянск', 'Тольятти', 'Нижний Тагил', 'Воронеж', 'Махачкала',\n",
       "       'Пермь', 'Сургут', 'Пенза', 'Мурманск', 'Самара',\n",
       "       'Нижний Новгород', 'Кемерово', 'Кострома', 'Оренбург', 'Чебоксары',\n",
       "       'Магнитогорск', 'Астрахань', 'Нижневартовск', 'Челябинск',\n",
       "       'Курган', 'Красноярск', 'Владивосток', 'Смоленск', 'Владимир',\n",
       "       'Казань', 'Саратов', 'Севастополь', 'Рязань', 'Екатеринбург',\n",
       "       'Стерлитамак', 'Ульяновск', 'Балашиха', 'Барнаул', 'Киров', 'Сочи',\n",
       "       'Вологда', 'Чита', 'Петрозаводск', 'Хабаровск', 'Ставрополь',\n",
       "       'Улан-Удэ', 'Курск', 'Якутск', 'Химки', 'Владикавказ', 'Ижевск',\n",
       "       'Орёл', 'Белгород', 'Архангельск', 'Липецк', 'Волжский', 'Тамбов',\n",
       "       'Калининград', 'Новороссийск', 'Грозный', 'Подольск'], dtype=object)"
      ]
     },
     "execution_count": 55,
     "metadata": {},
     "output_type": "execute_result"
    }
   ],
   "source": [
    "# вызов метода для проверки гипотезы\n",
    "results = st.ttest_ind (user_behavior[user_behavior['tariff'] =='smart']['total_cost'],\n",
    "                        user_behavior[user_behavior['tariff'] =='ultra']['total_cost'], equal_var = False)\n",
    "alpha = 0.05 #значение уровня значимости\n",
    "\n",
    "print(results.pvalue) # вывод значения p-value на экран \n",
    "if results.pvalue < alpha:\n",
    "    print('Отвергаем нулевую гипотезу')\n",
    "else:\n",
    "    print('Не получилось отвергнуть нулевую гипотезу')# условный оператор с выводом строки с ответом\n",
    "user_behavior['city'].unique()    "
   ]
  },
  {
   "cell_type": "markdown",
   "id": "23b104c6",
   "metadata": {},
   "source": [
    "Вывод: Суммарная выручка двух тарифов не равна"
   ]
  },
  {
   "cell_type": "markdown",
   "id": "64a36cb1",
   "metadata": {},
   "source": [
    "<a id='step_5.2'></a><h3>5.2 Проверка гипотезы: средняя выручка с пользователей из Москвы отличается от выручки c пользователей других регионов </h3>\n",
    "\n",
    "[К оглавлению](#step_0) "
   ]
  },
  {
   "cell_type": "markdown",
   "id": "86e34660",
   "metadata": {},
   "source": [
    " Гипотезы:  \n",
    "\n",
    "```\n",
    "H_0: Выручка (total_cost) пользователей из Москвы = выручка (total_cost) пользователей не из Москвы`\n",
    "H_1: Выручка (total_cost) пользователей из Москвы ≠ выручка (total_cost) пользователей не из Москвы`\n",
    "alpha = 0.05\n",
    "```"
   ]
  },
  {
   "cell_type": "code",
   "execution_count": 56,
   "id": "591ff80c",
   "metadata": {},
   "outputs": [
    {
     "name": "stdout",
     "output_type": "stream",
     "text": [
      "0.5257376663729298\n",
      "Не получилось отвергнуть нулевую гипотезу\n"
     ]
    }
   ],
   "source": [
    "# вызов метода для проверки гипотезы\n",
    "results = st.ttest_ind (user_behavior[user_behavior['city'] =='Москва']['total_cost'],\n",
    "                        user_behavior[user_behavior['city'] !='Москва']['total_cost'], equal_var = False)\n",
    "alpha = 0.05 # значение уровня значимости\n",
    "\n",
    "print(results.pvalue) # вывод значения p-value на экран \n",
    "if results.pvalue < alpha:\n",
    "    print('Отвергаем нулевую гипотезу')\n",
    "else:\n",
    "    print('Не получилось отвергнуть нулевую гипотезу')# условный оператор с выводом строки с ответом\n"
   ]
  },
  {
   "cell_type": "markdown",
   "id": "65d7ad85",
   "metadata": {},
   "source": [
    "Вывод: Гипотезу о равенстве общей выручки пользователей из Москвы и пользователей из регионов не получилось отвергнуть"
   ]
  },
  {
   "cell_type": "markdown",
   "id": "3abfb2ff",
   "metadata": {},
   "source": [
    "<a id='step_6'></a><h3>6. Общий вывод</h3>\n",
    "\n",
    "[К оглавлению](#step_0)   \n",
    "\n",
    "В тарифе Ультра пользователи больше говорят, тратят интернет и отправляют сообщения, однако, несмотря на это выручка тарифа Смарт больше. Общая выручка тарифов от пользователей Москвы сопоставима с общей выручкой всех пользователей из других регионов.\n",
    "Поэтому рекламному отделу компании \"Мега*\" **рекомендовано больше тратить рекламный бюджет на тариф Смарт в регионе Москва**."
   ]
  }
 ],
 "metadata": {
  "ExecuteTimeLog": [
   {
    "duration": 52,
    "start_time": "2023-09-28T11:07:38.703Z"
   },
   {
    "duration": 426,
    "start_time": "2023-09-28T11:07:43.264Z"
   },
   {
    "duration": 571,
    "start_time": "2023-09-28T11:07:46.514Z"
   },
   {
    "duration": 18,
    "start_time": "2023-09-28T11:08:16.458Z"
   },
   {
    "duration": 31,
    "start_time": "2023-09-28T11:08:46.538Z"
   },
   {
    "duration": 731,
    "start_time": "2023-09-28T11:09:21.218Z"
   },
   {
    "duration": 475,
    "start_time": "2023-09-28T11:09:54.962Z"
   },
   {
    "duration": 14,
    "start_time": "2023-09-28T11:10:26.266Z"
   },
   {
    "duration": 27,
    "start_time": "2023-09-28T11:10:55.979Z"
   },
   {
    "duration": 213,
    "start_time": "2023-09-28T11:11:26.977Z"
   },
   {
    "duration": 208,
    "start_time": "2023-09-28T11:12:00.234Z"
   },
   {
    "duration": 8,
    "start_time": "2023-09-28T11:12:29.179Z"
   },
   {
    "duration": 24,
    "start_time": "2023-09-28T11:12:59.603Z"
   },
   {
    "duration": 64,
    "start_time": "2023-09-28T11:13:30.628Z"
   },
   {
    "duration": 9,
    "start_time": "2023-09-28T11:14:03.069Z"
   },
   {
    "duration": 14,
    "start_time": "2023-09-28T11:14:39.037Z"
   },
   {
    "duration": 86,
    "start_time": "2023-09-28T11:15:11.308Z"
   },
   {
    "duration": 10,
    "start_time": "2023-09-28T11:15:42.255Z"
   },
   {
    "duration": 14,
    "start_time": "2023-09-28T11:16:16.382Z"
   },
   {
    "duration": 115,
    "start_time": "2023-09-28T11:17:06.858Z"
   },
   {
    "duration": 9,
    "start_time": "2023-09-28T11:17:36.525Z"
   },
   {
    "duration": 10,
    "start_time": "2023-09-28T11:18:10.404Z"
   },
   {
    "duration": 25,
    "start_time": "2023-09-28T11:18:39.893Z"
   },
   {
    "duration": 15,
    "start_time": "2023-09-28T11:19:09.869Z"
   },
   {
    "duration": 20,
    "start_time": "2023-09-28T11:19:44.894Z"
   },
   {
    "duration": 43,
    "start_time": "2023-09-28T11:20:14.125Z"
   },
   {
    "duration": 9,
    "start_time": "2023-09-28T11:20:28.512Z"
   },
   {
    "duration": 35,
    "start_time": "2023-09-28T11:21:10.806Z"
   },
   {
    "duration": 9,
    "start_time": "2023-09-28T11:21:24.398Z"
   },
   {
    "duration": 23,
    "start_time": "2023-09-28T11:22:01.000Z"
   },
   {
    "duration": 11,
    "start_time": "2023-09-28T11:22:17.354Z"
   },
   {
    "duration": 22,
    "start_time": "2023-09-28T11:22:54.590Z"
   },
   {
    "duration": 11,
    "start_time": "2023-09-28T11:23:07.278Z"
   },
   {
    "duration": 5,
    "start_time": "2023-09-28T11:24:07.840Z"
   },
   {
    "duration": 111,
    "start_time": "2023-09-28T11:24:39.457Z"
   },
   {
    "duration": 10,
    "start_time": "2023-09-28T11:25:09.592Z"
   },
   {
    "duration": 7,
    "start_time": "2023-09-28T11:25:43.064Z"
   },
   {
    "duration": 4,
    "start_time": "2023-09-28T11:26:20.112Z"
   },
   {
    "duration": 10,
    "start_time": "2023-09-28T11:26:52.976Z"
   },
   {
    "duration": 11,
    "start_time": "2023-09-28T11:27:33.643Z"
   },
   {
    "duration": 6,
    "start_time": "2023-09-28T11:28:04.019Z"
   },
   {
    "duration": 8,
    "start_time": "2023-09-28T11:28:35.758Z"
   },
   {
    "duration": 6,
    "start_time": "2023-09-28T11:29:06.504Z"
   },
   {
    "duration": 56,
    "start_time": "2023-09-28T11:29:38.681Z"
   },
   {
    "duration": 954,
    "start_time": "2023-09-28T11:30:16.708Z"
   },
   {
    "duration": 285,
    "start_time": "2023-09-28T11:30:30.769Z"
   },
   {
    "duration": 455,
    "start_time": "2023-09-28T11:31:17.737Z"
   },
   {
    "duration": 251,
    "start_time": "2023-09-28T11:31:50.369Z"
   },
   {
    "duration": 337,
    "start_time": "2023-09-28T11:32:46.571Z"
   },
   {
    "duration": 245,
    "start_time": "2023-09-28T11:33:04.842Z"
   },
   {
    "duration": 358,
    "start_time": "2023-09-28T11:33:34.804Z"
   },
   {
    "duration": 222,
    "start_time": "2023-09-28T11:34:06.072Z"
   },
   {
    "duration": 3,
    "start_time": "2023-09-28T11:35:11.179Z"
   },
   {
    "duration": 17,
    "start_time": "2023-09-28T11:35:35.092Z"
   },
   {
    "duration": 10,
    "start_time": "2023-09-28T11:36:20.404Z"
   },
   {
    "duration": 4,
    "start_time": "2023-09-28T12:06:08.886Z"
   },
   {
    "duration": 353,
    "start_time": "2023-09-28T12:35:12.082Z"
   },
   {
    "duration": 10,
    "start_time": "2023-09-28T13:04:04.203Z"
   },
   {
    "duration": 13,
    "start_time": "2023-09-28T13:28:02.211Z"
   },
   {
    "duration": 10,
    "start_time": "2023-09-28T13:28:10.403Z"
   },
   {
    "duration": 5,
    "start_time": "2023-09-28T13:38:50.609Z"
   },
   {
    "duration": 6,
    "start_time": "2023-09-28T13:47:49.842Z"
   },
   {
    "duration": 243,
    "start_time": "2023-09-28T13:57:03.558Z"
   },
   {
    "duration": 276,
    "start_time": "2023-09-28T14:07:31.511Z"
   },
   {
    "duration": 281,
    "start_time": "2023-09-28T14:08:15.858Z"
   },
   {
    "duration": 278,
    "start_time": "2023-09-28T14:08:37.397Z"
   },
   {
    "duration": 273,
    "start_time": "2023-09-28T14:08:55.768Z"
   },
   {
    "duration": 1348,
    "start_time": "2023-09-28T14:11:20.925Z"
   },
   {
    "duration": 203,
    "start_time": "2023-09-28T14:11:22.275Z"
   },
   {
    "duration": 14,
    "start_time": "2023-09-28T14:11:22.480Z"
   },
   {
    "duration": 39,
    "start_time": "2023-09-28T14:11:22.496Z"
   },
   {
    "duration": 211,
    "start_time": "2023-09-28T14:11:22.537Z"
   },
   {
    "duration": 172,
    "start_time": "2023-09-28T14:11:22.756Z"
   },
   {
    "duration": 11,
    "start_time": "2023-09-28T14:11:22.929Z"
   },
   {
    "duration": 38,
    "start_time": "2023-09-28T14:11:22.941Z"
   },
   {
    "duration": 200,
    "start_time": "2023-09-28T14:11:22.980Z"
   },
   {
    "duration": 106,
    "start_time": "2023-09-28T14:11:23.182Z"
   },
   {
    "duration": 9,
    "start_time": "2023-09-28T14:11:23.290Z"
   },
   {
    "duration": 54,
    "start_time": "2023-09-28T14:11:23.301Z"
   },
   {
    "duration": 54,
    "start_time": "2023-09-28T14:11:23.357Z"
   },
   {
    "duration": 12,
    "start_time": "2023-09-28T14:11:23.413Z"
   },
   {
    "duration": 32,
    "start_time": "2023-09-28T14:11:23.427Z"
   },
   {
    "duration": 65,
    "start_time": "2023-09-28T14:11:23.461Z"
   },
   {
    "duration": 11,
    "start_time": "2023-09-28T14:11:23.528Z"
   },
   {
    "duration": 48,
    "start_time": "2023-09-28T14:11:23.541Z"
   },
   {
    "duration": 145,
    "start_time": "2023-09-28T14:11:23.591Z"
   },
   {
    "duration": 7,
    "start_time": "2023-09-28T14:11:23.738Z"
   },
   {
    "duration": 43,
    "start_time": "2023-09-28T14:11:23.747Z"
   },
   {
    "duration": 57,
    "start_time": "2023-09-28T14:11:23.793Z"
   },
   {
    "duration": 42,
    "start_time": "2023-09-28T14:11:23.853Z"
   },
   {
    "duration": 25,
    "start_time": "2023-09-28T14:11:23.897Z"
   },
   {
    "duration": 58,
    "start_time": "2023-09-28T14:11:23.924Z"
   },
   {
    "duration": 9,
    "start_time": "2023-09-28T14:11:23.984Z"
   },
   {
    "duration": 61,
    "start_time": "2023-09-28T14:11:23.995Z"
   },
   {
    "duration": 9,
    "start_time": "2023-09-28T14:11:24.060Z"
   },
   {
    "duration": 53,
    "start_time": "2023-09-28T14:11:24.072Z"
   },
   {
    "duration": 12,
    "start_time": "2023-09-28T14:11:24.127Z"
   },
   {
    "duration": 44,
    "start_time": "2023-09-28T14:11:24.140Z"
   },
   {
    "duration": 11,
    "start_time": "2023-09-28T14:11:24.186Z"
   },
   {
    "duration": 23,
    "start_time": "2023-09-28T14:11:24.199Z"
   },
   {
    "duration": 65,
    "start_time": "2023-09-28T14:11:24.224Z"
   },
   {
    "duration": 9,
    "start_time": "2023-09-28T14:11:24.290Z"
   },
   {
    "duration": 45,
    "start_time": "2023-09-28T14:11:24.301Z"
   },
   {
    "duration": 47,
    "start_time": "2023-09-28T14:11:24.348Z"
   },
   {
    "duration": 62,
    "start_time": "2023-09-28T14:11:24.396Z"
   },
   {
    "duration": 20,
    "start_time": "2023-09-28T14:11:24.460Z"
   },
   {
    "duration": 18,
    "start_time": "2023-09-28T14:11:24.482Z"
   },
   {
    "duration": 28,
    "start_time": "2023-09-28T14:11:24.502Z"
   },
   {
    "duration": 31,
    "start_time": "2023-09-28T14:11:24.531Z"
   },
   {
    "duration": 84,
    "start_time": "2023-09-28T14:11:24.564Z"
   },
   {
    "duration": 358,
    "start_time": "2023-09-28T14:11:24.650Z"
   },
   {
    "duration": 287,
    "start_time": "2023-09-28T14:11:25.010Z"
   },
   {
    "duration": 375,
    "start_time": "2023-09-28T14:11:25.299Z"
   },
   {
    "duration": 401,
    "start_time": "2023-09-28T14:11:25.677Z"
   },
   {
    "duration": 289,
    "start_time": "2023-09-28T14:11:26.079Z"
   },
   {
    "duration": 289,
    "start_time": "2023-09-28T14:11:26.370Z"
   },
   {
    "duration": 370,
    "start_time": "2023-09-28T14:11:26.661Z"
   },
   {
    "duration": 284,
    "start_time": "2023-09-28T14:11:27.033Z"
   },
   {
    "duration": 409,
    "start_time": "2023-09-28T14:11:27.319Z"
   },
   {
    "duration": 12,
    "start_time": "2023-09-28T14:11:27.730Z"
   },
   {
    "duration": 9,
    "start_time": "2023-09-28T14:11:27.757Z"
   },
   {
    "duration": 191,
    "start_time": "2023-09-28T14:14:41.029Z"
   },
   {
    "duration": 184,
    "start_time": "2023-09-28T14:15:02.121Z"
   },
   {
    "duration": 189,
    "start_time": "2023-09-28T14:15:15.309Z"
   },
   {
    "duration": 185,
    "start_time": "2023-09-28T14:15:24.309Z"
   },
   {
    "duration": 48,
    "start_time": "2023-09-29T08:51:00.555Z"
   },
   {
    "duration": 1237,
    "start_time": "2023-09-29T08:51:07.485Z"
   },
   {
    "duration": 511,
    "start_time": "2023-09-29T08:51:08.725Z"
   },
   {
    "duration": 11,
    "start_time": "2023-09-29T08:51:09.238Z"
   },
   {
    "duration": 25,
    "start_time": "2023-09-29T08:51:09.251Z"
   },
   {
    "duration": 162,
    "start_time": "2023-09-29T08:51:09.277Z"
   },
   {
    "duration": 388,
    "start_time": "2023-09-29T08:51:09.444Z"
   },
   {
    "duration": 8,
    "start_time": "2023-09-29T08:51:09.834Z"
   },
   {
    "duration": 22,
    "start_time": "2023-09-29T08:51:09.844Z"
   },
   {
    "duration": 159,
    "start_time": "2023-09-29T08:51:09.868Z"
   },
   {
    "duration": 149,
    "start_time": "2023-09-29T08:51:10.029Z"
   },
   {
    "duration": 7,
    "start_time": "2023-09-29T08:51:10.180Z"
   },
   {
    "duration": 31,
    "start_time": "2023-09-29T08:51:10.188Z"
   },
   {
    "duration": 49,
    "start_time": "2023-09-29T08:51:10.220Z"
   },
   {
    "duration": 7,
    "start_time": "2023-09-29T08:51:10.271Z"
   },
   {
    "duration": 11,
    "start_time": "2023-09-29T08:51:10.279Z"
   },
   {
    "duration": 61,
    "start_time": "2023-09-29T08:51:10.291Z"
   },
   {
    "duration": 9,
    "start_time": "2023-09-29T08:51:10.354Z"
   },
   {
    "duration": 19,
    "start_time": "2023-09-29T08:51:10.365Z"
   },
   {
    "duration": 78,
    "start_time": "2023-09-29T08:51:10.385Z"
   },
   {
    "duration": 5,
    "start_time": "2023-09-29T08:51:10.465Z"
   },
   {
    "duration": 35,
    "start_time": "2023-09-29T08:51:10.471Z"
   },
   {
    "duration": 28,
    "start_time": "2023-09-29T08:51:10.508Z"
   },
   {
    "duration": 14,
    "start_time": "2023-09-29T08:51:10.538Z"
   },
   {
    "duration": 15,
    "start_time": "2023-09-29T08:51:10.553Z"
   },
   {
    "duration": 24,
    "start_time": "2023-09-29T08:51:10.570Z"
   },
   {
    "duration": 8,
    "start_time": "2023-09-29T08:51:10.595Z"
   },
   {
    "duration": 39,
    "start_time": "2023-09-29T08:51:10.605Z"
   },
   {
    "duration": 8,
    "start_time": "2023-09-29T08:51:10.647Z"
   },
   {
    "duration": 23,
    "start_time": "2023-09-29T08:51:10.656Z"
   },
   {
    "duration": 7,
    "start_time": "2023-09-29T08:51:10.681Z"
   },
   {
    "duration": 18,
    "start_time": "2023-09-29T08:51:10.689Z"
   },
   {
    "duration": 20,
    "start_time": "2023-09-29T08:51:10.708Z"
   },
   {
    "duration": 14,
    "start_time": "2023-09-29T08:51:10.730Z"
   },
   {
    "duration": 40,
    "start_time": "2023-09-29T08:51:10.745Z"
   },
   {
    "duration": 7,
    "start_time": "2023-09-29T08:51:10.786Z"
   },
   {
    "duration": 8,
    "start_time": "2023-09-29T08:51:10.795Z"
   },
   {
    "duration": 12,
    "start_time": "2023-09-29T08:51:10.805Z"
   },
   {
    "duration": 13,
    "start_time": "2023-09-29T08:51:10.818Z"
   },
   {
    "duration": 20,
    "start_time": "2023-09-29T08:51:10.832Z"
   },
   {
    "duration": 3,
    "start_time": "2023-09-29T08:51:10.854Z"
   },
   {
    "duration": 9,
    "start_time": "2023-09-29T08:51:10.859Z"
   },
   {
    "duration": 24,
    "start_time": "2023-09-29T08:51:10.869Z"
   },
   {
    "duration": 60,
    "start_time": "2023-09-29T08:51:10.895Z"
   },
   {
    "duration": 287,
    "start_time": "2023-09-29T08:51:10.956Z"
   },
   {
    "duration": 283,
    "start_time": "2023-09-29T08:51:11.244Z"
   },
   {
    "duration": 278,
    "start_time": "2023-09-29T08:51:11.528Z"
   },
   {
    "duration": 253,
    "start_time": "2023-09-29T08:51:11.808Z"
   },
   {
    "duration": 248,
    "start_time": "2023-09-29T08:51:12.063Z"
   },
   {
    "duration": 240,
    "start_time": "2023-09-29T08:51:12.313Z"
   },
   {
    "duration": 289,
    "start_time": "2023-09-29T08:51:12.555Z"
   },
   {
    "duration": 353,
    "start_time": "2023-09-29T08:51:12.846Z"
   },
   {
    "duration": 253,
    "start_time": "2023-09-29T08:51:13.201Z"
   },
   {
    "duration": 6,
    "start_time": "2023-09-29T08:51:13.456Z"
   },
   {
    "duration": 43,
    "start_time": "2023-09-29T08:51:13.464Z"
   },
   {
    "duration": 24,
    "start_time": "2023-09-29T08:51:13.509Z"
   },
   {
    "duration": 13,
    "start_time": "2023-09-29T08:54:57.647Z"
   },
   {
    "duration": 20,
    "start_time": "2023-09-29T08:55:10.415Z"
   },
   {
    "duration": 25,
    "start_time": "2023-09-29T08:56:21.322Z"
   },
   {
    "duration": 25,
    "start_time": "2023-09-29T08:56:55.249Z"
   },
   {
    "duration": 212,
    "start_time": "2023-09-29T08:57:22.657Z"
   },
   {
    "duration": 22,
    "start_time": "2023-09-29T08:57:57.265Z"
   },
   {
    "duration": 19,
    "start_time": "2023-09-29T08:58:10.929Z"
   },
   {
    "duration": 16,
    "start_time": "2023-09-29T08:58:38.977Z"
   },
   {
    "duration": 1139,
    "start_time": "2023-09-29T09:11:16.649Z"
   },
   {
    "duration": 155,
    "start_time": "2023-09-29T09:11:17.790Z"
   },
   {
    "duration": 11,
    "start_time": "2023-09-29T09:11:17.947Z"
   },
   {
    "duration": 38,
    "start_time": "2023-09-29T09:11:17.960Z"
   },
   {
    "duration": 166,
    "start_time": "2023-09-29T09:11:18.000Z"
   },
   {
    "duration": 135,
    "start_time": "2023-09-29T09:11:18.168Z"
   },
   {
    "duration": 11,
    "start_time": "2023-09-29T09:11:18.305Z"
   },
   {
    "duration": 35,
    "start_time": "2023-09-29T09:11:18.318Z"
   },
   {
    "duration": 191,
    "start_time": "2023-09-29T09:11:18.355Z"
   },
   {
    "duration": 97,
    "start_time": "2023-09-29T09:11:18.549Z"
   },
   {
    "duration": 8,
    "start_time": "2023-09-29T09:11:18.648Z"
   },
   {
    "duration": 46,
    "start_time": "2023-09-29T09:11:18.658Z"
   },
   {
    "duration": 22,
    "start_time": "2023-09-29T09:11:18.706Z"
   },
   {
    "duration": 15,
    "start_time": "2023-09-29T09:11:18.730Z"
   },
   {
    "duration": 16,
    "start_time": "2023-09-29T09:11:18.747Z"
   },
   {
    "duration": 41,
    "start_time": "2023-09-29T09:11:18.764Z"
   },
   {
    "duration": 10,
    "start_time": "2023-09-29T09:11:18.806Z"
   },
   {
    "duration": 20,
    "start_time": "2023-09-29T09:11:18.818Z"
   },
   {
    "duration": 87,
    "start_time": "2023-09-29T09:11:18.839Z"
   },
   {
    "duration": 6,
    "start_time": "2023-09-29T09:11:18.928Z"
   },
   {
    "duration": 13,
    "start_time": "2023-09-29T09:11:18.935Z"
   },
   {
    "duration": 25,
    "start_time": "2023-09-29T09:11:18.949Z"
   },
   {
    "duration": 13,
    "start_time": "2023-09-29T09:11:18.976Z"
   },
   {
    "duration": 16,
    "start_time": "2023-09-29T09:11:18.991Z"
   },
   {
    "duration": 40,
    "start_time": "2023-09-29T09:11:19.008Z"
   },
   {
    "duration": 31,
    "start_time": "2023-09-29T09:11:19.050Z"
   },
   {
    "duration": 49,
    "start_time": "2023-09-29T09:11:19.082Z"
   },
   {
    "duration": 7,
    "start_time": "2023-09-29T09:11:19.135Z"
   },
   {
    "duration": 28,
    "start_time": "2023-09-29T09:11:19.144Z"
   },
   {
    "duration": 16,
    "start_time": "2023-09-29T09:11:19.174Z"
   },
   {
    "duration": 21,
    "start_time": "2023-09-29T09:11:19.191Z"
   },
   {
    "duration": 10,
    "start_time": "2023-09-29T09:11:19.214Z"
   },
   {
    "duration": 13,
    "start_time": "2023-09-29T09:11:19.226Z"
   },
   {
    "duration": 43,
    "start_time": "2023-09-29T09:11:19.240Z"
   },
   {
    "duration": 7,
    "start_time": "2023-09-29T09:11:19.285Z"
   },
   {
    "duration": 9,
    "start_time": "2023-09-29T09:11:19.294Z"
   },
   {
    "duration": 19,
    "start_time": "2023-09-29T09:11:19.304Z"
   },
   {
    "duration": 33,
    "start_time": "2023-09-29T09:11:19.325Z"
   },
   {
    "duration": 31,
    "start_time": "2023-09-29T09:11:19.359Z"
   },
   {
    "duration": 22,
    "start_time": "2023-09-29T09:11:19.392Z"
   },
   {
    "duration": 30,
    "start_time": "2023-09-29T09:11:19.416Z"
   },
   {
    "duration": 15,
    "start_time": "2023-09-29T09:11:19.447Z"
   },
   {
    "duration": 63,
    "start_time": "2023-09-29T09:11:19.464Z"
   },
   {
    "duration": 295,
    "start_time": "2023-09-29T09:11:19.529Z"
   },
   {
    "duration": 247,
    "start_time": "2023-09-29T09:11:19.825Z"
   },
   {
    "duration": 305,
    "start_time": "2023-09-29T09:11:20.074Z"
   },
   {
    "duration": 329,
    "start_time": "2023-09-29T09:11:20.381Z"
   },
   {
    "duration": 247,
    "start_time": "2023-09-29T09:11:20.712Z"
   },
   {
    "duration": 255,
    "start_time": "2023-09-29T09:11:20.960Z"
   },
   {
    "duration": 289,
    "start_time": "2023-09-29T09:11:21.217Z"
   },
   {
    "duration": 248,
    "start_time": "2023-09-29T09:11:21.508Z"
   },
   {
    "duration": 330,
    "start_time": "2023-09-29T09:11:21.758Z"
   },
   {
    "duration": 5,
    "start_time": "2023-09-29T09:11:22.090Z"
   },
   {
    "duration": 16,
    "start_time": "2023-09-29T09:11:22.097Z"
   },
   {
    "duration": 32,
    "start_time": "2023-09-29T09:11:22.115Z"
   },
   {
    "duration": 8,
    "start_time": "2023-09-29T09:11:22.148Z"
   },
   {
    "duration": 5,
    "start_time": "2023-09-29T09:22:01.954Z"
   },
   {
    "duration": 1211,
    "start_time": "2023-09-29T09:58:13.358Z"
   },
   {
    "duration": 162,
    "start_time": "2023-09-29T09:58:14.571Z"
   },
   {
    "duration": 16,
    "start_time": "2023-09-29T09:58:14.735Z"
   },
   {
    "duration": 25,
    "start_time": "2023-09-29T09:58:14.753Z"
   },
   {
    "duration": 165,
    "start_time": "2023-09-29T09:58:14.779Z"
   },
   {
    "duration": 145,
    "start_time": "2023-09-29T09:58:14.946Z"
   },
   {
    "duration": 8,
    "start_time": "2023-09-29T09:58:15.093Z"
   },
   {
    "duration": 51,
    "start_time": "2023-09-29T09:58:15.103Z"
   },
   {
    "duration": 156,
    "start_time": "2023-09-29T09:58:15.156Z"
   },
   {
    "duration": 90,
    "start_time": "2023-09-29T09:58:15.315Z"
   },
   {
    "duration": 7,
    "start_time": "2023-09-29T09:58:15.407Z"
   },
   {
    "duration": 30,
    "start_time": "2023-09-29T09:58:15.415Z"
   },
   {
    "duration": 15,
    "start_time": "2023-09-29T09:58:15.446Z"
   },
   {
    "duration": 7,
    "start_time": "2023-09-29T09:58:15.462Z"
   },
   {
    "duration": 15,
    "start_time": "2023-09-29T09:58:15.470Z"
   },
   {
    "duration": 27,
    "start_time": "2023-09-29T09:58:15.486Z"
   },
   {
    "duration": 10,
    "start_time": "2023-09-29T09:58:15.514Z"
   },
   {
    "duration": 10,
    "start_time": "2023-09-29T09:58:15.525Z"
   },
   {
    "duration": 81,
    "start_time": "2023-09-29T09:58:15.537Z"
   },
   {
    "duration": 6,
    "start_time": "2023-09-29T09:58:15.620Z"
   },
   {
    "duration": 18,
    "start_time": "2023-09-29T09:58:15.628Z"
   },
   {
    "duration": 25,
    "start_time": "2023-09-29T09:58:15.648Z"
   },
   {
    "duration": 13,
    "start_time": "2023-09-29T09:58:15.674Z"
   },
   {
    "duration": 15,
    "start_time": "2023-09-29T09:58:15.689Z"
   },
   {
    "duration": 43,
    "start_time": "2023-09-29T09:58:15.706Z"
   },
   {
    "duration": 8,
    "start_time": "2023-09-29T09:58:15.751Z"
   },
   {
    "duration": 33,
    "start_time": "2023-09-29T09:58:15.761Z"
   },
   {
    "duration": 8,
    "start_time": "2023-09-29T09:58:15.797Z"
   },
   {
    "duration": 38,
    "start_time": "2023-09-29T09:58:15.806Z"
   },
   {
    "duration": 7,
    "start_time": "2023-09-29T09:58:15.846Z"
   },
   {
    "duration": 19,
    "start_time": "2023-09-29T09:58:15.854Z"
   },
   {
    "duration": 8,
    "start_time": "2023-09-29T09:58:15.875Z"
   },
   {
    "duration": 9,
    "start_time": "2023-09-29T09:58:15.884Z"
   },
   {
    "duration": 54,
    "start_time": "2023-09-29T09:58:15.895Z"
   },
   {
    "duration": 7,
    "start_time": "2023-09-29T09:58:15.951Z"
   },
   {
    "duration": 5,
    "start_time": "2023-09-29T09:58:15.960Z"
   },
   {
    "duration": 4,
    "start_time": "2023-09-29T09:58:15.967Z"
   },
   {
    "duration": 8,
    "start_time": "2023-09-29T09:58:15.973Z"
   },
   {
    "duration": 9,
    "start_time": "2023-09-29T09:58:15.983Z"
   },
   {
    "duration": 15,
    "start_time": "2023-09-29T09:58:15.993Z"
   },
   {
    "duration": 11,
    "start_time": "2023-09-29T09:58:16.010Z"
   },
   {
    "duration": 24,
    "start_time": "2023-09-29T09:58:16.022Z"
   },
   {
    "duration": 51,
    "start_time": "2023-09-29T09:58:16.049Z"
   },
   {
    "duration": 313,
    "start_time": "2023-09-29T09:58:16.102Z"
   },
   {
    "duration": 233,
    "start_time": "2023-09-29T09:58:16.416Z"
   },
   {
    "duration": 307,
    "start_time": "2023-09-29T09:58:16.650Z"
   },
   {
    "duration": 354,
    "start_time": "2023-09-29T09:58:16.959Z"
   },
   {
    "duration": 267,
    "start_time": "2023-09-29T09:58:17.315Z"
   },
   {
    "duration": 273,
    "start_time": "2023-09-29T09:58:17.584Z"
   },
   {
    "duration": 315,
    "start_time": "2023-09-29T09:58:17.859Z"
   },
   {
    "duration": 244,
    "start_time": "2023-09-29T09:58:18.176Z"
   },
   {
    "duration": 328,
    "start_time": "2023-09-29T09:58:18.422Z"
   },
   {
    "duration": 5,
    "start_time": "2023-09-29T09:58:18.751Z"
   },
   {
    "duration": 17,
    "start_time": "2023-09-29T09:58:18.758Z"
   },
   {
    "duration": 10,
    "start_time": "2023-09-29T09:58:18.777Z"
   },
   {
    "duration": 8,
    "start_time": "2023-09-29T09:58:18.788Z"
   },
   {
    "duration": 41,
    "start_time": "2023-09-29T10:01:17.253Z"
   },
   {
    "duration": 6,
    "start_time": "2023-09-29T10:01:17.876Z"
   },
   {
    "duration": 99,
    "start_time": "2023-09-29T10:01:18.275Z"
   },
   {
    "duration": 21,
    "start_time": "2023-09-29T10:01:18.476Z"
   },
   {
    "duration": 14,
    "start_time": "2023-09-29T10:01:18.684Z"
   },
   {
    "duration": 15,
    "start_time": "2023-09-29T10:01:18.908Z"
   },
   {
    "duration": 35,
    "start_time": "2023-09-29T10:01:19.328Z"
   },
   {
    "duration": 8,
    "start_time": "2023-09-29T10:01:19.533Z"
   },
   {
    "duration": 28,
    "start_time": "2023-09-29T10:01:19.739Z"
   },
   {
    "duration": 9,
    "start_time": "2023-09-29T10:01:19.924Z"
   },
   {
    "duration": 20,
    "start_time": "2023-09-29T10:01:20.315Z"
   },
   {
    "duration": 8,
    "start_time": "2023-09-29T10:01:20.528Z"
   },
   {
    "duration": 20,
    "start_time": "2023-09-29T10:01:20.731Z"
   },
   {
    "duration": 10,
    "start_time": "2023-09-29T10:01:20.916Z"
   },
   {
    "duration": 5,
    "start_time": "2023-09-29T10:01:21.484Z"
   },
   {
    "duration": 36,
    "start_time": "2023-09-29T10:01:22.453Z"
   },
   {
    "duration": 8,
    "start_time": "2023-09-29T10:01:23.292Z"
   },
   {
    "duration": 5,
    "start_time": "2023-09-29T10:01:23.892Z"
   },
   {
    "duration": 3,
    "start_time": "2023-09-29T10:01:24.629Z"
   },
   {
    "duration": 8,
    "start_time": "2023-09-29T10:01:24.837Z"
   },
   {
    "duration": 9,
    "start_time": "2023-09-29T10:01:25.421Z"
   },
   {
    "duration": 5,
    "start_time": "2023-09-29T10:01:25.796Z"
   },
   {
    "duration": 6,
    "start_time": "2023-09-29T10:01:26.604Z"
   },
   {
    "duration": 5,
    "start_time": "2023-09-29T10:01:27.260Z"
   },
   {
    "duration": 44,
    "start_time": "2023-09-29T10:01:27.878Z"
   },
   {
    "duration": 272,
    "start_time": "2023-09-29T10:01:28.453Z"
   },
   {
    "duration": 225,
    "start_time": "2023-09-29T10:01:28.727Z"
   },
   {
    "duration": 269,
    "start_time": "2023-09-29T10:01:29.053Z"
   },
   {
    "duration": 333,
    "start_time": "2023-09-29T10:01:29.323Z"
   },
   {
    "duration": 239,
    "start_time": "2023-09-29T10:01:29.844Z"
   },
   {
    "duration": 238,
    "start_time": "2023-09-29T10:01:30.085Z"
   },
   {
    "duration": 276,
    "start_time": "2023-09-29T10:01:30.407Z"
   },
   {
    "duration": 235,
    "start_time": "2023-09-29T10:01:30.815Z"
   },
   {
    "duration": 336,
    "start_time": "2023-09-29T10:01:31.401Z"
   },
   {
    "duration": 5,
    "start_time": "2023-09-29T10:01:32.068Z"
   },
   {
    "duration": 23,
    "start_time": "2023-09-29T10:01:32.268Z"
   },
   {
    "duration": 10,
    "start_time": "2023-09-29T10:01:33.501Z"
   },
   {
    "duration": 8,
    "start_time": "2023-09-29T10:01:34.525Z"
   },
   {
    "duration": 1223,
    "start_time": "2023-09-29T10:03:41.851Z"
   },
   {
    "duration": 156,
    "start_time": "2023-09-29T10:03:43.075Z"
   },
   {
    "duration": 12,
    "start_time": "2023-09-29T10:03:43.233Z"
   },
   {
    "duration": 27,
    "start_time": "2023-09-29T10:03:43.246Z"
   },
   {
    "duration": 236,
    "start_time": "2023-09-29T10:03:43.274Z"
   },
   {
    "duration": 135,
    "start_time": "2023-09-29T10:03:43.511Z"
   },
   {
    "duration": 8,
    "start_time": "2023-09-29T10:03:43.648Z"
   },
   {
    "duration": 36,
    "start_time": "2023-09-29T10:03:43.658Z"
   },
   {
    "duration": 172,
    "start_time": "2023-09-29T10:03:43.697Z"
   },
   {
    "duration": 97,
    "start_time": "2023-09-29T10:03:43.872Z"
   },
   {
    "duration": 8,
    "start_time": "2023-09-29T10:03:43.970Z"
   },
   {
    "duration": 43,
    "start_time": "2023-09-29T10:03:43.979Z"
   },
   {
    "duration": 39,
    "start_time": "2023-09-29T10:03:44.024Z"
   },
   {
    "duration": 9,
    "start_time": "2023-09-29T10:03:44.065Z"
   },
   {
    "duration": 19,
    "start_time": "2023-09-29T10:03:44.076Z"
   },
   {
    "duration": 47,
    "start_time": "2023-09-29T10:03:44.097Z"
   },
   {
    "duration": 11,
    "start_time": "2023-09-29T10:03:44.146Z"
   },
   {
    "duration": 24,
    "start_time": "2023-09-29T10:03:44.159Z"
   },
   {
    "duration": 105,
    "start_time": "2023-09-29T10:03:44.186Z"
   },
   {
    "duration": 7,
    "start_time": "2023-09-29T10:03:44.294Z"
   },
   {
    "duration": 14,
    "start_time": "2023-09-29T10:03:44.303Z"
   },
   {
    "duration": 35,
    "start_time": "2023-09-29T10:03:44.319Z"
   },
   {
    "duration": 14,
    "start_time": "2023-09-29T10:03:44.355Z"
   },
   {
    "duration": 16,
    "start_time": "2023-09-29T10:03:44.371Z"
   },
   {
    "duration": 26,
    "start_time": "2023-09-29T10:03:44.388Z"
   },
   {
    "duration": 29,
    "start_time": "2023-09-29T10:03:44.416Z"
   },
   {
    "duration": 26,
    "start_time": "2023-09-29T10:03:44.447Z"
   },
   {
    "duration": 8,
    "start_time": "2023-09-29T10:03:44.476Z"
   },
   {
    "duration": 38,
    "start_time": "2023-09-29T10:03:44.485Z"
   },
   {
    "duration": 7,
    "start_time": "2023-09-29T10:03:44.525Z"
   },
   {
    "duration": 21,
    "start_time": "2023-09-29T10:03:44.534Z"
   },
   {
    "duration": 9,
    "start_time": "2023-09-29T10:03:44.557Z"
   },
   {
    "duration": 27,
    "start_time": "2023-09-29T10:03:44.567Z"
   },
   {
    "duration": 37,
    "start_time": "2023-09-29T10:03:44.595Z"
   },
   {
    "duration": 6,
    "start_time": "2023-09-29T10:03:44.634Z"
   },
   {
    "duration": 5,
    "start_time": "2023-09-29T10:03:44.644Z"
   },
   {
    "duration": 5,
    "start_time": "2023-09-29T10:03:44.650Z"
   },
   {
    "duration": 11,
    "start_time": "2023-09-29T10:03:44.656Z"
   },
   {
    "duration": 9,
    "start_time": "2023-09-29T10:03:44.668Z"
   },
   {
    "duration": 8,
    "start_time": "2023-09-29T10:03:44.679Z"
   },
   {
    "duration": 19,
    "start_time": "2023-09-29T10:03:44.689Z"
   },
   {
    "duration": 12,
    "start_time": "2023-09-29T10:03:44.710Z"
   },
   {
    "duration": 46,
    "start_time": "2023-09-29T10:03:44.723Z"
   },
   {
    "duration": 298,
    "start_time": "2023-09-29T10:03:44.771Z"
   },
   {
    "duration": 238,
    "start_time": "2023-09-29T10:03:45.071Z"
   },
   {
    "duration": 310,
    "start_time": "2023-09-29T10:03:45.310Z"
   },
   {
    "duration": 314,
    "start_time": "2023-09-29T10:03:45.622Z"
   },
   {
    "duration": 240,
    "start_time": "2023-09-29T10:03:45.937Z"
   },
   {
    "duration": 263,
    "start_time": "2023-09-29T10:03:46.178Z"
   },
   {
    "duration": 275,
    "start_time": "2023-09-29T10:03:46.443Z"
   },
   {
    "duration": 237,
    "start_time": "2023-09-29T10:03:46.720Z"
   },
   {
    "duration": 325,
    "start_time": "2023-09-29T10:03:46.958Z"
   },
   {
    "duration": 6,
    "start_time": "2023-09-29T10:03:47.284Z"
   },
   {
    "duration": 44,
    "start_time": "2023-09-29T10:03:47.292Z"
   },
   {
    "duration": 10,
    "start_time": "2023-09-29T10:03:47.338Z"
   },
   {
    "duration": 8,
    "start_time": "2023-09-29T10:03:47.350Z"
   },
   {
    "duration": 1182,
    "start_time": "2023-09-29T10:15:20.715Z"
   },
   {
    "duration": 180,
    "start_time": "2023-09-29T10:15:21.899Z"
   },
   {
    "duration": 12,
    "start_time": "2023-09-29T10:15:22.080Z"
   },
   {
    "duration": 27,
    "start_time": "2023-09-29T10:15:22.094Z"
   },
   {
    "duration": 187,
    "start_time": "2023-09-29T10:15:22.122Z"
   },
   {
    "duration": 141,
    "start_time": "2023-09-29T10:15:22.311Z"
   },
   {
    "duration": 9,
    "start_time": "2023-09-29T10:15:22.453Z"
   },
   {
    "duration": 39,
    "start_time": "2023-09-29T10:15:22.464Z"
   },
   {
    "duration": 165,
    "start_time": "2023-09-29T10:15:22.504Z"
   },
   {
    "duration": 93,
    "start_time": "2023-09-29T10:15:22.672Z"
   },
   {
    "duration": 7,
    "start_time": "2023-09-29T10:15:22.767Z"
   },
   {
    "duration": 24,
    "start_time": "2023-09-29T10:15:22.776Z"
   },
   {
    "duration": 15,
    "start_time": "2023-09-29T10:15:22.802Z"
   },
   {
    "duration": 8,
    "start_time": "2023-09-29T10:15:22.819Z"
   },
   {
    "duration": 23,
    "start_time": "2023-09-29T10:15:22.829Z"
   },
   {
    "duration": 31,
    "start_time": "2023-09-29T10:15:22.854Z"
   },
   {
    "duration": 10,
    "start_time": "2023-09-29T10:15:22.887Z"
   },
   {
    "duration": 15,
    "start_time": "2023-09-29T10:15:22.899Z"
   },
   {
    "duration": 93,
    "start_time": "2023-09-29T10:15:22.916Z"
   },
   {
    "duration": 6,
    "start_time": "2023-09-29T10:15:23.011Z"
   },
   {
    "duration": 10,
    "start_time": "2023-09-29T10:15:23.019Z"
   },
   {
    "duration": 34,
    "start_time": "2023-09-29T10:15:23.030Z"
   },
   {
    "duration": 14,
    "start_time": "2023-09-29T10:15:23.066Z"
   },
   {
    "duration": 20,
    "start_time": "2023-09-29T10:15:23.081Z"
   },
   {
    "duration": 46,
    "start_time": "2023-09-29T10:15:23.102Z"
   },
   {
    "duration": 7,
    "start_time": "2023-09-29T10:15:23.150Z"
   },
   {
    "duration": 33,
    "start_time": "2023-09-29T10:15:23.159Z"
   },
   {
    "duration": 7,
    "start_time": "2023-09-29T10:15:23.196Z"
   },
   {
    "duration": 20,
    "start_time": "2023-09-29T10:15:23.204Z"
   },
   {
    "duration": 8,
    "start_time": "2023-09-29T10:15:23.243Z"
   },
   {
    "duration": 19,
    "start_time": "2023-09-29T10:15:23.253Z"
   },
   {
    "duration": 9,
    "start_time": "2023-09-29T10:15:23.274Z"
   },
   {
    "duration": 6,
    "start_time": "2023-09-29T10:15:23.285Z"
   },
   {
    "duration": 60,
    "start_time": "2023-09-29T10:15:23.293Z"
   },
   {
    "duration": 8,
    "start_time": "2023-09-29T10:15:23.354Z"
   },
   {
    "duration": 8,
    "start_time": "2023-09-29T10:15:23.363Z"
   },
   {
    "duration": 12,
    "start_time": "2023-09-29T10:15:23.373Z"
   },
   {
    "duration": 9,
    "start_time": "2023-09-29T10:15:23.386Z"
   },
   {
    "duration": 8,
    "start_time": "2023-09-29T10:15:23.396Z"
   },
   {
    "duration": 16,
    "start_time": "2023-09-29T10:15:23.406Z"
   },
   {
    "duration": 21,
    "start_time": "2023-09-29T10:15:23.423Z"
   },
   {
    "duration": 9,
    "start_time": "2023-09-29T10:15:23.446Z"
   },
   {
    "duration": 49,
    "start_time": "2023-09-29T10:15:23.457Z"
   },
   {
    "duration": 313,
    "start_time": "2023-09-29T10:15:23.508Z"
   },
   {
    "duration": 256,
    "start_time": "2023-09-29T10:15:23.823Z"
   },
   {
    "duration": 401,
    "start_time": "2023-09-29T10:15:24.082Z"
   },
   {
    "duration": 356,
    "start_time": "2023-09-29T10:15:24.484Z"
   },
   {
    "duration": 270,
    "start_time": "2023-09-29T10:15:24.842Z"
   },
   {
    "duration": 257,
    "start_time": "2023-09-29T10:15:25.113Z"
   },
   {
    "duration": 285,
    "start_time": "2023-09-29T10:15:25.371Z"
   },
   {
    "duration": 256,
    "start_time": "2023-09-29T10:15:25.657Z"
   },
   {
    "duration": 343,
    "start_time": "2023-09-29T10:15:25.915Z"
   },
   {
    "duration": 7,
    "start_time": "2023-09-29T10:15:26.260Z"
   },
   {
    "duration": 190,
    "start_time": "2023-09-29T10:15:26.269Z"
   },
   {
    "duration": 10,
    "start_time": "2023-09-29T10:15:26.461Z"
   },
   {
    "duration": 21,
    "start_time": "2023-09-29T10:15:26.473Z"
   },
   {
    "duration": 1190,
    "start_time": "2023-09-29T10:16:17.897Z"
   },
   {
    "duration": 174,
    "start_time": "2023-09-29T10:16:19.089Z"
   },
   {
    "duration": 26,
    "start_time": "2023-09-29T10:16:19.266Z"
   },
   {
    "duration": 42,
    "start_time": "2023-09-29T10:16:19.294Z"
   },
   {
    "duration": 170,
    "start_time": "2023-09-29T10:16:19.338Z"
   },
   {
    "duration": 142,
    "start_time": "2023-09-29T10:16:19.509Z"
   },
   {
    "duration": 9,
    "start_time": "2023-09-29T10:16:19.652Z"
   },
   {
    "duration": 26,
    "start_time": "2023-09-29T10:16:19.663Z"
   },
   {
    "duration": 173,
    "start_time": "2023-09-29T10:16:19.691Z"
   },
   {
    "duration": 97,
    "start_time": "2023-09-29T10:16:19.867Z"
   },
   {
    "duration": 9,
    "start_time": "2023-09-29T10:16:19.966Z"
   },
   {
    "duration": 33,
    "start_time": "2023-09-29T10:16:19.977Z"
   },
   {
    "duration": 36,
    "start_time": "2023-09-29T10:16:20.012Z"
   },
   {
    "duration": 8,
    "start_time": "2023-09-29T10:16:20.049Z"
   },
   {
    "duration": 34,
    "start_time": "2023-09-29T10:16:20.059Z"
   },
   {
    "duration": 69,
    "start_time": "2023-09-29T10:16:20.095Z"
   },
   {
    "duration": 9,
    "start_time": "2023-09-29T10:16:20.166Z"
   },
   {
    "duration": 13,
    "start_time": "2023-09-29T10:16:20.177Z"
   },
   {
    "duration": 101,
    "start_time": "2023-09-29T10:16:20.192Z"
   },
   {
    "duration": 7,
    "start_time": "2023-09-29T10:16:20.295Z"
   },
   {
    "duration": 27,
    "start_time": "2023-09-29T10:16:20.303Z"
   },
   {
    "duration": 61,
    "start_time": "2023-09-29T10:16:20.332Z"
   },
   {
    "duration": 16,
    "start_time": "2023-09-29T10:16:20.394Z"
   },
   {
    "duration": 36,
    "start_time": "2023-09-29T10:16:20.411Z"
   },
   {
    "duration": 29,
    "start_time": "2023-09-29T10:16:20.449Z"
   },
   {
    "duration": 9,
    "start_time": "2023-09-29T10:16:20.480Z"
   },
   {
    "duration": 48,
    "start_time": "2023-09-29T10:16:20.491Z"
   },
   {
    "duration": 49,
    "start_time": "2023-09-29T10:16:20.544Z"
   },
   {
    "duration": 74,
    "start_time": "2023-09-29T10:16:20.595Z"
   },
   {
    "duration": 8,
    "start_time": "2023-09-29T10:16:20.671Z"
   },
   {
    "duration": 48,
    "start_time": "2023-09-29T10:16:20.681Z"
   },
   {
    "duration": 9,
    "start_time": "2023-09-29T10:16:20.731Z"
   },
   {
    "duration": 9,
    "start_time": "2023-09-29T10:16:20.742Z"
   },
   {
    "duration": 44,
    "start_time": "2023-09-29T10:16:20.752Z"
   },
   {
    "duration": 9,
    "start_time": "2023-09-29T10:16:20.797Z"
   },
   {
    "duration": 26,
    "start_time": "2023-09-29T10:16:20.807Z"
   },
   {
    "duration": 13,
    "start_time": "2023-09-29T10:16:20.834Z"
   },
   {
    "duration": 9,
    "start_time": "2023-09-29T10:16:20.849Z"
   },
   {
    "duration": 10,
    "start_time": "2023-09-29T10:16:20.859Z"
   },
   {
    "duration": 5,
    "start_time": "2023-09-29T10:16:20.871Z"
   },
   {
    "duration": 8,
    "start_time": "2023-09-29T10:16:20.877Z"
   },
   {
    "duration": 9,
    "start_time": "2023-09-29T10:16:20.887Z"
   },
   {
    "duration": 65,
    "start_time": "2023-09-29T10:16:20.898Z"
   },
   {
    "duration": 333,
    "start_time": "2023-09-29T10:16:20.965Z"
   },
   {
    "duration": 261,
    "start_time": "2023-09-29T10:16:21.300Z"
   },
   {
    "duration": 313,
    "start_time": "2023-09-29T10:16:21.562Z"
   },
   {
    "duration": 352,
    "start_time": "2023-09-29T10:16:21.876Z"
   },
   {
    "duration": 274,
    "start_time": "2023-09-29T10:16:22.230Z"
   },
   {
    "duration": 263,
    "start_time": "2023-09-29T10:16:22.506Z"
   },
   {
    "duration": 322,
    "start_time": "2023-09-29T10:16:22.771Z"
   },
   {
    "duration": 263,
    "start_time": "2023-09-29T10:16:23.095Z"
   },
   {
    "duration": 387,
    "start_time": "2023-09-29T10:16:23.359Z"
   },
   {
    "duration": 6,
    "start_time": "2023-09-29T10:16:23.748Z"
   },
   {
    "duration": 25,
    "start_time": "2023-09-29T10:16:23.755Z"
   },
   {
    "duration": 17,
    "start_time": "2023-09-29T10:16:23.782Z"
   },
   {
    "duration": 28,
    "start_time": "2023-09-29T10:16:23.801Z"
   },
   {
    "duration": 194,
    "start_time": "2023-09-29T10:22:34.355Z"
   },
   {
    "duration": 210,
    "start_time": "2023-09-29T10:23:28.930Z"
   },
   {
    "duration": 1240,
    "start_time": "2023-09-29T10:23:51.245Z"
   },
   {
    "duration": 192,
    "start_time": "2023-09-29T10:23:52.486Z"
   },
   {
    "duration": 12,
    "start_time": "2023-09-29T10:23:52.680Z"
   },
   {
    "duration": 28,
    "start_time": "2023-09-29T10:23:52.694Z"
   },
   {
    "duration": 243,
    "start_time": "2023-09-29T10:23:52.723Z"
   },
   {
    "duration": 153,
    "start_time": "2023-09-29T10:23:52.968Z"
   },
   {
    "duration": 9,
    "start_time": "2023-09-29T10:23:53.124Z"
   },
   {
    "duration": 37,
    "start_time": "2023-09-29T10:23:53.147Z"
   },
   {
    "duration": 206,
    "start_time": "2023-09-29T10:23:53.186Z"
   },
   {
    "duration": 107,
    "start_time": "2023-09-29T10:23:53.395Z"
   },
   {
    "duration": 7,
    "start_time": "2023-09-29T10:23:53.504Z"
   },
   {
    "duration": 29,
    "start_time": "2023-09-29T10:23:53.513Z"
   },
   {
    "duration": 38,
    "start_time": "2023-09-29T10:23:53.546Z"
   },
   {
    "duration": 7,
    "start_time": "2023-09-29T10:23:53.586Z"
   },
   {
    "duration": 11,
    "start_time": "2023-09-29T10:23:53.595Z"
   },
   {
    "duration": 39,
    "start_time": "2023-09-29T10:23:53.608Z"
   },
   {
    "duration": 16,
    "start_time": "2023-09-29T10:23:53.650Z"
   },
   {
    "duration": 27,
    "start_time": "2023-09-29T10:23:53.667Z"
   },
   {
    "duration": 92,
    "start_time": "2023-09-29T10:23:53.696Z"
   },
   {
    "duration": 7,
    "start_time": "2023-09-29T10:23:53.790Z"
   },
   {
    "duration": 11,
    "start_time": "2023-09-29T10:23:53.798Z"
   },
   {
    "duration": 41,
    "start_time": "2023-09-29T10:23:53.811Z"
   },
   {
    "duration": 16,
    "start_time": "2023-09-29T10:23:53.854Z"
   },
   {
    "duration": 27,
    "start_time": "2023-09-29T10:23:53.872Z"
   },
   {
    "duration": 28,
    "start_time": "2023-09-29T10:23:53.900Z"
   },
   {
    "duration": 24,
    "start_time": "2023-09-29T10:23:53.930Z"
   },
   {
    "duration": 33,
    "start_time": "2023-09-29T10:23:53.957Z"
   },
   {
    "duration": 8,
    "start_time": "2023-09-29T10:23:53.993Z"
   },
   {
    "duration": 43,
    "start_time": "2023-09-29T10:23:54.002Z"
   },
   {
    "duration": 14,
    "start_time": "2023-09-29T10:23:54.047Z"
   },
   {
    "duration": 27,
    "start_time": "2023-09-29T10:23:54.064Z"
   },
   {
    "duration": 10,
    "start_time": "2023-09-29T10:23:54.093Z"
   },
   {
    "duration": 25,
    "start_time": "2023-09-29T10:23:54.105Z"
   },
   {
    "duration": 84,
    "start_time": "2023-09-29T10:23:54.131Z"
   },
   {
    "duration": 44,
    "start_time": "2023-09-29T10:23:54.217Z"
   },
   {
    "duration": 8,
    "start_time": "2023-09-29T10:23:54.263Z"
   },
   {
    "duration": 21,
    "start_time": "2023-09-29T10:23:54.273Z"
   },
   {
    "duration": 33,
    "start_time": "2023-09-29T10:23:54.296Z"
   },
   {
    "duration": 40,
    "start_time": "2023-09-29T10:23:54.331Z"
   },
   {
    "duration": 53,
    "start_time": "2023-09-29T10:23:54.374Z"
   },
   {
    "duration": 23,
    "start_time": "2023-09-29T10:23:54.429Z"
   },
   {
    "duration": 15,
    "start_time": "2023-09-29T10:23:54.455Z"
   },
   {
    "duration": 70,
    "start_time": "2023-09-29T10:23:54.472Z"
   },
   {
    "duration": 368,
    "start_time": "2023-09-29T10:23:54.544Z"
   },
   {
    "duration": 306,
    "start_time": "2023-09-29T10:23:54.914Z"
   },
   {
    "duration": 359,
    "start_time": "2023-09-29T10:23:55.222Z"
   },
   {
    "duration": 368,
    "start_time": "2023-09-29T10:23:55.583Z"
   },
   {
    "duration": 290,
    "start_time": "2023-09-29T10:23:55.953Z"
   },
   {
    "duration": 300,
    "start_time": "2023-09-29T10:23:56.247Z"
   },
   {
    "duration": 345,
    "start_time": "2023-09-29T10:23:56.549Z"
   },
   {
    "duration": 289,
    "start_time": "2023-09-29T10:23:56.896Z"
   },
   {
    "duration": 387,
    "start_time": "2023-09-29T10:23:57.186Z"
   },
   {
    "duration": 6,
    "start_time": "2023-09-29T10:23:57.575Z"
   },
   {
    "duration": 28,
    "start_time": "2023-09-29T10:23:57.582Z"
   },
   {
    "duration": 11,
    "start_time": "2023-09-29T10:23:57.612Z"
   },
   {
    "duration": 27,
    "start_time": "2023-09-29T10:23:57.624Z"
   },
   {
    "duration": 1185,
    "start_time": "2023-09-29T10:44:02.003Z"
   },
   {
    "duration": 167,
    "start_time": "2023-09-29T10:44:03.189Z"
   },
   {
    "duration": 13,
    "start_time": "2023-09-29T10:44:03.358Z"
   },
   {
    "duration": 31,
    "start_time": "2023-09-29T10:44:03.373Z"
   },
   {
    "duration": 210,
    "start_time": "2023-09-29T10:44:03.406Z"
   },
   {
    "duration": 143,
    "start_time": "2023-09-29T10:44:03.618Z"
   },
   {
    "duration": 9,
    "start_time": "2023-09-29T10:44:03.764Z"
   },
   {
    "duration": 46,
    "start_time": "2023-09-29T10:44:03.774Z"
   },
   {
    "duration": 221,
    "start_time": "2023-09-29T10:44:03.823Z"
   },
   {
    "duration": 151,
    "start_time": "2023-09-29T10:44:04.048Z"
   },
   {
    "duration": 12,
    "start_time": "2023-09-29T10:44:04.201Z"
   },
   {
    "duration": 91,
    "start_time": "2023-09-29T10:44:04.215Z"
   },
   {
    "duration": 29,
    "start_time": "2023-09-29T10:44:04.308Z"
   },
   {
    "duration": 115,
    "start_time": "2023-09-29T10:44:04.339Z"
   },
   {
    "duration": 12,
    "start_time": "2023-09-29T10:44:04.455Z"
   },
   {
    "duration": 98,
    "start_time": "2023-09-29T10:44:04.469Z"
   },
   {
    "duration": 100,
    "start_time": "2023-09-29T10:44:04.569Z"
   },
   {
    "duration": 209,
    "start_time": "2023-09-29T10:44:04.671Z"
   },
   {
    "duration": 128,
    "start_time": "2023-09-29T10:44:04.882Z"
   },
   {
    "duration": 8,
    "start_time": "2023-09-29T10:44:05.011Z"
   },
   {
    "duration": 25,
    "start_time": "2023-09-29T10:44:05.021Z"
   },
   {
    "duration": 40,
    "start_time": "2023-09-29T10:44:05.049Z"
   },
   {
    "duration": 28,
    "start_time": "2023-09-29T10:44:05.091Z"
   },
   {
    "duration": 22,
    "start_time": "2023-09-29T10:44:05.121Z"
   },
   {
    "duration": 45,
    "start_time": "2023-09-29T10:44:05.145Z"
   },
   {
    "duration": 9,
    "start_time": "2023-09-29T10:44:05.192Z"
   },
   {
    "duration": 47,
    "start_time": "2023-09-29T10:44:05.202Z"
   },
   {
    "duration": 10,
    "start_time": "2023-09-29T10:44:05.255Z"
   },
   {
    "duration": 36,
    "start_time": "2023-09-29T10:44:05.267Z"
   },
   {
    "duration": 11,
    "start_time": "2023-09-29T10:44:05.304Z"
   },
   {
    "duration": 21,
    "start_time": "2023-09-29T10:44:05.317Z"
   },
   {
    "duration": 11,
    "start_time": "2023-09-29T10:44:05.340Z"
   },
   {
    "duration": 7,
    "start_time": "2023-09-29T10:44:05.352Z"
   },
   {
    "duration": 37,
    "start_time": "2023-09-29T10:44:05.361Z"
   },
   {
    "duration": 8,
    "start_time": "2023-09-29T10:44:05.400Z"
   },
   {
    "duration": 19,
    "start_time": "2023-09-29T10:44:05.410Z"
   },
   {
    "duration": 28,
    "start_time": "2023-09-29T10:44:05.430Z"
   },
   {
    "duration": 58,
    "start_time": "2023-09-29T10:44:05.460Z"
   },
   {
    "duration": 18,
    "start_time": "2023-09-29T10:44:05.520Z"
   },
   {
    "duration": 12,
    "start_time": "2023-09-29T10:44:05.541Z"
   },
   {
    "duration": 7,
    "start_time": "2023-09-29T10:44:05.556Z"
   },
   {
    "duration": 17,
    "start_time": "2023-09-29T10:44:05.565Z"
   },
   {
    "duration": 91,
    "start_time": "2023-09-29T10:44:05.585Z"
   },
   {
    "duration": 288,
    "start_time": "2023-09-29T10:44:05.678Z"
   },
   {
    "duration": 254,
    "start_time": "2023-09-29T10:44:05.968Z"
   },
   {
    "duration": 361,
    "start_time": "2023-09-29T10:44:06.223Z"
   },
   {
    "duration": 324,
    "start_time": "2023-09-29T10:44:06.586Z"
   },
   {
    "duration": 260,
    "start_time": "2023-09-29T10:44:06.912Z"
   },
   {
    "duration": 244,
    "start_time": "2023-09-29T10:44:07.173Z"
   },
   {
    "duration": 309,
    "start_time": "2023-09-29T10:44:07.418Z"
   },
   {
    "duration": 321,
    "start_time": "2023-09-29T10:44:07.728Z"
   },
   {
    "duration": 341,
    "start_time": "2023-09-29T10:44:08.051Z"
   },
   {
    "duration": 5,
    "start_time": "2023-09-29T10:44:08.394Z"
   },
   {
    "duration": 20,
    "start_time": "2023-09-29T10:44:08.400Z"
   },
   {
    "duration": 26,
    "start_time": "2023-09-29T10:44:08.422Z"
   },
   {
    "duration": 8,
    "start_time": "2023-09-29T10:44:08.449Z"
   }
  ],
  "kernelspec": {
   "display_name": "Python 3 (ipykernel)",
   "language": "python",
   "name": "python3"
  },
  "language_info": {
   "codemirror_mode": {
    "name": "ipython",
    "version": 3
   },
   "file_extension": ".py",
   "mimetype": "text/x-python",
   "name": "python",
   "nbconvert_exporter": "python",
   "pygments_lexer": "ipython3",
   "version": "3.9.5"
  },
  "toc": {
   "base_numbering": 1,
   "nav_menu": {},
   "number_sections": false,
   "sideBar": true,
   "skip_h1_title": true,
   "title_cell": "Table of Contents",
   "title_sidebar": "Contents",
   "toc_cell": false,
   "toc_position": {},
   "toc_section_display": true,
   "toc_window_display": false
  }
 },
 "nbformat": 4,
 "nbformat_minor": 5
}
